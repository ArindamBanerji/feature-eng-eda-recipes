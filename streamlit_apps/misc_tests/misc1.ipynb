{
 "cells": [
  {
   "cell_type": "code",
   "execution_count": 1,
   "metadata": {},
   "outputs": [
    {
     "name": "stdout",
     "output_type": "stream",
     "text": [
      "current working directory c:\\Users\\Arindam Banerji\\CopyFolder\\IoT_thoughts\\python-projects\\vsc\n"
     ]
    },
    {
     "ename": "TypeError",
     "evalue": "'Index' object is not callable",
     "output_type": "error",
     "traceback": [
      "\u001b[1;31m---------------------------------------------------------------------------\u001b[0m",
      "\u001b[1;31mTypeError\u001b[0m                                 Traceback (most recent call last)",
      "\u001b[1;32mc:\\Users\\Arindam Banerji\\CopyFolder\\IoT_thoughts\\python-projects\\vsc\\misc1.ipynb Cell 1\u001b[0m in \u001b[0;36m<cell line: 14>\u001b[1;34m()\u001b[0m\n\u001b[0;32m      <a href='vscode-notebook-cell:/c%3A/Users/Arindam%20Banerji/CopyFolder/IoT_thoughts/python-projects/vsc/misc1.ipynb#W0sZmlsZQ%3D%3D?line=8'>9</a>\u001b[0m df \u001b[39m=\u001b[39m pd\u001b[39m.\u001b[39mread_csv ( \u001b[39m'\u001b[39m\u001b[39m../datasets/IPL_B2B_Dataset.csv\u001b[39m\u001b[39m'\u001b[39m )\n\u001b[0;32m     <a href='vscode-notebook-cell:/c%3A/Users/Arindam%20Banerji/CopyFolder/IoT_thoughts/python-projects/vsc/misc1.ipynb#W0sZmlsZQ%3D%3D?line=10'>11</a>\u001b[0m df2 \u001b[39m=\u001b[39m pd\u001b[39m.\u001b[39mread_csv (\u001b[39m'\u001b[39m\u001b[39m../datasets/airline_passenger_satisfaction.csv\u001b[39m\u001b[39m'\u001b[39m)\n\u001b[1;32m---> <a href='vscode-notebook-cell:/c%3A/Users/Arindam%20Banerji/CopyFolder/IoT_thoughts/python-projects/vsc/misc1.ipynb#W0sZmlsZQ%3D%3D?line=13'>14</a>\u001b[0m df2\u001b[39m.\u001b[39;49mcolumns()\n",
      "\u001b[1;31mTypeError\u001b[0m: 'Index' object is not callable"
     ]
    }
   ],
   "source": [
    "import numpy as np\n",
    "import pandas as pd \n",
    "\n",
    "import os\n",
    "\n",
    "cwd = os.getcwd()\n",
    "\n",
    "print (\"current working directory\", cwd)\n",
    "df = pd.read_csv ( '../datasets/IPL_B2B_Dataset.csv' )\n",
    "\n",
    "df2 = pd.read_csv ('../datasets/airline_passenger_satisfaction.csv')\n",
    "\n",
    "\n",
    "df2.columns\n",
    "\n",
    "\n"
   ]
  }
 ],
 "metadata": {
  "kernelspec": {
   "display_name": "Python 3.10.4 64-bit",
   "language": "python",
   "name": "python3"
  },
  "language_info": {
   "codemirror_mode": {
    "name": "ipython",
    "version": 3
   },
   "file_extension": ".py",
   "mimetype": "text/x-python",
   "name": "python",
   "nbconvert_exporter": "python",
   "pygments_lexer": "ipython3",
   "version": "3.10.4"
  },
  "orig_nbformat": 4,
  "vscode": {
   "interpreter": {
    "hash": "369f2c481f4da34e4445cda3fffd2e751bd1c4d706f27375911949ba6bb62e1c"
   }
  }
 },
 "nbformat": 4,
 "nbformat_minor": 2
}
