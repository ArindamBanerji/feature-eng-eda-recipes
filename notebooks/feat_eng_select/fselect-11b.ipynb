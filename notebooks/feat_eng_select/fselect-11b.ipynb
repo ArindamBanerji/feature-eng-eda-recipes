{
 "cells": [
  {
   "cell_type": "markdown",
   "metadata": {},
   "source": [
    "## Feature Selection by Random Shuffling\n",
    "\n",
    "We can implement feature selection by feature shuffling with Feature-engine.\n",
    "\n",
    "The selector takes any machine learning algorithm as input, and any metric from those allowed by Scikit-learn."
   ]
  },
  {
   "cell_type": "code",
   "execution_count": 1,
   "metadata": {},
   "outputs": [],
   "source": [
    "import pandas as pd\n",
    "\n",
    "from sklearn.ensemble import RandomForestClassifier, RandomForestRegressor\n",
    "from sklearn.metrics import roc_auc_score, mean_squared_error, r2_score\n",
    "from sklearn.model_selection import train_test_split\n",
    "\n",
    "from feature_engine.selection import SelectByShuffling\n",
    "\n",
    "from helper_fe_v2 import (\n",
    "            get_full_datapath_nm,\n",
    "            read_df_from_file,\n",
    "            check_module_members,\n",
    "            gen_correlation,\n",
    "            do_bkwd_fwd_selection,\n",
    "            yaml_path,\n",
    "            read_yaml_conf,\n",
    "            remove_duplicates, \n",
    "            drop_const_features,\n",
    "            drop_quasi_const_features ,\n",
    "            remove_const_quasi_const, \n",
    "            run_randomForestClassifier,\n",
    "            run_logistic,\n",
    "            run_randomForestRegressor\n",
    ")"
   ]
  },
  {
   "cell_type": "code",
   "execution_count": 2,
   "metadata": {},
   "outputs": [
    {
     "name": "stdout",
     "output_type": "stream",
     "text": [
      "Full path NM exists  C:\\Users\\Arindam Banerji\\CopyFolder\\IOT_thoughts\\python-projects\\kaggle_experiments\\input_data\\fselect_dataset_2.csv\n",
      "full_path nm -from read_df C:\\Users\\Arindam Banerji\\CopyFolder\\IOT_thoughts\\python-projects\\kaggle_experiments\\input_data\\fselect_dataset_2.csv\n"
     ]
    },
    {
     "data": {
      "text/plain": [
       "(50000, 109)"
      ]
     },
     "execution_count": 2,
     "metadata": {},
     "output_type": "execute_result"
    }
   ],
   "source": [
    "config = read_yaml_conf(yaml_path())\n",
    "\n",
    "data = read_df_from_file ( config['files']['test_data_set2'], set_nrows=False, nrws=0 ) \n",
    "data.shape"
   ]
  },
  {
   "cell_type": "code",
   "execution_count": 3,
   "metadata": {},
   "outputs": [
    {
     "data": {
      "text/plain": [
       "((35000, 108), (15000, 108))"
      ]
     },
     "execution_count": 3,
     "metadata": {},
     "output_type": "execute_result"
    }
   ],
   "source": [
    "# separate train and test sets\n",
    "X_train, X_test, y_train, y_test = train_test_split(\n",
    "    data.drop(labels=['target'], axis=1),\n",
    "    data['target'],\n",
    "    test_size=0.3,\n",
    "    random_state=0)\n",
    "\n",
    "X_train.shape, X_test.shape"
   ]
  },
  {
   "cell_type": "code",
   "execution_count": 4,
   "metadata": {},
   "outputs": [],
   "source": [
    "# We will use Random Forests, but remember that \n",
    "# you can use this procedure with any machine learning algorithm\n",
    "\n",
    "rf = RandomForestClassifier(\n",
    "    n_estimators=50, max_depth=2, random_state=2909, n_jobs=4)"
   ]
  },
  {
   "cell_type": "code",
   "execution_count": 5,
   "metadata": {},
   "outputs": [
    {
     "data": {
      "text/plain": [
       "SelectByShuffling(estimator=RandomForestClassifier(max_depth=2, n_estimators=50,\n",
       "                                                   n_jobs=4,\n",
       "                                                   random_state=2909),\n",
       "                  random_state=1, threshold=0)"
      ]
     },
     "execution_count": 5,
     "metadata": {},
     "output_type": "execute_result"
    }
   ],
   "source": [
    "sel = SelectByShuffling(\n",
    "    variables=None, # automatically examine all numerical variables\n",
    "    estimator=rf, # the ML model\n",
    "    scoring='roc_auc', # the metric to evaluate\n",
    "    threshold=0,# the maximum performance drop allowed to select the feature\n",
    "    cv=3, # cross validation\n",
    "    random_state=1 # seed\n",
    ")\n",
    "\n",
    "sel.fit(X_train, y_train)"
   ]
  },
  {
   "cell_type": "code",
   "execution_count": 6,
   "metadata": {},
   "outputs": [
    {
     "data": {
      "text/plain": [
       "0.6854579498672484"
      ]
     },
     "execution_count": 6,
     "metadata": {},
     "output_type": "execute_result"
    }
   ],
   "source": [
    "# performance of model trained with all features\n",
    "\n",
    "sel.initial_model_performance_"
   ]
  },
  {
   "cell_type": "code",
   "execution_count": 7,
   "metadata": {},
   "outputs": [
    {
     "data": {
      "text/plain": [
       "{'var_1': 0.0,\n",
       " 'var_2': -0.0002024604369629257,\n",
       " 'var_3': 0.0,\n",
       " 'var_4': 0.0,\n",
       " 'var_5': 1.6933495959547962e-05,\n",
       " 'var_6': -8.201881740943495e-05,\n",
       " 'var_7': 0.00010760028479472883,\n",
       " 'var_8': 0.0,\n",
       " 'var_9': 0.0,\n",
       " 'var_10': 5.258686384601585e-05,\n",
       " 'var_11': -3.277729722928058e-05,\n",
       " 'var_12': 0.0,\n",
       " 'var_13': -0.00010196943289919602,\n",
       " 'var_14': -2.3110891274491507e-05,\n",
       " 'var_15': 0.0,\n",
       " 'var_16': 0.013737763046104967,\n",
       " 'var_17': -0.00016576283448843654,\n",
       " 'var_18': 0.0,\n",
       " 'var_19': -0.00012150727096804648,\n",
       " 'var_20': 0.0,\n",
       " 'var_21': 0.0002472741766194053,\n",
       " 'var_22': -5.8923334229632474e-05,\n",
       " 'var_23': 0.0,\n",
       " 'var_24': -4.422123148661861e-06,\n",
       " 'var_25': 0.0,\n",
       " 'var_26': -2.6175085022561717e-05,\n",
       " 'var_27': 0.0,\n",
       " 'var_28': 0.0,\n",
       " 'var_29': 2.673503994976567e-05,\n",
       " 'var_30': -0.001490248247070114,\n",
       " 'var_31': -7.53158234848561e-05,\n",
       " 'var_32': 3.770014702653146e-05,\n",
       " 'var_33': 0.0,\n",
       " 'var_34': 0.0004493963207606866,\n",
       " 'var_35': 0.0,\n",
       " 'var_36': 0.0,\n",
       " 'var_37': -4.3715888632611666e-05,\n",
       " 'var_38': 0.0001642465532221138,\n",
       " 'var_39': -5.08196903229452e-05,\n",
       " 'var_40': 2.3081325702833944e-05,\n",
       " 'var_41': -2.344887751259961e-05,\n",
       " 'var_42': 0.0,\n",
       " 'var_43': 2.4108677712297855e-05,\n",
       " 'var_44': 0.0,\n",
       " 'var_45': -9.719233469185351e-05,\n",
       " 'var_46': -3.0048203737087498e-05,\n",
       " 'var_47': 0.0,\n",
       " 'var_48': 0.0018849981917666847,\n",
       " 'var_49': -1.8605274223482127e-06,\n",
       " 'var_50': -7.900500503477126e-06,\n",
       " 'var_51': -5.1002719120396556e-05,\n",
       " 'var_52': -2.3822840255260935e-05,\n",
       " 'var_53': 0.0,\n",
       " 'var_54': 0.0,\n",
       " 'var_55': 0.07438729538730648,\n",
       " 'var_56': -0.0002566368494468785,\n",
       " 'var_57': -0.0002320064213542361,\n",
       " 'var_58': -1.989415101533165e-05,\n",
       " 'var_59': 0.0,\n",
       " 'var_60': -4.9168763527784876e-05,\n",
       " 'var_62': 0.0,\n",
       " 'var_63': -3.354753956086309e-05,\n",
       " 'var_64': -0.00012864508520760154,\n",
       " 'var_65': 0.0,\n",
       " 'var_66': 0.0,\n",
       " 'var_67': 0.0,\n",
       " 'var_68': -0.00024989040414913344,\n",
       " 'var_69': 0.010287055492068653,\n",
       " 'var_70': 0.004101866606008531,\n",
       " 'var_71': -5.4916765206747264e-05,\n",
       " 'var_72': 3.322659298765629e-05,\n",
       " 'var_73': 0.0,\n",
       " 'var_74': -2.1888161377714432e-05,\n",
       " 'var_75': -3.697166910032745e-05,\n",
       " 'var_76': -5.3523152225287696e-05,\n",
       " 'var_77': 0.0,\n",
       " 'var_78': 0.0,\n",
       " 'var_79': 0.0002349082571623251,\n",
       " 'var_80': -3.105687236926169e-05,\n",
       " 'var_81': 0.0,\n",
       " 'var_82': 0.0,\n",
       " 'var_83': 2.4429533980074858e-05,\n",
       " 'var_84': -5.512490425030325e-05,\n",
       " 'var_85': 0.0,\n",
       " 'var_86': -2.0269403836814526e-05,\n",
       " 'var_87': 4.1255173277243706e-05,\n",
       " 'var_88': 0.0009630332580478074,\n",
       " 'var_89': -6.061002125190562e-06,\n",
       " 'var_90': -3.190534887620444e-05,\n",
       " 'var_91': 0.001738821463267648,\n",
       " 'var_92': 5.088580155132583e-06,\n",
       " 'var_93': 0.0,\n",
       " 'var_94': -4.1261914318746484e-05,\n",
       " 'var_95': 0.0,\n",
       " 'var_96': -9.361899387461126e-05,\n",
       " 'var_97': 0.0,\n",
       " 'var_98': 9.467434287147025e-05,\n",
       " 'var_99': -7.078792677184254e-05,\n",
       " 'var_100': 8.197288453248852e-06,\n",
       " 'var_101': -3.543765456193171e-05,\n",
       " 'var_102': -3.931375335852749e-05,\n",
       " 'var_103': 0.0,\n",
       " 'var_104': -0.00010890029952059788,\n",
       " 'var_105': 0.0,\n",
       " 'var_106': -6.262880643959079e-05,\n",
       " 'var_107': 0.0,\n",
       " 'var_108': 0.007219880150136304,\n",
       " 'var_109': -0.00021889509585992784}"
      ]
     },
     "execution_count": 7,
     "metadata": {},
     "output_type": "execute_result"
    }
   ],
   "source": [
    "# drop in performance caused by shuffling the feature\n",
    "\n",
    "sel.performance_drifts_"
   ]
  },
  {
   "cell_type": "code",
   "execution_count": 8,
   "metadata": {},
   "outputs": [
    {
     "data": {
      "text/plain": [
       "<AxesSubplot:>"
      ]
     },
     "execution_count": 8,
     "metadata": {},
     "output_type": "execute_result"
    },
    {
     "data": {
      "image/png": "[encoded data removed]",
      "text/plain": [
       "<Figure size 432x288 with 1 Axes>"
      ]
     },
     "metadata": {
      "needs_background": "light"
     },
     "output_type": "display_data"
    }
   ],
   "source": [
    "# histogram of the performance drops\n",
    "\n",
    "pd.Series(sel.performance_drifts_).hist(bins=50)"
   ]
  },
  {
   "cell_type": "code",
   "execution_count": 9,
   "metadata": {},
   "outputs": [
    {
     "data": {
      "text/plain": [
       "<AxesSubplot:>"
      ]
     },
     "execution_count": 9,
     "metadata": {},
     "output_type": "execute_result"
    },
    {
     "data": {
      "image/png": "[encoded data removed]",
      "text/plain": [
       "<Figure size 1296x360 with 1 Axes>"
      ]
     },
     "metadata": {
      "needs_background": "light"
     },
     "output_type": "display_data"
    }
   ],
   "source": [
    "# bar plot of the performance drops\n",
    "\n",
    "pd.Series(sel.performance_drifts_).sort_values(ascending=False).plot.bar(figsize=(18,5))"
   ]
  },
  {
   "cell_type": "code",
   "execution_count": 10,
   "metadata": {},
   "outputs": [
    {
     "data": {
      "text/plain": [
       "101"
      ]
     },
     "execution_count": 10,
     "metadata": {},
     "output_type": "execute_result"
    }
   ],
   "source": [
    "# features that will be removed\n",
    "\n",
    "len(sel.features_to_drop_)"
   ]
  },
  {
   "cell_type": "code",
   "execution_count": 11,
   "metadata": {},
   "outputs": [
    {
     "data": {
      "text/plain": [
       "((35000, 7), (15000, 7))"
      ]
     },
     "execution_count": 11,
     "metadata": {},
     "output_type": "execute_result"
    }
   ],
   "source": [
    "# remove features\n",
    "\n",
    "X_train = sel.transform(X_train)\n",
    "X_test = sel.transform(X_test)\n",
    "\n",
    "X_train.shape, X_test.shape"
   ]
  },
  {
   "cell_type": "code",
   "execution_count": 12,
   "metadata": {},
   "outputs": [
    {
     "name": "stdout",
     "output_type": "stream",
     "text": [
      "train auc score:  0.7010001123593995\n",
      "test auc score:  0.6953477325844082\n"
     ]
    }
   ],
   "source": [
    "# Now let's build a random forests only with the selected features\n",
    "\n",
    "rf.fit(X_train, y_train)\n",
    "\n",
    "# print roc-auc in train and testing sets\n",
    "print(\n",
    "    'train auc score: ',\n",
    "    roc_auc_score(y_train, (rf.predict_proba(X_train))[:,1]))\n",
    "print(\n",
    "    'test auc score: ',\n",
    "    roc_auc_score(y_test, (rf.predict_proba(X_test))[:, 1]))"
   ]
  },
  {
   "cell_type": "markdown",
   "metadata": {},
   "source": [
    "As you can see, the random forests with the selected features show a similar performance (or even slightly higher) to the random forests built using all of the features. And it provides a simpler, faster and more reliable model."
   ]
  },
  {
   "cell_type": "markdown",
   "metadata": {},
   "source": [
    "## Regression"
   ]
  },
  {
   "cell_type": "code",
   "execution_count": 13,
   "metadata": {},
   "outputs": [
    {
     "name": "stdout",
     "output_type": "stream",
     "text": [
      "Full path NM exists  C:\\Users\\Arindam Banerji\\CopyFolder\\IOT_thoughts\\python-projects\\kaggle_experiments\\input_data\\housing_prices_train.csv\n",
      "full_path nm -from read_df C:\\Users\\Arindam Banerji\\CopyFolder\\IOT_thoughts\\python-projects\\kaggle_experiments\\input_data\\housing_prices_train.csv\n"
     ]
    },
    {
     "data": {
      "text/plain": [
       "(1460, 81)"
      ]
     },
     "execution_count": 13,
     "metadata": {},
     "output_type": "execute_result"
    }
   ],
   "source": [
    "config = read_yaml_conf(yaml_path())\n",
    "data = read_df_from_file ( config['files']['housing_data'], set_nrows=False, nrws=0 ) \n",
    "data.shape"
   ]
  },
  {
   "cell_type": "code",
   "execution_count": 14,
   "metadata": {},
   "outputs": [
    {
     "data": {
      "text/plain": [
       "(1460, 38)"
      ]
     },
     "execution_count": 14,
     "metadata": {},
     "output_type": "execute_result"
    }
   ],
   "source": [
    "# here for simplicity I will use only numerical variables\n",
    "# select numerical columns:\n",
    "\n",
    "numerics = ['int16', 'int32', 'int64', 'float16', 'float32', 'float64']\n",
    "numerical_vars = list(data.select_dtypes(include=numerics).columns)\n",
    "data = data[numerical_vars]\n",
    "data.shape"
   ]
  },
  {
   "cell_type": "code",
   "execution_count": 15,
   "metadata": {},
   "outputs": [
    {
     "data": {
      "text/plain": [
       "((1022, 36), (438, 36))"
      ]
     },
     "execution_count": 15,
     "metadata": {},
     "output_type": "execute_result"
    }
   ],
   "source": [
    "# separate train and test sets\n",
    "X_train, X_test, y_train, y_test = train_test_split(\n",
    "    data.drop(labels=['Id', 'SalePrice'], axis=1),\n",
    "    data['SalePrice'],\n",
    "    test_size=0.3,\n",
    "    random_state=0)\n",
    "\n",
    "X_train.shape, X_test.shape"
   ]
  },
  {
   "cell_type": "code",
   "execution_count": 16,
   "metadata": {},
   "outputs": [],
   "source": [
    "# fill missing values\n",
    "\n",
    "X_train = X_train.fillna(0)\n",
    "X_test = X_test.fillna(0)"
   ]
  },
  {
   "cell_type": "code",
   "execution_count": 17,
   "metadata": {},
   "outputs": [],
   "source": [
    "# In this case, I will build Random Forests, but remember that\n",
    "# you can use this procedure for any machine learning algorithm\n",
    "\n",
    "# I build few and shallow trees to avoid overfitting\n",
    "rf = RandomForestRegressor(n_estimators=100,\n",
    "                           max_depth=3,\n",
    "                           random_state=2909,\n",
    "                           n_jobs=4)\n"
   ]
  },
  {
   "cell_type": "code",
   "execution_count": 18,
   "metadata": {},
   "outputs": [
    {
     "data": {
      "text/plain": [
       "SelectByShuffling(estimator=RandomForestRegressor(max_depth=3, n_jobs=4,\n",
       "                                                  random_state=2909),\n",
       "                  random_state=1, scoring='neg_root_mean_squared_error')"
      ]
     },
     "execution_count": 18,
     "metadata": {},
     "output_type": "execute_result"
    }
   ],
   "source": [
    "sel = SelectByShuffling(\n",
    "    variables=None, # automatically examines all numerical variables\n",
    "    estimator=rf, # the estimator\n",
    "    scoring='neg_root_mean_squared_error', # the performance metric\n",
    "    threshold=None, # threshold will be mean value of metric accross features\n",
    "    cv=3,#  cross validation\n",
    "    random_state=1 # seed\n",
    ")\n",
    "\n",
    "sel.fit(X_train, y_train)"
   ]
  },
  {
   "cell_type": "code",
   "execution_count": 19,
   "metadata": {},
   "outputs": [
    {
     "data": {
      "text/plain": [
       "-37824.88457786946"
      ]
     },
     "execution_count": 19,
     "metadata": {},
     "output_type": "execute_result"
    }
   ],
   "source": [
    "# performance of model trained using all features\n",
    "\n",
    "sel.initial_model_performance_"
   ]
  },
  {
   "cell_type": "code",
   "execution_count": 20,
   "metadata": {},
   "outputs": [
    {
     "data": {
      "text/plain": [
       "<AxesSubplot:>"
      ]
     },
     "execution_count": 20,
     "metadata": {},
     "output_type": "execute_result"
    },
    {
     "data": {
      "image/png": "[encoded data removed]",
      "text/plain": [
       "<Figure size 1296x360 with 1 Axes>"
      ]
     },
     "metadata": {
      "needs_background": "light"
     },
     "output_type": "display_data"
    }
   ],
   "source": [
    "# performance drifts\n",
    "\n",
    "pd.Series(sel.performance_drifts_).sort_values(ascending=False).plot.bar(figsize=(18,5))"
   ]
  },
  {
   "cell_type": "code",
   "execution_count": 21,
   "metadata": {},
   "outputs": [
    {
     "data": {
      "text/plain": [
       "['MSSubClass',\n",
       " 'LotFrontage',\n",
       " 'LotArea',\n",
       " 'OverallCond',\n",
       " 'YearBuilt',\n",
       " 'YearRemodAdd',\n",
       " 'MasVnrArea',\n",
       " 'BsmtFinSF1',\n",
       " 'BsmtFinSF2',\n",
       " 'BsmtUnfSF',\n",
       " '2ndFlrSF',\n",
       " 'LowQualFinSF',\n",
       " 'BsmtFullBath',\n",
       " 'BsmtHalfBath',\n",
       " 'FullBath',\n",
       " 'HalfBath',\n",
       " 'BedroomAbvGr',\n",
       " 'KitchenAbvGr',\n",
       " 'TotRmsAbvGrd',\n",
       " 'Fireplaces',\n",
       " 'GarageYrBlt',\n",
       " 'GarageCars',\n",
       " 'GarageArea',\n",
       " 'WoodDeckSF',\n",
       " 'OpenPorchSF',\n",
       " 'EnclosedPorch',\n",
       " '3SsnPorch',\n",
       " 'ScreenPorch',\n",
       " 'PoolArea',\n",
       " 'MiscVal',\n",
       " 'MoSold',\n",
       " 'YrSold']"
      ]
     },
     "execution_count": 21,
     "metadata": {},
     "output_type": "execute_result"
    }
   ],
   "source": [
    "sel.features_to_drop_"
   ]
  },
  {
   "cell_type": "code",
   "execution_count": 22,
   "metadata": {},
   "outputs": [
    {
     "data": {
      "text/plain": [
       "((1022, 4), (438, 4))"
      ]
     },
     "execution_count": 22,
     "metadata": {},
     "output_type": "execute_result"
    }
   ],
   "source": [
    "# select the features\n",
    "\n",
    "X_train = sel.transform(X_train)\n",
    "X_test = sel.transform(X_test)\n",
    "\n",
    "X_train.shape, X_test.shape"
   ]
  },
  {
   "cell_type": "code",
   "execution_count": 23,
   "metadata": {},
   "outputs": [
    {
     "name": "stdout",
     "output_type": "stream",
     "text": [
      "train rmse:  35958.5144285725\n",
      "train r2:  0.7880218953729026\n",
      "\n",
      "test rmse:  40006.14519421906\n",
      "test r2:  0.7642519264873466\n"
     ]
    }
   ],
   "source": [
    "# check model performance using only selected features\n",
    "rf.fit(X_train, y_train)\n",
    "\n",
    "# print performance metrics\n",
    "print('train rmse: ', mean_squared_error(y_train, rf.predict(X_train), squared=False))\n",
    "print('train r2: ', r2_score(y_train, (rf.predict(X_train))))\n",
    "print()\n",
    "print('test rmse: ', mean_squared_error(y_test, rf.predict(X_test), squared=False))\n",
    "print('test r2: ', r2_score(y_test, rf.predict(X_test)))"
   ]
  }
 ],
 "metadata": {
  "kernelspec": {
   "display_name": "Python 3.10.7 64-bit",
   "language": "python",
   "name": "python3"
  },
  "language_info": {
   "codemirror_mode": {
    "name": "ipython",
    "version": 3
   },
   "file_extension": ".py",
   "mimetype": "text/x-python",
   "name": "python",
   "nbconvert_exporter": "python",
   "pygments_lexer": "ipython3",
   "version": "3.10.7"
  },
  "orig_nbformat": 4,
  "vscode": {
   "interpreter": {
    "hash": "369f2c481f4da34e4445cda3fffd2e751bd1c4d706f27375911949ba6bb62e1c"
   }
  }
 },
 "nbformat": 4,
 "nbformat_minor": 2
}
