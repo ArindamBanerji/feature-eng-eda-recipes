{
 "cells": [
  {
   "cell_type": "markdown",
   "metadata": {},
   "source": [
    "## Constant features\n",
    "\n",
    "Constant features are those that show the same value, just one value, for all the observations of the dataset. In other words, the same value for all the rows of the dataset. These features provide no information that allows a machine learning model to discriminate or predict a target.\n",
    "\n",
    "Identifying and removing constant features is an easy first step towards feature selection and more easily interpretable machine learning models.\n",
    "\n",
    "Here, I will demonstrate how to identify constant features using a dataset that I created for this course. \n",
    "\n",
    "To identify constant features, we can use the VarianceThreshold from Scikit-learn, or we can code it ourselves. If using the VarianceThreshold, all our variables need to be numerical. If we do it manually however, we can apply the code to both numerical and categorical variables.\n",
    "\n",
    "I will show 3 snippets of code, 1 where I use the VarianceThreshold and 2 manually coded alternatives."
   ]
  },
  {
   "cell_type": "code",
   "execution_count": 1,
   "metadata": {},
   "outputs": [],
   "source": [
    "import numpy as np\n",
    "import pandas as pd\n",
    "\n",
    "from sklearn.model_selection import train_test_split\n",
    "\n",
    "from sklearn.feature_selection import VarianceThreshold"
   ]
  },
  {
   "cell_type": "code",
   "execution_count": 11,
   "metadata": {},
   "outputs": [],
   "source": [
    "from pathlib import Path, PureWindowsPath\n",
    "\n",
    "def get_full_path_nm (base_dir, path_add_ons, file_nm) :\n",
    "    \n",
    "# I've explicitly declared my path as being in Windows format, so I can use forward slashes in it.\n",
    "# base_dir = \"c:\\\\Users\\Arindam Banerji\\CopyFolder\\IoT_thoughts\\python-projects\\kaggle_experiments\"\n",
    "# win_path = base_dir + \"\\\\feature-engineering\" + \"\\\\fe-recipes\"\n",
    "    \n",
    "    does_file_exist = False\n",
    "    incl_path  = base_dir + path_add_ons + \"\\\\\" + file_nm  \n",
    "\n",
    "\n",
    "    filename = PureWindowsPath(incl_path)\n",
    "\n",
    "    # Convert path to the right format for the current operating system\n",
    "    correct_fnm = Path(filename)\n",
    "\n",
    "# print (\"Full path NM \", correct_fnm )\n",
    "    \n",
    "    if correct_fnm.is_file():\n",
    "        print (\"Full path NM exists \", correct_fnm)\n",
    "        does_file_exist = True\n",
    "    else :\n",
    "        print (\"Full path NM does NOT exist \", correct_fnm)\n",
    "    \n",
    "    return correct_fnm, does_file_exist\n",
    "\n"
   ]
  },
  {
   "cell_type": "code",
   "execution_count": 12,
   "metadata": {},
   "outputs": [
    {
     "name": "stdout",
     "output_type": "stream",
     "text": [
      "Full path NM exists  c:\\Users\\Arindam Banerji\\CopyFolder\\IoT_thoughts\\python-projects\\kaggle_experiments\\input_data\\fselect_dataset_1.csv\n"
     ]
    },
    {
     "data": {
      "text/plain": [
       "(50000, 301)"
      ]
     },
     "execution_count": 12,
     "metadata": {},
     "output_type": "execute_result"
    }
   ],
   "source": [
    "base_dir = \"c:\\\\Users\\Arindam Banerji\\CopyFolder\\IoT_thoughts\\python-projects\\kaggle_experiments\"\n",
    "# win_path = base_dir + \"\\\\feature-engineering\" + \"\\\\fe-recipes\"\n",
    "path_add_ons  = \"\\\\input_data\"\n",
    "file_nm = \"fselect_dataset_1.csv\"\n",
    "\n",
    "fnm, exists = get_full_path_nm (base_dir, path_add_ons, file_nm) \n",
    "\n",
    "# load our first dataset\n",
    "\n",
    "# (feel free to write some code to explore the dataset and become\n",
    "# familiar with it ahead of this demo)\n",
    "\n",
    "data = pd.read_csv(fnm)\n",
    "data.shape"
   ]
  },
  {
   "cell_type": "markdown",
   "metadata": {},
   "source": [
    "**Important**\n",
    "\n",
    "In all feature selection procedures, it is good practice to select the features by examining only the training set. And this is to avoid overfitting."
   ]
  },
  {
   "cell_type": "code",
   "execution_count": 13,
   "metadata": {},
   "outputs": [
    {
     "data": {
      "text/plain": [
       "((35000, 300), (15000, 300))"
      ]
     },
     "execution_count": 13,
     "metadata": {},
     "output_type": "execute_result"
    }
   ],
   "source": [
    "# separate dataset into train and test\n",
    "\n",
    "X_train, X_test, y_train, y_test = train_test_split(\n",
    "    data.drop(labels=['target'], axis=1),  # drop the target\n",
    "    data['target'],  # just the target\n",
    "    test_size=0.3,\n",
    "    random_state=0)\n",
    "\n",
    "X_train.shape, X_test.shape"
   ]
  },
  {
   "cell_type": "markdown",
   "metadata": {},
   "source": [
    "### Using VarianceThreshold from Scikit-learn\n",
    "\n",
    "The VarianceThreshold from sklearn provides a simple baseline approach to feature selection. It removes all features which variance doesn’t meet a certain threshold. By default, it removes all zero-variance features, i.e., features that have the same value in all samples."
   ]
  },
  {
   "cell_type": "code",
   "execution_count": 14,
   "metadata": {},
   "outputs": [
    {
     "data": {
      "text/plain": [
       "VarianceThreshold(threshold=0)"
      ]
     },
     "execution_count": 14,
     "metadata": {},
     "output_type": "execute_result"
    }
   ],
   "source": [
    "sel = VarianceThreshold(threshold=0)\n",
    "\n",
    "sel.fit(X_train)  # fit finds the features with zero variance"
   ]
  },
  {
   "cell_type": "code",
   "execution_count": 15,
   "metadata": {},
   "outputs": [
    {
     "data": {
      "text/plain": [
       "266"
      ]
     },
     "execution_count": 15,
     "metadata": {},
     "output_type": "execute_result"
    }
   ],
   "source": [
    "# get_support is a boolean vector that indicates which features are retained\n",
    "# if we sum over get_support, we get the number of features that are not constant\n",
    "\n",
    "# (go ahead and print the result of sel.get_support() to understand its output)\n",
    "\n",
    "sum(sel.get_support())"
   ]
  },
  {
   "cell_type": "code",
   "execution_count": 16,
   "metadata": {},
   "outputs": [
    {
     "data": {
      "text/plain": [
       "34"
      ]
     },
     "execution_count": 16,
     "metadata": {},
     "output_type": "execute_result"
    }
   ],
   "source": [
    "# now let's print the number of constant feautures\n",
    "# (see how we use ~ to exclude non-constant features)\n",
    "\n",
    "constant = X_train.columns[~sel.get_support()]\n",
    "\n",
    "len(constant)"
   ]
  },
  {
   "cell_type": "markdown",
   "metadata": {},
   "source": [
    "We can see that 34 columns / variables are constant. This means that 34 variables show the same value, just one value, for all the observations of the training set."
   ]
  },
  {
   "cell_type": "code",
   "execution_count": 17,
   "metadata": {},
   "outputs": [
    {
     "data": {
      "text/plain": [
       "Index(['var_23', 'var_33', 'var_44', 'var_61', 'var_80', 'var_81', 'var_87',\n",
       "       'var_89', 'var_92', 'var_97', 'var_99', 'var_112', 'var_113', 'var_120',\n",
       "       'var_122', 'var_127', 'var_135', 'var_158', 'var_167', 'var_170',\n",
       "       'var_171', 'var_178', 'var_180', 'var_182', 'var_195', 'var_196',\n",
       "       'var_201', 'var_212', 'var_215', 'var_225', 'var_227', 'var_248',\n",
       "       'var_294', 'var_297'],\n",
       "      dtype='object')"
      ]
     },
     "execution_count": 17,
     "metadata": {},
     "output_type": "execute_result"
    }
   ],
   "source": [
    "# let's print the constant variable names\n",
    "\n",
    "constant"
   ]
  },
  {
   "cell_type": "code",
   "execution_count": 18,
   "metadata": {},
   "outputs": [
    {
     "data": {
      "text/plain": [
       "array([0], dtype=int64)"
      ]
     },
     "execution_count": 18,
     "metadata": {},
     "output_type": "execute_result"
    }
   ],
   "source": [
    "# let's visualise the values of one of the constant variables\n",
    "# as an example\n",
    "\n",
    "X_train['var_23'].unique()"
   ]
  },
  {
   "cell_type": "code",
   "execution_count": 19,
   "metadata": {},
   "outputs": [
    {
     "name": "stdout",
     "output_type": "stream",
     "text": [
      "var_23 [0]\n",
      "var_33 [0]\n",
      "var_44 [0]\n",
      "var_61 [0]\n",
      "var_80 [0]\n",
      "var_81 [0]\n",
      "var_87 [0]\n",
      "var_89 [0.]\n",
      "var_92 [0]\n",
      "var_97 [0]\n",
      "var_99 [0]\n",
      "var_112 [0]\n",
      "var_113 [0]\n",
      "var_120 [0]\n",
      "var_122 [0]\n",
      "var_127 [0]\n",
      "var_135 [0]\n",
      "var_158 [0]\n",
      "var_167 [0]\n",
      "var_170 [0]\n",
      "var_171 [0]\n",
      "var_178 [0.]\n",
      "var_180 [0.]\n",
      "var_182 [0]\n",
      "var_195 [0]\n",
      "var_196 [0]\n",
      "var_201 [0]\n",
      "var_212 [0]\n",
      "var_215 [0]\n",
      "var_225 [0]\n",
      "var_227 [0.]\n",
      "var_248 [0]\n",
      "var_294 [0]\n",
      "var_297 [0]\n"
     ]
    }
   ],
   "source": [
    "# we can do the same for every feature:\n",
    "\n",
    "for col in constant:\n",
    "    print(col, X_train[col].unique())"
   ]
  },
  {
   "cell_type": "markdown",
   "metadata": {},
   "source": [
    "We then use the transform() method of the VarianceThreshold to reduce the training and testing sets to its non-constant features.\n",
    "\n",
    "Note that VarianceThreshold returns a NumPy array without feature names, so we need to capture the names first, and reconstitute the dataframe in a later step."
   ]
  },
  {
   "cell_type": "code",
   "execution_count": 20,
   "metadata": {},
   "outputs": [],
   "source": [
    "# capture non-constant feature names\n",
    "\n",
    "feat_names = X_train.columns[sel.get_support()]"
   ]
  },
  {
   "cell_type": "code",
   "execution_count": 21,
   "metadata": {},
   "outputs": [
    {
     "data": {
      "text/plain": [
       "((35000, 266), (15000, 266))"
      ]
     },
     "execution_count": 21,
     "metadata": {},
     "output_type": "execute_result"
    }
   ],
   "source": [
    "X_train = sel.transform(X_train)\n",
    "X_test = sel.transform(X_test)\n",
    "\n",
    "X_train.shape, X_test.shape"
   ]
  },
  {
   "cell_type": "markdown",
   "metadata": {},
   "source": [
    "We passed from our original 300 variables, to 266."
   ]
  },
  {
   "cell_type": "code",
   "execution_count": 22,
   "metadata": {},
   "outputs": [
    {
     "data": {
      "text/plain": [
       "array([[0., 0., 0., ..., 0., 0., 0.],\n",
       "       [0., 0., 0., ..., 0., 0., 0.],\n",
       "       [0., 0., 0., ..., 0., 0., 0.],\n",
       "       ...,\n",
       "       [0., 0., 0., ..., 0., 0., 0.],\n",
       "       [0., 0., 0., ..., 0., 0., 0.],\n",
       "       [0., 0., 0., ..., 0., 0., 0.]])"
      ]
     },
     "execution_count": 22,
     "metadata": {},
     "output_type": "execute_result"
    }
   ],
   "source": [
    "# X_ train is a NumPy array\n",
    "X_train"
   ]
  },
  {
   "cell_type": "code",
   "execution_count": 23,
   "metadata": {},
   "outputs": [
    {
     "data": {
      "text/html": [
       "<div>\n",
       "<style scoped>\n",
       "    .dataframe tbody tr th:only-of-type {\n",
       "        vertical-align: middle;\n",
       "    }\n",
       "\n",
       "    .dataframe tbody tr th {\n",
       "        vertical-align: top;\n",
       "    }\n",
       "\n",
       "    .dataframe thead th {\n",
       "        text-align: right;\n",
       "    }\n",
       "</style>\n",
       "<table border=\"1\" class=\"dataframe\">\n",
       "  <thead>\n",
       "    <tr style=\"text-align: right;\">\n",
       "      <th></th>\n",
       "      <th>var_1</th>\n",
       "      <th>var_2</th>\n",
       "      <th>var_3</th>\n",
       "      <th>var_4</th>\n",
       "      <th>var_5</th>\n",
       "      <th>var_6</th>\n",
       "      <th>var_7</th>\n",
       "      <th>var_8</th>\n",
       "      <th>var_9</th>\n",
       "      <th>var_10</th>\n",
       "      <th>...</th>\n",
       "      <th>var_289</th>\n",
       "      <th>var_290</th>\n",
       "      <th>var_291</th>\n",
       "      <th>var_292</th>\n",
       "      <th>var_293</th>\n",
       "      <th>var_295</th>\n",
       "      <th>var_296</th>\n",
       "      <th>var_298</th>\n",
       "      <th>var_299</th>\n",
       "      <th>var_300</th>\n",
       "    </tr>\n",
       "  </thead>\n",
       "  <tbody>\n",
       "    <tr>\n",
       "      <th>0</th>\n",
       "      <td>0.0</td>\n",
       "      <td>0.0</td>\n",
       "      <td>0.0</td>\n",
       "      <td>2.79</td>\n",
       "      <td>0.0</td>\n",
       "      <td>0.0</td>\n",
       "      <td>0.0</td>\n",
       "      <td>0.0</td>\n",
       "      <td>0.0</td>\n",
       "      <td>0.0</td>\n",
       "      <td>...</td>\n",
       "      <td>0.0</td>\n",
       "      <td>0.0</td>\n",
       "      <td>0.0</td>\n",
       "      <td>0.0</td>\n",
       "      <td>0.0</td>\n",
       "      <td>0.0</td>\n",
       "      <td>0.0</td>\n",
       "      <td>0.0</td>\n",
       "      <td>0.0</td>\n",
       "      <td>0.0</td>\n",
       "    </tr>\n",
       "    <tr>\n",
       "      <th>1</th>\n",
       "      <td>0.0</td>\n",
       "      <td>0.0</td>\n",
       "      <td>0.0</td>\n",
       "      <td>2.97</td>\n",
       "      <td>0.0</td>\n",
       "      <td>0.0</td>\n",
       "      <td>0.0</td>\n",
       "      <td>0.0</td>\n",
       "      <td>0.0</td>\n",
       "      <td>0.0</td>\n",
       "      <td>...</td>\n",
       "      <td>0.0</td>\n",
       "      <td>0.0</td>\n",
       "      <td>0.0</td>\n",
       "      <td>0.0</td>\n",
       "      <td>0.0</td>\n",
       "      <td>0.0</td>\n",
       "      <td>0.0</td>\n",
       "      <td>0.0</td>\n",
       "      <td>0.0</td>\n",
       "      <td>0.0</td>\n",
       "    </tr>\n",
       "    <tr>\n",
       "      <th>2</th>\n",
       "      <td>0.0</td>\n",
       "      <td>0.0</td>\n",
       "      <td>0.0</td>\n",
       "      <td>0.00</td>\n",
       "      <td>0.0</td>\n",
       "      <td>0.0</td>\n",
       "      <td>0.0</td>\n",
       "      <td>0.0</td>\n",
       "      <td>0.0</td>\n",
       "      <td>0.0</td>\n",
       "      <td>...</td>\n",
       "      <td>0.0</td>\n",
       "      <td>0.0</td>\n",
       "      <td>0.0</td>\n",
       "      <td>0.0</td>\n",
       "      <td>0.0</td>\n",
       "      <td>0.0</td>\n",
       "      <td>0.0</td>\n",
       "      <td>0.0</td>\n",
       "      <td>0.0</td>\n",
       "      <td>0.0</td>\n",
       "    </tr>\n",
       "    <tr>\n",
       "      <th>3</th>\n",
       "      <td>0.0</td>\n",
       "      <td>0.0</td>\n",
       "      <td>0.0</td>\n",
       "      <td>2.79</td>\n",
       "      <td>85435.2</td>\n",
       "      <td>0.0</td>\n",
       "      <td>0.0</td>\n",
       "      <td>0.0</td>\n",
       "      <td>0.0</td>\n",
       "      <td>0.0</td>\n",
       "      <td>...</td>\n",
       "      <td>0.0</td>\n",
       "      <td>0.0</td>\n",
       "      <td>0.0</td>\n",
       "      <td>0.0</td>\n",
       "      <td>0.0</td>\n",
       "      <td>0.0</td>\n",
       "      <td>0.0</td>\n",
       "      <td>0.0</td>\n",
       "      <td>0.0</td>\n",
       "      <td>0.0</td>\n",
       "    </tr>\n",
       "    <tr>\n",
       "      <th>4</th>\n",
       "      <td>0.0</td>\n",
       "      <td>0.0</td>\n",
       "      <td>0.0</td>\n",
       "      <td>5.70</td>\n",
       "      <td>0.0</td>\n",
       "      <td>0.0</td>\n",
       "      <td>0.0</td>\n",
       "      <td>0.0</td>\n",
       "      <td>0.0</td>\n",
       "      <td>0.0</td>\n",
       "      <td>...</td>\n",
       "      <td>0.0</td>\n",
       "      <td>0.0</td>\n",
       "      <td>0.0</td>\n",
       "      <td>0.0</td>\n",
       "      <td>0.0</td>\n",
       "      <td>0.0</td>\n",
       "      <td>0.0</td>\n",
       "      <td>0.0</td>\n",
       "      <td>0.0</td>\n",
       "      <td>0.0</td>\n",
       "    </tr>\n",
       "  </tbody>\n",
       "</table>\n",
       "<p>5 rows × 266 columns</p>\n",
       "</div>"
      ],
      "text/plain": [
       "   var_1  var_2  var_3  var_4    var_5  var_6  var_7  var_8  var_9  var_10  \\\n",
       "0    0.0    0.0    0.0   2.79      0.0    0.0    0.0    0.0    0.0     0.0   \n",
       "1    0.0    0.0    0.0   2.97      0.0    0.0    0.0    0.0    0.0     0.0   \n",
       "2    0.0    0.0    0.0   0.00      0.0    0.0    0.0    0.0    0.0     0.0   \n",
       "3    0.0    0.0    0.0   2.79  85435.2    0.0    0.0    0.0    0.0     0.0   \n",
       "4    0.0    0.0    0.0   5.70      0.0    0.0    0.0    0.0    0.0     0.0   \n",
       "\n",
       "   ...  var_289  var_290  var_291  var_292  var_293  var_295  var_296  \\\n",
       "0  ...      0.0      0.0      0.0      0.0      0.0      0.0      0.0   \n",
       "1  ...      0.0      0.0      0.0      0.0      0.0      0.0      0.0   \n",
       "2  ...      0.0      0.0      0.0      0.0      0.0      0.0      0.0   \n",
       "3  ...      0.0      0.0      0.0      0.0      0.0      0.0      0.0   \n",
       "4  ...      0.0      0.0      0.0      0.0      0.0      0.0      0.0   \n",
       "\n",
       "   var_298  var_299  var_300  \n",
       "0      0.0      0.0      0.0  \n",
       "1      0.0      0.0      0.0  \n",
       "2      0.0      0.0      0.0  \n",
       "3      0.0      0.0      0.0  \n",
       "4      0.0      0.0      0.0  \n",
       "\n",
       "[5 rows x 266 columns]"
      ]
     },
     "execution_count": 23,
     "metadata": {},
     "output_type": "execute_result"
    }
   ],
   "source": [
    "# reconstitute de dataframe\n",
    "\n",
    "X_train = pd.DataFrame(X_train, columns=feat_names)\n",
    "X_train.head()"
   ]
  },
  {
   "cell_type": "markdown",
   "metadata": {},
   "source": [
    "### Manual code 1: only works with numerical\n",
    "\n",
    "In the following cells, I will show an alternative to the VarianceThreshold transformer of sklearn, were we write the code to find out constant variables, using the standard deviation from pandas."
   ]
  },
  {
   "cell_type": "code",
   "execution_count": 24,
   "metadata": {},
   "outputs": [
    {
     "data": {
      "text/plain": [
       "((35000, 300), (15000, 300))"
      ]
     },
     "execution_count": 24,
     "metadata": {},
     "output_type": "execute_result"
    }
   ],
   "source": [
    "# separate train and test (again, as we transformed the previous ones)\n",
    "\n",
    "X_train, X_test, y_train, y_test = train_test_split(\n",
    "    data.drop(labels=['target'], axis=1),\n",
    "    data['target'],\n",
    "    test_size=0.3,\n",
    "    random_state=0)\n",
    "\n",
    "X_train.shape, X_test.shape"
   ]
  },
  {
   "cell_type": "code",
   "execution_count": 25,
   "metadata": {},
   "outputs": [
    {
     "data": {
      "text/plain": [
       "34"
      ]
     },
     "execution_count": 25,
     "metadata": {},
     "output_type": "execute_result"
    }
   ],
   "source": [
    "# short and easy: find constant features\n",
    "\n",
    "# in this dataset, all features are numeric,\n",
    "# so this bit of code will suffice:\n",
    "\n",
    "constant_features = [\n",
    "    feat for feat in X_train.columns if X_train[feat].std() == 0\n",
    "]\n",
    "\n",
    "len(constant_features)"
   ]
  },
  {
   "cell_type": "code",
   "execution_count": 26,
   "metadata": {},
   "outputs": [
    {
     "data": {
      "text/plain": [
       "((35000, 266), (15000, 266))"
      ]
     },
     "execution_count": 26,
     "metadata": {},
     "output_type": "execute_result"
    }
   ],
   "source": [
    "# drop these columns from the train and test sets:\n",
    "\n",
    "X_train.drop(labels=constant_features, axis=1, inplace=True)\n",
    "X_test.drop(labels=constant_features, axis=1, inplace=True)\n",
    "\n",
    "X_train.shape, X_test.shape"
   ]
  },
  {
   "cell_type": "markdown",
   "metadata": {},
   "source": [
    "We see how by removing constant features, we managed to reduced the feature space quite a bit.\n",
    "\n",
    "Both the VarianceThreshold and the snippet of code I provided work with numerical variables. What can we do to find constant categorical variables?\n",
    "\n",
    "One alternative is to encode the categories as numbers and then use the code above. But then you will put effort in pre-processing variables that are not informative.\n",
    "\n",
    "The code below offers a better solution:\n",
    "\n",
    "### Manual Code 2 - works also with categorical variables"
   ]
  },
  {
   "cell_type": "code",
   "execution_count": 27,
   "metadata": {},
   "outputs": [
    {
     "data": {
      "text/plain": [
       "((35000, 300), (15000, 300))"
      ]
     },
     "execution_count": 27,
     "metadata": {},
     "output_type": "execute_result"
    }
   ],
   "source": [
    "# separate train and test (again, as we transformed the previous ones)\n",
    "\n",
    "X_train, X_test, y_train, y_test = train_test_split(\n",
    "    data.drop(labels=['target'], axis=1),\n",
    "    data['target'],\n",
    "    test_size=0.3,\n",
    "    random_state=0)\n",
    "\n",
    "X_train.shape, X_test.shape"
   ]
  },
  {
   "cell_type": "code",
   "execution_count": 28,
   "metadata": {},
   "outputs": [
    {
     "data": {
      "text/plain": [
       "var_1      object\n",
       "var_2      object\n",
       "var_3      object\n",
       "var_4      object\n",
       "var_5      object\n",
       "            ...  \n",
       "var_296    object\n",
       "var_297    object\n",
       "var_298    object\n",
       "var_299    object\n",
       "var_300    object\n",
       "Length: 300, dtype: object"
      ]
     },
     "execution_count": 28,
     "metadata": {},
     "output_type": "execute_result"
    }
   ],
   "source": [
    "# I will cast all the numeric features as object,\n",
    "# to simulate that they are categorical\n",
    "\n",
    "X_train = X_train.astype('O')\n",
    "X_train.dtypes"
   ]
  },
  {
   "cell_type": "code",
   "execution_count": 29,
   "metadata": {},
   "outputs": [
    {
     "data": {
      "text/plain": [
       "34"
      ]
     },
     "execution_count": 29,
     "metadata": {},
     "output_type": "execute_result"
    }
   ],
   "source": [
    "# to find variables that contain only 1 label/value\n",
    "# we use the nunique() method from pandas, which returns the number\n",
    "# of different values in a variable.\n",
    "\n",
    "constant_features = [\n",
    "    feat for feat in X_train.columns if X_train[feat].nunique() == 1\n",
    "]\n",
    "\n",
    "len(constant_features)"
   ]
  },
  {
   "cell_type": "markdown",
   "metadata": {},
   "source": [
    "Same as before, we observe 34 variables that show only 1 value in all the observations of the dataset. Like this, we can appreciate the usefulness of looking out for constant variables at the beginning of any modeling exercise.\n",
    "\n",
    "**Note** by default nunique() ignores missing values, so if your variables have missing values, use dropna=False within the parameters of nunique(). More details here:\n",
    "\n",
    "https://pandas.pydata.org/pandas-docs/stable/reference/api/pandas.DataFrame.nunique.html"
   ]
  },
  {
   "cell_type": "code",
   "execution_count": 30,
   "metadata": {},
   "outputs": [
    {
     "data": {
      "text/plain": [
       "((35000, 266), (15000, 266))"
      ]
     },
     "execution_count": 30,
     "metadata": {},
     "output_type": "execute_result"
    }
   ],
   "source": [
    "X_train.drop(labels=constant_features, axis=1, inplace=True)\n",
    "X_test.drop(labels=constant_features, axis=1, inplace=True)\n",
    "\n",
    "X_train.shape, X_test.shape"
   ]
  },
  {
   "cell_type": "markdown",
   "metadata": {},
   "source": [
    "## Detecct Constant & QuasiConst variables "
   ]
  },
  {
   "cell_type": "code",
   "execution_count": 32,
   "metadata": {},
   "outputs": [
    {
     "name": "stdout",
     "output_type": "stream",
     "text": [
      "Full path NM exists  c:\\Users\\Arindam Banerji\\CopyFolder\\IoT_thoughts\\python-projects\\kaggle_experiments\\input_data\\fselect_dataset_1.csv\n"
     ]
    },
    {
     "data": {
      "text/plain": [
       "(50000, 301)"
      ]
     },
     "execution_count": 32,
     "metadata": {},
     "output_type": "execute_result"
    }
   ],
   "source": [
    "base_dir = \"c:\\\\Users\\Arindam Banerji\\CopyFolder\\IoT_thoughts\\python-projects\\kaggle_experiments\"\n",
    "path_add_ons  = \"\\\\input_data\"\n",
    "file_nm = \"fselect_dataset_1.csv\"\n",
    "\n",
    "fnm, exists = get_full_path_nm (base_dir, path_add_ons, file_nm) \n",
    "\n",
    "# load our first dataset\n",
    "\n",
    "# (feel free to write some code to explore the dataset and become\n",
    "# familiar with it ahead of this demo)\n",
    "\n",
    "df = pd.read_csv(fnm)\n",
    "df.shape"
   ]
  },
  {
   "cell_type": "code",
   "execution_count": 33,
   "metadata": {},
   "outputs": [
    {
     "data": {
      "text/html": [
       "<div>\n",
       "<style scoped>\n",
       "    .dataframe tbody tr th:only-of-type {\n",
       "        vertical-align: middle;\n",
       "    }\n",
       "\n",
       "    .dataframe tbody tr th {\n",
       "        vertical-align: top;\n",
       "    }\n",
       "\n",
       "    .dataframe thead th {\n",
       "        text-align: right;\n",
       "    }\n",
       "</style>\n",
       "<table border=\"1\" class=\"dataframe\">\n",
       "  <thead>\n",
       "    <tr style=\"text-align: right;\">\n",
       "      <th></th>\n",
       "      <th>var_1</th>\n",
       "      <th>var_2</th>\n",
       "      <th>var_3</th>\n",
       "      <th>var_4</th>\n",
       "      <th>var_5</th>\n",
       "      <th>var_6</th>\n",
       "      <th>var_7</th>\n",
       "      <th>var_8</th>\n",
       "      <th>var_9</th>\n",
       "      <th>var_10</th>\n",
       "      <th>...</th>\n",
       "      <th>var_292</th>\n",
       "      <th>var_293</th>\n",
       "      <th>var_294</th>\n",
       "      <th>var_295</th>\n",
       "      <th>var_296</th>\n",
       "      <th>var_297</th>\n",
       "      <th>var_298</th>\n",
       "      <th>var_299</th>\n",
       "      <th>var_300</th>\n",
       "      <th>target</th>\n",
       "    </tr>\n",
       "  </thead>\n",
       "  <tbody>\n",
       "    <tr>\n",
       "      <th>0</th>\n",
       "      <td>0</td>\n",
       "      <td>0</td>\n",
       "      <td>0.0</td>\n",
       "      <td>0.00</td>\n",
       "      <td>0.0</td>\n",
       "      <td>0</td>\n",
       "      <td>0</td>\n",
       "      <td>0</td>\n",
       "      <td>0</td>\n",
       "      <td>0</td>\n",
       "      <td>...</td>\n",
       "      <td>0.0</td>\n",
       "      <td>0</td>\n",
       "      <td>0</td>\n",
       "      <td>0</td>\n",
       "      <td>0</td>\n",
       "      <td>0</td>\n",
       "      <td>0</td>\n",
       "      <td>0.0</td>\n",
       "      <td>0.0000</td>\n",
       "      <td>0</td>\n",
       "    </tr>\n",
       "    <tr>\n",
       "      <th>1</th>\n",
       "      <td>0</td>\n",
       "      <td>0</td>\n",
       "      <td>0.0</td>\n",
       "      <td>3.00</td>\n",
       "      <td>0.0</td>\n",
       "      <td>0</td>\n",
       "      <td>0</td>\n",
       "      <td>0</td>\n",
       "      <td>0</td>\n",
       "      <td>0</td>\n",
       "      <td>...</td>\n",
       "      <td>0.0</td>\n",
       "      <td>0</td>\n",
       "      <td>0</td>\n",
       "      <td>0</td>\n",
       "      <td>0</td>\n",
       "      <td>0</td>\n",
       "      <td>0</td>\n",
       "      <td>0.0</td>\n",
       "      <td>0.0000</td>\n",
       "      <td>0</td>\n",
       "    </tr>\n",
       "    <tr>\n",
       "      <th>2</th>\n",
       "      <td>0</td>\n",
       "      <td>0</td>\n",
       "      <td>0.0</td>\n",
       "      <td>5.88</td>\n",
       "      <td>0.0</td>\n",
       "      <td>0</td>\n",
       "      <td>0</td>\n",
       "      <td>0</td>\n",
       "      <td>0</td>\n",
       "      <td>0</td>\n",
       "      <td>...</td>\n",
       "      <td>0.0</td>\n",
       "      <td>0</td>\n",
       "      <td>0</td>\n",
       "      <td>3</td>\n",
       "      <td>0</td>\n",
       "      <td>0</td>\n",
       "      <td>0</td>\n",
       "      <td>0.0</td>\n",
       "      <td>67772.7216</td>\n",
       "      <td>0</td>\n",
       "    </tr>\n",
       "    <tr>\n",
       "      <th>3</th>\n",
       "      <td>0</td>\n",
       "      <td>0</td>\n",
       "      <td>0.0</td>\n",
       "      <td>14.10</td>\n",
       "      <td>0.0</td>\n",
       "      <td>0</td>\n",
       "      <td>0</td>\n",
       "      <td>0</td>\n",
       "      <td>0</td>\n",
       "      <td>0</td>\n",
       "      <td>...</td>\n",
       "      <td>0.0</td>\n",
       "      <td>0</td>\n",
       "      <td>0</td>\n",
       "      <td>0</td>\n",
       "      <td>0</td>\n",
       "      <td>0</td>\n",
       "      <td>0</td>\n",
       "      <td>0.0</td>\n",
       "      <td>0.0000</td>\n",
       "      <td>0</td>\n",
       "    </tr>\n",
       "    <tr>\n",
       "      <th>4</th>\n",
       "      <td>0</td>\n",
       "      <td>0</td>\n",
       "      <td>0.0</td>\n",
       "      <td>5.76</td>\n",
       "      <td>0.0</td>\n",
       "      <td>0</td>\n",
       "      <td>0</td>\n",
       "      <td>0</td>\n",
       "      <td>0</td>\n",
       "      <td>0</td>\n",
       "      <td>...</td>\n",
       "      <td>0.0</td>\n",
       "      <td>0</td>\n",
       "      <td>0</td>\n",
       "      <td>0</td>\n",
       "      <td>0</td>\n",
       "      <td>0</td>\n",
       "      <td>0</td>\n",
       "      <td>0.0</td>\n",
       "      <td>0.0000</td>\n",
       "      <td>0</td>\n",
       "    </tr>\n",
       "  </tbody>\n",
       "</table>\n",
       "<p>5 rows × 301 columns</p>\n",
       "</div>"
      ],
      "text/plain": [
       "   var_1  var_2  var_3  var_4  var_5  var_6  var_7  var_8  var_9  var_10  ...  \\\n",
       "0      0      0    0.0   0.00    0.0      0      0      0      0       0  ...   \n",
       "1      0      0    0.0   3.00    0.0      0      0      0      0       0  ...   \n",
       "2      0      0    0.0   5.88    0.0      0      0      0      0       0  ...   \n",
       "3      0      0    0.0  14.10    0.0      0      0      0      0       0  ...   \n",
       "4      0      0    0.0   5.76    0.0      0      0      0      0       0  ...   \n",
       "\n",
       "   var_292  var_293  var_294  var_295  var_296  var_297  var_298  var_299  \\\n",
       "0      0.0        0        0        0        0        0        0      0.0   \n",
       "1      0.0        0        0        0        0        0        0      0.0   \n",
       "2      0.0        0        0        3        0        0        0      0.0   \n",
       "3      0.0        0        0        0        0        0        0      0.0   \n",
       "4      0.0        0        0        0        0        0        0      0.0   \n",
       "\n",
       "      var_300  target  \n",
       "0      0.0000       0  \n",
       "1      0.0000       0  \n",
       "2  67772.7216       0  \n",
       "3      0.0000       0  \n",
       "4      0.0000       0  \n",
       "\n",
       "[5 rows x 301 columns]"
      ]
     },
     "execution_count": 33,
     "metadata": {},
     "output_type": "execute_result"
    }
   ],
   "source": [
    "df.head()"
   ]
  },
  {
   "cell_type": "code",
   "execution_count": 34,
   "metadata": {},
   "outputs": [
    {
     "data": {
      "text/html": [
       "<div>\n",
       "<style scoped>\n",
       "    .dataframe tbody tr th:only-of-type {\n",
       "        vertical-align: middle;\n",
       "    }\n",
       "\n",
       "    .dataframe tbody tr th {\n",
       "        vertical-align: top;\n",
       "    }\n",
       "\n",
       "    .dataframe thead th {\n",
       "        text-align: right;\n",
       "    }\n",
       "</style>\n",
       "<table border=\"1\" class=\"dataframe\">\n",
       "  <thead>\n",
       "    <tr style=\"text-align: right;\">\n",
       "      <th></th>\n",
       "      <th>Desc</th>\n",
       "      <th>Var</th>\n",
       "      <th>Value</th>\n",
       "      <th>Perc</th>\n",
       "    </tr>\n",
       "  </thead>\n",
       "  <tbody>\n",
       "    <tr>\n",
       "      <th>0</th>\n",
       "      <td>Constant</td>\n",
       "      <td>var_80</td>\n",
       "      <td>0.0</td>\n",
       "      <td>100.0</td>\n",
       "    </tr>\n",
       "    <tr>\n",
       "      <th>1</th>\n",
       "      <td>Constant</td>\n",
       "      <td>var_97</td>\n",
       "      <td>0.0</td>\n",
       "      <td>100.0</td>\n",
       "    </tr>\n",
       "    <tr>\n",
       "      <th>2</th>\n",
       "      <td>Constant</td>\n",
       "      <td>var_113</td>\n",
       "      <td>0.0</td>\n",
       "      <td>100.0</td>\n",
       "    </tr>\n",
       "    <tr>\n",
       "      <th>3</th>\n",
       "      <td>Constant</td>\n",
       "      <td>var_112</td>\n",
       "      <td>0.0</td>\n",
       "      <td>100.0</td>\n",
       "    </tr>\n",
       "    <tr>\n",
       "      <th>4</th>\n",
       "      <td>Constant</td>\n",
       "      <td>var_33</td>\n",
       "      <td>0.0</td>\n",
       "      <td>100.0</td>\n",
       "    </tr>\n",
       "    <tr>\n",
       "      <th>5</th>\n",
       "      <td>Constant</td>\n",
       "      <td>var_212</td>\n",
       "      <td>0.0</td>\n",
       "      <td>100.0</td>\n",
       "    </tr>\n",
       "    <tr>\n",
       "      <th>6</th>\n",
       "      <td>Constant</td>\n",
       "      <td>var_99</td>\n",
       "      <td>0.0</td>\n",
       "      <td>100.0</td>\n",
       "    </tr>\n",
       "    <tr>\n",
       "      <th>7</th>\n",
       "      <td>Constant</td>\n",
       "      <td>var_215</td>\n",
       "      <td>0.0</td>\n",
       "      <td>100.0</td>\n",
       "    </tr>\n",
       "    <tr>\n",
       "      <th>8</th>\n",
       "      <td>Constant</td>\n",
       "      <td>var_248</td>\n",
       "      <td>0.0</td>\n",
       "      <td>100.0</td>\n",
       "    </tr>\n",
       "    <tr>\n",
       "      <th>9</th>\n",
       "      <td>Constant</td>\n",
       "      <td>var_44</td>\n",
       "      <td>0.0</td>\n",
       "      <td>100.0</td>\n",
       "    </tr>\n",
       "  </tbody>\n",
       "</table>\n",
       "</div>"
      ],
      "text/plain": [
       "       Desc      Var  Value   Perc\n",
       "0  Constant   var_80    0.0  100.0\n",
       "1  Constant   var_97    0.0  100.0\n",
       "2  Constant  var_113    0.0  100.0\n",
       "3  Constant  var_112    0.0  100.0\n",
       "4  Constant   var_33    0.0  100.0\n",
       "5  Constant  var_212    0.0  100.0\n",
       "6  Constant   var_99    0.0  100.0\n",
       "7  Constant  var_215    0.0  100.0\n",
       "8  Constant  var_248    0.0  100.0\n",
       "9  Constant   var_44    0.0  100.0"
      ]
     },
     "execution_count": 34,
     "metadata": {},
     "output_type": "execute_result"
    }
   ],
   "source": [
    "from fast_ml.utilities import display_all\n",
    "from fast_ml.feature_selection import get_constant_features\n",
    "\n",
    "constant_features = get_constant_features(df)\n",
    "constant_features.head(10)"
   ]
  },
  {
   "cell_type": "code",
   "execution_count": 35,
   "metadata": {},
   "outputs": [
    {
     "name": "stdout",
     "output_type": "stream",
     "text": [
      "['var_80', 'var_97', 'var_113', 'var_112', 'var_33', 'var_212', 'var_99', 'var_215', 'var_248', 'var_44', 'var_122', 'var_92', 'var_89', 'var_87', 'var_81', 'var_167', 'var_61', 'var_225', 'var_227', 'var_120', 'var_23', 'var_127', 'var_196', 'var_297', 'var_195', 'var_294', 'var_135', 'var_201', 'var_182', 'var_180', 'var_178', 'var_158', 'var_171']\n"
     ]
    }
   ],
   "source": [
    "# Get allthe constant features as a list\n",
    "\n",
    "constant_features_list = constant_features.query(\"Desc=='Constant'\")['Var'].to_list()\n",
    "print(constant_features_list)"
   ]
  },
  {
   "cell_type": "code",
   "execution_count": 36,
   "metadata": {},
   "outputs": [
    {
     "name": "stdout",
     "output_type": "stream",
     "text": [
      "Shape of Dataset before dropping the constant features:  (50000, 301)\n",
      "Shape of Dataset after dropping the constant features:  (50000, 268)\n"
     ]
    }
   ],
   "source": [
    "# Drop costant features fro the data frame \n",
    "\n",
    "print('Shape of Dataset before dropping the constant features: ', df.shape)\n",
    "df.drop(columns = constant_features_list, inplace=True)\n",
    "print('Shape of Dataset after dropping the constant features: ', df.shape)"
   ]
  },
  {
   "cell_type": "code",
   "execution_count": 37,
   "metadata": {},
   "outputs": [
    {
     "data": {
      "text/html": [
       "<div>\n",
       "<style scoped>\n",
       "    .dataframe tbody tr th:only-of-type {\n",
       "        vertical-align: middle;\n",
       "    }\n",
       "\n",
       "    .dataframe tbody tr th {\n",
       "        vertical-align: top;\n",
       "    }\n",
       "\n",
       "    .dataframe thead th {\n",
       "        text-align: right;\n",
       "    }\n",
       "</style>\n",
       "<table border=\"1\" class=\"dataframe\">\n",
       "  <thead>\n",
       "    <tr style=\"text-align: right;\">\n",
       "      <th></th>\n",
       "      <th>Desc</th>\n",
       "      <th>Var</th>\n",
       "      <th>Value</th>\n",
       "      <th>Perc</th>\n",
       "    </tr>\n",
       "  </thead>\n",
       "  <tbody>\n",
       "    <tr>\n",
       "      <th>0</th>\n",
       "      <td>Quasi Constant</td>\n",
       "      <td>var_124</td>\n",
       "      <td>0.0</td>\n",
       "      <td>99.998</td>\n",
       "    </tr>\n",
       "    <tr>\n",
       "      <th>1</th>\n",
       "      <td>Quasi Constant</td>\n",
       "      <td>var_104</td>\n",
       "      <td>0.0</td>\n",
       "      <td>99.998</td>\n",
       "    </tr>\n",
       "    <tr>\n",
       "      <th>2</th>\n",
       "      <td>Quasi Constant</td>\n",
       "      <td>var_66</td>\n",
       "      <td>0.0</td>\n",
       "      <td>99.998</td>\n",
       "    </tr>\n",
       "    <tr>\n",
       "      <th>3</th>\n",
       "      <td>Quasi Constant</td>\n",
       "      <td>var_223</td>\n",
       "      <td>0.0</td>\n",
       "      <td>99.998</td>\n",
       "    </tr>\n",
       "    <tr>\n",
       "      <th>4</th>\n",
       "      <td>Quasi Constant</td>\n",
       "      <td>var_67</td>\n",
       "      <td>0.0</td>\n",
       "      <td>99.998</td>\n",
       "    </tr>\n",
       "    <tr>\n",
       "      <th>5</th>\n",
       "      <td>Quasi Constant</td>\n",
       "      <td>var_69</td>\n",
       "      <td>0.0</td>\n",
       "      <td>99.998</td>\n",
       "    </tr>\n",
       "    <tr>\n",
       "      <th>6</th>\n",
       "      <td>Quasi Constant</td>\n",
       "      <td>var_129</td>\n",
       "      <td>0.0</td>\n",
       "      <td>99.998</td>\n",
       "    </tr>\n",
       "    <tr>\n",
       "      <th>7</th>\n",
       "      <td>Quasi Constant</td>\n",
       "      <td>var_73</td>\n",
       "      <td>0.0</td>\n",
       "      <td>99.998</td>\n",
       "    </tr>\n",
       "    <tr>\n",
       "      <th>8</th>\n",
       "      <td>Quasi Constant</td>\n",
       "      <td>var_247</td>\n",
       "      <td>0.0</td>\n",
       "      <td>99.998</td>\n",
       "    </tr>\n",
       "    <tr>\n",
       "      <th>9</th>\n",
       "      <td>Quasi Constant</td>\n",
       "      <td>var_36</td>\n",
       "      <td>0.0</td>\n",
       "      <td>99.998</td>\n",
       "    </tr>\n",
       "  </tbody>\n",
       "</table>\n",
       "</div>"
      ],
      "text/plain": [
       "             Desc      Var  Value    Perc\n",
       "0  Quasi Constant  var_124    0.0  99.998\n",
       "1  Quasi Constant  var_104    0.0  99.998\n",
       "2  Quasi Constant   var_66    0.0  99.998\n",
       "3  Quasi Constant  var_223    0.0  99.998\n",
       "4  Quasi Constant   var_67    0.0  99.998\n",
       "5  Quasi Constant   var_69    0.0  99.998\n",
       "6  Quasi Constant  var_129    0.0  99.998\n",
       "7  Quasi Constant   var_73    0.0  99.998\n",
       "8  Quasi Constant  var_247    0.0  99.998\n",
       "9  Quasi Constant   var_36    0.0  99.998"
      ]
     },
     "execution_count": 37,
     "metadata": {},
     "output_type": "execute_result"
    }
   ],
   "source": [
    "# Quaiconstant features\n",
    "\n",
    "constant_features = get_constant_features(df, threshold=0.99, dropna=False)\n",
    "constant_features.head(10)"
   ]
  },
  {
   "cell_type": "code",
   "execution_count": 39,
   "metadata": {},
   "outputs": [
    {
     "name": "stdout",
     "output_type": "stream",
     "text": [
      "['var_124', 'var_104', 'var_66', 'var_223', 'var_67', 'var_69', 'var_129', 'var_73', 'var_247', 'var_36', 'var_34', 'var_133', 'var_170', 'var_183', 'var_280', 'var_283', 'var_287', 'var_14', 'var_153', 'var_6', 'var_151', 'var_72', 'var_141', 'var_10', 'var_11', 'var_12', 'var_285', 'var_210', 'var_187', 'var_217', 'var_65', 'var_111', 'var_189', 'var_150', 'var_233', 'var_228', 'var_2', 'var_234', 'var_243', 'var_9', 'var_265', 'var_28', 'var_71', 'var_20', 'var_289', 'var_116', 'var_7', 'var_267', 'var_146', 'var_221', 'var_263', 'var_257', 'var_90', 'var_59', 'var_274', 'var_204', 'var_136', 'var_126', 'var_149', 'var_239', 'var_202', 'var_138', 'var_216', 'var_235', 'var_264', 'var_1', 'var_3', 'var_60', 'var_184', 'var_95', 'var_42', 'var_290', 'var_237', 'var_142', 'var_53', 'var_45', 'var_78', 'var_299', 'var_260', 'var_77', 'var_254', 'var_219', 'var_211', 'var_43', 'var_106', 'var_197', 'var_224', 'var_246', 'var_102', 'var_24', 'var_48', 'var_32', 'var_115', 'var_125', 'var_282', 'var_159', 'var_98', 'var_39', 'var_286', 'var_298', 'var_245', 'var_40', 'var_236', 'var_249', 'var_16', 'var_130', 'var_56', 'var_291', 'var_251', 'var_293', 'var_238', 'var_193', 'var_194', 'var_128', 'var_84', 'var_119', 'var_250', 'var_278', 'var_199', 'var_177', 'var_198', 'var_13', 'var_94', 'var_137', 'var_273', 'var_22', 'var_242', 'var_139', 'var_256', 'var_240', 'var_218', 'var_156', 'var_26', 'var_5', 'var_25', 'var_134', 'var_63', 'var_268', 'var_27', 'var_165', 'var_213', 'var_68', 'var_19', 'var_154', 'var_172']\n"
     ]
    }
   ],
   "source": [
    "quasi_constant_features_list = constant_features.query(\"Desc=='Quasi Constant'\")['Var'].to_list()\n",
    "print(quasi_constant_features_list)"
   ]
  },
  {
   "cell_type": "code",
   "execution_count": 40,
   "metadata": {},
   "outputs": [
    {
     "name": "stdout",
     "output_type": "stream",
     "text": [
      "Shape of Dataset before dropping the quasi constant features:  (50000, 268)\n",
      "Shape of Dataset after dropping the quasi constant features:  (50000, 123)\n"
     ]
    }
   ],
   "source": [
    "print('Shape of Dataset before dropping the quasi constant features: ', df.shape)\n",
    "df.drop(columns = quasi_constant_features_list, inplace=True)\n",
    "print('Shape of Dataset after dropping the quasi constant features: ', df.shape)"
   ]
  },
  {
   "cell_type": "markdown",
   "metadata": {},
   "source": [
    "## Duplicate Features "
   ]
  },
  {
   "cell_type": "code",
   "execution_count": 41,
   "metadata": {},
   "outputs": [
    {
     "name": "stdout",
     "output_type": "stream",
     "text": [
      "Full path NM exists  c:\\Users\\Arindam Banerji\\CopyFolder\\IoT_thoughts\\python-projects\\kaggle_experiments\\input_data\\fselect_dataset_1.csv\n"
     ]
    },
    {
     "data": {
      "text/plain": [
       "(50000, 301)"
      ]
     },
     "execution_count": 41,
     "metadata": {},
     "output_type": "execute_result"
    }
   ],
   "source": [
    "base_dir = \"c:\\\\Users\\Arindam Banerji\\CopyFolder\\IoT_thoughts\\python-projects\\kaggle_experiments\"\n",
    "path_add_ons  = \"\\\\input_data\"\n",
    "file_nm = \"fselect_dataset_1.csv\"\n",
    "\n",
    "fnm, exists = get_full_path_nm (base_dir, path_add_ons, file_nm) \n",
    "\n",
    "# load our first dataset\n",
    "\n",
    "# (feel free to write some code to explore the dataset and become\n",
    "# familiar with it ahead of this demo)\n",
    "\n",
    "df = pd.read_csv(fnm)\n",
    "df.shape"
   ]
  },
  {
   "cell_type": "code",
   "execution_count": 42,
   "metadata": {},
   "outputs": [
    {
     "data": {
      "text/html": [
       "<div>\n",
       "<style scoped>\n",
       "    .dataframe tbody tr th:only-of-type {\n",
       "        vertical-align: middle;\n",
       "    }\n",
       "\n",
       "    .dataframe tbody tr th {\n",
       "        vertical-align: top;\n",
       "    }\n",
       "\n",
       "    .dataframe thead th {\n",
       "        text-align: right;\n",
       "    }\n",
       "</style>\n",
       "<table border=\"1\" class=\"dataframe\">\n",
       "  <thead>\n",
       "    <tr style=\"text-align: right;\">\n",
       "      <th></th>\n",
       "      <th>Desc</th>\n",
       "      <th>feature1</th>\n",
       "      <th>feature2</th>\n",
       "    </tr>\n",
       "  </thead>\n",
       "  <tbody>\n",
       "    <tr>\n",
       "      <th>0</th>\n",
       "      <td>Duplicate Values</td>\n",
       "      <td>var_66</td>\n",
       "      <td>var_69</td>\n",
       "    </tr>\n",
       "    <tr>\n",
       "      <th>1</th>\n",
       "      <td>Duplicate Values</td>\n",
       "      <td>var_23</td>\n",
       "      <td>var_135</td>\n",
       "    </tr>\n",
       "    <tr>\n",
       "      <th>2</th>\n",
       "      <td>Duplicate Values</td>\n",
       "      <td>var_23</td>\n",
       "      <td>var_167</td>\n",
       "    </tr>\n",
       "    <tr>\n",
       "      <th>3</th>\n",
       "      <td>Duplicate Values</td>\n",
       "      <td>var_23</td>\n",
       "      <td>var_171</td>\n",
       "    </tr>\n",
       "    <tr>\n",
       "      <th>4</th>\n",
       "      <td>Duplicate Values</td>\n",
       "      <td>var_149</td>\n",
       "      <td>var_239</td>\n",
       "    </tr>\n",
       "    <tr>\n",
       "      <th>5</th>\n",
       "      <td>Duplicate Values</td>\n",
       "      <td>var_143</td>\n",
       "      <td>var_296</td>\n",
       "    </tr>\n",
       "    <tr>\n",
       "      <th>6</th>\n",
       "      <td>Duplicate Values</td>\n",
       "      <td>var_23</td>\n",
       "      <td>var_182</td>\n",
       "    </tr>\n",
       "    <tr>\n",
       "      <th>7</th>\n",
       "      <td>Duplicate Values</td>\n",
       "      <td>var_23</td>\n",
       "      <td>var_195</td>\n",
       "    </tr>\n",
       "    <tr>\n",
       "      <th>8</th>\n",
       "      <td>Duplicate Values</td>\n",
       "      <td>var_23</td>\n",
       "      <td>var_196</td>\n",
       "    </tr>\n",
       "    <tr>\n",
       "      <th>9</th>\n",
       "      <td>Duplicate Values</td>\n",
       "      <td>var_23</td>\n",
       "      <td>var_201</td>\n",
       "    </tr>\n",
       "  </tbody>\n",
       "</table>\n",
       "</div>"
      ],
      "text/plain": [
       "               Desc feature1 feature2\n",
       "0  Duplicate Values   var_66   var_69\n",
       "1  Duplicate Values   var_23  var_135\n",
       "2  Duplicate Values   var_23  var_167\n",
       "3  Duplicate Values   var_23  var_171\n",
       "4  Duplicate Values  var_149  var_239\n",
       "5  Duplicate Values  var_143  var_296\n",
       "6  Duplicate Values   var_23  var_182\n",
       "7  Duplicate Values   var_23  var_195\n",
       "8  Duplicate Values   var_23  var_196\n",
       "9  Duplicate Values   var_23  var_201"
      ]
     },
     "execution_count": 42,
     "metadata": {},
     "output_type": "execute_result"
    }
   ],
   "source": [
    "from fast_ml.utilities import display_all\n",
    "from fast_ml.feature_selection import get_duplicate_features\n",
    "\n",
    "duplicate_features = get_duplicate_features(df)\n",
    "duplicate_features.head(10)"
   ]
  },
  {
   "cell_type": "code",
   "execution_count": 43,
   "metadata": {},
   "outputs": [
    {
     "name": "stdout",
     "output_type": "stream",
     "text": [
      "['var_69', 'var_135', 'var_167', 'var_171', 'var_239', 'var_296', 'var_182', 'var_195', 'var_196', 'var_201', 'var_215', 'var_225', 'var_248', 'var_294', 'var_297', 'var_183', 'var_104', 'var_223', 'var_148', 'var_106', 'var_216', 'var_227', 'var_287', 'var_289', 'var_180', 'var_199', 'var_178', 'var_158', 'var_212', 'var_127', 'var_80', 'var_151', 'var_116', 'var_269', 'var_232', 'var_263', 'var_122', 'var_250', 'var_33', 'var_44', 'var_61', 'var_285', 'var_97', 'var_120', 'var_99', 'var_112', 'var_92', 'var_113', 'var_87', 'var_81']\n"
     ]
    }
   ],
   "source": [
    "duplicate_features_list = duplicate_features.query(\"Desc=='Duplicate Values'\")['feature2'].to_list()\n",
    "print(duplicate_features_list)"
   ]
  },
  {
   "cell_type": "code",
   "execution_count": 44,
   "metadata": {},
   "outputs": [
    {
     "name": "stdout",
     "output_type": "stream",
     "text": [
      "Shape of Dataset before dropping the duplicate values features:  (50000, 301)\n",
      "Shape of Dataset after dropping the duplicate values features:  (50000, 251)\n"
     ]
    }
   ],
   "source": [
    "print('Shape of Dataset before dropping the duplicate values features: ', df.shape)\n",
    "df.drop(columns = duplicate_features_list, inplace=True)\n",
    "print('Shape of Dataset after dropping the duplicate values features: ', df.shape)"
   ]
  },
  {
   "cell_type": "code",
   "execution_count": 45,
   "metadata": {},
   "outputs": [
    {
     "data": {
      "text/html": [
       "<div>\n",
       "<style scoped>\n",
       "    .dataframe tbody tr th:only-of-type {\n",
       "        vertical-align: middle;\n",
       "    }\n",
       "\n",
       "    .dataframe tbody tr th {\n",
       "        vertical-align: top;\n",
       "    }\n",
       "\n",
       "    .dataframe thead th {\n",
       "        text-align: right;\n",
       "    }\n",
       "</style>\n",
       "<table border=\"1\" class=\"dataframe\">\n",
       "  <thead>\n",
       "    <tr style=\"text-align: right;\">\n",
       "      <th></th>\n",
       "      <th>Desc</th>\n",
       "      <th>feature1</th>\n",
       "      <th>feature2</th>\n",
       "    </tr>\n",
       "  </thead>\n",
       "  <tbody>\n",
       "    <tr>\n",
       "      <th>0</th>\n",
       "      <td>Duplicate Index</td>\n",
       "      <td>var_2</td>\n",
       "      <td>var_234</td>\n",
       "    </tr>\n",
       "    <tr>\n",
       "      <th>1</th>\n",
       "      <td>Duplicate Index</td>\n",
       "      <td>var_66</td>\n",
       "      <td>var_67</td>\n",
       "    </tr>\n",
       "    <tr>\n",
       "      <th>2</th>\n",
       "      <td>Duplicate Index</td>\n",
       "      <td>var_236</td>\n",
       "      <td>var_249</td>\n",
       "    </tr>\n",
       "    <tr>\n",
       "      <th>3</th>\n",
       "      <td>Duplicate Index</td>\n",
       "      <td>var_194</td>\n",
       "      <td>var_238</td>\n",
       "    </tr>\n",
       "    <tr>\n",
       "      <th>4</th>\n",
       "      <td>Duplicate Index</td>\n",
       "      <td>var_187</td>\n",
       "      <td>var_217</td>\n",
       "    </tr>\n",
       "    <tr>\n",
       "      <th>5</th>\n",
       "      <td>Duplicate Index</td>\n",
       "      <td>var_162</td>\n",
       "      <td>var_258</td>\n",
       "    </tr>\n",
       "    <tr>\n",
       "      <th>6</th>\n",
       "      <td>Duplicate Index</td>\n",
       "      <td>var_133</td>\n",
       "      <td>var_283</td>\n",
       "    </tr>\n",
       "    <tr>\n",
       "      <th>7</th>\n",
       "      <td>Duplicate Index</td>\n",
       "      <td>var_133</td>\n",
       "      <td>var_280</td>\n",
       "    </tr>\n",
       "    <tr>\n",
       "      <th>8</th>\n",
       "      <td>Duplicate Index</td>\n",
       "      <td>var_124</td>\n",
       "      <td>var_247</td>\n",
       "    </tr>\n",
       "    <tr>\n",
       "      <th>9</th>\n",
       "      <td>Duplicate Index</td>\n",
       "      <td>var_111</td>\n",
       "      <td>var_189</td>\n",
       "    </tr>\n",
       "  </tbody>\n",
       "</table>\n",
       "</div>"
      ],
      "text/plain": [
       "              Desc feature1 feature2\n",
       "0  Duplicate Index    var_2  var_234\n",
       "1  Duplicate Index   var_66   var_67\n",
       "2  Duplicate Index  var_236  var_249\n",
       "3  Duplicate Index  var_194  var_238\n",
       "4  Duplicate Index  var_187  var_217\n",
       "5  Duplicate Index  var_162  var_258\n",
       "6  Duplicate Index  var_133  var_283\n",
       "7  Duplicate Index  var_133  var_280\n",
       "8  Duplicate Index  var_124  var_247\n",
       "9  Duplicate Index  var_111  var_189"
      ]
     },
     "execution_count": 45,
     "metadata": {},
     "output_type": "execute_result"
    }
   ],
   "source": [
    "duplicate_features = get_duplicate_features(df)\n",
    "duplicate_features.head(10)"
   ]
  },
  {
   "cell_type": "code",
   "execution_count": 46,
   "metadata": {},
   "outputs": [
    {
     "name": "stdout",
     "output_type": "stream",
     "text": [
      "['var_234', 'var_67', 'var_249', 'var_238', 'var_217', 'var_258', 'var_283', 'var_280', 'var_247', 'var_189', 'var_177', 'var_299', 'var_153', 'var_129', 'var_129', 'var_235', 'var_141', 'var_286', 'var_283', 'var_280', 'var_133', 'var_73', 'var_89', 'var_130', 'var_129', 'var_67', 'var_66', 'var_210', 'var_65', 'var_71', 'var_283']\n"
     ]
    }
   ],
   "source": [
    "duplicate_index_features_list = duplicate_features.query(\"Desc=='Duplicate Index'\")['feature2'].to_list()\n",
    "print(duplicate_index_features_list)"
   ]
  },
  {
   "cell_type": "code",
   "execution_count": 47,
   "metadata": {},
   "outputs": [
    {
     "name": "stdout",
     "output_type": "stream",
     "text": [
      "Shape of Dataset before dropping the duplicate index features:  (50000, 251)\n",
      "Shape of Dataset after dropping the duplicate index features:  (50000, 226)\n"
     ]
    }
   ],
   "source": [
    "print('Shape of Dataset before dropping the duplicate index features: ', df.shape)\n",
    "df.drop(columns = duplicate_index_features_list, inplace=True)\n",
    "print('Shape of Dataset after dropping the duplicate index features: ', df.shape)"
   ]
  },
  {
   "cell_type": "markdown",
   "metadata": {},
   "source": [
    "## Quasi-constant features\n",
    "\n",
    "Quasi-constant features are those that show the same value for the great majority of the observations of the dataset. In general, these features provide little, if any, information that allows a machine learning model to discriminate or predict a target. But there can be exceptions. So you should be careful when removing these type of features.\n",
    "\n",
    "Identifying and removing quasi-constant features, is an easy first step towards feature selection and more interpretable machine learning models.\n",
    "\n",
    "Here, I will demonstrate how to identify quasi-constant features using a dataset that I created for this course. \n",
    "\n",
    "To identify quasi-constant features, we can use the VarianceThreshold from Scikit-learn, or we can code it ourselves. If we use the VarianceThreshold, all our variables need to be numerical. If we code it manually however, we can apply the code to both numerical and categorical variables.\n",
    "\n",
    "I will show 2 snippets of code, 1 where I use the VarianceThreshold and 1 manually coded alternative."
   ]
  },
  {
   "cell_type": "code",
   "execution_count": 48,
   "metadata": {},
   "outputs": [],
   "source": [
    "from sklearn.model_selection import train_test_split\n",
    "\n",
    "from sklearn.feature_selection import VarianceThreshold"
   ]
  },
  {
   "cell_type": "code",
   "execution_count": 49,
   "metadata": {},
   "outputs": [
    {
     "name": "stdout",
     "output_type": "stream",
     "text": [
      "Full path NM exists  c:\\Users\\Arindam Banerji\\CopyFolder\\IoT_thoughts\\python-projects\\kaggle_experiments\\input_data\\fselect_dataset_1.csv\n"
     ]
    },
    {
     "data": {
      "text/plain": [
       "(50000, 301)"
      ]
     },
     "execution_count": 49,
     "metadata": {},
     "output_type": "execute_result"
    }
   ],
   "source": [
    "base_dir = \"c:\\\\Users\\Arindam Banerji\\CopyFolder\\IoT_thoughts\\python-projects\\kaggle_experiments\"\n",
    "path_add_ons  = \"\\\\input_data\"\n",
    "file_nm = \"fselect_dataset_1.csv\"\n",
    "\n",
    "fnm, exists = get_full_path_nm (base_dir, path_add_ons, file_nm) \n",
    "\n",
    "# load our first dataset\n",
    "\n",
    "# (feel free to write some code to explore the dataset and become\n",
    "# familiar with it ahead of this demo)\n",
    "\n",
    "data = pd.read_csv(fnm)\n",
    "data.shape"
   ]
  },
  {
   "cell_type": "markdown",
   "metadata": {},
   "source": [
    "**Important**\n",
    "\n",
    "In all feature selection procedures, it is good practice to select the features by examining only the training set. And this is to avoid overfit."
   ]
  },
  {
   "cell_type": "code",
   "execution_count": 50,
   "metadata": {},
   "outputs": [
    {
     "data": {
      "text/plain": [
       "((35000, 300), (15000, 300))"
      ]
     },
     "execution_count": 50,
     "metadata": {},
     "output_type": "execute_result"
    }
   ],
   "source": [
    "# separate dataset into train and test\n",
    "\n",
    "X_train, X_test, y_train, y_test = train_test_split(\n",
    "    data.drop(labels=['target'], axis=1), # drop the target\n",
    "    data['target'], # just the target\n",
    "    test_size=0.3,\n",
    "    random_state=0)\n",
    "\n",
    "X_train.shape, X_test.shape"
   ]
  },
  {
   "cell_type": "markdown",
   "metadata": {},
   "source": [
    "## Remove constant features\n",
    "\n",
    "First, I will remove constant features like I did in the previous lecture. This will allow a better visualisation of the quasi-constant ones."
   ]
  },
  {
   "cell_type": "code",
   "execution_count": 51,
   "metadata": {},
   "outputs": [
    {
     "data": {
      "text/plain": [
       "((35000, 266), (15000, 266))"
      ]
     },
     "execution_count": 51,
     "metadata": {},
     "output_type": "execute_result"
    }
   ],
   "source": [
    "# using the code from the previous lecture\n",
    "# I remove 34 constant features\n",
    "\n",
    "constant_features = [\n",
    "    feat for feat in X_train.columns if X_train[feat].std() == 0\n",
    "]\n",
    "\n",
    "X_train.drop(labels=constant_features, axis=1, inplace=True)\n",
    "X_test.drop(labels=constant_features, axis=1, inplace=True)\n",
    "\n",
    "X_train.shape, X_test.shape"
   ]
  },
  {
   "cell_type": "markdown",
   "metadata": {},
   "source": [
    "## Remove quasi-constant features\n",
    "\n",
    "### Using the VarianceThreshold from sklearn\n",
    "\n",
    "The VarianceThreshold from sklearn provides a simple baseline approach to feature selection. It removes all features which variance doesn’t meet a certain threshold. By default, it removes all zero-variance features, as we did in the previous notebook.\n",
    "\n",
    "Here, we will change the default threshold to remove quasi-constant features, or, I should better say, features with low-variance:\n",
    "\n",
    "Check the Scikit-learn docs for more details:\n",
    "https://scikit-learn.org/stable/modules/generated/sklearn.feature_selection.VarianceThreshold.html"
   ]
  },
  {
   "cell_type": "code",
   "execution_count": 52,
   "metadata": {},
   "outputs": [
    {
     "data": {
      "text/plain": [
       "VarianceThreshold(threshold=0.01)"
      ]
     },
     "execution_count": 52,
     "metadata": {},
     "output_type": "execute_result"
    }
   ],
   "source": [
    "sel = VarianceThreshold(threshold=0.01)  \n",
    "\n",
    "sel.fit(X_train)  # fit finds the features with low variance"
   ]
  },
  {
   "cell_type": "code",
   "execution_count": 53,
   "metadata": {},
   "outputs": [
    {
     "data": {
      "text/plain": [
       "215"
      ]
     },
     "execution_count": 53,
     "metadata": {},
     "output_type": "execute_result"
    }
   ],
   "source": [
    "# get_support is a boolean vector that indicates which features \n",
    "# are retained, that is, which features have a higher variance than\n",
    "# the threshold we indicated.\n",
    "\n",
    "# If we sum over get_support, we get the number\n",
    "# of features that are not quasi-constant\n",
    "\n",
    "sum(sel.get_support())"
   ]
  },
  {
   "cell_type": "code",
   "execution_count": 54,
   "metadata": {},
   "outputs": [
    {
     "data": {
      "text/plain": [
       "51"
      ]
     },
     "execution_count": 54,
     "metadata": {},
     "output_type": "execute_result"
    }
   ],
   "source": [
    "# let's print the number of quasi-constant features\n",
    "\n",
    "quasi_constant = X_train.columns[~sel.get_support()]\n",
    "\n",
    "len(quasi_constant)"
   ]
  },
  {
   "cell_type": "markdown",
   "metadata": {},
   "source": [
    "We can see that 51 columns / variables are almost constant. This means that 51 variables show predominantly one value for the majority of observations of the training set. Let's explore a few if these variables below."
   ]
  },
  {
   "cell_type": "code",
   "execution_count": 55,
   "metadata": {},
   "outputs": [
    {
     "data": {
      "text/plain": [
       "Index(['var_1', 'var_2', 'var_7', 'var_9', 'var_10', 'var_19', 'var_28',\n",
       "       'var_36', 'var_43', 'var_45', 'var_53', 'var_56', 'var_59', 'var_66',\n",
       "       'var_67', 'var_69', 'var_71', 'var_104', 'var_106', 'var_116',\n",
       "       'var_133', 'var_137', 'var_141', 'var_146', 'var_177', 'var_187',\n",
       "       'var_189', 'var_194', 'var_197', 'var_198', 'var_202', 'var_218',\n",
       "       'var_219', 'var_223', 'var_233', 'var_234', 'var_235', 'var_245',\n",
       "       'var_247', 'var_249', 'var_250', 'var_251', 'var_256', 'var_260',\n",
       "       'var_267', 'var_274', 'var_282', 'var_285', 'var_287', 'var_289',\n",
       "       'var_298'],\n",
       "      dtype='object')"
      ]
     },
     "execution_count": 55,
     "metadata": {},
     "output_type": "execute_result"
    }
   ],
   "source": [
    "# let's print the variable names\n",
    "quasi_constant"
   ]
  },
  {
   "cell_type": "code",
   "execution_count": 56,
   "metadata": {},
   "outputs": [
    {
     "name": "stderr",
     "output_type": "stream",
     "text": [
      "C:\\Users\\Arindam Banerji\\AppData\\Local\\Temp\\ipykernel_4560\\1062447414.py:4: DeprecationWarning: `np.float` is a deprecated alias for the builtin `float`. To silence this warning, use `float` by itself. Doing this will not modify any behavior and is safe. If you specifically wanted the numpy scalar type, use `np.float64` here.\n",
      "Deprecated in NumPy 1.20; for more details and guidance: https://numpy.org/devdocs/release/1.20.0-notes.html#deprecations\n",
      "  X_train['var_1'].value_counts() / np.float(len(X_train))\n"
     ]
    },
    {
     "data": {
      "text/plain": [
       "0    0.999629\n",
       "3    0.000200\n",
       "6    0.000143\n",
       "9    0.000029\n",
       "Name: var_1, dtype: float64"
      ]
     },
     "execution_count": 56,
     "metadata": {},
     "output_type": "execute_result"
    }
   ],
   "source": [
    "# percentage of observations showing each of the different values\n",
    "# of the variable\n",
    "\n",
    "X_train['var_1'].value_counts() / np.float(len(X_train))"
   ]
  },
  {
   "cell_type": "markdown",
   "metadata": {},
   "source": [
    "We can see that > 99% of the observations show one value, 0. Therefore, this features is fairly constant."
   ]
  },
  {
   "cell_type": "code",
   "execution_count": 57,
   "metadata": {},
   "outputs": [
    {
     "name": "stderr",
     "output_type": "stream",
     "text": [
      "C:\\Users\\Arindam Banerji\\AppData\\Local\\Temp\\ipykernel_4560\\3649278983.py:3: DeprecationWarning: `np.float` is a deprecated alias for the builtin `float`. To silence this warning, use `float` by itself. Doing this will not modify any behavior and is safe. If you specifically wanted the numpy scalar type, use `np.float64` here.\n",
      "Deprecated in NumPy 1.20; for more details and guidance: https://numpy.org/devdocs/release/1.20.0-notes.html#deprecations\n",
      "  X_train['var_2'].value_counts() / np.float(len(X_train))\n"
     ]
    },
    {
     "data": {
      "text/plain": [
       "0    0.999971\n",
       "1    0.000029\n",
       "Name: var_2, dtype: float64"
      ]
     },
     "execution_count": 57,
     "metadata": {},
     "output_type": "execute_result"
    }
   ],
   "source": [
    "# let's explore another one\n",
    "\n",
    "X_train['var_2'].value_counts() / np.float(len(X_train))"
   ]
  },
  {
   "cell_type": "code",
   "execution_count": 58,
   "metadata": {},
   "outputs": [],
   "source": [
    "# capture feature names\n",
    "\n",
    "feat_names = X_train.columns[sel.get_support()]"
   ]
  },
  {
   "cell_type": "code",
   "execution_count": 59,
   "metadata": {},
   "outputs": [
    {
     "data": {
      "text/plain": [
       "((35000, 215), (15000, 215))"
      ]
     },
     "execution_count": 59,
     "metadata": {},
     "output_type": "execute_result"
    }
   ],
   "source": [
    "# remove the quasi-constant features\n",
    "\n",
    "X_train = sel.transform(X_train)\n",
    "X_test = sel.transform(X_test)\n",
    "\n",
    "X_train.shape, X_test.shape"
   ]
  },
  {
   "cell_type": "code",
   "execution_count": 60,
   "metadata": {},
   "outputs": [
    {
     "data": {
      "text/html": [
       "<div>\n",
       "<style scoped>\n",
       "    .dataframe tbody tr th:only-of-type {\n",
       "        vertical-align: middle;\n",
       "    }\n",
       "\n",
       "    .dataframe tbody tr th {\n",
       "        vertical-align: top;\n",
       "    }\n",
       "\n",
       "    .dataframe thead th {\n",
       "        text-align: right;\n",
       "    }\n",
       "</style>\n",
       "<table border=\"1\" class=\"dataframe\">\n",
       "  <thead>\n",
       "    <tr style=\"text-align: right;\">\n",
       "      <th></th>\n",
       "      <th>var_3</th>\n",
       "      <th>var_4</th>\n",
       "      <th>var_5</th>\n",
       "      <th>var_6</th>\n",
       "      <th>var_8</th>\n",
       "      <th>var_11</th>\n",
       "      <th>var_12</th>\n",
       "      <th>var_13</th>\n",
       "      <th>var_14</th>\n",
       "      <th>var_15</th>\n",
       "      <th>...</th>\n",
       "      <th>var_286</th>\n",
       "      <th>var_288</th>\n",
       "      <th>var_290</th>\n",
       "      <th>var_291</th>\n",
       "      <th>var_292</th>\n",
       "      <th>var_293</th>\n",
       "      <th>var_295</th>\n",
       "      <th>var_296</th>\n",
       "      <th>var_299</th>\n",
       "      <th>var_300</th>\n",
       "    </tr>\n",
       "  </thead>\n",
       "  <tbody>\n",
       "    <tr>\n",
       "      <th>0</th>\n",
       "      <td>0.0</td>\n",
       "      <td>2.79</td>\n",
       "      <td>0.0</td>\n",
       "      <td>0.0</td>\n",
       "      <td>0.0</td>\n",
       "      <td>0.0</td>\n",
       "      <td>0.0</td>\n",
       "      <td>0.0</td>\n",
       "      <td>0.0</td>\n",
       "      <td>3.0</td>\n",
       "      <td>...</td>\n",
       "      <td>0.0</td>\n",
       "      <td>0.0</td>\n",
       "      <td>0.0</td>\n",
       "      <td>0.0</td>\n",
       "      <td>0.0</td>\n",
       "      <td>0.0</td>\n",
       "      <td>0.0</td>\n",
       "      <td>0.0</td>\n",
       "      <td>0.0</td>\n",
       "      <td>0.0</td>\n",
       "    </tr>\n",
       "    <tr>\n",
       "      <th>1</th>\n",
       "      <td>0.0</td>\n",
       "      <td>0.00</td>\n",
       "      <td>0.0</td>\n",
       "      <td>0.0</td>\n",
       "      <td>0.0</td>\n",
       "      <td>0.0</td>\n",
       "      <td>0.0</td>\n",
       "      <td>0.0</td>\n",
       "      <td>0.0</td>\n",
       "      <td>0.0</td>\n",
       "      <td>...</td>\n",
       "      <td>0.0</td>\n",
       "      <td>0.0</td>\n",
       "      <td>0.0</td>\n",
       "      <td>0.0</td>\n",
       "      <td>0.0</td>\n",
       "      <td>0.0</td>\n",
       "      <td>0.0</td>\n",
       "      <td>0.0</td>\n",
       "      <td>0.0</td>\n",
       "      <td>0.0</td>\n",
       "    </tr>\n",
       "    <tr>\n",
       "      <th>2</th>\n",
       "      <td>0.0</td>\n",
       "      <td>2.94</td>\n",
       "      <td>0.0</td>\n",
       "      <td>0.0</td>\n",
       "      <td>0.0</td>\n",
       "      <td>0.0</td>\n",
       "      <td>0.0</td>\n",
       "      <td>0.0</td>\n",
       "      <td>0.0</td>\n",
       "      <td>3.0</td>\n",
       "      <td>...</td>\n",
       "      <td>0.0</td>\n",
       "      <td>0.0</td>\n",
       "      <td>0.0</td>\n",
       "      <td>0.0</td>\n",
       "      <td>0.0</td>\n",
       "      <td>3.0</td>\n",
       "      <td>0.0</td>\n",
       "      <td>0.0</td>\n",
       "      <td>0.0</td>\n",
       "      <td>0.0</td>\n",
       "    </tr>\n",
       "    <tr>\n",
       "      <th>3</th>\n",
       "      <td>0.0</td>\n",
       "      <td>2.76</td>\n",
       "      <td>0.0</td>\n",
       "      <td>0.0</td>\n",
       "      <td>0.0</td>\n",
       "      <td>0.0</td>\n",
       "      <td>0.0</td>\n",
       "      <td>0.0</td>\n",
       "      <td>0.0</td>\n",
       "      <td>3.0</td>\n",
       "      <td>...</td>\n",
       "      <td>0.0</td>\n",
       "      <td>0.0</td>\n",
       "      <td>0.0</td>\n",
       "      <td>0.0</td>\n",
       "      <td>0.0</td>\n",
       "      <td>0.0</td>\n",
       "      <td>0.0</td>\n",
       "      <td>0.0</td>\n",
       "      <td>0.0</td>\n",
       "      <td>0.0</td>\n",
       "    </tr>\n",
       "    <tr>\n",
       "      <th>4</th>\n",
       "      <td>0.0</td>\n",
       "      <td>2.94</td>\n",
       "      <td>0.0</td>\n",
       "      <td>0.0</td>\n",
       "      <td>0.0</td>\n",
       "      <td>0.0</td>\n",
       "      <td>0.0</td>\n",
       "      <td>0.0</td>\n",
       "      <td>0.0</td>\n",
       "      <td>3.0</td>\n",
       "      <td>...</td>\n",
       "      <td>0.0</td>\n",
       "      <td>0.0</td>\n",
       "      <td>0.0</td>\n",
       "      <td>0.0</td>\n",
       "      <td>0.0</td>\n",
       "      <td>0.0</td>\n",
       "      <td>0.0</td>\n",
       "      <td>0.0</td>\n",
       "      <td>0.0</td>\n",
       "      <td>0.0</td>\n",
       "    </tr>\n",
       "  </tbody>\n",
       "</table>\n",
       "<p>5 rows × 215 columns</p>\n",
       "</div>"
      ],
      "text/plain": [
       "   var_3  var_4  var_5  var_6  var_8  var_11  var_12  var_13  var_14  var_15  \\\n",
       "0    0.0   2.79    0.0    0.0    0.0     0.0     0.0     0.0     0.0     3.0   \n",
       "1    0.0   0.00    0.0    0.0    0.0     0.0     0.0     0.0     0.0     0.0   \n",
       "2    0.0   2.94    0.0    0.0    0.0     0.0     0.0     0.0     0.0     3.0   \n",
       "3    0.0   2.76    0.0    0.0    0.0     0.0     0.0     0.0     0.0     3.0   \n",
       "4    0.0   2.94    0.0    0.0    0.0     0.0     0.0     0.0     0.0     3.0   \n",
       "\n",
       "   ...  var_286  var_288  var_290  var_291  var_292  var_293  var_295  \\\n",
       "0  ...      0.0      0.0      0.0      0.0      0.0      0.0      0.0   \n",
       "1  ...      0.0      0.0      0.0      0.0      0.0      0.0      0.0   \n",
       "2  ...      0.0      0.0      0.0      0.0      0.0      3.0      0.0   \n",
       "3  ...      0.0      0.0      0.0      0.0      0.0      0.0      0.0   \n",
       "4  ...      0.0      0.0      0.0      0.0      0.0      0.0      0.0   \n",
       "\n",
       "   var_296  var_299  var_300  \n",
       "0      0.0      0.0      0.0  \n",
       "1      0.0      0.0      0.0  \n",
       "2      0.0      0.0      0.0  \n",
       "3      0.0      0.0      0.0  \n",
       "4      0.0      0.0      0.0  \n",
       "\n",
       "[5 rows x 215 columns]"
      ]
     },
     "execution_count": 60,
     "metadata": {},
     "output_type": "execute_result"
    }
   ],
   "source": [
    "# trasnform the array into a dataframe\n",
    "\n",
    "X_train = pd.DataFrame(X_train, columns=feat_names)\n",
    "X_test = pd.DataFrame(X_test, columns=feat_names)\n",
    "\n",
    "X_test.head()"
   ]
  },
  {
   "cell_type": "code",
   "execution_count": 61,
   "metadata": {},
   "outputs": [
    {
     "data": {
      "text/plain": [
       "((35000, 266), (15000, 266))"
      ]
     },
     "execution_count": 61,
     "metadata": {},
     "output_type": "execute_result"
    }
   ],
   "source": [
    "# separate train and test\n",
    "X_train, X_test, y_train, y_test = train_test_split(\n",
    "    data.drop(labels=['target'], axis=1),\n",
    "    data['target'],\n",
    "    test_size=0.3,\n",
    "    random_state=0)\n",
    "\n",
    "# remove constant features\n",
    "# using the code from the previous lecture\n",
    "\n",
    "constant_features = [\n",
    "    feat for feat in X_train.columns if X_train[feat].std() == 0\n",
    "]\n",
    "\n",
    "X_train.drop(labels=constant_features, axis=1, inplace=True)\n",
    "X_test.drop(labels=constant_features, axis=1, inplace=True)\n",
    "\n",
    "X_train.shape, X_test.shape"
   ]
  },
  {
   "cell_type": "code",
   "execution_count": 62,
   "metadata": {},
   "outputs": [
    {
     "data": {
      "text/plain": [
       "108"
      ]
     },
     "execution_count": 62,
     "metadata": {},
     "output_type": "execute_result"
    }
   ],
   "source": [
    "# create an empty list\n",
    "quasi_constant_feat = []\n",
    "\n",
    "# iterate over every feature\n",
    "for feature in X_train.columns:\n",
    "\n",
    "    # find the predominant value, that is the value that is shared\n",
    "    # by most observations\n",
    "    predominant = X_train[feature].value_counts(\n",
    "        normalize=True).sort_values(ascending=False).values[0]\n",
    "\n",
    "    # evaluate the predominant feature: do more than 99% of the observations\n",
    "    # show 1 value?\n",
    "    if predominant > 0.998:\n",
    "\n",
    "        # if yes, add the variable to the list\n",
    "        quasi_constant_feat.append(feature)\n",
    "\n",
    "len(quasi_constant_feat)"
   ]
  },
  {
   "cell_type": "code",
   "execution_count": 63,
   "metadata": {},
   "outputs": [
    {
     "data": {
      "text/plain": [
       "['var_1',\n",
       " 'var_2',\n",
       " 'var_3',\n",
       " 'var_6',\n",
       " 'var_7',\n",
       " 'var_9',\n",
       " 'var_10',\n",
       " 'var_11',\n",
       " 'var_12',\n",
       " 'var_14',\n",
       " 'var_16',\n",
       " 'var_20',\n",
       " 'var_24',\n",
       " 'var_28',\n",
       " 'var_32',\n",
       " 'var_34',\n",
       " 'var_36',\n",
       " 'var_39',\n",
       " 'var_40',\n",
       " 'var_42',\n",
       " 'var_43',\n",
       " 'var_45',\n",
       " 'var_48',\n",
       " 'var_53',\n",
       " 'var_56',\n",
       " 'var_59',\n",
       " 'var_60',\n",
       " 'var_65',\n",
       " 'var_66',\n",
       " 'var_67',\n",
       " 'var_69',\n",
       " 'var_71',\n",
       " 'var_72',\n",
       " 'var_73',\n",
       " 'var_77',\n",
       " 'var_78',\n",
       " 'var_90',\n",
       " 'var_95',\n",
       " 'var_98',\n",
       " 'var_102',\n",
       " 'var_104',\n",
       " 'var_106',\n",
       " 'var_111',\n",
       " 'var_115',\n",
       " 'var_116',\n",
       " 'var_124',\n",
       " 'var_125',\n",
       " 'var_126',\n",
       " 'var_129',\n",
       " 'var_130',\n",
       " 'var_133',\n",
       " 'var_136',\n",
       " 'var_138',\n",
       " 'var_141',\n",
       " 'var_142',\n",
       " 'var_146',\n",
       " 'var_149',\n",
       " 'var_150',\n",
       " 'var_151',\n",
       " 'var_153',\n",
       " 'var_159',\n",
       " 'var_183',\n",
       " 'var_184',\n",
       " 'var_187',\n",
       " 'var_189',\n",
       " 'var_197',\n",
       " 'var_202',\n",
       " 'var_204',\n",
       " 'var_210',\n",
       " 'var_211',\n",
       " 'var_216',\n",
       " 'var_217',\n",
       " 'var_219',\n",
       " 'var_221',\n",
       " 'var_223',\n",
       " 'var_224',\n",
       " 'var_228',\n",
       " 'var_233',\n",
       " 'var_234',\n",
       " 'var_235',\n",
       " 'var_236',\n",
       " 'var_237',\n",
       " 'var_239',\n",
       " 'var_243',\n",
       " 'var_245',\n",
       " 'var_246',\n",
       " 'var_247',\n",
       " 'var_249',\n",
       " 'var_251',\n",
       " 'var_254',\n",
       " 'var_257',\n",
       " 'var_260',\n",
       " 'var_263',\n",
       " 'var_264',\n",
       " 'var_265',\n",
       " 'var_267',\n",
       " 'var_274',\n",
       " 'var_280',\n",
       " 'var_282',\n",
       " 'var_283',\n",
       " 'var_285',\n",
       " 'var_286',\n",
       " 'var_287',\n",
       " 'var_289',\n",
       " 'var_290',\n",
       " 'var_291',\n",
       " 'var_298',\n",
       " 'var_299']"
      ]
     },
     "execution_count": 63,
     "metadata": {},
     "output_type": "execute_result"
    }
   ],
   "source": [
    "# print the feature names\n",
    "\n",
    "quasi_constant_feat"
   ]
  },
  {
   "cell_type": "code",
   "execution_count": 64,
   "metadata": {},
   "outputs": [
    {
     "data": {
      "text/plain": [
       "'var_3'"
      ]
     },
     "execution_count": 64,
     "metadata": {},
     "output_type": "execute_result"
    }
   ],
   "source": [
    "# select one feature from the list\n",
    "\n",
    "quasi_constant_feat[2]"
   ]
  },
  {
   "cell_type": "code",
   "execution_count": 65,
   "metadata": {},
   "outputs": [
    {
     "data": {
      "text/plain": [
       "0.0000         0.999629\n",
       "207901.3365    0.000029\n",
       "15028.0560     0.000029\n",
       "25905.4866     0.000029\n",
       "35685.9459     0.000029\n",
       "3583.3941      0.000029\n",
       "52105.7901     0.000029\n",
       "86718.0000     0.000029\n",
       "861.0900       0.000029\n",
       "2641.0164      0.000029\n",
       "5209.9500      0.000029\n",
       "10281.6000     0.000029\n",
       "12542.3100     0.000029\n",
       "27.3000        0.000029\n",
       "Name: var_3, dtype: float64"
      ]
     },
     "execution_count": 65,
     "metadata": {},
     "output_type": "execute_result"
    }
   ],
   "source": [
    "X_train['var_3'].value_counts(normalize=True)"
   ]
  },
  {
   "cell_type": "markdown",
   "metadata": {},
   "source": [
    "The feature shows 0 for more than 99.9% of the observations. But, it also shows a few different values for a very tiny proportion of the observations. This fact, will increase the feature variance, that is why, this feature is not captured by the VarianceThreshold in our previous cell. Yet, we can see that it is quasi-constant.\n",
    "\n",
    "Keep in mind that the thresholds are arbitrary and decided by the user."
   ]
  },
  {
   "cell_type": "code",
   "execution_count": 66,
   "metadata": {},
   "outputs": [
    {
     "data": {
      "text/plain": [
       "((35000, 158), (15000, 158))"
      ]
     },
     "execution_count": 66,
     "metadata": {},
     "output_type": "execute_result"
    }
   ],
   "source": [
    "# finally, let's drop the quasi-constant features:\n",
    "\n",
    "X_train.drop(labels=quasi_constant_feat, axis=1, inplace=True)\n",
    "X_test.drop(labels=quasi_constant_feat, axis=1, inplace=True)\n",
    "\n",
    "X_train.shape, X_test.shape"
   ]
  },
  {
   "cell_type": "markdown",
   "metadata": {},
   "source": [
    "## Duplicated features\n",
    "\n",
    "Often datasets contain duplicated features, that is, features that despite having different names, are identical.\n",
    "\n",
    "In addition, we may often introduce duplicated features when performing **one hot encoding** of categorical variables, particularly if our datasets have many and /or highly cardinal categorical variables.\n",
    "\n",
    "Identifying and removing duplicated, and therefore redundant features, is an easy first step towards feature selection and more interpretable machine learning models.\n",
    "\n",
    "Here I will demonstrate how to identify duplicated features using a dataset that I created for this course. \n",
    "\n",
    "There is no function in Pandas to find duplicated columns. So we need to write a bit code to do so.\n",
    "\n",
    "**Note**\n",
    "Finding duplicated features can be a computationally costly operation in Python, therefore depending on the size of your dataset, you might not always be able to do it.\n",
    "\n",
    "This method that I describe here to find duplicated features works for both **numerical and categorical** variables."
   ]
  },
  {
   "cell_type": "code",
   "execution_count": 67,
   "metadata": {},
   "outputs": [
    {
     "name": "stdout",
     "output_type": "stream",
     "text": [
      "Full path NM exists  c:\\Users\\Arindam Banerji\\CopyFolder\\IoT_thoughts\\python-projects\\kaggle_experiments\\input_data\\fselect_dataset_1.csv\n"
     ]
    },
    {
     "data": {
      "text/plain": [
       "(50000, 301)"
      ]
     },
     "execution_count": 67,
     "metadata": {},
     "output_type": "execute_result"
    }
   ],
   "source": [
    "base_dir = \"c:\\\\Users\\Arindam Banerji\\CopyFolder\\IoT_thoughts\\python-projects\\kaggle_experiments\"\n",
    "path_add_ons  = \"\\\\input_data\"\n",
    "file_nm = \"fselect_dataset_1.csv\"\n",
    "\n",
    "fnm, exists = get_full_path_nm (base_dir, path_add_ons, file_nm) \n",
    "\n",
    "# load our first dataset\n",
    "\n",
    "# (feel free to write some code to explore the dataset and become\n",
    "# familiar with it ahead of this demo)\n",
    "\n",
    "data = pd.read_csv(fnm)\n",
    "data.shape"
   ]
  },
  {
   "cell_type": "code",
   "execution_count": 68,
   "metadata": {},
   "outputs": [
    {
     "data": {
      "text/plain": [
       "[]"
      ]
     },
     "execution_count": 68,
     "metadata": {},
     "output_type": "execute_result"
    }
   ],
   "source": [
    "# check the presence of missing data.\n",
    "# (there are no missing data in this dataset)\n",
    "\n",
    "[col for col in data.columns if data[col].isnull().sum() > 0]"
   ]
  },
  {
   "cell_type": "code",
   "execution_count": 69,
   "metadata": {},
   "outputs": [
    {
     "data": {
      "text/plain": [
       "((35000, 300), (15000, 300))"
      ]
     },
     "execution_count": 69,
     "metadata": {},
     "output_type": "execute_result"
    }
   ],
   "source": [
    "# separate dataset into train and test\n",
    "\n",
    "X_train, X_test, y_train, y_test = train_test_split(\n",
    "    data.drop(labels=['target'], axis=1), # drop the target\n",
    "    data['target'], # just the target\n",
    "    test_size=0.3,\n",
    "    random_state=0)\n",
    "\n",
    "X_train.shape, X_test.shape"
   ]
  },
  {
   "cell_type": "markdown",
   "metadata": {},
   "source": [
    "## Remove constant and quasi-constant"
   ]
  },
  {
   "cell_type": "code",
   "execution_count": 70,
   "metadata": {},
   "outputs": [
    {
     "name": "stderr",
     "output_type": "stream",
     "text": [
      "C:\\Users\\Arindam Banerji\\AppData\\Local\\Temp\\ipykernel_4560\\3063198154.py:13: DeprecationWarning: `np.float` is a deprecated alias for the builtin `float`. To silence this warning, use `float` by itself. Doing this will not modify any behavior and is safe. If you specifically wanted the numpy scalar type, use `np.float64` here.\n",
      "Deprecated in NumPy 1.20; for more details and guidance: https://numpy.org/devdocs/release/1.20.0-notes.html#deprecations\n",
      "  predominant = (X_train[feature].value_counts() / np.float(\n",
      "C:\\Users\\Arindam Banerji\\AppData\\Local\\Temp\\ipykernel_4560\\3063198154.py:13: DeprecationWarning: `np.float` is a deprecated alias for the builtin `float`. To silence this warning, use `float` by itself. Doing this will not modify any behavior and is safe. If you specifically wanted the numpy scalar type, use `np.float64` here.\n",
      "Deprecated in NumPy 1.20; for more details and guidance: https://numpy.org/devdocs/release/1.20.0-notes.html#deprecations\n",
      "  predominant = (X_train[feature].value_counts() / np.float(\n",
      "C:\\Users\\Arindam Banerji\\AppData\\Local\\Temp\\ipykernel_4560\\3063198154.py:13: DeprecationWarning: `np.float` is a deprecated alias for the builtin `float`. To silence this warning, use `float` by itself. Doing this will not modify any behavior and is safe. If you specifically wanted the numpy scalar type, use `np.float64` here.\n",
      "Deprecated in NumPy 1.20; for more details and guidance: https://numpy.org/devdocs/release/1.20.0-notes.html#deprecations\n",
      "  predominant = (X_train[feature].value_counts() / np.float(\n",
      "C:\\Users\\Arindam Banerji\\AppData\\Local\\Temp\\ipykernel_4560\\3063198154.py:13: DeprecationWarning: `np.float` is a deprecated alias for the builtin `float`. To silence this warning, use `float` by itself. Doing this will not modify any behavior and is safe. If you specifically wanted the numpy scalar type, use `np.float64` here.\n",
      "Deprecated in NumPy 1.20; for more details and guidance: https://numpy.org/devdocs/release/1.20.0-notes.html#deprecations\n",
      "  predominant = (X_train[feature].value_counts() / np.float(\n",
      "C:\\Users\\Arindam Banerji\\AppData\\Local\\Temp\\ipykernel_4560\\3063198154.py:13: DeprecationWarning: `np.float` is a deprecated alias for the builtin `float`. To silence this warning, use `float` by itself. Doing this will not modify any behavior and is safe. If you specifically wanted the numpy scalar type, use `np.float64` here.\n",
      "Deprecated in NumPy 1.20; for more details and guidance: https://numpy.org/devdocs/release/1.20.0-notes.html#deprecations\n",
      "  predominant = (X_train[feature].value_counts() / np.float(\n",
      "C:\\Users\\Arindam Banerji\\AppData\\Local\\Temp\\ipykernel_4560\\3063198154.py:13: DeprecationWarning: `np.float` is a deprecated alias for the builtin `float`. To silence this warning, use `float` by itself. Doing this will not modify any behavior and is safe. If you specifically wanted the numpy scalar type, use `np.float64` here.\n",
      "Deprecated in NumPy 1.20; for more details and guidance: https://numpy.org/devdocs/release/1.20.0-notes.html#deprecations\n",
      "  predominant = (X_train[feature].value_counts() / np.float(\n",
      "C:\\Users\\Arindam Banerji\\AppData\\Local\\Temp\\ipykernel_4560\\3063198154.py:13: DeprecationWarning: `np.float` is a deprecated alias for the builtin `float`. To silence this warning, use `float` by itself. Doing this will not modify any behavior and is safe. If you specifically wanted the numpy scalar type, use `np.float64` here.\n",
      "Deprecated in NumPy 1.20; for more details and guidance: https://numpy.org/devdocs/release/1.20.0-notes.html#deprecations\n",
      "  predominant = (X_train[feature].value_counts() / np.float(\n",
      "C:\\Users\\Arindam Banerji\\AppData\\Local\\Temp\\ipykernel_4560\\3063198154.py:13: DeprecationWarning: `np.float` is a deprecated alias for the builtin `float`. To silence this warning, use `float` by itself. Doing this will not modify any behavior and is safe. If you specifically wanted the numpy scalar type, use `np.float64` here.\n",
      "Deprecated in NumPy 1.20; for more details and guidance: https://numpy.org/devdocs/release/1.20.0-notes.html#deprecations\n",
      "  predominant = (X_train[feature].value_counts() / np.float(\n",
      "C:\\Users\\Arindam Banerji\\AppData\\Local\\Temp\\ipykernel_4560\\3063198154.py:13: DeprecationWarning: `np.float` is a deprecated alias for the builtin `float`. To silence this warning, use `float` by itself. Doing this will not modify any behavior and is safe. If you specifically wanted the numpy scalar type, use `np.float64` here.\n",
      "Deprecated in NumPy 1.20; for more details and guidance: https://numpy.org/devdocs/release/1.20.0-notes.html#deprecations\n",
      "  predominant = (X_train[feature].value_counts() / np.float(\n",
      "C:\\Users\\Arindam Banerji\\AppData\\Local\\Temp\\ipykernel_4560\\3063198154.py:13: DeprecationWarning: `np.float` is a deprecated alias for the builtin `float`. To silence this warning, use `float` by itself. Doing this will not modify any behavior and is safe. If you specifically wanted the numpy scalar type, use `np.float64` here.\n",
      "Deprecated in NumPy 1.20; for more details and guidance: https://numpy.org/devdocs/release/1.20.0-notes.html#deprecations\n",
      "  predominant = (X_train[feature].value_counts() / np.float(\n",
      "C:\\Users\\Arindam Banerji\\AppData\\Local\\Temp\\ipykernel_4560\\3063198154.py:13: DeprecationWarning: `np.float` is a deprecated alias for the builtin `float`. To silence this warning, use `float` by itself. Doing this will not modify any behavior and is safe. If you specifically wanted the numpy scalar type, use `np.float64` here.\n",
      "Deprecated in NumPy 1.20; for more details and guidance: https://numpy.org/devdocs/release/1.20.0-notes.html#deprecations\n",
      "  predominant = (X_train[feature].value_counts() / np.float(\n",
      "C:\\Users\\Arindam Banerji\\AppData\\Local\\Temp\\ipykernel_4560\\3063198154.py:13: DeprecationWarning: `np.float` is a deprecated alias for the builtin `float`. To silence this warning, use `float` by itself. Doing this will not modify any behavior and is safe. If you specifically wanted the numpy scalar type, use `np.float64` here.\n",
      "Deprecated in NumPy 1.20; for more details and guidance: https://numpy.org/devdocs/release/1.20.0-notes.html#deprecations\n",
      "  predominant = (X_train[feature].value_counts() / np.float(\n",
      "C:\\Users\\Arindam Banerji\\AppData\\Local\\Temp\\ipykernel_4560\\3063198154.py:13: DeprecationWarning: `np.float` is a deprecated alias for the builtin `float`. To silence this warning, use `float` by itself. Doing this will not modify any behavior and is safe. If you specifically wanted the numpy scalar type, use `np.float64` here.\n",
      "Deprecated in NumPy 1.20; for more details and guidance: https://numpy.org/devdocs/release/1.20.0-notes.html#deprecations\n",
      "  predominant = (X_train[feature].value_counts() / np.float(\n",
      "C:\\Users\\Arindam Banerji\\AppData\\Local\\Temp\\ipykernel_4560\\3063198154.py:13: DeprecationWarning: `np.float` is a deprecated alias for the builtin `float`. To silence this warning, use `float` by itself. Doing this will not modify any behavior and is safe. If you specifically wanted the numpy scalar type, use `np.float64` here.\n",
      "Deprecated in NumPy 1.20; for more details and guidance: https://numpy.org/devdocs/release/1.20.0-notes.html#deprecations\n",
      "  predominant = (X_train[feature].value_counts() / np.float(\n",
      "C:\\Users\\Arindam Banerji\\AppData\\Local\\Temp\\ipykernel_4560\\3063198154.py:13: DeprecationWarning: `np.float` is a deprecated alias for the builtin `float`. To silence this warning, use `float` by itself. Doing this will not modify any behavior and is safe. If you specifically wanted the numpy scalar type, use `np.float64` here.\n",
      "Deprecated in NumPy 1.20; for more details and guidance: https://numpy.org/devdocs/release/1.20.0-notes.html#deprecations\n",
      "  predominant = (X_train[feature].value_counts() / np.float(\n",
      "C:\\Users\\Arindam Banerji\\AppData\\Local\\Temp\\ipykernel_4560\\3063198154.py:13: DeprecationWarning: `np.float` is a deprecated alias for the builtin `float`. To silence this warning, use `float` by itself. Doing this will not modify any behavior and is safe. If you specifically wanted the numpy scalar type, use `np.float64` here.\n",
      "Deprecated in NumPy 1.20; for more details and guidance: https://numpy.org/devdocs/release/1.20.0-notes.html#deprecations\n",
      "  predominant = (X_train[feature].value_counts() / np.float(\n",
      "C:\\Users\\Arindam Banerji\\AppData\\Local\\Temp\\ipykernel_4560\\3063198154.py:13: DeprecationWarning: `np.float` is a deprecated alias for the builtin `float`. To silence this warning, use `float` by itself. Doing this will not modify any behavior and is safe. If you specifically wanted the numpy scalar type, use `np.float64` here.\n",
      "Deprecated in NumPy 1.20; for more details and guidance: https://numpy.org/devdocs/release/1.20.0-notes.html#deprecations\n",
      "  predominant = (X_train[feature].value_counts() / np.float(\n",
      "C:\\Users\\Arindam Banerji\\AppData\\Local\\Temp\\ipykernel_4560\\3063198154.py:13: DeprecationWarning: `np.float` is a deprecated alias for the builtin `float`. To silence this warning, use `float` by itself. Doing this will not modify any behavior and is safe. If you specifically wanted the numpy scalar type, use `np.float64` here.\n",
      "Deprecated in NumPy 1.20; for more details and guidance: https://numpy.org/devdocs/release/1.20.0-notes.html#deprecations\n",
      "  predominant = (X_train[feature].value_counts() / np.float(\n",
      "C:\\Users\\Arindam Banerji\\AppData\\Local\\Temp\\ipykernel_4560\\3063198154.py:13: DeprecationWarning: `np.float` is a deprecated alias for the builtin `float`. To silence this warning, use `float` by itself. Doing this will not modify any behavior and is safe. If you specifically wanted the numpy scalar type, use `np.float64` here.\n",
      "Deprecated in NumPy 1.20; for more details and guidance: https://numpy.org/devdocs/release/1.20.0-notes.html#deprecations\n",
      "  predominant = (X_train[feature].value_counts() / np.float(\n",
      "C:\\Users\\Arindam Banerji\\AppData\\Local\\Temp\\ipykernel_4560\\3063198154.py:13: DeprecationWarning: `np.float` is a deprecated alias for the builtin `float`. To silence this warning, use `float` by itself. Doing this will not modify any behavior and is safe. If you specifically wanted the numpy scalar type, use `np.float64` here.\n",
      "Deprecated in NumPy 1.20; for more details and guidance: https://numpy.org/devdocs/release/1.20.0-notes.html#deprecations\n",
      "  predominant = (X_train[feature].value_counts() / np.float(\n",
      "C:\\Users\\Arindam Banerji\\AppData\\Local\\Temp\\ipykernel_4560\\3063198154.py:13: DeprecationWarning: `np.float` is a deprecated alias for the builtin `float`. To silence this warning, use `float` by itself. Doing this will not modify any behavior and is safe. If you specifically wanted the numpy scalar type, use `np.float64` here.\n",
      "Deprecated in NumPy 1.20; for more details and guidance: https://numpy.org/devdocs/release/1.20.0-notes.html#deprecations\n",
      "  predominant = (X_train[feature].value_counts() / np.float(\n",
      "C:\\Users\\Arindam Banerji\\AppData\\Local\\Temp\\ipykernel_4560\\3063198154.py:13: DeprecationWarning: `np.float` is a deprecated alias for the builtin `float`. To silence this warning, use `float` by itself. Doing this will not modify any behavior and is safe. If you specifically wanted the numpy scalar type, use `np.float64` here.\n",
      "Deprecated in NumPy 1.20; for more details and guidance: https://numpy.org/devdocs/release/1.20.0-notes.html#deprecations\n",
      "  predominant = (X_train[feature].value_counts() / np.float(\n",
      "C:\\Users\\Arindam Banerji\\AppData\\Local\\Temp\\ipykernel_4560\\3063198154.py:13: DeprecationWarning: `np.float` is a deprecated alias for the builtin `float`. To silence this warning, use `float` by itself. Doing this will not modify any behavior and is safe. If you specifically wanted the numpy scalar type, use `np.float64` here.\n",
      "Deprecated in NumPy 1.20; for more details and guidance: https://numpy.org/devdocs/release/1.20.0-notes.html#deprecations\n",
      "  predominant = (X_train[feature].value_counts() / np.float(\n",
      "C:\\Users\\Arindam Banerji\\AppData\\Local\\Temp\\ipykernel_4560\\3063198154.py:13: DeprecationWarning: `np.float` is a deprecated alias for the builtin `float`. To silence this warning, use `float` by itself. Doing this will not modify any behavior and is safe. If you specifically wanted the numpy scalar type, use `np.float64` here.\n",
      "Deprecated in NumPy 1.20; for more details and guidance: https://numpy.org/devdocs/release/1.20.0-notes.html#deprecations\n",
      "  predominant = (X_train[feature].value_counts() / np.float(\n",
      "C:\\Users\\Arindam Banerji\\AppData\\Local\\Temp\\ipykernel_4560\\3063198154.py:13: DeprecationWarning: `np.float` is a deprecated alias for the builtin `float`. To silence this warning, use `float` by itself. Doing this will not modify any behavior and is safe. If you specifically wanted the numpy scalar type, use `np.float64` here.\n",
      "Deprecated in NumPy 1.20; for more details and guidance: https://numpy.org/devdocs/release/1.20.0-notes.html#deprecations\n",
      "  predominant = (X_train[feature].value_counts() / np.float(\n",
      "C:\\Users\\Arindam Banerji\\AppData\\Local\\Temp\\ipykernel_4560\\3063198154.py:13: DeprecationWarning: `np.float` is a deprecated alias for the builtin `float`. To silence this warning, use `float` by itself. Doing this will not modify any behavior and is safe. If you specifically wanted the numpy scalar type, use `np.float64` here.\n",
      "Deprecated in NumPy 1.20; for more details and guidance: https://numpy.org/devdocs/release/1.20.0-notes.html#deprecations\n",
      "  predominant = (X_train[feature].value_counts() / np.float(\n",
      "C:\\Users\\Arindam Banerji\\AppData\\Local\\Temp\\ipykernel_4560\\3063198154.py:13: DeprecationWarning: `np.float` is a deprecated alias for the builtin `float`. To silence this warning, use `float` by itself. Doing this will not modify any behavior and is safe. If you specifically wanted the numpy scalar type, use `np.float64` here.\n",
      "Deprecated in NumPy 1.20; for more details and guidance: https://numpy.org/devdocs/release/1.20.0-notes.html#deprecations\n",
      "  predominant = (X_train[feature].value_counts() / np.float(\n",
      "C:\\Users\\Arindam Banerji\\AppData\\Local\\Temp\\ipykernel_4560\\3063198154.py:13: DeprecationWarning: `np.float` is a deprecated alias for the builtin `float`. To silence this warning, use `float` by itself. Doing this will not modify any behavior and is safe. If you specifically wanted the numpy scalar type, use `np.float64` here.\n",
      "Deprecated in NumPy 1.20; for more details and guidance: https://numpy.org/devdocs/release/1.20.0-notes.html#deprecations\n",
      "  predominant = (X_train[feature].value_counts() / np.float(\n",
      "C:\\Users\\Arindam Banerji\\AppData\\Local\\Temp\\ipykernel_4560\\3063198154.py:13: DeprecationWarning: `np.float` is a deprecated alias for the builtin `float`. To silence this warning, use `float` by itself. Doing this will not modify any behavior and is safe. If you specifically wanted the numpy scalar type, use `np.float64` here.\n",
      "Deprecated in NumPy 1.20; for more details and guidance: https://numpy.org/devdocs/release/1.20.0-notes.html#deprecations\n",
      "  predominant = (X_train[feature].value_counts() / np.float(\n",
      "C:\\Users\\Arindam Banerji\\AppData\\Local\\Temp\\ipykernel_4560\\3063198154.py:13: DeprecationWarning: `np.float` is a deprecated alias for the builtin `float`. To silence this warning, use `float` by itself. Doing this will not modify any behavior and is safe. If you specifically wanted the numpy scalar type, use `np.float64` here.\n",
      "Deprecated in NumPy 1.20; for more details and guidance: https://numpy.org/devdocs/release/1.20.0-notes.html#deprecations\n",
      "  predominant = (X_train[feature].value_counts() / np.float(\n",
      "C:\\Users\\Arindam Banerji\\AppData\\Local\\Temp\\ipykernel_4560\\3063198154.py:13: DeprecationWarning: `np.float` is a deprecated alias for the builtin `float`. To silence this warning, use `float` by itself. Doing this will not modify any behavior and is safe. If you specifically wanted the numpy scalar type, use `np.float64` here.\n",
      "Deprecated in NumPy 1.20; for more details and guidance: https://numpy.org/devdocs/release/1.20.0-notes.html#deprecations\n",
      "  predominant = (X_train[feature].value_counts() / np.float(\n",
      "C:\\Users\\Arindam Banerji\\AppData\\Local\\Temp\\ipykernel_4560\\3063198154.py:13: DeprecationWarning: `np.float` is a deprecated alias for the builtin `float`. To silence this warning, use `float` by itself. Doing this will not modify any behavior and is safe. If you specifically wanted the numpy scalar type, use `np.float64` here.\n",
      "Deprecated in NumPy 1.20; for more details and guidance: https://numpy.org/devdocs/release/1.20.0-notes.html#deprecations\n",
      "  predominant = (X_train[feature].value_counts() / np.float(\n",
      "C:\\Users\\Arindam Banerji\\AppData\\Local\\Temp\\ipykernel_4560\\3063198154.py:13: DeprecationWarning: `np.float` is a deprecated alias for the builtin `float`. To silence this warning, use `float` by itself. Doing this will not modify any behavior and is safe. If you specifically wanted the numpy scalar type, use `np.float64` here.\n",
      "Deprecated in NumPy 1.20; for more details and guidance: https://numpy.org/devdocs/release/1.20.0-notes.html#deprecations\n",
      "  predominant = (X_train[feature].value_counts() / np.float(\n",
      "C:\\Users\\Arindam Banerji\\AppData\\Local\\Temp\\ipykernel_4560\\3063198154.py:13: DeprecationWarning: `np.float` is a deprecated alias for the builtin `float`. To silence this warning, use `float` by itself. Doing this will not modify any behavior and is safe. If you specifically wanted the numpy scalar type, use `np.float64` here.\n",
      "Deprecated in NumPy 1.20; for more details and guidance: https://numpy.org/devdocs/release/1.20.0-notes.html#deprecations\n",
      "  predominant = (X_train[feature].value_counts() / np.float(\n",
      "C:\\Users\\Arindam Banerji\\AppData\\Local\\Temp\\ipykernel_4560\\3063198154.py:13: DeprecationWarning: `np.float` is a deprecated alias for the builtin `float`. To silence this warning, use `float` by itself. Doing this will not modify any behavior and is safe. If you specifically wanted the numpy scalar type, use `np.float64` here.\n",
      "Deprecated in NumPy 1.20; for more details and guidance: https://numpy.org/devdocs/release/1.20.0-notes.html#deprecations\n",
      "  predominant = (X_train[feature].value_counts() / np.float(\n",
      "C:\\Users\\Arindam Banerji\\AppData\\Local\\Temp\\ipykernel_4560\\3063198154.py:13: DeprecationWarning: `np.float` is a deprecated alias for the builtin `float`. To silence this warning, use `float` by itself. Doing this will not modify any behavior and is safe. If you specifically wanted the numpy scalar type, use `np.float64` here.\n",
      "Deprecated in NumPy 1.20; for more details and guidance: https://numpy.org/devdocs/release/1.20.0-notes.html#deprecations\n",
      "  predominant = (X_train[feature].value_counts() / np.float(\n",
      "C:\\Users\\Arindam Banerji\\AppData\\Local\\Temp\\ipykernel_4560\\3063198154.py:13: DeprecationWarning: `np.float` is a deprecated alias for the builtin `float`. To silence this warning, use `float` by itself. Doing this will not modify any behavior and is safe. If you specifically wanted the numpy scalar type, use `np.float64` here.\n",
      "Deprecated in NumPy 1.20; for more details and guidance: https://numpy.org/devdocs/release/1.20.0-notes.html#deprecations\n",
      "  predominant = (X_train[feature].value_counts() / np.float(\n",
      "C:\\Users\\Arindam Banerji\\AppData\\Local\\Temp\\ipykernel_4560\\3063198154.py:13: DeprecationWarning: `np.float` is a deprecated alias for the builtin `float`. To silence this warning, use `float` by itself. Doing this will not modify any behavior and is safe. If you specifically wanted the numpy scalar type, use `np.float64` here.\n",
      "Deprecated in NumPy 1.20; for more details and guidance: https://numpy.org/devdocs/release/1.20.0-notes.html#deprecations\n",
      "  predominant = (X_train[feature].value_counts() / np.float(\n",
      "C:\\Users\\Arindam Banerji\\AppData\\Local\\Temp\\ipykernel_4560\\3063198154.py:13: DeprecationWarning: `np.float` is a deprecated alias for the builtin `float`. To silence this warning, use `float` by itself. Doing this will not modify any behavior and is safe. If you specifically wanted the numpy scalar type, use `np.float64` here.\n",
      "Deprecated in NumPy 1.20; for more details and guidance: https://numpy.org/devdocs/release/1.20.0-notes.html#deprecations\n",
      "  predominant = (X_train[feature].value_counts() / np.float(\n",
      "C:\\Users\\Arindam Banerji\\AppData\\Local\\Temp\\ipykernel_4560\\3063198154.py:13: DeprecationWarning: `np.float` is a deprecated alias for the builtin `float`. To silence this warning, use `float` by itself. Doing this will not modify any behavior and is safe. If you specifically wanted the numpy scalar type, use `np.float64` here.\n",
      "Deprecated in NumPy 1.20; for more details and guidance: https://numpy.org/devdocs/release/1.20.0-notes.html#deprecations\n",
      "  predominant = (X_train[feature].value_counts() / np.float(\n",
      "C:\\Users\\Arindam Banerji\\AppData\\Local\\Temp\\ipykernel_4560\\3063198154.py:13: DeprecationWarning: `np.float` is a deprecated alias for the builtin `float`. To silence this warning, use `float` by itself. Doing this will not modify any behavior and is safe. If you specifically wanted the numpy scalar type, use `np.float64` here.\n",
      "Deprecated in NumPy 1.20; for more details and guidance: https://numpy.org/devdocs/release/1.20.0-notes.html#deprecations\n",
      "  predominant = (X_train[feature].value_counts() / np.float(\n",
      "C:\\Users\\Arindam Banerji\\AppData\\Local\\Temp\\ipykernel_4560\\3063198154.py:13: DeprecationWarning: `np.float` is a deprecated alias for the builtin `float`. To silence this warning, use `float` by itself. Doing this will not modify any behavior and is safe. If you specifically wanted the numpy scalar type, use `np.float64` here.\n",
      "Deprecated in NumPy 1.20; for more details and guidance: https://numpy.org/devdocs/release/1.20.0-notes.html#deprecations\n",
      "  predominant = (X_train[feature].value_counts() / np.float(\n",
      "C:\\Users\\Arindam Banerji\\AppData\\Local\\Temp\\ipykernel_4560\\3063198154.py:13: DeprecationWarning: `np.float` is a deprecated alias for the builtin `float`. To silence this warning, use `float` by itself. Doing this will not modify any behavior and is safe. If you specifically wanted the numpy scalar type, use `np.float64` here.\n",
      "Deprecated in NumPy 1.20; for more details and guidance: https://numpy.org/devdocs/release/1.20.0-notes.html#deprecations\n",
      "  predominant = (X_train[feature].value_counts() / np.float(\n",
      "C:\\Users\\Arindam Banerji\\AppData\\Local\\Temp\\ipykernel_4560\\3063198154.py:13: DeprecationWarning: `np.float` is a deprecated alias for the builtin `float`. To silence this warning, use `float` by itself. Doing this will not modify any behavior and is safe. If you specifically wanted the numpy scalar type, use `np.float64` here.\n",
      "Deprecated in NumPy 1.20; for more details and guidance: https://numpy.org/devdocs/release/1.20.0-notes.html#deprecations\n",
      "  predominant = (X_train[feature].value_counts() / np.float(\n",
      "C:\\Users\\Arindam Banerji\\AppData\\Local\\Temp\\ipykernel_4560\\3063198154.py:13: DeprecationWarning: `np.float` is a deprecated alias for the builtin `float`. To silence this warning, use `float` by itself. Doing this will not modify any behavior and is safe. If you specifically wanted the numpy scalar type, use `np.float64` here.\n",
      "Deprecated in NumPy 1.20; for more details and guidance: https://numpy.org/devdocs/release/1.20.0-notes.html#deprecations\n",
      "  predominant = (X_train[feature].value_counts() / np.float(\n",
      "C:\\Users\\Arindam Banerji\\AppData\\Local\\Temp\\ipykernel_4560\\3063198154.py:13: DeprecationWarning: `np.float` is a deprecated alias for the builtin `float`. To silence this warning, use `float` by itself. Doing this will not modify any behavior and is safe. If you specifically wanted the numpy scalar type, use `np.float64` here.\n",
      "Deprecated in NumPy 1.20; for more details and guidance: https://numpy.org/devdocs/release/1.20.0-notes.html#deprecations\n",
      "  predominant = (X_train[feature].value_counts() / np.float(\n",
      "C:\\Users\\Arindam Banerji\\AppData\\Local\\Temp\\ipykernel_4560\\3063198154.py:13: DeprecationWarning: `np.float` is a deprecated alias for the builtin `float`. To silence this warning, use `float` by itself. Doing this will not modify any behavior and is safe. If you specifically wanted the numpy scalar type, use `np.float64` here.\n",
      "Deprecated in NumPy 1.20; for more details and guidance: https://numpy.org/devdocs/release/1.20.0-notes.html#deprecations\n",
      "  predominant = (X_train[feature].value_counts() / np.float(\n",
      "C:\\Users\\Arindam Banerji\\AppData\\Local\\Temp\\ipykernel_4560\\3063198154.py:13: DeprecationWarning: `np.float` is a deprecated alias for the builtin `float`. To silence this warning, use `float` by itself. Doing this will not modify any behavior and is safe. If you specifically wanted the numpy scalar type, use `np.float64` here.\n",
      "Deprecated in NumPy 1.20; for more details and guidance: https://numpy.org/devdocs/release/1.20.0-notes.html#deprecations\n",
      "  predominant = (X_train[feature].value_counts() / np.float(\n",
      "C:\\Users\\Arindam Banerji\\AppData\\Local\\Temp\\ipykernel_4560\\3063198154.py:13: DeprecationWarning: `np.float` is a deprecated alias for the builtin `float`. To silence this warning, use `float` by itself. Doing this will not modify any behavior and is safe. If you specifically wanted the numpy scalar type, use `np.float64` here.\n",
      "Deprecated in NumPy 1.20; for more details and guidance: https://numpy.org/devdocs/release/1.20.0-notes.html#deprecations\n",
      "  predominant = (X_train[feature].value_counts() / np.float(\n",
      "C:\\Users\\Arindam Banerji\\AppData\\Local\\Temp\\ipykernel_4560\\3063198154.py:13: DeprecationWarning: `np.float` is a deprecated alias for the builtin `float`. To silence this warning, use `float` by itself. Doing this will not modify any behavior and is safe. If you specifically wanted the numpy scalar type, use `np.float64` here.\n",
      "Deprecated in NumPy 1.20; for more details and guidance: https://numpy.org/devdocs/release/1.20.0-notes.html#deprecations\n",
      "  predominant = (X_train[feature].value_counts() / np.float(\n",
      "C:\\Users\\Arindam Banerji\\AppData\\Local\\Temp\\ipykernel_4560\\3063198154.py:13: DeprecationWarning: `np.float` is a deprecated alias for the builtin `float`. To silence this warning, use `float` by itself. Doing this will not modify any behavior and is safe. If you specifically wanted the numpy scalar type, use `np.float64` here.\n",
      "Deprecated in NumPy 1.20; for more details and guidance: https://numpy.org/devdocs/release/1.20.0-notes.html#deprecations\n",
      "  predominant = (X_train[feature].value_counts() / np.float(\n",
      "C:\\Users\\Arindam Banerji\\AppData\\Local\\Temp\\ipykernel_4560\\3063198154.py:13: DeprecationWarning: `np.float` is a deprecated alias for the builtin `float`. To silence this warning, use `float` by itself. Doing this will not modify any behavior and is safe. If you specifically wanted the numpy scalar type, use `np.float64` here.\n",
      "Deprecated in NumPy 1.20; for more details and guidance: https://numpy.org/devdocs/release/1.20.0-notes.html#deprecations\n",
      "  predominant = (X_train[feature].value_counts() / np.float(\n",
      "C:\\Users\\Arindam Banerji\\AppData\\Local\\Temp\\ipykernel_4560\\3063198154.py:13: DeprecationWarning: `np.float` is a deprecated alias for the builtin `float`. To silence this warning, use `float` by itself. Doing this will not modify any behavior and is safe. If you specifically wanted the numpy scalar type, use `np.float64` here.\n",
      "Deprecated in NumPy 1.20; for more details and guidance: https://numpy.org/devdocs/release/1.20.0-notes.html#deprecations\n",
      "  predominant = (X_train[feature].value_counts() / np.float(\n",
      "C:\\Users\\Arindam Banerji\\AppData\\Local\\Temp\\ipykernel_4560\\3063198154.py:13: DeprecationWarning: `np.float` is a deprecated alias for the builtin `float`. To silence this warning, use `float` by itself. Doing this will not modify any behavior and is safe. If you specifically wanted the numpy scalar type, use `np.float64` here.\n",
      "Deprecated in NumPy 1.20; for more details and guidance: https://numpy.org/devdocs/release/1.20.0-notes.html#deprecations\n",
      "  predominant = (X_train[feature].value_counts() / np.float(\n",
      "C:\\Users\\Arindam Banerji\\AppData\\Local\\Temp\\ipykernel_4560\\3063198154.py:13: DeprecationWarning: `np.float` is a deprecated alias for the builtin `float`. To silence this warning, use `float` by itself. Doing this will not modify any behavior and is safe. If you specifically wanted the numpy scalar type, use `np.float64` here.\n",
      "Deprecated in NumPy 1.20; for more details and guidance: https://numpy.org/devdocs/release/1.20.0-notes.html#deprecations\n",
      "  predominant = (X_train[feature].value_counts() / np.float(\n",
      "C:\\Users\\Arindam Banerji\\AppData\\Local\\Temp\\ipykernel_4560\\3063198154.py:13: DeprecationWarning: `np.float` is a deprecated alias for the builtin `float`. To silence this warning, use `float` by itself. Doing this will not modify any behavior and is safe. If you specifically wanted the numpy scalar type, use `np.float64` here.\n",
      "Deprecated in NumPy 1.20; for more details and guidance: https://numpy.org/devdocs/release/1.20.0-notes.html#deprecations\n",
      "  predominant = (X_train[feature].value_counts() / np.float(\n",
      "C:\\Users\\Arindam Banerji\\AppData\\Local\\Temp\\ipykernel_4560\\3063198154.py:13: DeprecationWarning: `np.float` is a deprecated alias for the builtin `float`. To silence this warning, use `float` by itself. Doing this will not modify any behavior and is safe. If you specifically wanted the numpy scalar type, use `np.float64` here.\n",
      "Deprecated in NumPy 1.20; for more details and guidance: https://numpy.org/devdocs/release/1.20.0-notes.html#deprecations\n",
      "  predominant = (X_train[feature].value_counts() / np.float(\n",
      "C:\\Users\\Arindam Banerji\\AppData\\Local\\Temp\\ipykernel_4560\\3063198154.py:13: DeprecationWarning: `np.float` is a deprecated alias for the builtin `float`. To silence this warning, use `float` by itself. Doing this will not modify any behavior and is safe. If you specifically wanted the numpy scalar type, use `np.float64` here.\n",
      "Deprecated in NumPy 1.20; for more details and guidance: https://numpy.org/devdocs/release/1.20.0-notes.html#deprecations\n",
      "  predominant = (X_train[feature].value_counts() / np.float(\n",
      "C:\\Users\\Arindam Banerji\\AppData\\Local\\Temp\\ipykernel_4560\\3063198154.py:13: DeprecationWarning: `np.float` is a deprecated alias for the builtin `float`. To silence this warning, use `float` by itself. Doing this will not modify any behavior and is safe. If you specifically wanted the numpy scalar type, use `np.float64` here.\n",
      "Deprecated in NumPy 1.20; for more details and guidance: https://numpy.org/devdocs/release/1.20.0-notes.html#deprecations\n",
      "  predominant = (X_train[feature].value_counts() / np.float(\n",
      "C:\\Users\\Arindam Banerji\\AppData\\Local\\Temp\\ipykernel_4560\\3063198154.py:13: DeprecationWarning: `np.float` is a deprecated alias for the builtin `float`. To silence this warning, use `float` by itself. Doing this will not modify any behavior and is safe. If you specifically wanted the numpy scalar type, use `np.float64` here.\n",
      "Deprecated in NumPy 1.20; for more details and guidance: https://numpy.org/devdocs/release/1.20.0-notes.html#deprecations\n",
      "  predominant = (X_train[feature].value_counts() / np.float(\n",
      "C:\\Users\\Arindam Banerji\\AppData\\Local\\Temp\\ipykernel_4560\\3063198154.py:13: DeprecationWarning: `np.float` is a deprecated alias for the builtin `float`. To silence this warning, use `float` by itself. Doing this will not modify any behavior and is safe. If you specifically wanted the numpy scalar type, use `np.float64` here.\n",
      "Deprecated in NumPy 1.20; for more details and guidance: https://numpy.org/devdocs/release/1.20.0-notes.html#deprecations\n",
      "  predominant = (X_train[feature].value_counts() / np.float(\n",
      "C:\\Users\\Arindam Banerji\\AppData\\Local\\Temp\\ipykernel_4560\\3063198154.py:13: DeprecationWarning: `np.float` is a deprecated alias for the builtin `float`. To silence this warning, use `float` by itself. Doing this will not modify any behavior and is safe. If you specifically wanted the numpy scalar type, use `np.float64` here.\n",
      "Deprecated in NumPy 1.20; for more details and guidance: https://numpy.org/devdocs/release/1.20.0-notes.html#deprecations\n",
      "  predominant = (X_train[feature].value_counts() / np.float(\n",
      "C:\\Users\\Arindam Banerji\\AppData\\Local\\Temp\\ipykernel_4560\\3063198154.py:13: DeprecationWarning: `np.float` is a deprecated alias for the builtin `float`. To silence this warning, use `float` by itself. Doing this will not modify any behavior and is safe. If you specifically wanted the numpy scalar type, use `np.float64` here.\n",
      "Deprecated in NumPy 1.20; for more details and guidance: https://numpy.org/devdocs/release/1.20.0-notes.html#deprecations\n",
      "  predominant = (X_train[feature].value_counts() / np.float(\n",
      "C:\\Users\\Arindam Banerji\\AppData\\Local\\Temp\\ipykernel_4560\\3063198154.py:13: DeprecationWarning: `np.float` is a deprecated alias for the builtin `float`. To silence this warning, use `float` by itself. Doing this will not modify any behavior and is safe. If you specifically wanted the numpy scalar type, use `np.float64` here.\n",
      "Deprecated in NumPy 1.20; for more details and guidance: https://numpy.org/devdocs/release/1.20.0-notes.html#deprecations\n",
      "  predominant = (X_train[feature].value_counts() / np.float(\n",
      "C:\\Users\\Arindam Banerji\\AppData\\Local\\Temp\\ipykernel_4560\\3063198154.py:13: DeprecationWarning: `np.float` is a deprecated alias for the builtin `float`. To silence this warning, use `float` by itself. Doing this will not modify any behavior and is safe. If you specifically wanted the numpy scalar type, use `np.float64` here.\n",
      "Deprecated in NumPy 1.20; for more details and guidance: https://numpy.org/devdocs/release/1.20.0-notes.html#deprecations\n",
      "  predominant = (X_train[feature].value_counts() / np.float(\n",
      "C:\\Users\\Arindam Banerji\\AppData\\Local\\Temp\\ipykernel_4560\\3063198154.py:13: DeprecationWarning: `np.float` is a deprecated alias for the builtin `float`. To silence this warning, use `float` by itself. Doing this will not modify any behavior and is safe. If you specifically wanted the numpy scalar type, use `np.float64` here.\n",
      "Deprecated in NumPy 1.20; for more details and guidance: https://numpy.org/devdocs/release/1.20.0-notes.html#deprecations\n",
      "  predominant = (X_train[feature].value_counts() / np.float(\n",
      "C:\\Users\\Arindam Banerji\\AppData\\Local\\Temp\\ipykernel_4560\\3063198154.py:13: DeprecationWarning: `np.float` is a deprecated alias for the builtin `float`. To silence this warning, use `float` by itself. Doing this will not modify any behavior and is safe. If you specifically wanted the numpy scalar type, use `np.float64` here.\n",
      "Deprecated in NumPy 1.20; for more details and guidance: https://numpy.org/devdocs/release/1.20.0-notes.html#deprecations\n",
      "  predominant = (X_train[feature].value_counts() / np.float(\n",
      "C:\\Users\\Arindam Banerji\\AppData\\Local\\Temp\\ipykernel_4560\\3063198154.py:13: DeprecationWarning: `np.float` is a deprecated alias for the builtin `float`. To silence this warning, use `float` by itself. Doing this will not modify any behavior and is safe. If you specifically wanted the numpy scalar type, use `np.float64` here.\n",
      "Deprecated in NumPy 1.20; for more details and guidance: https://numpy.org/devdocs/release/1.20.0-notes.html#deprecations\n",
      "  predominant = (X_train[feature].value_counts() / np.float(\n",
      "C:\\Users\\Arindam Banerji\\AppData\\Local\\Temp\\ipykernel_4560\\3063198154.py:13: DeprecationWarning: `np.float` is a deprecated alias for the builtin `float`. To silence this warning, use `float` by itself. Doing this will not modify any behavior and is safe. If you specifically wanted the numpy scalar type, use `np.float64` here.\n",
      "Deprecated in NumPy 1.20; for more details and guidance: https://numpy.org/devdocs/release/1.20.0-notes.html#deprecations\n",
      "  predominant = (X_train[feature].value_counts() / np.float(\n",
      "C:\\Users\\Arindam Banerji\\AppData\\Local\\Temp\\ipykernel_4560\\3063198154.py:13: DeprecationWarning: `np.float` is a deprecated alias for the builtin `float`. To silence this warning, use `float` by itself. Doing this will not modify any behavior and is safe. If you specifically wanted the numpy scalar type, use `np.float64` here.\n",
      "Deprecated in NumPy 1.20; for more details and guidance: https://numpy.org/devdocs/release/1.20.0-notes.html#deprecations\n",
      "  predominant = (X_train[feature].value_counts() / np.float(\n",
      "C:\\Users\\Arindam Banerji\\AppData\\Local\\Temp\\ipykernel_4560\\3063198154.py:13: DeprecationWarning: `np.float` is a deprecated alias for the builtin `float`. To silence this warning, use `float` by itself. Doing this will not modify any behavior and is safe. If you specifically wanted the numpy scalar type, use `np.float64` here.\n",
      "Deprecated in NumPy 1.20; for more details and guidance: https://numpy.org/devdocs/release/1.20.0-notes.html#deprecations\n",
      "  predominant = (X_train[feature].value_counts() / np.float(\n",
      "C:\\Users\\Arindam Banerji\\AppData\\Local\\Temp\\ipykernel_4560\\3063198154.py:13: DeprecationWarning: `np.float` is a deprecated alias for the builtin `float`. To silence this warning, use `float` by itself. Doing this will not modify any behavior and is safe. If you specifically wanted the numpy scalar type, use `np.float64` here.\n",
      "Deprecated in NumPy 1.20; for more details and guidance: https://numpy.org/devdocs/release/1.20.0-notes.html#deprecations\n",
      "  predominant = (X_train[feature].value_counts() / np.float(\n",
      "C:\\Users\\Arindam Banerji\\AppData\\Local\\Temp\\ipykernel_4560\\3063198154.py:13: DeprecationWarning: `np.float` is a deprecated alias for the builtin `float`. To silence this warning, use `float` by itself. Doing this will not modify any behavior and is safe. If you specifically wanted the numpy scalar type, use `np.float64` here.\n",
      "Deprecated in NumPy 1.20; for more details and guidance: https://numpy.org/devdocs/release/1.20.0-notes.html#deprecations\n",
      "  predominant = (X_train[feature].value_counts() / np.float(\n",
      "C:\\Users\\Arindam Banerji\\AppData\\Local\\Temp\\ipykernel_4560\\3063198154.py:13: DeprecationWarning: `np.float` is a deprecated alias for the builtin `float`. To silence this warning, use `float` by itself. Doing this will not modify any behavior and is safe. If you specifically wanted the numpy scalar type, use `np.float64` here.\n",
      "Deprecated in NumPy 1.20; for more details and guidance: https://numpy.org/devdocs/release/1.20.0-notes.html#deprecations\n",
      "  predominant = (X_train[feature].value_counts() / np.float(\n",
      "C:\\Users\\Arindam Banerji\\AppData\\Local\\Temp\\ipykernel_4560\\3063198154.py:13: DeprecationWarning: `np.float` is a deprecated alias for the builtin `float`. To silence this warning, use `float` by itself. Doing this will not modify any behavior and is safe. If you specifically wanted the numpy scalar type, use `np.float64` here.\n",
      "Deprecated in NumPy 1.20; for more details and guidance: https://numpy.org/devdocs/release/1.20.0-notes.html#deprecations\n",
      "  predominant = (X_train[feature].value_counts() / np.float(\n",
      "C:\\Users\\Arindam Banerji\\AppData\\Local\\Temp\\ipykernel_4560\\3063198154.py:13: DeprecationWarning: `np.float` is a deprecated alias for the builtin `float`. To silence this warning, use `float` by itself. Doing this will not modify any behavior and is safe. If you specifically wanted the numpy scalar type, use `np.float64` here.\n",
      "Deprecated in NumPy 1.20; for more details and guidance: https://numpy.org/devdocs/release/1.20.0-notes.html#deprecations\n",
      "  predominant = (X_train[feature].value_counts() / np.float(\n",
      "C:\\Users\\Arindam Banerji\\AppData\\Local\\Temp\\ipykernel_4560\\3063198154.py:13: DeprecationWarning: `np.float` is a deprecated alias for the builtin `float`. To silence this warning, use `float` by itself. Doing this will not modify any behavior and is safe. If you specifically wanted the numpy scalar type, use `np.float64` here.\n",
      "Deprecated in NumPy 1.20; for more details and guidance: https://numpy.org/devdocs/release/1.20.0-notes.html#deprecations\n",
      "  predominant = (X_train[feature].value_counts() / np.float(\n",
      "C:\\Users\\Arindam Banerji\\AppData\\Local\\Temp\\ipykernel_4560\\3063198154.py:13: DeprecationWarning: `np.float` is a deprecated alias for the builtin `float`. To silence this warning, use `float` by itself. Doing this will not modify any behavior and is safe. If you specifically wanted the numpy scalar type, use `np.float64` here.\n",
      "Deprecated in NumPy 1.20; for more details and guidance: https://numpy.org/devdocs/release/1.20.0-notes.html#deprecations\n",
      "  predominant = (X_train[feature].value_counts() / np.float(\n",
      "C:\\Users\\Arindam Banerji\\AppData\\Local\\Temp\\ipykernel_4560\\3063198154.py:13: DeprecationWarning: `np.float` is a deprecated alias for the builtin `float`. To silence this warning, use `float` by itself. Doing this will not modify any behavior and is safe. If you specifically wanted the numpy scalar type, use `np.float64` here.\n",
      "Deprecated in NumPy 1.20; for more details and guidance: https://numpy.org/devdocs/release/1.20.0-notes.html#deprecations\n",
      "  predominant = (X_train[feature].value_counts() / np.float(\n",
      "C:\\Users\\Arindam Banerji\\AppData\\Local\\Temp\\ipykernel_4560\\3063198154.py:13: DeprecationWarning: `np.float` is a deprecated alias for the builtin `float`. To silence this warning, use `float` by itself. Doing this will not modify any behavior and is safe. If you specifically wanted the numpy scalar type, use `np.float64` here.\n",
      "Deprecated in NumPy 1.20; for more details and guidance: https://numpy.org/devdocs/release/1.20.0-notes.html#deprecations\n",
      "  predominant = (X_train[feature].value_counts() / np.float(\n",
      "C:\\Users\\Arindam Banerji\\AppData\\Local\\Temp\\ipykernel_4560\\3063198154.py:13: DeprecationWarning: `np.float` is a deprecated alias for the builtin `float`. To silence this warning, use `float` by itself. Doing this will not modify any behavior and is safe. If you specifically wanted the numpy scalar type, use `np.float64` here.\n",
      "Deprecated in NumPy 1.20; for more details and guidance: https://numpy.org/devdocs/release/1.20.0-notes.html#deprecations\n",
      "  predominant = (X_train[feature].value_counts() / np.float(\n",
      "C:\\Users\\Arindam Banerji\\AppData\\Local\\Temp\\ipykernel_4560\\3063198154.py:13: DeprecationWarning: `np.float` is a deprecated alias for the builtin `float`. To silence this warning, use `float` by itself. Doing this will not modify any behavior and is safe. If you specifically wanted the numpy scalar type, use `np.float64` here.\n",
      "Deprecated in NumPy 1.20; for more details and guidance: https://numpy.org/devdocs/release/1.20.0-notes.html#deprecations\n",
      "  predominant = (X_train[feature].value_counts() / np.float(\n",
      "C:\\Users\\Arindam Banerji\\AppData\\Local\\Temp\\ipykernel_4560\\3063198154.py:13: DeprecationWarning: `np.float` is a deprecated alias for the builtin `float`. To silence this warning, use `float` by itself. Doing this will not modify any behavior and is safe. If you specifically wanted the numpy scalar type, use `np.float64` here.\n",
      "Deprecated in NumPy 1.20; for more details and guidance: https://numpy.org/devdocs/release/1.20.0-notes.html#deprecations\n",
      "  predominant = (X_train[feature].value_counts() / np.float(\n",
      "C:\\Users\\Arindam Banerji\\AppData\\Local\\Temp\\ipykernel_4560\\3063198154.py:13: DeprecationWarning: `np.float` is a deprecated alias for the builtin `float`. To silence this warning, use `float` by itself. Doing this will not modify any behavior and is safe. If you specifically wanted the numpy scalar type, use `np.float64` here.\n",
      "Deprecated in NumPy 1.20; for more details and guidance: https://numpy.org/devdocs/release/1.20.0-notes.html#deprecations\n",
      "  predominant = (X_train[feature].value_counts() / np.float(\n",
      "C:\\Users\\Arindam Banerji\\AppData\\Local\\Temp\\ipykernel_4560\\3063198154.py:13: DeprecationWarning: `np.float` is a deprecated alias for the builtin `float`. To silence this warning, use `float` by itself. Doing this will not modify any behavior and is safe. If you specifically wanted the numpy scalar type, use `np.float64` here.\n",
      "Deprecated in NumPy 1.20; for more details and guidance: https://numpy.org/devdocs/release/1.20.0-notes.html#deprecations\n",
      "  predominant = (X_train[feature].value_counts() / np.float(\n",
      "C:\\Users\\Arindam Banerji\\AppData\\Local\\Temp\\ipykernel_4560\\3063198154.py:13: DeprecationWarning: `np.float` is a deprecated alias for the builtin `float`. To silence this warning, use `float` by itself. Doing this will not modify any behavior and is safe. If you specifically wanted the numpy scalar type, use `np.float64` here.\n",
      "Deprecated in NumPy 1.20; for more details and guidance: https://numpy.org/devdocs/release/1.20.0-notes.html#deprecations\n",
      "  predominant = (X_train[feature].value_counts() / np.float(\n",
      "C:\\Users\\Arindam Banerji\\AppData\\Local\\Temp\\ipykernel_4560\\3063198154.py:13: DeprecationWarning: `np.float` is a deprecated alias for the builtin `float`. To silence this warning, use `float` by itself. Doing this will not modify any behavior and is safe. If you specifically wanted the numpy scalar type, use `np.float64` here.\n",
      "Deprecated in NumPy 1.20; for more details and guidance: https://numpy.org/devdocs/release/1.20.0-notes.html#deprecations\n",
      "  predominant = (X_train[feature].value_counts() / np.float(\n",
      "C:\\Users\\Arindam Banerji\\AppData\\Local\\Temp\\ipykernel_4560\\3063198154.py:13: DeprecationWarning: `np.float` is a deprecated alias for the builtin `float`. To silence this warning, use `float` by itself. Doing this will not modify any behavior and is safe. If you specifically wanted the numpy scalar type, use `np.float64` here.\n",
      "Deprecated in NumPy 1.20; for more details and guidance: https://numpy.org/devdocs/release/1.20.0-notes.html#deprecations\n",
      "  predominant = (X_train[feature].value_counts() / np.float(\n",
      "C:\\Users\\Arindam Banerji\\AppData\\Local\\Temp\\ipykernel_4560\\3063198154.py:13: DeprecationWarning: `np.float` is a deprecated alias for the builtin `float`. To silence this warning, use `float` by itself. Doing this will not modify any behavior and is safe. If you specifically wanted the numpy scalar type, use `np.float64` here.\n",
      "Deprecated in NumPy 1.20; for more details and guidance: https://numpy.org/devdocs/release/1.20.0-notes.html#deprecations\n",
      "  predominant = (X_train[feature].value_counts() / np.float(\n",
      "C:\\Users\\Arindam Banerji\\AppData\\Local\\Temp\\ipykernel_4560\\3063198154.py:13: DeprecationWarning: `np.float` is a deprecated alias for the builtin `float`. To silence this warning, use `float` by itself. Doing this will not modify any behavior and is safe. If you specifically wanted the numpy scalar type, use `np.float64` here.\n",
      "Deprecated in NumPy 1.20; for more details and guidance: https://numpy.org/devdocs/release/1.20.0-notes.html#deprecations\n",
      "  predominant = (X_train[feature].value_counts() / np.float(\n",
      "C:\\Users\\Arindam Banerji\\AppData\\Local\\Temp\\ipykernel_4560\\3063198154.py:13: DeprecationWarning: `np.float` is a deprecated alias for the builtin `float`. To silence this warning, use `float` by itself. Doing this will not modify any behavior and is safe. If you specifically wanted the numpy scalar type, use `np.float64` here.\n",
      "Deprecated in NumPy 1.20; for more details and guidance: https://numpy.org/devdocs/release/1.20.0-notes.html#deprecations\n",
      "  predominant = (X_train[feature].value_counts() / np.float(\n",
      "C:\\Users\\Arindam Banerji\\AppData\\Local\\Temp\\ipykernel_4560\\3063198154.py:13: DeprecationWarning: `np.float` is a deprecated alias for the builtin `float`. To silence this warning, use `float` by itself. Doing this will not modify any behavior and is safe. If you specifically wanted the numpy scalar type, use `np.float64` here.\n",
      "Deprecated in NumPy 1.20; for more details and guidance: https://numpy.org/devdocs/release/1.20.0-notes.html#deprecations\n",
      "  predominant = (X_train[feature].value_counts() / np.float(\n",
      "C:\\Users\\Arindam Banerji\\AppData\\Local\\Temp\\ipykernel_4560\\3063198154.py:13: DeprecationWarning: `np.float` is a deprecated alias for the builtin `float`. To silence this warning, use `float` by itself. Doing this will not modify any behavior and is safe. If you specifically wanted the numpy scalar type, use `np.float64` here.\n",
      "Deprecated in NumPy 1.20; for more details and guidance: https://numpy.org/devdocs/release/1.20.0-notes.html#deprecations\n",
      "  predominant = (X_train[feature].value_counts() / np.float(\n",
      "C:\\Users\\Arindam Banerji\\AppData\\Local\\Temp\\ipykernel_4560\\3063198154.py:13: DeprecationWarning: `np.float` is a deprecated alias for the builtin `float`. To silence this warning, use `float` by itself. Doing this will not modify any behavior and is safe. If you specifically wanted the numpy scalar type, use `np.float64` here.\n",
      "Deprecated in NumPy 1.20; for more details and guidance: https://numpy.org/devdocs/release/1.20.0-notes.html#deprecations\n",
      "  predominant = (X_train[feature].value_counts() / np.float(\n",
      "C:\\Users\\Arindam Banerji\\AppData\\Local\\Temp\\ipykernel_4560\\3063198154.py:13: DeprecationWarning: `np.float` is a deprecated alias for the builtin `float`. To silence this warning, use `float` by itself. Doing this will not modify any behavior and is safe. If you specifically wanted the numpy scalar type, use `np.float64` here.\n",
      "Deprecated in NumPy 1.20; for more details and guidance: https://numpy.org/devdocs/release/1.20.0-notes.html#deprecations\n",
      "  predominant = (X_train[feature].value_counts() / np.float(\n",
      "C:\\Users\\Arindam Banerji\\AppData\\Local\\Temp\\ipykernel_4560\\3063198154.py:13: DeprecationWarning: `np.float` is a deprecated alias for the builtin `float`. To silence this warning, use `float` by itself. Doing this will not modify any behavior and is safe. If you specifically wanted the numpy scalar type, use `np.float64` here.\n",
      "Deprecated in NumPy 1.20; for more details and guidance: https://numpy.org/devdocs/release/1.20.0-notes.html#deprecations\n",
      "  predominant = (X_train[feature].value_counts() / np.float(\n",
      "C:\\Users\\Arindam Banerji\\AppData\\Local\\Temp\\ipykernel_4560\\3063198154.py:13: DeprecationWarning: `np.float` is a deprecated alias for the builtin `float`. To silence this warning, use `float` by itself. Doing this will not modify any behavior and is safe. If you specifically wanted the numpy scalar type, use `np.float64` here.\n",
      "Deprecated in NumPy 1.20; for more details and guidance: https://numpy.org/devdocs/release/1.20.0-notes.html#deprecations\n",
      "  predominant = (X_train[feature].value_counts() / np.float(\n",
      "C:\\Users\\Arindam Banerji\\AppData\\Local\\Temp\\ipykernel_4560\\3063198154.py:13: DeprecationWarning: `np.float` is a deprecated alias for the builtin `float`. To silence this warning, use `float` by itself. Doing this will not modify any behavior and is safe. If you specifically wanted the numpy scalar type, use `np.float64` here.\n",
      "Deprecated in NumPy 1.20; for more details and guidance: https://numpy.org/devdocs/release/1.20.0-notes.html#deprecations\n",
      "  predominant = (X_train[feature].value_counts() / np.float(\n",
      "C:\\Users\\Arindam Banerji\\AppData\\Local\\Temp\\ipykernel_4560\\3063198154.py:13: DeprecationWarning: `np.float` is a deprecated alias for the builtin `float`. To silence this warning, use `float` by itself. Doing this will not modify any behavior and is safe. If you specifically wanted the numpy scalar type, use `np.float64` here.\n",
      "Deprecated in NumPy 1.20; for more details and guidance: https://numpy.org/devdocs/release/1.20.0-notes.html#deprecations\n",
      "  predominant = (X_train[feature].value_counts() / np.float(\n",
      "C:\\Users\\Arindam Banerji\\AppData\\Local\\Temp\\ipykernel_4560\\3063198154.py:13: DeprecationWarning: `np.float` is a deprecated alias for the builtin `float`. To silence this warning, use `float` by itself. Doing this will not modify any behavior and is safe. If you specifically wanted the numpy scalar type, use `np.float64` here.\n",
      "Deprecated in NumPy 1.20; for more details and guidance: https://numpy.org/devdocs/release/1.20.0-notes.html#deprecations\n",
      "  predominant = (X_train[feature].value_counts() / np.float(\n",
      "C:\\Users\\Arindam Banerji\\AppData\\Local\\Temp\\ipykernel_4560\\3063198154.py:13: DeprecationWarning: `np.float` is a deprecated alias for the builtin `float`. To silence this warning, use `float` by itself. Doing this will not modify any behavior and is safe. If you specifically wanted the numpy scalar type, use `np.float64` here.\n",
      "Deprecated in NumPy 1.20; for more details and guidance: https://numpy.org/devdocs/release/1.20.0-notes.html#deprecations\n",
      "  predominant = (X_train[feature].value_counts() / np.float(\n",
      "C:\\Users\\Arindam Banerji\\AppData\\Local\\Temp\\ipykernel_4560\\3063198154.py:13: DeprecationWarning: `np.float` is a deprecated alias for the builtin `float`. To silence this warning, use `float` by itself. Doing this will not modify any behavior and is safe. If you specifically wanted the numpy scalar type, use `np.float64` here.\n",
      "Deprecated in NumPy 1.20; for more details and guidance: https://numpy.org/devdocs/release/1.20.0-notes.html#deprecations\n",
      "  predominant = (X_train[feature].value_counts() / np.float(\n",
      "C:\\Users\\Arindam Banerji\\AppData\\Local\\Temp\\ipykernel_4560\\3063198154.py:13: DeprecationWarning: `np.float` is a deprecated alias for the builtin `float`. To silence this warning, use `float` by itself. Doing this will not modify any behavior and is safe. If you specifically wanted the numpy scalar type, use `np.float64` here.\n",
      "Deprecated in NumPy 1.20; for more details and guidance: https://numpy.org/devdocs/release/1.20.0-notes.html#deprecations\n",
      "  predominant = (X_train[feature].value_counts() / np.float(\n",
      "C:\\Users\\Arindam Banerji\\AppData\\Local\\Temp\\ipykernel_4560\\3063198154.py:13: DeprecationWarning: `np.float` is a deprecated alias for the builtin `float`. To silence this warning, use `float` by itself. Doing this will not modify any behavior and is safe. If you specifically wanted the numpy scalar type, use `np.float64` here.\n",
      "Deprecated in NumPy 1.20; for more details and guidance: https://numpy.org/devdocs/release/1.20.0-notes.html#deprecations\n",
      "  predominant = (X_train[feature].value_counts() / np.float(\n",
      "C:\\Users\\Arindam Banerji\\AppData\\Local\\Temp\\ipykernel_4560\\3063198154.py:13: DeprecationWarning: `np.float` is a deprecated alias for the builtin `float`. To silence this warning, use `float` by itself. Doing this will not modify any behavior and is safe. If you specifically wanted the numpy scalar type, use `np.float64` here.\n",
      "Deprecated in NumPy 1.20; for more details and guidance: https://numpy.org/devdocs/release/1.20.0-notes.html#deprecations\n",
      "  predominant = (X_train[feature].value_counts() / np.float(\n",
      "C:\\Users\\Arindam Banerji\\AppData\\Local\\Temp\\ipykernel_4560\\3063198154.py:13: DeprecationWarning: `np.float` is a deprecated alias for the builtin `float`. To silence this warning, use `float` by itself. Doing this will not modify any behavior and is safe. If you specifically wanted the numpy scalar type, use `np.float64` here.\n",
      "Deprecated in NumPy 1.20; for more details and guidance: https://numpy.org/devdocs/release/1.20.0-notes.html#deprecations\n",
      "  predominant = (X_train[feature].value_counts() / np.float(\n",
      "C:\\Users\\Arindam Banerji\\AppData\\Local\\Temp\\ipykernel_4560\\3063198154.py:13: DeprecationWarning: `np.float` is a deprecated alias for the builtin `float`. To silence this warning, use `float` by itself. Doing this will not modify any behavior and is safe. If you specifically wanted the numpy scalar type, use `np.float64` here.\n",
      "Deprecated in NumPy 1.20; for more details and guidance: https://numpy.org/devdocs/release/1.20.0-notes.html#deprecations\n",
      "  predominant = (X_train[feature].value_counts() / np.float(\n",
      "C:\\Users\\Arindam Banerji\\AppData\\Local\\Temp\\ipykernel_4560\\3063198154.py:13: DeprecationWarning: `np.float` is a deprecated alias for the builtin `float`. To silence this warning, use `float` by itself. Doing this will not modify any behavior and is safe. If you specifically wanted the numpy scalar type, use `np.float64` here.\n",
      "Deprecated in NumPy 1.20; for more details and guidance: https://numpy.org/devdocs/release/1.20.0-notes.html#deprecations\n",
      "  predominant = (X_train[feature].value_counts() / np.float(\n",
      "C:\\Users\\Arindam Banerji\\AppData\\Local\\Temp\\ipykernel_4560\\3063198154.py:13: DeprecationWarning: `np.float` is a deprecated alias for the builtin `float`. To silence this warning, use `float` by itself. Doing this will not modify any behavior and is safe. If you specifically wanted the numpy scalar type, use `np.float64` here.\n",
      "Deprecated in NumPy 1.20; for more details and guidance: https://numpy.org/devdocs/release/1.20.0-notes.html#deprecations\n",
      "  predominant = (X_train[feature].value_counts() / np.float(\n",
      "C:\\Users\\Arindam Banerji\\AppData\\Local\\Temp\\ipykernel_4560\\3063198154.py:13: DeprecationWarning: `np.float` is a deprecated alias for the builtin `float`. To silence this warning, use `float` by itself. Doing this will not modify any behavior and is safe. If you specifically wanted the numpy scalar type, use `np.float64` here.\n",
      "Deprecated in NumPy 1.20; for more details and guidance: https://numpy.org/devdocs/release/1.20.0-notes.html#deprecations\n",
      "  predominant = (X_train[feature].value_counts() / np.float(\n",
      "C:\\Users\\Arindam Banerji\\AppData\\Local\\Temp\\ipykernel_4560\\3063198154.py:13: DeprecationWarning: `np.float` is a deprecated alias for the builtin `float`. To silence this warning, use `float` by itself. Doing this will not modify any behavior and is safe. If you specifically wanted the numpy scalar type, use `np.float64` here.\n",
      "Deprecated in NumPy 1.20; for more details and guidance: https://numpy.org/devdocs/release/1.20.0-notes.html#deprecations\n",
      "  predominant = (X_train[feature].value_counts() / np.float(\n",
      "C:\\Users\\Arindam Banerji\\AppData\\Local\\Temp\\ipykernel_4560\\3063198154.py:13: DeprecationWarning: `np.float` is a deprecated alias for the builtin `float`. To silence this warning, use `float` by itself. Doing this will not modify any behavior and is safe. If you specifically wanted the numpy scalar type, use `np.float64` here.\n",
      "Deprecated in NumPy 1.20; for more details and guidance: https://numpy.org/devdocs/release/1.20.0-notes.html#deprecations\n",
      "  predominant = (X_train[feature].value_counts() / np.float(\n",
      "C:\\Users\\Arindam Banerji\\AppData\\Local\\Temp\\ipykernel_4560\\3063198154.py:13: DeprecationWarning: `np.float` is a deprecated alias for the builtin `float`. To silence this warning, use `float` by itself. Doing this will not modify any behavior and is safe. If you specifically wanted the numpy scalar type, use `np.float64` here.\n",
      "Deprecated in NumPy 1.20; for more details and guidance: https://numpy.org/devdocs/release/1.20.0-notes.html#deprecations\n",
      "  predominant = (X_train[feature].value_counts() / np.float(\n",
      "C:\\Users\\Arindam Banerji\\AppData\\Local\\Temp\\ipykernel_4560\\3063198154.py:13: DeprecationWarning: `np.float` is a deprecated alias for the builtin `float`. To silence this warning, use `float` by itself. Doing this will not modify any behavior and is safe. If you specifically wanted the numpy scalar type, use `np.float64` here.\n",
      "Deprecated in NumPy 1.20; for more details and guidance: https://numpy.org/devdocs/release/1.20.0-notes.html#deprecations\n",
      "  predominant = (X_train[feature].value_counts() / np.float(\n",
      "C:\\Users\\Arindam Banerji\\AppData\\Local\\Temp\\ipykernel_4560\\3063198154.py:13: DeprecationWarning: `np.float` is a deprecated alias for the builtin `float`. To silence this warning, use `float` by itself. Doing this will not modify any behavior and is safe. If you specifically wanted the numpy scalar type, use `np.float64` here.\n",
      "Deprecated in NumPy 1.20; for more details and guidance: https://numpy.org/devdocs/release/1.20.0-notes.html#deprecations\n",
      "  predominant = (X_train[feature].value_counts() / np.float(\n",
      "C:\\Users\\Arindam Banerji\\AppData\\Local\\Temp\\ipykernel_4560\\3063198154.py:13: DeprecationWarning: `np.float` is a deprecated alias for the builtin `float`. To silence this warning, use `float` by itself. Doing this will not modify any behavior and is safe. If you specifically wanted the numpy scalar type, use `np.float64` here.\n",
      "Deprecated in NumPy 1.20; for more details and guidance: https://numpy.org/devdocs/release/1.20.0-notes.html#deprecations\n",
      "  predominant = (X_train[feature].value_counts() / np.float(\n",
      "C:\\Users\\Arindam Banerji\\AppData\\Local\\Temp\\ipykernel_4560\\3063198154.py:13: DeprecationWarning: `np.float` is a deprecated alias for the builtin `float`. To silence this warning, use `float` by itself. Doing this will not modify any behavior and is safe. If you specifically wanted the numpy scalar type, use `np.float64` here.\n",
      "Deprecated in NumPy 1.20; for more details and guidance: https://numpy.org/devdocs/release/1.20.0-notes.html#deprecations\n",
      "  predominant = (X_train[feature].value_counts() / np.float(\n",
      "C:\\Users\\Arindam Banerji\\AppData\\Local\\Temp\\ipykernel_4560\\3063198154.py:13: DeprecationWarning: `np.float` is a deprecated alias for the builtin `float`. To silence this warning, use `float` by itself. Doing this will not modify any behavior and is safe. If you specifically wanted the numpy scalar type, use `np.float64` here.\n",
      "Deprecated in NumPy 1.20; for more details and guidance: https://numpy.org/devdocs/release/1.20.0-notes.html#deprecations\n",
      "  predominant = (X_train[feature].value_counts() / np.float(\n",
      "C:\\Users\\Arindam Banerji\\AppData\\Local\\Temp\\ipykernel_4560\\3063198154.py:13: DeprecationWarning: `np.float` is a deprecated alias for the builtin `float`. To silence this warning, use `float` by itself. Doing this will not modify any behavior and is safe. If you specifically wanted the numpy scalar type, use `np.float64` here.\n",
      "Deprecated in NumPy 1.20; for more details and guidance: https://numpy.org/devdocs/release/1.20.0-notes.html#deprecations\n",
      "  predominant = (X_train[feature].value_counts() / np.float(\n",
      "C:\\Users\\Arindam Banerji\\AppData\\Local\\Temp\\ipykernel_4560\\3063198154.py:13: DeprecationWarning: `np.float` is a deprecated alias for the builtin `float`. To silence this warning, use `float` by itself. Doing this will not modify any behavior and is safe. If you specifically wanted the numpy scalar type, use `np.float64` here.\n",
      "Deprecated in NumPy 1.20; for more details and guidance: https://numpy.org/devdocs/release/1.20.0-notes.html#deprecations\n",
      "  predominant = (X_train[feature].value_counts() / np.float(\n",
      "C:\\Users\\Arindam Banerji\\AppData\\Local\\Temp\\ipykernel_4560\\3063198154.py:13: DeprecationWarning: `np.float` is a deprecated alias for the builtin `float`. To silence this warning, use `float` by itself. Doing this will not modify any behavior and is safe. If you specifically wanted the numpy scalar type, use `np.float64` here.\n",
      "Deprecated in NumPy 1.20; for more details and guidance: https://numpy.org/devdocs/release/1.20.0-notes.html#deprecations\n",
      "  predominant = (X_train[feature].value_counts() / np.float(\n",
      "C:\\Users\\Arindam Banerji\\AppData\\Local\\Temp\\ipykernel_4560\\3063198154.py:13: DeprecationWarning: `np.float` is a deprecated alias for the builtin `float`. To silence this warning, use `float` by itself. Doing this will not modify any behavior and is safe. If you specifically wanted the numpy scalar type, use `np.float64` here.\n",
      "Deprecated in NumPy 1.20; for more details and guidance: https://numpy.org/devdocs/release/1.20.0-notes.html#deprecations\n",
      "  predominant = (X_train[feature].value_counts() / np.float(\n",
      "C:\\Users\\Arindam Banerji\\AppData\\Local\\Temp\\ipykernel_4560\\3063198154.py:13: DeprecationWarning: `np.float` is a deprecated alias for the builtin `float`. To silence this warning, use `float` by itself. Doing this will not modify any behavior and is safe. If you specifically wanted the numpy scalar type, use `np.float64` here.\n",
      "Deprecated in NumPy 1.20; for more details and guidance: https://numpy.org/devdocs/release/1.20.0-notes.html#deprecations\n",
      "  predominant = (X_train[feature].value_counts() / np.float(\n",
      "C:\\Users\\Arindam Banerji\\AppData\\Local\\Temp\\ipykernel_4560\\3063198154.py:13: DeprecationWarning: `np.float` is a deprecated alias for the builtin `float`. To silence this warning, use `float` by itself. Doing this will not modify any behavior and is safe. If you specifically wanted the numpy scalar type, use `np.float64` here.\n",
      "Deprecated in NumPy 1.20; for more details and guidance: https://numpy.org/devdocs/release/1.20.0-notes.html#deprecations\n",
      "  predominant = (X_train[feature].value_counts() / np.float(\n",
      "C:\\Users\\Arindam Banerji\\AppData\\Local\\Temp\\ipykernel_4560\\3063198154.py:13: DeprecationWarning: `np.float` is a deprecated alias for the builtin `float`. To silence this warning, use `float` by itself. Doing this will not modify any behavior and is safe. If you specifically wanted the numpy scalar type, use `np.float64` here.\n",
      "Deprecated in NumPy 1.20; for more details and guidance: https://numpy.org/devdocs/release/1.20.0-notes.html#deprecations\n",
      "  predominant = (X_train[feature].value_counts() / np.float(\n",
      "C:\\Users\\Arindam Banerji\\AppData\\Local\\Temp\\ipykernel_4560\\3063198154.py:13: DeprecationWarning: `np.float` is a deprecated alias for the builtin `float`. To silence this warning, use `float` by itself. Doing this will not modify any behavior and is safe. If you specifically wanted the numpy scalar type, use `np.float64` here.\n",
      "Deprecated in NumPy 1.20; for more details and guidance: https://numpy.org/devdocs/release/1.20.0-notes.html#deprecations\n",
      "  predominant = (X_train[feature].value_counts() / np.float(\n",
      "C:\\Users\\Arindam Banerji\\AppData\\Local\\Temp\\ipykernel_4560\\3063198154.py:13: DeprecationWarning: `np.float` is a deprecated alias for the builtin `float`. To silence this warning, use `float` by itself. Doing this will not modify any behavior and is safe. If you specifically wanted the numpy scalar type, use `np.float64` here.\n",
      "Deprecated in NumPy 1.20; for more details and guidance: https://numpy.org/devdocs/release/1.20.0-notes.html#deprecations\n",
      "  predominant = (X_train[feature].value_counts() / np.float(\n",
      "C:\\Users\\Arindam Banerji\\AppData\\Local\\Temp\\ipykernel_4560\\3063198154.py:13: DeprecationWarning: `np.float` is a deprecated alias for the builtin `float`. To silence this warning, use `float` by itself. Doing this will not modify any behavior and is safe. If you specifically wanted the numpy scalar type, use `np.float64` here.\n",
      "Deprecated in NumPy 1.20; for more details and guidance: https://numpy.org/devdocs/release/1.20.0-notes.html#deprecations\n",
      "  predominant = (X_train[feature].value_counts() / np.float(\n",
      "C:\\Users\\Arindam Banerji\\AppData\\Local\\Temp\\ipykernel_4560\\3063198154.py:13: DeprecationWarning: `np.float` is a deprecated alias for the builtin `float`. To silence this warning, use `float` by itself. Doing this will not modify any behavior and is safe. If you specifically wanted the numpy scalar type, use `np.float64` here.\n",
      "Deprecated in NumPy 1.20; for more details and guidance: https://numpy.org/devdocs/release/1.20.0-notes.html#deprecations\n",
      "  predominant = (X_train[feature].value_counts() / np.float(\n",
      "C:\\Users\\Arindam Banerji\\AppData\\Local\\Temp\\ipykernel_4560\\3063198154.py:13: DeprecationWarning: `np.float` is a deprecated alias for the builtin `float`. To silence this warning, use `float` by itself. Doing this will not modify any behavior and is safe. If you specifically wanted the numpy scalar type, use `np.float64` here.\n",
      "Deprecated in NumPy 1.20; for more details and guidance: https://numpy.org/devdocs/release/1.20.0-notes.html#deprecations\n",
      "  predominant = (X_train[feature].value_counts() / np.float(\n",
      "C:\\Users\\Arindam Banerji\\AppData\\Local\\Temp\\ipykernel_4560\\3063198154.py:13: DeprecationWarning: `np.float` is a deprecated alias for the builtin `float`. To silence this warning, use `float` by itself. Doing this will not modify any behavior and is safe. If you specifically wanted the numpy scalar type, use `np.float64` here.\n",
      "Deprecated in NumPy 1.20; for more details and guidance: https://numpy.org/devdocs/release/1.20.0-notes.html#deprecations\n",
      "  predominant = (X_train[feature].value_counts() / np.float(\n",
      "C:\\Users\\Arindam Banerji\\AppData\\Local\\Temp\\ipykernel_4560\\3063198154.py:13: DeprecationWarning: `np.float` is a deprecated alias for the builtin `float`. To silence this warning, use `float` by itself. Doing this will not modify any behavior and is safe. If you specifically wanted the numpy scalar type, use `np.float64` here.\n",
      "Deprecated in NumPy 1.20; for more details and guidance: https://numpy.org/devdocs/release/1.20.0-notes.html#deprecations\n",
      "  predominant = (X_train[feature].value_counts() / np.float(\n",
      "C:\\Users\\Arindam Banerji\\AppData\\Local\\Temp\\ipykernel_4560\\3063198154.py:13: DeprecationWarning: `np.float` is a deprecated alias for the builtin `float`. To silence this warning, use `float` by itself. Doing this will not modify any behavior and is safe. If you specifically wanted the numpy scalar type, use `np.float64` here.\n",
      "Deprecated in NumPy 1.20; for more details and guidance: https://numpy.org/devdocs/release/1.20.0-notes.html#deprecations\n",
      "  predominant = (X_train[feature].value_counts() / np.float(\n",
      "C:\\Users\\Arindam Banerji\\AppData\\Local\\Temp\\ipykernel_4560\\3063198154.py:13: DeprecationWarning: `np.float` is a deprecated alias for the builtin `float`. To silence this warning, use `float` by itself. Doing this will not modify any behavior and is safe. If you specifically wanted the numpy scalar type, use `np.float64` here.\n",
      "Deprecated in NumPy 1.20; for more details and guidance: https://numpy.org/devdocs/release/1.20.0-notes.html#deprecations\n",
      "  predominant = (X_train[feature].value_counts() / np.float(\n",
      "C:\\Users\\Arindam Banerji\\AppData\\Local\\Temp\\ipykernel_4560\\3063198154.py:13: DeprecationWarning: `np.float` is a deprecated alias for the builtin `float`. To silence this warning, use `float` by itself. Doing this will not modify any behavior and is safe. If you specifically wanted the numpy scalar type, use `np.float64` here.\n",
      "Deprecated in NumPy 1.20; for more details and guidance: https://numpy.org/devdocs/release/1.20.0-notes.html#deprecations\n",
      "  predominant = (X_train[feature].value_counts() / np.float(\n",
      "C:\\Users\\Arindam Banerji\\AppData\\Local\\Temp\\ipykernel_4560\\3063198154.py:13: DeprecationWarning: `np.float` is a deprecated alias for the builtin `float`. To silence this warning, use `float` by itself. Doing this will not modify any behavior and is safe. If you specifically wanted the numpy scalar type, use `np.float64` here.\n",
      "Deprecated in NumPy 1.20; for more details and guidance: https://numpy.org/devdocs/release/1.20.0-notes.html#deprecations\n",
      "  predominant = (X_train[feature].value_counts() / np.float(\n",
      "C:\\Users\\Arindam Banerji\\AppData\\Local\\Temp\\ipykernel_4560\\3063198154.py:13: DeprecationWarning: `np.float` is a deprecated alias for the builtin `float`. To silence this warning, use `float` by itself. Doing this will not modify any behavior and is safe. If you specifically wanted the numpy scalar type, use `np.float64` here.\n",
      "Deprecated in NumPy 1.20; for more details and guidance: https://numpy.org/devdocs/release/1.20.0-notes.html#deprecations\n",
      "  predominant = (X_train[feature].value_counts() / np.float(\n",
      "C:\\Users\\Arindam Banerji\\AppData\\Local\\Temp\\ipykernel_4560\\3063198154.py:13: DeprecationWarning: `np.float` is a deprecated alias for the builtin `float`. To silence this warning, use `float` by itself. Doing this will not modify any behavior and is safe. If you specifically wanted the numpy scalar type, use `np.float64` here.\n",
      "Deprecated in NumPy 1.20; for more details and guidance: https://numpy.org/devdocs/release/1.20.0-notes.html#deprecations\n",
      "  predominant = (X_train[feature].value_counts() / np.float(\n",
      "C:\\Users\\Arindam Banerji\\AppData\\Local\\Temp\\ipykernel_4560\\3063198154.py:13: DeprecationWarning: `np.float` is a deprecated alias for the builtin `float`. To silence this warning, use `float` by itself. Doing this will not modify any behavior and is safe. If you specifically wanted the numpy scalar type, use `np.float64` here.\n",
      "Deprecated in NumPy 1.20; for more details and guidance: https://numpy.org/devdocs/release/1.20.0-notes.html#deprecations\n",
      "  predominant = (X_train[feature].value_counts() / np.float(\n",
      "C:\\Users\\Arindam Banerji\\AppData\\Local\\Temp\\ipykernel_4560\\3063198154.py:13: DeprecationWarning: `np.float` is a deprecated alias for the builtin `float`. To silence this warning, use `float` by itself. Doing this will not modify any behavior and is safe. If you specifically wanted the numpy scalar type, use `np.float64` here.\n",
      "Deprecated in NumPy 1.20; for more details and guidance: https://numpy.org/devdocs/release/1.20.0-notes.html#deprecations\n",
      "  predominant = (X_train[feature].value_counts() / np.float(\n",
      "C:\\Users\\Arindam Banerji\\AppData\\Local\\Temp\\ipykernel_4560\\3063198154.py:13: DeprecationWarning: `np.float` is a deprecated alias for the builtin `float`. To silence this warning, use `float` by itself. Doing this will not modify any behavior and is safe. If you specifically wanted the numpy scalar type, use `np.float64` here.\n",
      "Deprecated in NumPy 1.20; for more details and guidance: https://numpy.org/devdocs/release/1.20.0-notes.html#deprecations\n",
      "  predominant = (X_train[feature].value_counts() / np.float(\n",
      "C:\\Users\\Arindam Banerji\\AppData\\Local\\Temp\\ipykernel_4560\\3063198154.py:13: DeprecationWarning: `np.float` is a deprecated alias for the builtin `float`. To silence this warning, use `float` by itself. Doing this will not modify any behavior and is safe. If you specifically wanted the numpy scalar type, use `np.float64` here.\n",
      "Deprecated in NumPy 1.20; for more details and guidance: https://numpy.org/devdocs/release/1.20.0-notes.html#deprecations\n",
      "  predominant = (X_train[feature].value_counts() / np.float(\n",
      "C:\\Users\\Arindam Banerji\\AppData\\Local\\Temp\\ipykernel_4560\\3063198154.py:13: DeprecationWarning: `np.float` is a deprecated alias for the builtin `float`. To silence this warning, use `float` by itself. Doing this will not modify any behavior and is safe. If you specifically wanted the numpy scalar type, use `np.float64` here.\n",
      "Deprecated in NumPy 1.20; for more details and guidance: https://numpy.org/devdocs/release/1.20.0-notes.html#deprecations\n",
      "  predominant = (X_train[feature].value_counts() / np.float(\n",
      "C:\\Users\\Arindam Banerji\\AppData\\Local\\Temp\\ipykernel_4560\\3063198154.py:13: DeprecationWarning: `np.float` is a deprecated alias for the builtin `float`. To silence this warning, use `float` by itself. Doing this will not modify any behavior and is safe. If you specifically wanted the numpy scalar type, use `np.float64` here.\n",
      "Deprecated in NumPy 1.20; for more details and guidance: https://numpy.org/devdocs/release/1.20.0-notes.html#deprecations\n",
      "  predominant = (X_train[feature].value_counts() / np.float(\n",
      "C:\\Users\\Arindam Banerji\\AppData\\Local\\Temp\\ipykernel_4560\\3063198154.py:13: DeprecationWarning: `np.float` is a deprecated alias for the builtin `float`. To silence this warning, use `float` by itself. Doing this will not modify any behavior and is safe. If you specifically wanted the numpy scalar type, use `np.float64` here.\n",
      "Deprecated in NumPy 1.20; for more details and guidance: https://numpy.org/devdocs/release/1.20.0-notes.html#deprecations\n",
      "  predominant = (X_train[feature].value_counts() / np.float(\n",
      "C:\\Users\\Arindam Banerji\\AppData\\Local\\Temp\\ipykernel_4560\\3063198154.py:13: DeprecationWarning: `np.float` is a deprecated alias for the builtin `float`. To silence this warning, use `float` by itself. Doing this will not modify any behavior and is safe. If you specifically wanted the numpy scalar type, use `np.float64` here.\n",
      "Deprecated in NumPy 1.20; for more details and guidance: https://numpy.org/devdocs/release/1.20.0-notes.html#deprecations\n",
      "  predominant = (X_train[feature].value_counts() / np.float(\n",
      "C:\\Users\\Arindam Banerji\\AppData\\Local\\Temp\\ipykernel_4560\\3063198154.py:13: DeprecationWarning: `np.float` is a deprecated alias for the builtin `float`. To silence this warning, use `float` by itself. Doing this will not modify any behavior and is safe. If you specifically wanted the numpy scalar type, use `np.float64` here.\n",
      "Deprecated in NumPy 1.20; for more details and guidance: https://numpy.org/devdocs/release/1.20.0-notes.html#deprecations\n",
      "  predominant = (X_train[feature].value_counts() / np.float(\n",
      "C:\\Users\\Arindam Banerji\\AppData\\Local\\Temp\\ipykernel_4560\\3063198154.py:13: DeprecationWarning: `np.float` is a deprecated alias for the builtin `float`. To silence this warning, use `float` by itself. Doing this will not modify any behavior and is safe. If you specifically wanted the numpy scalar type, use `np.float64` here.\n",
      "Deprecated in NumPy 1.20; for more details and guidance: https://numpy.org/devdocs/release/1.20.0-notes.html#deprecations\n",
      "  predominant = (X_train[feature].value_counts() / np.float(\n",
      "C:\\Users\\Arindam Banerji\\AppData\\Local\\Temp\\ipykernel_4560\\3063198154.py:13: DeprecationWarning: `np.float` is a deprecated alias for the builtin `float`. To silence this warning, use `float` by itself. Doing this will not modify any behavior and is safe. If you specifically wanted the numpy scalar type, use `np.float64` here.\n",
      "Deprecated in NumPy 1.20; for more details and guidance: https://numpy.org/devdocs/release/1.20.0-notes.html#deprecations\n",
      "  predominant = (X_train[feature].value_counts() / np.float(\n",
      "C:\\Users\\Arindam Banerji\\AppData\\Local\\Temp\\ipykernel_4560\\3063198154.py:13: DeprecationWarning: `np.float` is a deprecated alias for the builtin `float`. To silence this warning, use `float` by itself. Doing this will not modify any behavior and is safe. If you specifically wanted the numpy scalar type, use `np.float64` here.\n",
      "Deprecated in NumPy 1.20; for more details and guidance: https://numpy.org/devdocs/release/1.20.0-notes.html#deprecations\n",
      "  predominant = (X_train[feature].value_counts() / np.float(\n",
      "C:\\Users\\Arindam Banerji\\AppData\\Local\\Temp\\ipykernel_4560\\3063198154.py:13: DeprecationWarning: `np.float` is a deprecated alias for the builtin `float`. To silence this warning, use `float` by itself. Doing this will not modify any behavior and is safe. If you specifically wanted the numpy scalar type, use `np.float64` here.\n",
      "Deprecated in NumPy 1.20; for more details and guidance: https://numpy.org/devdocs/release/1.20.0-notes.html#deprecations\n",
      "  predominant = (X_train[feature].value_counts() / np.float(\n",
      "C:\\Users\\Arindam Banerji\\AppData\\Local\\Temp\\ipykernel_4560\\3063198154.py:13: DeprecationWarning: `np.float` is a deprecated alias for the builtin `float`. To silence this warning, use `float` by itself. Doing this will not modify any behavior and is safe. If you specifically wanted the numpy scalar type, use `np.float64` here.\n",
      "Deprecated in NumPy 1.20; for more details and guidance: https://numpy.org/devdocs/release/1.20.0-notes.html#deprecations\n",
      "  predominant = (X_train[feature].value_counts() / np.float(\n",
      "C:\\Users\\Arindam Banerji\\AppData\\Local\\Temp\\ipykernel_4560\\3063198154.py:13: DeprecationWarning: `np.float` is a deprecated alias for the builtin `float`. To silence this warning, use `float` by itself. Doing this will not modify any behavior and is safe. If you specifically wanted the numpy scalar type, use `np.float64` here.\n",
      "Deprecated in NumPy 1.20; for more details and guidance: https://numpy.org/devdocs/release/1.20.0-notes.html#deprecations\n",
      "  predominant = (X_train[feature].value_counts() / np.float(\n",
      "C:\\Users\\Arindam Banerji\\AppData\\Local\\Temp\\ipykernel_4560\\3063198154.py:13: DeprecationWarning: `np.float` is a deprecated alias for the builtin `float`. To silence this warning, use `float` by itself. Doing this will not modify any behavior and is safe. If you specifically wanted the numpy scalar type, use `np.float64` here.\n",
      "Deprecated in NumPy 1.20; for more details and guidance: https://numpy.org/devdocs/release/1.20.0-notes.html#deprecations\n",
      "  predominant = (X_train[feature].value_counts() / np.float(\n",
      "C:\\Users\\Arindam Banerji\\AppData\\Local\\Temp\\ipykernel_4560\\3063198154.py:13: DeprecationWarning: `np.float` is a deprecated alias for the builtin `float`. To silence this warning, use `float` by itself. Doing this will not modify any behavior and is safe. If you specifically wanted the numpy scalar type, use `np.float64` here.\n",
      "Deprecated in NumPy 1.20; for more details and guidance: https://numpy.org/devdocs/release/1.20.0-notes.html#deprecations\n",
      "  predominant = (X_train[feature].value_counts() / np.float(\n",
      "C:\\Users\\Arindam Banerji\\AppData\\Local\\Temp\\ipykernel_4560\\3063198154.py:13: DeprecationWarning: `np.float` is a deprecated alias for the builtin `float`. To silence this warning, use `float` by itself. Doing this will not modify any behavior and is safe. If you specifically wanted the numpy scalar type, use `np.float64` here.\n",
      "Deprecated in NumPy 1.20; for more details and guidance: https://numpy.org/devdocs/release/1.20.0-notes.html#deprecations\n",
      "  predominant = (X_train[feature].value_counts() / np.float(\n",
      "C:\\Users\\Arindam Banerji\\AppData\\Local\\Temp\\ipykernel_4560\\3063198154.py:13: DeprecationWarning: `np.float` is a deprecated alias for the builtin `float`. To silence this warning, use `float` by itself. Doing this will not modify any behavior and is safe. If you specifically wanted the numpy scalar type, use `np.float64` here.\n",
      "Deprecated in NumPy 1.20; for more details and guidance: https://numpy.org/devdocs/release/1.20.0-notes.html#deprecations\n",
      "  predominant = (X_train[feature].value_counts() / np.float(\n",
      "C:\\Users\\Arindam Banerji\\AppData\\Local\\Temp\\ipykernel_4560\\3063198154.py:13: DeprecationWarning: `np.float` is a deprecated alias for the builtin `float`. To silence this warning, use `float` by itself. Doing this will not modify any behavior and is safe. If you specifically wanted the numpy scalar type, use `np.float64` here.\n",
      "Deprecated in NumPy 1.20; for more details and guidance: https://numpy.org/devdocs/release/1.20.0-notes.html#deprecations\n",
      "  predominant = (X_train[feature].value_counts() / np.float(\n",
      "C:\\Users\\Arindam Banerji\\AppData\\Local\\Temp\\ipykernel_4560\\3063198154.py:13: DeprecationWarning: `np.float` is a deprecated alias for the builtin `float`. To silence this warning, use `float` by itself. Doing this will not modify any behavior and is safe. If you specifically wanted the numpy scalar type, use `np.float64` here.\n",
      "Deprecated in NumPy 1.20; for more details and guidance: https://numpy.org/devdocs/release/1.20.0-notes.html#deprecations\n",
      "  predominant = (X_train[feature].value_counts() / np.float(\n",
      "C:\\Users\\Arindam Banerji\\AppData\\Local\\Temp\\ipykernel_4560\\3063198154.py:13: DeprecationWarning: `np.float` is a deprecated alias for the builtin `float`. To silence this warning, use `float` by itself. Doing this will not modify any behavior and is safe. If you specifically wanted the numpy scalar type, use `np.float64` here.\n",
      "Deprecated in NumPy 1.20; for more details and guidance: https://numpy.org/devdocs/release/1.20.0-notes.html#deprecations\n",
      "  predominant = (X_train[feature].value_counts() / np.float(\n",
      "C:\\Users\\Arindam Banerji\\AppData\\Local\\Temp\\ipykernel_4560\\3063198154.py:13: DeprecationWarning: `np.float` is a deprecated alias for the builtin `float`. To silence this warning, use `float` by itself. Doing this will not modify any behavior and is safe. If you specifically wanted the numpy scalar type, use `np.float64` here.\n",
      "Deprecated in NumPy 1.20; for more details and guidance: https://numpy.org/devdocs/release/1.20.0-notes.html#deprecations\n",
      "  predominant = (X_train[feature].value_counts() / np.float(\n",
      "C:\\Users\\Arindam Banerji\\AppData\\Local\\Temp\\ipykernel_4560\\3063198154.py:13: DeprecationWarning: `np.float` is a deprecated alias for the builtin `float`. To silence this warning, use `float` by itself. Doing this will not modify any behavior and is safe. If you specifically wanted the numpy scalar type, use `np.float64` here.\n",
      "Deprecated in NumPy 1.20; for more details and guidance: https://numpy.org/devdocs/release/1.20.0-notes.html#deprecations\n",
      "  predominant = (X_train[feature].value_counts() / np.float(\n",
      "C:\\Users\\Arindam Banerji\\AppData\\Local\\Temp\\ipykernel_4560\\3063198154.py:13: DeprecationWarning: `np.float` is a deprecated alias for the builtin `float`. To silence this warning, use `float` by itself. Doing this will not modify any behavior and is safe. If you specifically wanted the numpy scalar type, use `np.float64` here.\n",
      "Deprecated in NumPy 1.20; for more details and guidance: https://numpy.org/devdocs/release/1.20.0-notes.html#deprecations\n",
      "  predominant = (X_train[feature].value_counts() / np.float(\n",
      "C:\\Users\\Arindam Banerji\\AppData\\Local\\Temp\\ipykernel_4560\\3063198154.py:13: DeprecationWarning: `np.float` is a deprecated alias for the builtin `float`. To silence this warning, use `float` by itself. Doing this will not modify any behavior and is safe. If you specifically wanted the numpy scalar type, use `np.float64` here.\n",
      "Deprecated in NumPy 1.20; for more details and guidance: https://numpy.org/devdocs/release/1.20.0-notes.html#deprecations\n",
      "  predominant = (X_train[feature].value_counts() / np.float(\n",
      "C:\\Users\\Arindam Banerji\\AppData\\Local\\Temp\\ipykernel_4560\\3063198154.py:13: DeprecationWarning: `np.float` is a deprecated alias for the builtin `float`. To silence this warning, use `float` by itself. Doing this will not modify any behavior and is safe. If you specifically wanted the numpy scalar type, use `np.float64` here.\n",
      "Deprecated in NumPy 1.20; for more details and guidance: https://numpy.org/devdocs/release/1.20.0-notes.html#deprecations\n",
      "  predominant = (X_train[feature].value_counts() / np.float(\n",
      "C:\\Users\\Arindam Banerji\\AppData\\Local\\Temp\\ipykernel_4560\\3063198154.py:13: DeprecationWarning: `np.float` is a deprecated alias for the builtin `float`. To silence this warning, use `float` by itself. Doing this will not modify any behavior and is safe. If you specifically wanted the numpy scalar type, use `np.float64` here.\n",
      "Deprecated in NumPy 1.20; for more details and guidance: https://numpy.org/devdocs/release/1.20.0-notes.html#deprecations\n",
      "  predominant = (X_train[feature].value_counts() / np.float(\n",
      "C:\\Users\\Arindam Banerji\\AppData\\Local\\Temp\\ipykernel_4560\\3063198154.py:13: DeprecationWarning: `np.float` is a deprecated alias for the builtin `float`. To silence this warning, use `float` by itself. Doing this will not modify any behavior and is safe. If you specifically wanted the numpy scalar type, use `np.float64` here.\n",
      "Deprecated in NumPy 1.20; for more details and guidance: https://numpy.org/devdocs/release/1.20.0-notes.html#deprecations\n",
      "  predominant = (X_train[feature].value_counts() / np.float(\n",
      "C:\\Users\\Arindam Banerji\\AppData\\Local\\Temp\\ipykernel_4560\\3063198154.py:13: DeprecationWarning: `np.float` is a deprecated alias for the builtin `float`. To silence this warning, use `float` by itself. Doing this will not modify any behavior and is safe. If you specifically wanted the numpy scalar type, use `np.float64` here.\n",
      "Deprecated in NumPy 1.20; for more details and guidance: https://numpy.org/devdocs/release/1.20.0-notes.html#deprecations\n",
      "  predominant = (X_train[feature].value_counts() / np.float(\n",
      "C:\\Users\\Arindam Banerji\\AppData\\Local\\Temp\\ipykernel_4560\\3063198154.py:13: DeprecationWarning: `np.float` is a deprecated alias for the builtin `float`. To silence this warning, use `float` by itself. Doing this will not modify any behavior and is safe. If you specifically wanted the numpy scalar type, use `np.float64` here.\n",
      "Deprecated in NumPy 1.20; for more details and guidance: https://numpy.org/devdocs/release/1.20.0-notes.html#deprecations\n",
      "  predominant = (X_train[feature].value_counts() / np.float(\n",
      "C:\\Users\\Arindam Banerji\\AppData\\Local\\Temp\\ipykernel_4560\\3063198154.py:13: DeprecationWarning: `np.float` is a deprecated alias for the builtin `float`. To silence this warning, use `float` by itself. Doing this will not modify any behavior and is safe. If you specifically wanted the numpy scalar type, use `np.float64` here.\n",
      "Deprecated in NumPy 1.20; for more details and guidance: https://numpy.org/devdocs/release/1.20.0-notes.html#deprecations\n",
      "  predominant = (X_train[feature].value_counts() / np.float(\n",
      "C:\\Users\\Arindam Banerji\\AppData\\Local\\Temp\\ipykernel_4560\\3063198154.py:13: DeprecationWarning: `np.float` is a deprecated alias for the builtin `float`. To silence this warning, use `float` by itself. Doing this will not modify any behavior and is safe. If you specifically wanted the numpy scalar type, use `np.float64` here.\n",
      "Deprecated in NumPy 1.20; for more details and guidance: https://numpy.org/devdocs/release/1.20.0-notes.html#deprecations\n",
      "  predominant = (X_train[feature].value_counts() / np.float(\n",
      "C:\\Users\\Arindam Banerji\\AppData\\Local\\Temp\\ipykernel_4560\\3063198154.py:13: DeprecationWarning: `np.float` is a deprecated alias for the builtin `float`. To silence this warning, use `float` by itself. Doing this will not modify any behavior and is safe. If you specifically wanted the numpy scalar type, use `np.float64` here.\n",
      "Deprecated in NumPy 1.20; for more details and guidance: https://numpy.org/devdocs/release/1.20.0-notes.html#deprecations\n",
      "  predominant = (X_train[feature].value_counts() / np.float(\n",
      "C:\\Users\\Arindam Banerji\\AppData\\Local\\Temp\\ipykernel_4560\\3063198154.py:13: DeprecationWarning: `np.float` is a deprecated alias for the builtin `float`. To silence this warning, use `float` by itself. Doing this will not modify any behavior and is safe. If you specifically wanted the numpy scalar type, use `np.float64` here.\n",
      "Deprecated in NumPy 1.20; for more details and guidance: https://numpy.org/devdocs/release/1.20.0-notes.html#deprecations\n",
      "  predominant = (X_train[feature].value_counts() / np.float(\n",
      "C:\\Users\\Arindam Banerji\\AppData\\Local\\Temp\\ipykernel_4560\\3063198154.py:13: DeprecationWarning: `np.float` is a deprecated alias for the builtin `float`. To silence this warning, use `float` by itself. Doing this will not modify any behavior and is safe. If you specifically wanted the numpy scalar type, use `np.float64` here.\n",
      "Deprecated in NumPy 1.20; for more details and guidance: https://numpy.org/devdocs/release/1.20.0-notes.html#deprecations\n",
      "  predominant = (X_train[feature].value_counts() / np.float(\n",
      "C:\\Users\\Arindam Banerji\\AppData\\Local\\Temp\\ipykernel_4560\\3063198154.py:13: DeprecationWarning: `np.float` is a deprecated alias for the builtin `float`. To silence this warning, use `float` by itself. Doing this will not modify any behavior and is safe. If you specifically wanted the numpy scalar type, use `np.float64` here.\n",
      "Deprecated in NumPy 1.20; for more details and guidance: https://numpy.org/devdocs/release/1.20.0-notes.html#deprecations\n",
      "  predominant = (X_train[feature].value_counts() / np.float(\n",
      "C:\\Users\\Arindam Banerji\\AppData\\Local\\Temp\\ipykernel_4560\\3063198154.py:13: DeprecationWarning: `np.float` is a deprecated alias for the builtin `float`. To silence this warning, use `float` by itself. Doing this will not modify any behavior and is safe. If you specifically wanted the numpy scalar type, use `np.float64` here.\n",
      "Deprecated in NumPy 1.20; for more details and guidance: https://numpy.org/devdocs/release/1.20.0-notes.html#deprecations\n",
      "  predominant = (X_train[feature].value_counts() / np.float(\n",
      "C:\\Users\\Arindam Banerji\\AppData\\Local\\Temp\\ipykernel_4560\\3063198154.py:13: DeprecationWarning: `np.float` is a deprecated alias for the builtin `float`. To silence this warning, use `float` by itself. Doing this will not modify any behavior and is safe. If you specifically wanted the numpy scalar type, use `np.float64` here.\n",
      "Deprecated in NumPy 1.20; for more details and guidance: https://numpy.org/devdocs/release/1.20.0-notes.html#deprecations\n",
      "  predominant = (X_train[feature].value_counts() / np.float(\n",
      "C:\\Users\\Arindam Banerji\\AppData\\Local\\Temp\\ipykernel_4560\\3063198154.py:13: DeprecationWarning: `np.float` is a deprecated alias for the builtin `float`. To silence this warning, use `float` by itself. Doing this will not modify any behavior and is safe. If you specifically wanted the numpy scalar type, use `np.float64` here.\n",
      "Deprecated in NumPy 1.20; for more details and guidance: https://numpy.org/devdocs/release/1.20.0-notes.html#deprecations\n",
      "  predominant = (X_train[feature].value_counts() / np.float(\n",
      "C:\\Users\\Arindam Banerji\\AppData\\Local\\Temp\\ipykernel_4560\\3063198154.py:13: DeprecationWarning: `np.float` is a deprecated alias for the builtin `float`. To silence this warning, use `float` by itself. Doing this will not modify any behavior and is safe. If you specifically wanted the numpy scalar type, use `np.float64` here.\n",
      "Deprecated in NumPy 1.20; for more details and guidance: https://numpy.org/devdocs/release/1.20.0-notes.html#deprecations\n",
      "  predominant = (X_train[feature].value_counts() / np.float(\n",
      "C:\\Users\\Arindam Banerji\\AppData\\Local\\Temp\\ipykernel_4560\\3063198154.py:13: DeprecationWarning: `np.float` is a deprecated alias for the builtin `float`. To silence this warning, use `float` by itself. Doing this will not modify any behavior and is safe. If you specifically wanted the numpy scalar type, use `np.float64` here.\n",
      "Deprecated in NumPy 1.20; for more details and guidance: https://numpy.org/devdocs/release/1.20.0-notes.html#deprecations\n",
      "  predominant = (X_train[feature].value_counts() / np.float(\n",
      "C:\\Users\\Arindam Banerji\\AppData\\Local\\Temp\\ipykernel_4560\\3063198154.py:13: DeprecationWarning: `np.float` is a deprecated alias for the builtin `float`. To silence this warning, use `float` by itself. Doing this will not modify any behavior and is safe. If you specifically wanted the numpy scalar type, use `np.float64` here.\n",
      "Deprecated in NumPy 1.20; for more details and guidance: https://numpy.org/devdocs/release/1.20.0-notes.html#deprecations\n",
      "  predominant = (X_train[feature].value_counts() / np.float(\n",
      "C:\\Users\\Arindam Banerji\\AppData\\Local\\Temp\\ipykernel_4560\\3063198154.py:13: DeprecationWarning: `np.float` is a deprecated alias for the builtin `float`. To silence this warning, use `float` by itself. Doing this will not modify any behavior and is safe. If you specifically wanted the numpy scalar type, use `np.float64` here.\n",
      "Deprecated in NumPy 1.20; for more details and guidance: https://numpy.org/devdocs/release/1.20.0-notes.html#deprecations\n",
      "  predominant = (X_train[feature].value_counts() / np.float(\n",
      "C:\\Users\\Arindam Banerji\\AppData\\Local\\Temp\\ipykernel_4560\\3063198154.py:13: DeprecationWarning: `np.float` is a deprecated alias for the builtin `float`. To silence this warning, use `float` by itself. Doing this will not modify any behavior and is safe. If you specifically wanted the numpy scalar type, use `np.float64` here.\n",
      "Deprecated in NumPy 1.20; for more details and guidance: https://numpy.org/devdocs/release/1.20.0-notes.html#deprecations\n",
      "  predominant = (X_train[feature].value_counts() / np.float(\n",
      "C:\\Users\\Arindam Banerji\\AppData\\Local\\Temp\\ipykernel_4560\\3063198154.py:13: DeprecationWarning: `np.float` is a deprecated alias for the builtin `float`. To silence this warning, use `float` by itself. Doing this will not modify any behavior and is safe. If you specifically wanted the numpy scalar type, use `np.float64` here.\n",
      "Deprecated in NumPy 1.20; for more details and guidance: https://numpy.org/devdocs/release/1.20.0-notes.html#deprecations\n",
      "  predominant = (X_train[feature].value_counts() / np.float(\n",
      "C:\\Users\\Arindam Banerji\\AppData\\Local\\Temp\\ipykernel_4560\\3063198154.py:13: DeprecationWarning: `np.float` is a deprecated alias for the builtin `float`. To silence this warning, use `float` by itself. Doing this will not modify any behavior and is safe. If you specifically wanted the numpy scalar type, use `np.float64` here.\n",
      "Deprecated in NumPy 1.20; for more details and guidance: https://numpy.org/devdocs/release/1.20.0-notes.html#deprecations\n",
      "  predominant = (X_train[feature].value_counts() / np.float(\n",
      "C:\\Users\\Arindam Banerji\\AppData\\Local\\Temp\\ipykernel_4560\\3063198154.py:13: DeprecationWarning: `np.float` is a deprecated alias for the builtin `float`. To silence this warning, use `float` by itself. Doing this will not modify any behavior and is safe. If you specifically wanted the numpy scalar type, use `np.float64` here.\n",
      "Deprecated in NumPy 1.20; for more details and guidance: https://numpy.org/devdocs/release/1.20.0-notes.html#deprecations\n",
      "  predominant = (X_train[feature].value_counts() / np.float(\n",
      "C:\\Users\\Arindam Banerji\\AppData\\Local\\Temp\\ipykernel_4560\\3063198154.py:13: DeprecationWarning: `np.float` is a deprecated alias for the builtin `float`. To silence this warning, use `float` by itself. Doing this will not modify any behavior and is safe. If you specifically wanted the numpy scalar type, use `np.float64` here.\n",
      "Deprecated in NumPy 1.20; for more details and guidance: https://numpy.org/devdocs/release/1.20.0-notes.html#deprecations\n",
      "  predominant = (X_train[feature].value_counts() / np.float(\n",
      "C:\\Users\\Arindam Banerji\\AppData\\Local\\Temp\\ipykernel_4560\\3063198154.py:13: DeprecationWarning: `np.float` is a deprecated alias for the builtin `float`. To silence this warning, use `float` by itself. Doing this will not modify any behavior and is safe. If you specifically wanted the numpy scalar type, use `np.float64` here.\n",
      "Deprecated in NumPy 1.20; for more details and guidance: https://numpy.org/devdocs/release/1.20.0-notes.html#deprecations\n",
      "  predominant = (X_train[feature].value_counts() / np.float(\n",
      "C:\\Users\\Arindam Banerji\\AppData\\Local\\Temp\\ipykernel_4560\\3063198154.py:13: DeprecationWarning: `np.float` is a deprecated alias for the builtin `float`. To silence this warning, use `float` by itself. Doing this will not modify any behavior and is safe. If you specifically wanted the numpy scalar type, use `np.float64` here.\n",
      "Deprecated in NumPy 1.20; for more details and guidance: https://numpy.org/devdocs/release/1.20.0-notes.html#deprecations\n",
      "  predominant = (X_train[feature].value_counts() / np.float(\n",
      "C:\\Users\\Arindam Banerji\\AppData\\Local\\Temp\\ipykernel_4560\\3063198154.py:13: DeprecationWarning: `np.float` is a deprecated alias for the builtin `float`. To silence this warning, use `float` by itself. Doing this will not modify any behavior and is safe. If you specifically wanted the numpy scalar type, use `np.float64` here.\n",
      "Deprecated in NumPy 1.20; for more details and guidance: https://numpy.org/devdocs/release/1.20.0-notes.html#deprecations\n",
      "  predominant = (X_train[feature].value_counts() / np.float(\n",
      "C:\\Users\\Arindam Banerji\\AppData\\Local\\Temp\\ipykernel_4560\\3063198154.py:13: DeprecationWarning: `np.float` is a deprecated alias for the builtin `float`. To silence this warning, use `float` by itself. Doing this will not modify any behavior and is safe. If you specifically wanted the numpy scalar type, use `np.float64` here.\n",
      "Deprecated in NumPy 1.20; for more details and guidance: https://numpy.org/devdocs/release/1.20.0-notes.html#deprecations\n",
      "  predominant = (X_train[feature].value_counts() / np.float(\n",
      "C:\\Users\\Arindam Banerji\\AppData\\Local\\Temp\\ipykernel_4560\\3063198154.py:13: DeprecationWarning: `np.float` is a deprecated alias for the builtin `float`. To silence this warning, use `float` by itself. Doing this will not modify any behavior and is safe. If you specifically wanted the numpy scalar type, use `np.float64` here.\n",
      "Deprecated in NumPy 1.20; for more details and guidance: https://numpy.org/devdocs/release/1.20.0-notes.html#deprecations\n",
      "  predominant = (X_train[feature].value_counts() / np.float(\n",
      "C:\\Users\\Arindam Banerji\\AppData\\Local\\Temp\\ipykernel_4560\\3063198154.py:13: DeprecationWarning: `np.float` is a deprecated alias for the builtin `float`. To silence this warning, use `float` by itself. Doing this will not modify any behavior and is safe. If you specifically wanted the numpy scalar type, use `np.float64` here.\n",
      "Deprecated in NumPy 1.20; for more details and guidance: https://numpy.org/devdocs/release/1.20.0-notes.html#deprecations\n",
      "  predominant = (X_train[feature].value_counts() / np.float(\n",
      "C:\\Users\\Arindam Banerji\\AppData\\Local\\Temp\\ipykernel_4560\\3063198154.py:13: DeprecationWarning: `np.float` is a deprecated alias for the builtin `float`. To silence this warning, use `float` by itself. Doing this will not modify any behavior and is safe. If you specifically wanted the numpy scalar type, use `np.float64` here.\n",
      "Deprecated in NumPy 1.20; for more details and guidance: https://numpy.org/devdocs/release/1.20.0-notes.html#deprecations\n",
      "  predominant = (X_train[feature].value_counts() / np.float(\n",
      "C:\\Users\\Arindam Banerji\\AppData\\Local\\Temp\\ipykernel_4560\\3063198154.py:13: DeprecationWarning: `np.float` is a deprecated alias for the builtin `float`. To silence this warning, use `float` by itself. Doing this will not modify any behavior and is safe. If you specifically wanted the numpy scalar type, use `np.float64` here.\n",
      "Deprecated in NumPy 1.20; for more details and guidance: https://numpy.org/devdocs/release/1.20.0-notes.html#deprecations\n",
      "  predominant = (X_train[feature].value_counts() / np.float(\n",
      "C:\\Users\\Arindam Banerji\\AppData\\Local\\Temp\\ipykernel_4560\\3063198154.py:13: DeprecationWarning: `np.float` is a deprecated alias for the builtin `float`. To silence this warning, use `float` by itself. Doing this will not modify any behavior and is safe. If you specifically wanted the numpy scalar type, use `np.float64` here.\n",
      "Deprecated in NumPy 1.20; for more details and guidance: https://numpy.org/devdocs/release/1.20.0-notes.html#deprecations\n",
      "  predominant = (X_train[feature].value_counts() / np.float(\n",
      "C:\\Users\\Arindam Banerji\\AppData\\Local\\Temp\\ipykernel_4560\\3063198154.py:13: DeprecationWarning: `np.float` is a deprecated alias for the builtin `float`. To silence this warning, use `float` by itself. Doing this will not modify any behavior and is safe. If you specifically wanted the numpy scalar type, use `np.float64` here.\n",
      "Deprecated in NumPy 1.20; for more details and guidance: https://numpy.org/devdocs/release/1.20.0-notes.html#deprecations\n",
      "  predominant = (X_train[feature].value_counts() / np.float(\n",
      "C:\\Users\\Arindam Banerji\\AppData\\Local\\Temp\\ipykernel_4560\\3063198154.py:13: DeprecationWarning: `np.float` is a deprecated alias for the builtin `float`. To silence this warning, use `float` by itself. Doing this will not modify any behavior and is safe. If you specifically wanted the numpy scalar type, use `np.float64` here.\n",
      "Deprecated in NumPy 1.20; for more details and guidance: https://numpy.org/devdocs/release/1.20.0-notes.html#deprecations\n",
      "  predominant = (X_train[feature].value_counts() / np.float(\n",
      "C:\\Users\\Arindam Banerji\\AppData\\Local\\Temp\\ipykernel_4560\\3063198154.py:13: DeprecationWarning: `np.float` is a deprecated alias for the builtin `float`. To silence this warning, use `float` by itself. Doing this will not modify any behavior and is safe. If you specifically wanted the numpy scalar type, use `np.float64` here.\n",
      "Deprecated in NumPy 1.20; for more details and guidance: https://numpy.org/devdocs/release/1.20.0-notes.html#deprecations\n",
      "  predominant = (X_train[feature].value_counts() / np.float(\n",
      "C:\\Users\\Arindam Banerji\\AppData\\Local\\Temp\\ipykernel_4560\\3063198154.py:13: DeprecationWarning: `np.float` is a deprecated alias for the builtin `float`. To silence this warning, use `float` by itself. Doing this will not modify any behavior and is safe. If you specifically wanted the numpy scalar type, use `np.float64` here.\n",
      "Deprecated in NumPy 1.20; for more details and guidance: https://numpy.org/devdocs/release/1.20.0-notes.html#deprecations\n",
      "  predominant = (X_train[feature].value_counts() / np.float(\n",
      "C:\\Users\\Arindam Banerji\\AppData\\Local\\Temp\\ipykernel_4560\\3063198154.py:13: DeprecationWarning: `np.float` is a deprecated alias for the builtin `float`. To silence this warning, use `float` by itself. Doing this will not modify any behavior and is safe. If you specifically wanted the numpy scalar type, use `np.float64` here.\n",
      "Deprecated in NumPy 1.20; for more details and guidance: https://numpy.org/devdocs/release/1.20.0-notes.html#deprecations\n",
      "  predominant = (X_train[feature].value_counts() / np.float(\n",
      "C:\\Users\\Arindam Banerji\\AppData\\Local\\Temp\\ipykernel_4560\\3063198154.py:13: DeprecationWarning: `np.float` is a deprecated alias for the builtin `float`. To silence this warning, use `float` by itself. Doing this will not modify any behavior and is safe. If you specifically wanted the numpy scalar type, use `np.float64` here.\n",
      "Deprecated in NumPy 1.20; for more details and guidance: https://numpy.org/devdocs/release/1.20.0-notes.html#deprecations\n",
      "  predominant = (X_train[feature].value_counts() / np.float(\n",
      "C:\\Users\\Arindam Banerji\\AppData\\Local\\Temp\\ipykernel_4560\\3063198154.py:13: DeprecationWarning: `np.float` is a deprecated alias for the builtin `float`. To silence this warning, use `float` by itself. Doing this will not modify any behavior and is safe. If you specifically wanted the numpy scalar type, use `np.float64` here.\n",
      "Deprecated in NumPy 1.20; for more details and guidance: https://numpy.org/devdocs/release/1.20.0-notes.html#deprecations\n",
      "  predominant = (X_train[feature].value_counts() / np.float(\n",
      "C:\\Users\\Arindam Banerji\\AppData\\Local\\Temp\\ipykernel_4560\\3063198154.py:13: DeprecationWarning: `np.float` is a deprecated alias for the builtin `float`. To silence this warning, use `float` by itself. Doing this will not modify any behavior and is safe. If you specifically wanted the numpy scalar type, use `np.float64` here.\n",
      "Deprecated in NumPy 1.20; for more details and guidance: https://numpy.org/devdocs/release/1.20.0-notes.html#deprecations\n",
      "  predominant = (X_train[feature].value_counts() / np.float(\n",
      "C:\\Users\\Arindam Banerji\\AppData\\Local\\Temp\\ipykernel_4560\\3063198154.py:13: DeprecationWarning: `np.float` is a deprecated alias for the builtin `float`. To silence this warning, use `float` by itself. Doing this will not modify any behavior and is safe. If you specifically wanted the numpy scalar type, use `np.float64` here.\n",
      "Deprecated in NumPy 1.20; for more details and guidance: https://numpy.org/devdocs/release/1.20.0-notes.html#deprecations\n",
      "  predominant = (X_train[feature].value_counts() / np.float(\n",
      "C:\\Users\\Arindam Banerji\\AppData\\Local\\Temp\\ipykernel_4560\\3063198154.py:13: DeprecationWarning: `np.float` is a deprecated alias for the builtin `float`. To silence this warning, use `float` by itself. Doing this will not modify any behavior and is safe. If you specifically wanted the numpy scalar type, use `np.float64` here.\n",
      "Deprecated in NumPy 1.20; for more details and guidance: https://numpy.org/devdocs/release/1.20.0-notes.html#deprecations\n",
      "  predominant = (X_train[feature].value_counts() / np.float(\n",
      "C:\\Users\\Arindam Banerji\\AppData\\Local\\Temp\\ipykernel_4560\\3063198154.py:13: DeprecationWarning: `np.float` is a deprecated alias for the builtin `float`. To silence this warning, use `float` by itself. Doing this will not modify any behavior and is safe. If you specifically wanted the numpy scalar type, use `np.float64` here.\n",
      "Deprecated in NumPy 1.20; for more details and guidance: https://numpy.org/devdocs/release/1.20.0-notes.html#deprecations\n",
      "  predominant = (X_train[feature].value_counts() / np.float(\n",
      "C:\\Users\\Arindam Banerji\\AppData\\Local\\Temp\\ipykernel_4560\\3063198154.py:13: DeprecationWarning: `np.float` is a deprecated alias for the builtin `float`. To silence this warning, use `float` by itself. Doing this will not modify any behavior and is safe. If you specifically wanted the numpy scalar type, use `np.float64` here.\n",
      "Deprecated in NumPy 1.20; for more details and guidance: https://numpy.org/devdocs/release/1.20.0-notes.html#deprecations\n",
      "  predominant = (X_train[feature].value_counts() / np.float(\n",
      "C:\\Users\\Arindam Banerji\\AppData\\Local\\Temp\\ipykernel_4560\\3063198154.py:13: DeprecationWarning: `np.float` is a deprecated alias for the builtin `float`. To silence this warning, use `float` by itself. Doing this will not modify any behavior and is safe. If you specifically wanted the numpy scalar type, use `np.float64` here.\n",
      "Deprecated in NumPy 1.20; for more details and guidance: https://numpy.org/devdocs/release/1.20.0-notes.html#deprecations\n",
      "  predominant = (X_train[feature].value_counts() / np.float(\n",
      "C:\\Users\\Arindam Banerji\\AppData\\Local\\Temp\\ipykernel_4560\\3063198154.py:13: DeprecationWarning: `np.float` is a deprecated alias for the builtin `float`. To silence this warning, use `float` by itself. Doing this will not modify any behavior and is safe. If you specifically wanted the numpy scalar type, use `np.float64` here.\n",
      "Deprecated in NumPy 1.20; for more details and guidance: https://numpy.org/devdocs/release/1.20.0-notes.html#deprecations\n",
      "  predominant = (X_train[feature].value_counts() / np.float(\n",
      "C:\\Users\\Arindam Banerji\\AppData\\Local\\Temp\\ipykernel_4560\\3063198154.py:13: DeprecationWarning: `np.float` is a deprecated alias for the builtin `float`. To silence this warning, use `float` by itself. Doing this will not modify any behavior and is safe. If you specifically wanted the numpy scalar type, use `np.float64` here.\n",
      "Deprecated in NumPy 1.20; for more details and guidance: https://numpy.org/devdocs/release/1.20.0-notes.html#deprecations\n",
      "  predominant = (X_train[feature].value_counts() / np.float(\n",
      "C:\\Users\\Arindam Banerji\\AppData\\Local\\Temp\\ipykernel_4560\\3063198154.py:13: DeprecationWarning: `np.float` is a deprecated alias for the builtin `float`. To silence this warning, use `float` by itself. Doing this will not modify any behavior and is safe. If you specifically wanted the numpy scalar type, use `np.float64` here.\n",
      "Deprecated in NumPy 1.20; for more details and guidance: https://numpy.org/devdocs/release/1.20.0-notes.html#deprecations\n",
      "  predominant = (X_train[feature].value_counts() / np.float(\n",
      "C:\\Users\\Arindam Banerji\\AppData\\Local\\Temp\\ipykernel_4560\\3063198154.py:13: DeprecationWarning: `np.float` is a deprecated alias for the builtin `float`. To silence this warning, use `float` by itself. Doing this will not modify any behavior and is safe. If you specifically wanted the numpy scalar type, use `np.float64` here.\n",
      "Deprecated in NumPy 1.20; for more details and guidance: https://numpy.org/devdocs/release/1.20.0-notes.html#deprecations\n",
      "  predominant = (X_train[feature].value_counts() / np.float(\n",
      "C:\\Users\\Arindam Banerji\\AppData\\Local\\Temp\\ipykernel_4560\\3063198154.py:13: DeprecationWarning: `np.float` is a deprecated alias for the builtin `float`. To silence this warning, use `float` by itself. Doing this will not modify any behavior and is safe. If you specifically wanted the numpy scalar type, use `np.float64` here.\n",
      "Deprecated in NumPy 1.20; for more details and guidance: https://numpy.org/devdocs/release/1.20.0-notes.html#deprecations\n",
      "  predominant = (X_train[feature].value_counts() / np.float(\n",
      "C:\\Users\\Arindam Banerji\\AppData\\Local\\Temp\\ipykernel_4560\\3063198154.py:13: DeprecationWarning: `np.float` is a deprecated alias for the builtin `float`. To silence this warning, use `float` by itself. Doing this will not modify any behavior and is safe. If you specifically wanted the numpy scalar type, use `np.float64` here.\n",
      "Deprecated in NumPy 1.20; for more details and guidance: https://numpy.org/devdocs/release/1.20.0-notes.html#deprecations\n",
      "  predominant = (X_train[feature].value_counts() / np.float(\n",
      "C:\\Users\\Arindam Banerji\\AppData\\Local\\Temp\\ipykernel_4560\\3063198154.py:13: DeprecationWarning: `np.float` is a deprecated alias for the builtin `float`. To silence this warning, use `float` by itself. Doing this will not modify any behavior and is safe. If you specifically wanted the numpy scalar type, use `np.float64` here.\n",
      "Deprecated in NumPy 1.20; for more details and guidance: https://numpy.org/devdocs/release/1.20.0-notes.html#deprecations\n",
      "  predominant = (X_train[feature].value_counts() / np.float(\n",
      "C:\\Users\\Arindam Banerji\\AppData\\Local\\Temp\\ipykernel_4560\\3063198154.py:13: DeprecationWarning: `np.float` is a deprecated alias for the builtin `float`. To silence this warning, use `float` by itself. Doing this will not modify any behavior and is safe. If you specifically wanted the numpy scalar type, use `np.float64` here.\n",
      "Deprecated in NumPy 1.20; for more details and guidance: https://numpy.org/devdocs/release/1.20.0-notes.html#deprecations\n",
      "  predominant = (X_train[feature].value_counts() / np.float(\n",
      "C:\\Users\\Arindam Banerji\\AppData\\Local\\Temp\\ipykernel_4560\\3063198154.py:13: DeprecationWarning: `np.float` is a deprecated alias for the builtin `float`. To silence this warning, use `float` by itself. Doing this will not modify any behavior and is safe. If you specifically wanted the numpy scalar type, use `np.float64` here.\n",
      "Deprecated in NumPy 1.20; for more details and guidance: https://numpy.org/devdocs/release/1.20.0-notes.html#deprecations\n",
      "  predominant = (X_train[feature].value_counts() / np.float(\n",
      "C:\\Users\\Arindam Banerji\\AppData\\Local\\Temp\\ipykernel_4560\\3063198154.py:13: DeprecationWarning: `np.float` is a deprecated alias for the builtin `float`. To silence this warning, use `float` by itself. Doing this will not modify any behavior and is safe. If you specifically wanted the numpy scalar type, use `np.float64` here.\n",
      "Deprecated in NumPy 1.20; for more details and guidance: https://numpy.org/devdocs/release/1.20.0-notes.html#deprecations\n",
      "  predominant = (X_train[feature].value_counts() / np.float(\n",
      "C:\\Users\\Arindam Banerji\\AppData\\Local\\Temp\\ipykernel_4560\\3063198154.py:13: DeprecationWarning: `np.float` is a deprecated alias for the builtin `float`. To silence this warning, use `float` by itself. Doing this will not modify any behavior and is safe. If you specifically wanted the numpy scalar type, use `np.float64` here.\n",
      "Deprecated in NumPy 1.20; for more details and guidance: https://numpy.org/devdocs/release/1.20.0-notes.html#deprecations\n",
      "  predominant = (X_train[feature].value_counts() / np.float(\n",
      "C:\\Users\\Arindam Banerji\\AppData\\Local\\Temp\\ipykernel_4560\\3063198154.py:13: DeprecationWarning: `np.float` is a deprecated alias for the builtin `float`. To silence this warning, use `float` by itself. Doing this will not modify any behavior and is safe. If you specifically wanted the numpy scalar type, use `np.float64` here.\n",
      "Deprecated in NumPy 1.20; for more details and guidance: https://numpy.org/devdocs/release/1.20.0-notes.html#deprecations\n",
      "  predominant = (X_train[feature].value_counts() / np.float(\n",
      "C:\\Users\\Arindam Banerji\\AppData\\Local\\Temp\\ipykernel_4560\\3063198154.py:13: DeprecationWarning: `np.float` is a deprecated alias for the builtin `float`. To silence this warning, use `float` by itself. Doing this will not modify any behavior and is safe. If you specifically wanted the numpy scalar type, use `np.float64` here.\n",
      "Deprecated in NumPy 1.20; for more details and guidance: https://numpy.org/devdocs/release/1.20.0-notes.html#deprecations\n",
      "  predominant = (X_train[feature].value_counts() / np.float(\n",
      "C:\\Users\\Arindam Banerji\\AppData\\Local\\Temp\\ipykernel_4560\\3063198154.py:13: DeprecationWarning: `np.float` is a deprecated alias for the builtin `float`. To silence this warning, use `float` by itself. Doing this will not modify any behavior and is safe. If you specifically wanted the numpy scalar type, use `np.float64` here.\n",
      "Deprecated in NumPy 1.20; for more details and guidance: https://numpy.org/devdocs/release/1.20.0-notes.html#deprecations\n",
      "  predominant = (X_train[feature].value_counts() / np.float(\n",
      "C:\\Users\\Arindam Banerji\\AppData\\Local\\Temp\\ipykernel_4560\\3063198154.py:13: DeprecationWarning: `np.float` is a deprecated alias for the builtin `float`. To silence this warning, use `float` by itself. Doing this will not modify any behavior and is safe. If you specifically wanted the numpy scalar type, use `np.float64` here.\n",
      "Deprecated in NumPy 1.20; for more details and guidance: https://numpy.org/devdocs/release/1.20.0-notes.html#deprecations\n",
      "  predominant = (X_train[feature].value_counts() / np.float(\n",
      "C:\\Users\\Arindam Banerji\\AppData\\Local\\Temp\\ipykernel_4560\\3063198154.py:13: DeprecationWarning: `np.float` is a deprecated alias for the builtin `float`. To silence this warning, use `float` by itself. Doing this will not modify any behavior and is safe. If you specifically wanted the numpy scalar type, use `np.float64` here.\n",
      "Deprecated in NumPy 1.20; for more details and guidance: https://numpy.org/devdocs/release/1.20.0-notes.html#deprecations\n",
      "  predominant = (X_train[feature].value_counts() / np.float(\n",
      "C:\\Users\\Arindam Banerji\\AppData\\Local\\Temp\\ipykernel_4560\\3063198154.py:13: DeprecationWarning: `np.float` is a deprecated alias for the builtin `float`. To silence this warning, use `float` by itself. Doing this will not modify any behavior and is safe. If you specifically wanted the numpy scalar type, use `np.float64` here.\n",
      "Deprecated in NumPy 1.20; for more details and guidance: https://numpy.org/devdocs/release/1.20.0-notes.html#deprecations\n",
      "  predominant = (X_train[feature].value_counts() / np.float(\n",
      "C:\\Users\\Arindam Banerji\\AppData\\Local\\Temp\\ipykernel_4560\\3063198154.py:13: DeprecationWarning: `np.float` is a deprecated alias for the builtin `float`. To silence this warning, use `float` by itself. Doing this will not modify any behavior and is safe. If you specifically wanted the numpy scalar type, use `np.float64` here.\n",
      "Deprecated in NumPy 1.20; for more details and guidance: https://numpy.org/devdocs/release/1.20.0-notes.html#deprecations\n",
      "  predominant = (X_train[feature].value_counts() / np.float(\n",
      "C:\\Users\\Arindam Banerji\\AppData\\Local\\Temp\\ipykernel_4560\\3063198154.py:13: DeprecationWarning: `np.float` is a deprecated alias for the builtin `float`. To silence this warning, use `float` by itself. Doing this will not modify any behavior and is safe. If you specifically wanted the numpy scalar type, use `np.float64` here.\n",
      "Deprecated in NumPy 1.20; for more details and guidance: https://numpy.org/devdocs/release/1.20.0-notes.html#deprecations\n",
      "  predominant = (X_train[feature].value_counts() / np.float(\n",
      "C:\\Users\\Arindam Banerji\\AppData\\Local\\Temp\\ipykernel_4560\\3063198154.py:13: DeprecationWarning: `np.float` is a deprecated alias for the builtin `float`. To silence this warning, use `float` by itself. Doing this will not modify any behavior and is safe. If you specifically wanted the numpy scalar type, use `np.float64` here.\n",
      "Deprecated in NumPy 1.20; for more details and guidance: https://numpy.org/devdocs/release/1.20.0-notes.html#deprecations\n",
      "  predominant = (X_train[feature].value_counts() / np.float(\n",
      "C:\\Users\\Arindam Banerji\\AppData\\Local\\Temp\\ipykernel_4560\\3063198154.py:13: DeprecationWarning: `np.float` is a deprecated alias for the builtin `float`. To silence this warning, use `float` by itself. Doing this will not modify any behavior and is safe. If you specifically wanted the numpy scalar type, use `np.float64` here.\n",
      "Deprecated in NumPy 1.20; for more details and guidance: https://numpy.org/devdocs/release/1.20.0-notes.html#deprecations\n",
      "  predominant = (X_train[feature].value_counts() / np.float(\n",
      "C:\\Users\\Arindam Banerji\\AppData\\Local\\Temp\\ipykernel_4560\\3063198154.py:13: DeprecationWarning: `np.float` is a deprecated alias for the builtin `float`. To silence this warning, use `float` by itself. Doing this will not modify any behavior and is safe. If you specifically wanted the numpy scalar type, use `np.float64` here.\n",
      "Deprecated in NumPy 1.20; for more details and guidance: https://numpy.org/devdocs/release/1.20.0-notes.html#deprecations\n",
      "  predominant = (X_train[feature].value_counts() / np.float(\n",
      "C:\\Users\\Arindam Banerji\\AppData\\Local\\Temp\\ipykernel_4560\\3063198154.py:13: DeprecationWarning: `np.float` is a deprecated alias for the builtin `float`. To silence this warning, use `float` by itself. Doing this will not modify any behavior and is safe. If you specifically wanted the numpy scalar type, use `np.float64` here.\n",
      "Deprecated in NumPy 1.20; for more details and guidance: https://numpy.org/devdocs/release/1.20.0-notes.html#deprecations\n",
      "  predominant = (X_train[feature].value_counts() / np.float(\n",
      "C:\\Users\\Arindam Banerji\\AppData\\Local\\Temp\\ipykernel_4560\\3063198154.py:13: DeprecationWarning: `np.float` is a deprecated alias for the builtin `float`. To silence this warning, use `float` by itself. Doing this will not modify any behavior and is safe. If you specifically wanted the numpy scalar type, use `np.float64` here.\n",
      "Deprecated in NumPy 1.20; for more details and guidance: https://numpy.org/devdocs/release/1.20.0-notes.html#deprecations\n",
      "  predominant = (X_train[feature].value_counts() / np.float(\n",
      "C:\\Users\\Arindam Banerji\\AppData\\Local\\Temp\\ipykernel_4560\\3063198154.py:13: DeprecationWarning: `np.float` is a deprecated alias for the builtin `float`. To silence this warning, use `float` by itself. Doing this will not modify any behavior and is safe. If you specifically wanted the numpy scalar type, use `np.float64` here.\n",
      "Deprecated in NumPy 1.20; for more details and guidance: https://numpy.org/devdocs/release/1.20.0-notes.html#deprecations\n",
      "  predominant = (X_train[feature].value_counts() / np.float(\n",
      "C:\\Users\\Arindam Banerji\\AppData\\Local\\Temp\\ipykernel_4560\\3063198154.py:13: DeprecationWarning: `np.float` is a deprecated alias for the builtin `float`. To silence this warning, use `float` by itself. Doing this will not modify any behavior and is safe. If you specifically wanted the numpy scalar type, use `np.float64` here.\n",
      "Deprecated in NumPy 1.20; for more details and guidance: https://numpy.org/devdocs/release/1.20.0-notes.html#deprecations\n",
      "  predominant = (X_train[feature].value_counts() / np.float(\n",
      "C:\\Users\\Arindam Banerji\\AppData\\Local\\Temp\\ipykernel_4560\\3063198154.py:13: DeprecationWarning: `np.float` is a deprecated alias for the builtin `float`. To silence this warning, use `float` by itself. Doing this will not modify any behavior and is safe. If you specifically wanted the numpy scalar type, use `np.float64` here.\n",
      "Deprecated in NumPy 1.20; for more details and guidance: https://numpy.org/devdocs/release/1.20.0-notes.html#deprecations\n",
      "  predominant = (X_train[feature].value_counts() / np.float(\n",
      "C:\\Users\\Arindam Banerji\\AppData\\Local\\Temp\\ipykernel_4560\\3063198154.py:13: DeprecationWarning: `np.float` is a deprecated alias for the builtin `float`. To silence this warning, use `float` by itself. Doing this will not modify any behavior and is safe. If you specifically wanted the numpy scalar type, use `np.float64` here.\n",
      "Deprecated in NumPy 1.20; for more details and guidance: https://numpy.org/devdocs/release/1.20.0-notes.html#deprecations\n",
      "  predominant = (X_train[feature].value_counts() / np.float(\n",
      "C:\\Users\\Arindam Banerji\\AppData\\Local\\Temp\\ipykernel_4560\\3063198154.py:13: DeprecationWarning: `np.float` is a deprecated alias for the builtin `float`. To silence this warning, use `float` by itself. Doing this will not modify any behavior and is safe. If you specifically wanted the numpy scalar type, use `np.float64` here.\n",
      "Deprecated in NumPy 1.20; for more details and guidance: https://numpy.org/devdocs/release/1.20.0-notes.html#deprecations\n",
      "  predominant = (X_train[feature].value_counts() / np.float(\n",
      "C:\\Users\\Arindam Banerji\\AppData\\Local\\Temp\\ipykernel_4560\\3063198154.py:13: DeprecationWarning: `np.float` is a deprecated alias for the builtin `float`. To silence this warning, use `float` by itself. Doing this will not modify any behavior and is safe. If you specifically wanted the numpy scalar type, use `np.float64` here.\n",
      "Deprecated in NumPy 1.20; for more details and guidance: https://numpy.org/devdocs/release/1.20.0-notes.html#deprecations\n",
      "  predominant = (X_train[feature].value_counts() / np.float(\n",
      "C:\\Users\\Arindam Banerji\\AppData\\Local\\Temp\\ipykernel_4560\\3063198154.py:13: DeprecationWarning: `np.float` is a deprecated alias for the builtin `float`. To silence this warning, use `float` by itself. Doing this will not modify any behavior and is safe. If you specifically wanted the numpy scalar type, use `np.float64` here.\n",
      "Deprecated in NumPy 1.20; for more details and guidance: https://numpy.org/devdocs/release/1.20.0-notes.html#deprecations\n",
      "  predominant = (X_train[feature].value_counts() / np.float(\n",
      "C:\\Users\\Arindam Banerji\\AppData\\Local\\Temp\\ipykernel_4560\\3063198154.py:13: DeprecationWarning: `np.float` is a deprecated alias for the builtin `float`. To silence this warning, use `float` by itself. Doing this will not modify any behavior and is safe. If you specifically wanted the numpy scalar type, use `np.float64` here.\n",
      "Deprecated in NumPy 1.20; for more details and guidance: https://numpy.org/devdocs/release/1.20.0-notes.html#deprecations\n",
      "  predominant = (X_train[feature].value_counts() / np.float(\n",
      "C:\\Users\\Arindam Banerji\\AppData\\Local\\Temp\\ipykernel_4560\\3063198154.py:13: DeprecationWarning: `np.float` is a deprecated alias for the builtin `float`. To silence this warning, use `float` by itself. Doing this will not modify any behavior and is safe. If you specifically wanted the numpy scalar type, use `np.float64` here.\n",
      "Deprecated in NumPy 1.20; for more details and guidance: https://numpy.org/devdocs/release/1.20.0-notes.html#deprecations\n",
      "  predominant = (X_train[feature].value_counts() / np.float(\n",
      "C:\\Users\\Arindam Banerji\\AppData\\Local\\Temp\\ipykernel_4560\\3063198154.py:13: DeprecationWarning: `np.float` is a deprecated alias for the builtin `float`. To silence this warning, use `float` by itself. Doing this will not modify any behavior and is safe. If you specifically wanted the numpy scalar type, use `np.float64` here.\n",
      "Deprecated in NumPy 1.20; for more details and guidance: https://numpy.org/devdocs/release/1.20.0-notes.html#deprecations\n",
      "  predominant = (X_train[feature].value_counts() / np.float(\n",
      "C:\\Users\\Arindam Banerji\\AppData\\Local\\Temp\\ipykernel_4560\\3063198154.py:13: DeprecationWarning: `np.float` is a deprecated alias for the builtin `float`. To silence this warning, use `float` by itself. Doing this will not modify any behavior and is safe. If you specifically wanted the numpy scalar type, use `np.float64` here.\n",
      "Deprecated in NumPy 1.20; for more details and guidance: https://numpy.org/devdocs/release/1.20.0-notes.html#deprecations\n",
      "  predominant = (X_train[feature].value_counts() / np.float(\n",
      "C:\\Users\\Arindam Banerji\\AppData\\Local\\Temp\\ipykernel_4560\\3063198154.py:13: DeprecationWarning: `np.float` is a deprecated alias for the builtin `float`. To silence this warning, use `float` by itself. Doing this will not modify any behavior and is safe. If you specifically wanted the numpy scalar type, use `np.float64` here.\n",
      "Deprecated in NumPy 1.20; for more details and guidance: https://numpy.org/devdocs/release/1.20.0-notes.html#deprecations\n",
      "  predominant = (X_train[feature].value_counts() / np.float(\n",
      "C:\\Users\\Arindam Banerji\\AppData\\Local\\Temp\\ipykernel_4560\\3063198154.py:13: DeprecationWarning: `np.float` is a deprecated alias for the builtin `float`. To silence this warning, use `float` by itself. Doing this will not modify any behavior and is safe. If you specifically wanted the numpy scalar type, use `np.float64` here.\n",
      "Deprecated in NumPy 1.20; for more details and guidance: https://numpy.org/devdocs/release/1.20.0-notes.html#deprecations\n",
      "  predominant = (X_train[feature].value_counts() / np.float(\n",
      "C:\\Users\\Arindam Banerji\\AppData\\Local\\Temp\\ipykernel_4560\\3063198154.py:13: DeprecationWarning: `np.float` is a deprecated alias for the builtin `float`. To silence this warning, use `float` by itself. Doing this will not modify any behavior and is safe. If you specifically wanted the numpy scalar type, use `np.float64` here.\n",
      "Deprecated in NumPy 1.20; for more details and guidance: https://numpy.org/devdocs/release/1.20.0-notes.html#deprecations\n",
      "  predominant = (X_train[feature].value_counts() / np.float(\n",
      "C:\\Users\\Arindam Banerji\\AppData\\Local\\Temp\\ipykernel_4560\\3063198154.py:13: DeprecationWarning: `np.float` is a deprecated alias for the builtin `float`. To silence this warning, use `float` by itself. Doing this will not modify any behavior and is safe. If you specifically wanted the numpy scalar type, use `np.float64` here.\n",
      "Deprecated in NumPy 1.20; for more details and guidance: https://numpy.org/devdocs/release/1.20.0-notes.html#deprecations\n",
      "  predominant = (X_train[feature].value_counts() / np.float(\n",
      "C:\\Users\\Arindam Banerji\\AppData\\Local\\Temp\\ipykernel_4560\\3063198154.py:13: DeprecationWarning: `np.float` is a deprecated alias for the builtin `float`. To silence this warning, use `float` by itself. Doing this will not modify any behavior and is safe. If you specifically wanted the numpy scalar type, use `np.float64` here.\n",
      "Deprecated in NumPy 1.20; for more details and guidance: https://numpy.org/devdocs/release/1.20.0-notes.html#deprecations\n",
      "  predominant = (X_train[feature].value_counts() / np.float(\n",
      "C:\\Users\\Arindam Banerji\\AppData\\Local\\Temp\\ipykernel_4560\\3063198154.py:13: DeprecationWarning: `np.float` is a deprecated alias for the builtin `float`. To silence this warning, use `float` by itself. Doing this will not modify any behavior and is safe. If you specifically wanted the numpy scalar type, use `np.float64` here.\n",
      "Deprecated in NumPy 1.20; for more details and guidance: https://numpy.org/devdocs/release/1.20.0-notes.html#deprecations\n",
      "  predominant = (X_train[feature].value_counts() / np.float(\n",
      "C:\\Users\\Arindam Banerji\\AppData\\Local\\Temp\\ipykernel_4560\\3063198154.py:13: DeprecationWarning: `np.float` is a deprecated alias for the builtin `float`. To silence this warning, use `float` by itself. Doing this will not modify any behavior and is safe. If you specifically wanted the numpy scalar type, use `np.float64` here.\n",
      "Deprecated in NumPy 1.20; for more details and guidance: https://numpy.org/devdocs/release/1.20.0-notes.html#deprecations\n",
      "  predominant = (X_train[feature].value_counts() / np.float(\n",
      "C:\\Users\\Arindam Banerji\\AppData\\Local\\Temp\\ipykernel_4560\\3063198154.py:13: DeprecationWarning: `np.float` is a deprecated alias for the builtin `float`. To silence this warning, use `float` by itself. Doing this will not modify any behavior and is safe. If you specifically wanted the numpy scalar type, use `np.float64` here.\n",
      "Deprecated in NumPy 1.20; for more details and guidance: https://numpy.org/devdocs/release/1.20.0-notes.html#deprecations\n",
      "  predominant = (X_train[feature].value_counts() / np.float(\n",
      "C:\\Users\\Arindam Banerji\\AppData\\Local\\Temp\\ipykernel_4560\\3063198154.py:13: DeprecationWarning: `np.float` is a deprecated alias for the builtin `float`. To silence this warning, use `float` by itself. Doing this will not modify any behavior and is safe. If you specifically wanted the numpy scalar type, use `np.float64` here.\n",
      "Deprecated in NumPy 1.20; for more details and guidance: https://numpy.org/devdocs/release/1.20.0-notes.html#deprecations\n",
      "  predominant = (X_train[feature].value_counts() / np.float(\n",
      "C:\\Users\\Arindam Banerji\\AppData\\Local\\Temp\\ipykernel_4560\\3063198154.py:13: DeprecationWarning: `np.float` is a deprecated alias for the builtin `float`. To silence this warning, use `float` by itself. Doing this will not modify any behavior and is safe. If you specifically wanted the numpy scalar type, use `np.float64` here.\n",
      "Deprecated in NumPy 1.20; for more details and guidance: https://numpy.org/devdocs/release/1.20.0-notes.html#deprecations\n",
      "  predominant = (X_train[feature].value_counts() / np.float(\n",
      "C:\\Users\\Arindam Banerji\\AppData\\Local\\Temp\\ipykernel_4560\\3063198154.py:13: DeprecationWarning: `np.float` is a deprecated alias for the builtin `float`. To silence this warning, use `float` by itself. Doing this will not modify any behavior and is safe. If you specifically wanted the numpy scalar type, use `np.float64` here.\n",
      "Deprecated in NumPy 1.20; for more details and guidance: https://numpy.org/devdocs/release/1.20.0-notes.html#deprecations\n",
      "  predominant = (X_train[feature].value_counts() / np.float(\n",
      "C:\\Users\\Arindam Banerji\\AppData\\Local\\Temp\\ipykernel_4560\\3063198154.py:13: DeprecationWarning: `np.float` is a deprecated alias for the builtin `float`. To silence this warning, use `float` by itself. Doing this will not modify any behavior and is safe. If you specifically wanted the numpy scalar type, use `np.float64` here.\n",
      "Deprecated in NumPy 1.20; for more details and guidance: https://numpy.org/devdocs/release/1.20.0-notes.html#deprecations\n",
      "  predominant = (X_train[feature].value_counts() / np.float(\n",
      "C:\\Users\\Arindam Banerji\\AppData\\Local\\Temp\\ipykernel_4560\\3063198154.py:13: DeprecationWarning: `np.float` is a deprecated alias for the builtin `float`. To silence this warning, use `float` by itself. Doing this will not modify any behavior and is safe. If you specifically wanted the numpy scalar type, use `np.float64` here.\n",
      "Deprecated in NumPy 1.20; for more details and guidance: https://numpy.org/devdocs/release/1.20.0-notes.html#deprecations\n",
      "  predominant = (X_train[feature].value_counts() / np.float(\n",
      "C:\\Users\\Arindam Banerji\\AppData\\Local\\Temp\\ipykernel_4560\\3063198154.py:13: DeprecationWarning: `np.float` is a deprecated alias for the builtin `float`. To silence this warning, use `float` by itself. Doing this will not modify any behavior and is safe. If you specifically wanted the numpy scalar type, use `np.float64` here.\n",
      "Deprecated in NumPy 1.20; for more details and guidance: https://numpy.org/devdocs/release/1.20.0-notes.html#deprecations\n",
      "  predominant = (X_train[feature].value_counts() / np.float(\n",
      "C:\\Users\\Arindam Banerji\\AppData\\Local\\Temp\\ipykernel_4560\\3063198154.py:13: DeprecationWarning: `np.float` is a deprecated alias for the builtin `float`. To silence this warning, use `float` by itself. Doing this will not modify any behavior and is safe. If you specifically wanted the numpy scalar type, use `np.float64` here.\n",
      "Deprecated in NumPy 1.20; for more details and guidance: https://numpy.org/devdocs/release/1.20.0-notes.html#deprecations\n",
      "  predominant = (X_train[feature].value_counts() / np.float(\n",
      "C:\\Users\\Arindam Banerji\\AppData\\Local\\Temp\\ipykernel_4560\\3063198154.py:13: DeprecationWarning: `np.float` is a deprecated alias for the builtin `float`. To silence this warning, use `float` by itself. Doing this will not modify any behavior and is safe. If you specifically wanted the numpy scalar type, use `np.float64` here.\n",
      "Deprecated in NumPy 1.20; for more details and guidance: https://numpy.org/devdocs/release/1.20.0-notes.html#deprecations\n",
      "  predominant = (X_train[feature].value_counts() / np.float(\n",
      "C:\\Users\\Arindam Banerji\\AppData\\Local\\Temp\\ipykernel_4560\\3063198154.py:13: DeprecationWarning: `np.float` is a deprecated alias for the builtin `float`. To silence this warning, use `float` by itself. Doing this will not modify any behavior and is safe. If you specifically wanted the numpy scalar type, use `np.float64` here.\n",
      "Deprecated in NumPy 1.20; for more details and guidance: https://numpy.org/devdocs/release/1.20.0-notes.html#deprecations\n",
      "  predominant = (X_train[feature].value_counts() / np.float(\n",
      "C:\\Users\\Arindam Banerji\\AppData\\Local\\Temp\\ipykernel_4560\\3063198154.py:13: DeprecationWarning: `np.float` is a deprecated alias for the builtin `float`. To silence this warning, use `float` by itself. Doing this will not modify any behavior and is safe. If you specifically wanted the numpy scalar type, use `np.float64` here.\n",
      "Deprecated in NumPy 1.20; for more details and guidance: https://numpy.org/devdocs/release/1.20.0-notes.html#deprecations\n",
      "  predominant = (X_train[feature].value_counts() / np.float(\n",
      "C:\\Users\\Arindam Banerji\\AppData\\Local\\Temp\\ipykernel_4560\\3063198154.py:13: DeprecationWarning: `np.float` is a deprecated alias for the builtin `float`. To silence this warning, use `float` by itself. Doing this will not modify any behavior and is safe. If you specifically wanted the numpy scalar type, use `np.float64` here.\n",
      "Deprecated in NumPy 1.20; for more details and guidance: https://numpy.org/devdocs/release/1.20.0-notes.html#deprecations\n",
      "  predominant = (X_train[feature].value_counts() / np.float(\n",
      "C:\\Users\\Arindam Banerji\\AppData\\Local\\Temp\\ipykernel_4560\\3063198154.py:13: DeprecationWarning: `np.float` is a deprecated alias for the builtin `float`. To silence this warning, use `float` by itself. Doing this will not modify any behavior and is safe. If you specifically wanted the numpy scalar type, use `np.float64` here.\n",
      "Deprecated in NumPy 1.20; for more details and guidance: https://numpy.org/devdocs/release/1.20.0-notes.html#deprecations\n",
      "  predominant = (X_train[feature].value_counts() / np.float(\n",
      "C:\\Users\\Arindam Banerji\\AppData\\Local\\Temp\\ipykernel_4560\\3063198154.py:13: DeprecationWarning: `np.float` is a deprecated alias for the builtin `float`. To silence this warning, use `float` by itself. Doing this will not modify any behavior and is safe. If you specifically wanted the numpy scalar type, use `np.float64` here.\n",
      "Deprecated in NumPy 1.20; for more details and guidance: https://numpy.org/devdocs/release/1.20.0-notes.html#deprecations\n",
      "  predominant = (X_train[feature].value_counts() / np.float(\n",
      "C:\\Users\\Arindam Banerji\\AppData\\Local\\Temp\\ipykernel_4560\\3063198154.py:13: DeprecationWarning: `np.float` is a deprecated alias for the builtin `float`. To silence this warning, use `float` by itself. Doing this will not modify any behavior and is safe. If you specifically wanted the numpy scalar type, use `np.float64` here.\n",
      "Deprecated in NumPy 1.20; for more details and guidance: https://numpy.org/devdocs/release/1.20.0-notes.html#deprecations\n",
      "  predominant = (X_train[feature].value_counts() / np.float(\n",
      "C:\\Users\\Arindam Banerji\\AppData\\Local\\Temp\\ipykernel_4560\\3063198154.py:13: DeprecationWarning: `np.float` is a deprecated alias for the builtin `float`. To silence this warning, use `float` by itself. Doing this will not modify any behavior and is safe. If you specifically wanted the numpy scalar type, use `np.float64` here.\n",
      "Deprecated in NumPy 1.20; for more details and guidance: https://numpy.org/devdocs/release/1.20.0-notes.html#deprecations\n",
      "  predominant = (X_train[feature].value_counts() / np.float(\n",
      "C:\\Users\\Arindam Banerji\\AppData\\Local\\Temp\\ipykernel_4560\\3063198154.py:13: DeprecationWarning: `np.float` is a deprecated alias for the builtin `float`. To silence this warning, use `float` by itself. Doing this will not modify any behavior and is safe. If you specifically wanted the numpy scalar type, use `np.float64` here.\n",
      "Deprecated in NumPy 1.20; for more details and guidance: https://numpy.org/devdocs/release/1.20.0-notes.html#deprecations\n",
      "  predominant = (X_train[feature].value_counts() / np.float(\n",
      "C:\\Users\\Arindam Banerji\\AppData\\Local\\Temp\\ipykernel_4560\\3063198154.py:13: DeprecationWarning: `np.float` is a deprecated alias for the builtin `float`. To silence this warning, use `float` by itself. Doing this will not modify any behavior and is safe. If you specifically wanted the numpy scalar type, use `np.float64` here.\n",
      "Deprecated in NumPy 1.20; for more details and guidance: https://numpy.org/devdocs/release/1.20.0-notes.html#deprecations\n",
      "  predominant = (X_train[feature].value_counts() / np.float(\n",
      "C:\\Users\\Arindam Banerji\\AppData\\Local\\Temp\\ipykernel_4560\\3063198154.py:13: DeprecationWarning: `np.float` is a deprecated alias for the builtin `float`. To silence this warning, use `float` by itself. Doing this will not modify any behavior and is safe. If you specifically wanted the numpy scalar type, use `np.float64` here.\n",
      "Deprecated in NumPy 1.20; for more details and guidance: https://numpy.org/devdocs/release/1.20.0-notes.html#deprecations\n",
      "  predominant = (X_train[feature].value_counts() / np.float(\n",
      "C:\\Users\\Arindam Banerji\\AppData\\Local\\Temp\\ipykernel_4560\\3063198154.py:13: DeprecationWarning: `np.float` is a deprecated alias for the builtin `float`. To silence this warning, use `float` by itself. Doing this will not modify any behavior and is safe. If you specifically wanted the numpy scalar type, use `np.float64` here.\n",
      "Deprecated in NumPy 1.20; for more details and guidance: https://numpy.org/devdocs/release/1.20.0-notes.html#deprecations\n",
      "  predominant = (X_train[feature].value_counts() / np.float(\n",
      "C:\\Users\\Arindam Banerji\\AppData\\Local\\Temp\\ipykernel_4560\\3063198154.py:13: DeprecationWarning: `np.float` is a deprecated alias for the builtin `float`. To silence this warning, use `float` by itself. Doing this will not modify any behavior and is safe. If you specifically wanted the numpy scalar type, use `np.float64` here.\n",
      "Deprecated in NumPy 1.20; for more details and guidance: https://numpy.org/devdocs/release/1.20.0-notes.html#deprecations\n",
      "  predominant = (X_train[feature].value_counts() / np.float(\n",
      "C:\\Users\\Arindam Banerji\\AppData\\Local\\Temp\\ipykernel_4560\\3063198154.py:13: DeprecationWarning: `np.float` is a deprecated alias for the builtin `float`. To silence this warning, use `float` by itself. Doing this will not modify any behavior and is safe. If you specifically wanted the numpy scalar type, use `np.float64` here.\n",
      "Deprecated in NumPy 1.20; for more details and guidance: https://numpy.org/devdocs/release/1.20.0-notes.html#deprecations\n",
      "  predominant = (X_train[feature].value_counts() / np.float(\n",
      "C:\\Users\\Arindam Banerji\\AppData\\Local\\Temp\\ipykernel_4560\\3063198154.py:13: DeprecationWarning: `np.float` is a deprecated alias for the builtin `float`. To silence this warning, use `float` by itself. Doing this will not modify any behavior and is safe. If you specifically wanted the numpy scalar type, use `np.float64` here.\n",
      "Deprecated in NumPy 1.20; for more details and guidance: https://numpy.org/devdocs/release/1.20.0-notes.html#deprecations\n",
      "  predominant = (X_train[feature].value_counts() / np.float(\n",
      "C:\\Users\\Arindam Banerji\\AppData\\Local\\Temp\\ipykernel_4560\\3063198154.py:13: DeprecationWarning: `np.float` is a deprecated alias for the builtin `float`. To silence this warning, use `float` by itself. Doing this will not modify any behavior and is safe. If you specifically wanted the numpy scalar type, use `np.float64` here.\n",
      "Deprecated in NumPy 1.20; for more details and guidance: https://numpy.org/devdocs/release/1.20.0-notes.html#deprecations\n",
      "  predominant = (X_train[feature].value_counts() / np.float(\n",
      "C:\\Users\\Arindam Banerji\\AppData\\Local\\Temp\\ipykernel_4560\\3063198154.py:13: DeprecationWarning: `np.float` is a deprecated alias for the builtin `float`. To silence this warning, use `float` by itself. Doing this will not modify any behavior and is safe. If you specifically wanted the numpy scalar type, use `np.float64` here.\n",
      "Deprecated in NumPy 1.20; for more details and guidance: https://numpy.org/devdocs/release/1.20.0-notes.html#deprecations\n",
      "  predominant = (X_train[feature].value_counts() / np.float(\n",
      "C:\\Users\\Arindam Banerji\\AppData\\Local\\Temp\\ipykernel_4560\\3063198154.py:13: DeprecationWarning: `np.float` is a deprecated alias for the builtin `float`. To silence this warning, use `float` by itself. Doing this will not modify any behavior and is safe. If you specifically wanted the numpy scalar type, use `np.float64` here.\n",
      "Deprecated in NumPy 1.20; for more details and guidance: https://numpy.org/devdocs/release/1.20.0-notes.html#deprecations\n",
      "  predominant = (X_train[feature].value_counts() / np.float(\n",
      "C:\\Users\\Arindam Banerji\\AppData\\Local\\Temp\\ipykernel_4560\\3063198154.py:13: DeprecationWarning: `np.float` is a deprecated alias for the builtin `float`. To silence this warning, use `float` by itself. Doing this will not modify any behavior and is safe. If you specifically wanted the numpy scalar type, use `np.float64` here.\n",
      "Deprecated in NumPy 1.20; for more details and guidance: https://numpy.org/devdocs/release/1.20.0-notes.html#deprecations\n",
      "  predominant = (X_train[feature].value_counts() / np.float(\n",
      "C:\\Users\\Arindam Banerji\\AppData\\Local\\Temp\\ipykernel_4560\\3063198154.py:13: DeprecationWarning: `np.float` is a deprecated alias for the builtin `float`. To silence this warning, use `float` by itself. Doing this will not modify any behavior and is safe. If you specifically wanted the numpy scalar type, use `np.float64` here.\n",
      "Deprecated in NumPy 1.20; for more details and guidance: https://numpy.org/devdocs/release/1.20.0-notes.html#deprecations\n",
      "  predominant = (X_train[feature].value_counts() / np.float(\n",
      "C:\\Users\\Arindam Banerji\\AppData\\Local\\Temp\\ipykernel_4560\\3063198154.py:13: DeprecationWarning: `np.float` is a deprecated alias for the builtin `float`. To silence this warning, use `float` by itself. Doing this will not modify any behavior and is safe. If you specifically wanted the numpy scalar type, use `np.float64` here.\n",
      "Deprecated in NumPy 1.20; for more details and guidance: https://numpy.org/devdocs/release/1.20.0-notes.html#deprecations\n",
      "  predominant = (X_train[feature].value_counts() / np.float(\n",
      "C:\\Users\\Arindam Banerji\\AppData\\Local\\Temp\\ipykernel_4560\\3063198154.py:13: DeprecationWarning: `np.float` is a deprecated alias for the builtin `float`. To silence this warning, use `float` by itself. Doing this will not modify any behavior and is safe. If you specifically wanted the numpy scalar type, use `np.float64` here.\n",
      "Deprecated in NumPy 1.20; for more details and guidance: https://numpy.org/devdocs/release/1.20.0-notes.html#deprecations\n",
      "  predominant = (X_train[feature].value_counts() / np.float(\n",
      "C:\\Users\\Arindam Banerji\\AppData\\Local\\Temp\\ipykernel_4560\\3063198154.py:13: DeprecationWarning: `np.float` is a deprecated alias for the builtin `float`. To silence this warning, use `float` by itself. Doing this will not modify any behavior and is safe. If you specifically wanted the numpy scalar type, use `np.float64` here.\n",
      "Deprecated in NumPy 1.20; for more details and guidance: https://numpy.org/devdocs/release/1.20.0-notes.html#deprecations\n",
      "  predominant = (X_train[feature].value_counts() / np.float(\n",
      "C:\\Users\\Arindam Banerji\\AppData\\Local\\Temp\\ipykernel_4560\\3063198154.py:13: DeprecationWarning: `np.float` is a deprecated alias for the builtin `float`. To silence this warning, use `float` by itself. Doing this will not modify any behavior and is safe. If you specifically wanted the numpy scalar type, use `np.float64` here.\n",
      "Deprecated in NumPy 1.20; for more details and guidance: https://numpy.org/devdocs/release/1.20.0-notes.html#deprecations\n",
      "  predominant = (X_train[feature].value_counts() / np.float(\n",
      "C:\\Users\\Arindam Banerji\\AppData\\Local\\Temp\\ipykernel_4560\\3063198154.py:13: DeprecationWarning: `np.float` is a deprecated alias for the builtin `float`. To silence this warning, use `float` by itself. Doing this will not modify any behavior and is safe. If you specifically wanted the numpy scalar type, use `np.float64` here.\n",
      "Deprecated in NumPy 1.20; for more details and guidance: https://numpy.org/devdocs/release/1.20.0-notes.html#deprecations\n",
      "  predominant = (X_train[feature].value_counts() / np.float(\n",
      "C:\\Users\\Arindam Banerji\\AppData\\Local\\Temp\\ipykernel_4560\\3063198154.py:13: DeprecationWarning: `np.float` is a deprecated alias for the builtin `float`. To silence this warning, use `float` by itself. Doing this will not modify any behavior and is safe. If you specifically wanted the numpy scalar type, use `np.float64` here.\n",
      "Deprecated in NumPy 1.20; for more details and guidance: https://numpy.org/devdocs/release/1.20.0-notes.html#deprecations\n",
      "  predominant = (X_train[feature].value_counts() / np.float(\n",
      "C:\\Users\\Arindam Banerji\\AppData\\Local\\Temp\\ipykernel_4560\\3063198154.py:13: DeprecationWarning: `np.float` is a deprecated alias for the builtin `float`. To silence this warning, use `float` by itself. Doing this will not modify any behavior and is safe. If you specifically wanted the numpy scalar type, use `np.float64` here.\n",
      "Deprecated in NumPy 1.20; for more details and guidance: https://numpy.org/devdocs/release/1.20.0-notes.html#deprecations\n",
      "  predominant = (X_train[feature].value_counts() / np.float(\n",
      "C:\\Users\\Arindam Banerji\\AppData\\Local\\Temp\\ipykernel_4560\\3063198154.py:13: DeprecationWarning: `np.float` is a deprecated alias for the builtin `float`. To silence this warning, use `float` by itself. Doing this will not modify any behavior and is safe. If you specifically wanted the numpy scalar type, use `np.float64` here.\n",
      "Deprecated in NumPy 1.20; for more details and guidance: https://numpy.org/devdocs/release/1.20.0-notes.html#deprecations\n",
      "  predominant = (X_train[feature].value_counts() / np.float(\n",
      "C:\\Users\\Arindam Banerji\\AppData\\Local\\Temp\\ipykernel_4560\\3063198154.py:13: DeprecationWarning: `np.float` is a deprecated alias for the builtin `float`. To silence this warning, use `float` by itself. Doing this will not modify any behavior and is safe. If you specifically wanted the numpy scalar type, use `np.float64` here.\n",
      "Deprecated in NumPy 1.20; for more details and guidance: https://numpy.org/devdocs/release/1.20.0-notes.html#deprecations\n",
      "  predominant = (X_train[feature].value_counts() / np.float(\n",
      "C:\\Users\\Arindam Banerji\\AppData\\Local\\Temp\\ipykernel_4560\\3063198154.py:13: DeprecationWarning: `np.float` is a deprecated alias for the builtin `float`. To silence this warning, use `float` by itself. Doing this will not modify any behavior and is safe. If you specifically wanted the numpy scalar type, use `np.float64` here.\n",
      "Deprecated in NumPy 1.20; for more details and guidance: https://numpy.org/devdocs/release/1.20.0-notes.html#deprecations\n",
      "  predominant = (X_train[feature].value_counts() / np.float(\n",
      "C:\\Users\\Arindam Banerji\\AppData\\Local\\Temp\\ipykernel_4560\\3063198154.py:13: DeprecationWarning: `np.float` is a deprecated alias for the builtin `float`. To silence this warning, use `float` by itself. Doing this will not modify any behavior and is safe. If you specifically wanted the numpy scalar type, use `np.float64` here.\n",
      "Deprecated in NumPy 1.20; for more details and guidance: https://numpy.org/devdocs/release/1.20.0-notes.html#deprecations\n",
      "  predominant = (X_train[feature].value_counts() / np.float(\n",
      "C:\\Users\\Arindam Banerji\\AppData\\Local\\Temp\\ipykernel_4560\\3063198154.py:13: DeprecationWarning: `np.float` is a deprecated alias for the builtin `float`. To silence this warning, use `float` by itself. Doing this will not modify any behavior and is safe. If you specifically wanted the numpy scalar type, use `np.float64` here.\n",
      "Deprecated in NumPy 1.20; for more details and guidance: https://numpy.org/devdocs/release/1.20.0-notes.html#deprecations\n",
      "  predominant = (X_train[feature].value_counts() / np.float(\n",
      "C:\\Users\\Arindam Banerji\\AppData\\Local\\Temp\\ipykernel_4560\\3063198154.py:13: DeprecationWarning: `np.float` is a deprecated alias for the builtin `float`. To silence this warning, use `float` by itself. Doing this will not modify any behavior and is safe. If you specifically wanted the numpy scalar type, use `np.float64` here.\n",
      "Deprecated in NumPy 1.20; for more details and guidance: https://numpy.org/devdocs/release/1.20.0-notes.html#deprecations\n",
      "  predominant = (X_train[feature].value_counts() / np.float(\n",
      "C:\\Users\\Arindam Banerji\\AppData\\Local\\Temp\\ipykernel_4560\\3063198154.py:13: DeprecationWarning: `np.float` is a deprecated alias for the builtin `float`. To silence this warning, use `float` by itself. Doing this will not modify any behavior and is safe. If you specifically wanted the numpy scalar type, use `np.float64` here.\n",
      "Deprecated in NumPy 1.20; for more details and guidance: https://numpy.org/devdocs/release/1.20.0-notes.html#deprecations\n",
      "  predominant = (X_train[feature].value_counts() / np.float(\n",
      "C:\\Users\\Arindam Banerji\\AppData\\Local\\Temp\\ipykernel_4560\\3063198154.py:13: DeprecationWarning: `np.float` is a deprecated alias for the builtin `float`. To silence this warning, use `float` by itself. Doing this will not modify any behavior and is safe. If you specifically wanted the numpy scalar type, use `np.float64` here.\n",
      "Deprecated in NumPy 1.20; for more details and guidance: https://numpy.org/devdocs/release/1.20.0-notes.html#deprecations\n",
      "  predominant = (X_train[feature].value_counts() / np.float(\n",
      "C:\\Users\\Arindam Banerji\\AppData\\Local\\Temp\\ipykernel_4560\\3063198154.py:13: DeprecationWarning: `np.float` is a deprecated alias for the builtin `float`. To silence this warning, use `float` by itself. Doing this will not modify any behavior and is safe. If you specifically wanted the numpy scalar type, use `np.float64` here.\n",
      "Deprecated in NumPy 1.20; for more details and guidance: https://numpy.org/devdocs/release/1.20.0-notes.html#deprecations\n",
      "  predominant = (X_train[feature].value_counts() / np.float(\n",
      "C:\\Users\\Arindam Banerji\\AppData\\Local\\Temp\\ipykernel_4560\\3063198154.py:13: DeprecationWarning: `np.float` is a deprecated alias for the builtin `float`. To silence this warning, use `float` by itself. Doing this will not modify any behavior and is safe. If you specifically wanted the numpy scalar type, use `np.float64` here.\n",
      "Deprecated in NumPy 1.20; for more details and guidance: https://numpy.org/devdocs/release/1.20.0-notes.html#deprecations\n",
      "  predominant = (X_train[feature].value_counts() / np.float(\n",
      "C:\\Users\\Arindam Banerji\\AppData\\Local\\Temp\\ipykernel_4560\\3063198154.py:13: DeprecationWarning: `np.float` is a deprecated alias for the builtin `float`. To silence this warning, use `float` by itself. Doing this will not modify any behavior and is safe. If you specifically wanted the numpy scalar type, use `np.float64` here.\n",
      "Deprecated in NumPy 1.20; for more details and guidance: https://numpy.org/devdocs/release/1.20.0-notes.html#deprecations\n",
      "  predominant = (X_train[feature].value_counts() / np.float(\n",
      "C:\\Users\\Arindam Banerji\\AppData\\Local\\Temp\\ipykernel_4560\\3063198154.py:13: DeprecationWarning: `np.float` is a deprecated alias for the builtin `float`. To silence this warning, use `float` by itself. Doing this will not modify any behavior and is safe. If you specifically wanted the numpy scalar type, use `np.float64` here.\n",
      "Deprecated in NumPy 1.20; for more details and guidance: https://numpy.org/devdocs/release/1.20.0-notes.html#deprecations\n",
      "  predominant = (X_train[feature].value_counts() / np.float(\n",
      "C:\\Users\\Arindam Banerji\\AppData\\Local\\Temp\\ipykernel_4560\\3063198154.py:13: DeprecationWarning: `np.float` is a deprecated alias for the builtin `float`. To silence this warning, use `float` by itself. Doing this will not modify any behavior and is safe. If you specifically wanted the numpy scalar type, use `np.float64` here.\n",
      "Deprecated in NumPy 1.20; for more details and guidance: https://numpy.org/devdocs/release/1.20.0-notes.html#deprecations\n",
      "  predominant = (X_train[feature].value_counts() / np.float(\n",
      "C:\\Users\\Arindam Banerji\\AppData\\Local\\Temp\\ipykernel_4560\\3063198154.py:13: DeprecationWarning: `np.float` is a deprecated alias for the builtin `float`. To silence this warning, use `float` by itself. Doing this will not modify any behavior and is safe. If you specifically wanted the numpy scalar type, use `np.float64` here.\n",
      "Deprecated in NumPy 1.20; for more details and guidance: https://numpy.org/devdocs/release/1.20.0-notes.html#deprecations\n",
      "  predominant = (X_train[feature].value_counts() / np.float(\n"
     ]
    },
    {
     "data": {
      "text/plain": [
       "142"
      ]
     },
     "execution_count": 70,
     "metadata": {},
     "output_type": "execute_result"
    }
   ],
   "source": [
    "# remove constant and quasi-constant features first:\n",
    "# we can remove the 2 types of features together with this code\n",
    "# (we used it in our previous notebook)\n",
    "\n",
    "# create an empty list\n",
    "quasi_constant_feat = []\n",
    "\n",
    "# iterate over every feature\n",
    "for feature in X_train.columns:\n",
    "\n",
    "    # find the predominant value, that is the value that is shared\n",
    "    # by most observations\n",
    "    predominant = (X_train[feature].value_counts() / np.float(\n",
    "        len(X_train))).sort_values(ascending=False).values[0]\n",
    "\n",
    "    # evaluate predominant feature: do more than 99% of the observations\n",
    "    # show 1 value?\n",
    "    if predominant > 0.998:\n",
    "        quasi_constant_feat.append(feature)\n",
    "\n",
    "len(quasi_constant_feat)"
   ]
  },
  {
   "cell_type": "code",
   "execution_count": 71,
   "metadata": {},
   "outputs": [
    {
     "data": {
      "text/plain": [
       "((35000, 158), (15000, 158))"
      ]
     },
     "execution_count": 71,
     "metadata": {},
     "output_type": "execute_result"
    }
   ],
   "source": [
    "# we can then drop these columns from the train and test sets:\n",
    "\n",
    "X_train.drop(labels=quasi_constant_feat, axis=1, inplace=True)\n",
    "X_test.drop(labels=quasi_constant_feat, axis=1, inplace=True)\n",
    "\n",
    "X_train.shape, X_test.shape"
   ]
  },
  {
   "cell_type": "markdown",
   "metadata": {},
   "source": [
    "## Remove duplicated features\n",
    "\n",
    "To identify duplicated variables we need to iterate through all features of our dataset, and for each and every feature, try and find others that are identical, or duplicates.\n",
    "\n",
    "We will create a dictionary of {variable: duplicated variables} pairs to identify them more easily throughout the demo. Keep in mind that in a dataset, there could be 2 or more features that are identical to each other."
   ]
  },
  {
   "cell_type": "code",
   "execution_count": 72,
   "metadata": {},
   "outputs": [
    {
     "name": "stdout",
     "output_type": "stream",
     "text": [
      "0\n",
      "10\n",
      "20\n",
      "30\n",
      "40\n",
      "50\n",
      "60\n",
      "70\n",
      "80\n",
      "90\n",
      "100\n",
      "110\n",
      "120\n",
      "130\n",
      "140\n",
      "150\n"
     ]
    }
   ],
   "source": [
    "# check for duplicated features in the training set:\n",
    "\n",
    "# create an empty dictionary, where we will store \n",
    "# the groups of duplicates\n",
    "duplicated_feat_pairs = {}\n",
    "\n",
    "# create an empty list to collect features\n",
    "# that were found to be duplicated\n",
    "_duplicated_feat = []\n",
    "\n",
    "\n",
    "# iterate over every feature in our dataset:\n",
    "for i in range(0, len(X_train.columns)):\n",
    "    \n",
    "    # this bit helps me understand where the loop is at:\n",
    "    if i % 10 == 0:  \n",
    "        print(i)\n",
    "    \n",
    "    # choose 1 feature:\n",
    "    feat_1 = X_train.columns[i]\n",
    "    \n",
    "    # check if this feature has already been identified\n",
    "    # as a duplicate of another one. If it was, it should be stored in\n",
    "    # our _duplicated_feat list.\n",
    "    \n",
    "    # If this feature was already identified as a duplicate, we skip it, if\n",
    "    # it has not yet been identified as a duplicate, then we proceed:\n",
    "    if feat_1 not in _duplicated_feat:\n",
    "    \n",
    "        # create an empty list as an entry for this feature in the dictionary:\n",
    "        duplicated_feat_pairs[feat_1] = []\n",
    "\n",
    "        # now, iterate over the remaining features of the dataset:\n",
    "        for feat_2 in X_train.columns[i + 1:]:\n",
    "\n",
    "            # check if this second feature is identical to the first one\n",
    "            if X_train[feat_1].equals(X_train[feat_2]):\n",
    "\n",
    "                # if it is identical, append it to the list in the dictionary\n",
    "                duplicated_feat_pairs[feat_1].append(feat_2)\n",
    "                \n",
    "                # and append it to our monitor list for duplicated variables\n",
    "                _duplicated_feat.append(feat_2)\n",
    "                \n",
    "                # done!"
   ]
  },
  {
   "cell_type": "code",
   "execution_count": 73,
   "metadata": {},
   "outputs": [
    {
     "data": {
      "text/plain": [
       "6"
      ]
     },
     "execution_count": 73,
     "metadata": {},
     "output_type": "execute_result"
    }
   ],
   "source": [
    "# let's explore our list of duplicated features\n",
    "len(_duplicated_feat)"
   ]
  },
  {
   "cell_type": "code",
   "execution_count": 74,
   "metadata": {},
   "outputs": [
    {
     "data": {
      "text/plain": [
       "['var_148', 'var_199', 'var_296', 'var_250', 'var_232', 'var_269']"
      ]
     },
     "execution_count": 74,
     "metadata": {},
     "output_type": "execute_result"
    }
   ],
   "source": [
    "# these are the ones:\n",
    "\n",
    "_duplicated_feat"
   ]
  },
  {
   "cell_type": "code",
   "execution_count": 75,
   "metadata": {},
   "outputs": [
    {
     "data": {
      "text/plain": [
       "{'var_4': [],\n",
       " 'var_5': [],\n",
       " 'var_8': [],\n",
       " 'var_13': [],\n",
       " 'var_15': [],\n",
       " 'var_17': [],\n",
       " 'var_18': [],\n",
       " 'var_19': [],\n",
       " 'var_21': [],\n",
       " 'var_22': [],\n",
       " 'var_25': [],\n",
       " 'var_26': [],\n",
       " 'var_27': [],\n",
       " 'var_29': [],\n",
       " 'var_30': [],\n",
       " 'var_31': [],\n",
       " 'var_35': [],\n",
       " 'var_37': ['var_148'],\n",
       " 'var_38': [],\n",
       " 'var_41': [],\n",
       " 'var_46': [],\n",
       " 'var_47': [],\n",
       " 'var_49': [],\n",
       " 'var_50': [],\n",
       " 'var_51': [],\n",
       " 'var_52': [],\n",
       " 'var_54': [],\n",
       " 'var_55': [],\n",
       " 'var_57': [],\n",
       " 'var_58': [],\n",
       " 'var_62': [],\n",
       " 'var_63': [],\n",
       " 'var_64': [],\n",
       " 'var_68': [],\n",
       " 'var_70': [],\n",
       " 'var_74': [],\n",
       " 'var_75': [],\n",
       " 'var_76': [],\n",
       " 'var_79': [],\n",
       " 'var_82': [],\n",
       " 'var_83': [],\n",
       " 'var_84': ['var_199'],\n",
       " 'var_85': [],\n",
       " 'var_86': [],\n",
       " 'var_88': [],\n",
       " 'var_91': [],\n",
       " 'var_93': [],\n",
       " 'var_94': [],\n",
       " 'var_96': [],\n",
       " 'var_100': [],\n",
       " 'var_101': [],\n",
       " 'var_103': [],\n",
       " 'var_105': [],\n",
       " 'var_107': [],\n",
       " 'var_108': [],\n",
       " 'var_109': [],\n",
       " 'var_110': [],\n",
       " 'var_114': [],\n",
       " 'var_117': [],\n",
       " 'var_118': [],\n",
       " 'var_119': [],\n",
       " 'var_121': [],\n",
       " 'var_123': [],\n",
       " 'var_128': [],\n",
       " 'var_131': [],\n",
       " 'var_132': [],\n",
       " 'var_134': [],\n",
       " 'var_137': [],\n",
       " 'var_139': [],\n",
       " 'var_140': [],\n",
       " 'var_143': ['var_296'],\n",
       " 'var_144': [],\n",
       " 'var_145': [],\n",
       " 'var_147': [],\n",
       " 'var_152': [],\n",
       " 'var_154': [],\n",
       " 'var_155': [],\n",
       " 'var_156': [],\n",
       " 'var_157': [],\n",
       " 'var_160': [],\n",
       " 'var_161': [],\n",
       " 'var_162': [],\n",
       " 'var_163': [],\n",
       " 'var_164': [],\n",
       " 'var_165': [],\n",
       " 'var_166': [],\n",
       " 'var_168': [],\n",
       " 'var_169': [],\n",
       " 'var_172': [],\n",
       " 'var_173': [],\n",
       " 'var_174': [],\n",
       " 'var_175': [],\n",
       " 'var_176': [],\n",
       " 'var_177': ['var_250'],\n",
       " 'var_179': [],\n",
       " 'var_181': [],\n",
       " 'var_185': [],\n",
       " 'var_186': [],\n",
       " 'var_188': [],\n",
       " 'var_190': [],\n",
       " 'var_191': [],\n",
       " 'var_192': [],\n",
       " 'var_193': [],\n",
       " 'var_194': [],\n",
       " 'var_198': [],\n",
       " 'var_200': [],\n",
       " 'var_203': [],\n",
       " 'var_205': [],\n",
       " 'var_206': [],\n",
       " 'var_207': [],\n",
       " 'var_208': [],\n",
       " 'var_209': [],\n",
       " 'var_213': [],\n",
       " 'var_214': [],\n",
       " 'var_218': [],\n",
       " 'var_220': [],\n",
       " 'var_222': [],\n",
       " 'var_226': ['var_232'],\n",
       " 'var_229': ['var_269'],\n",
       " 'var_230': [],\n",
       " 'var_231': [],\n",
       " 'var_238': [],\n",
       " 'var_240': [],\n",
       " 'var_241': [],\n",
       " 'var_242': [],\n",
       " 'var_244': [],\n",
       " 'var_252': [],\n",
       " 'var_253': [],\n",
       " 'var_255': [],\n",
       " 'var_256': [],\n",
       " 'var_258': [],\n",
       " 'var_259': [],\n",
       " 'var_261': [],\n",
       " 'var_262': [],\n",
       " 'var_266': [],\n",
       " 'var_268': [],\n",
       " 'var_270': [],\n",
       " 'var_271': [],\n",
       " 'var_272': [],\n",
       " 'var_273': [],\n",
       " 'var_275': [],\n",
       " 'var_276': [],\n",
       " 'var_277': [],\n",
       " 'var_278': [],\n",
       " 'var_279': [],\n",
       " 'var_281': [],\n",
       " 'var_284': [],\n",
       " 'var_288': [],\n",
       " 'var_292': [],\n",
       " 'var_293': [],\n",
       " 'var_295': [],\n",
       " 'var_300': []}"
      ]
     },
     "execution_count": 75,
     "metadata": {},
     "output_type": "execute_result"
    }
   ],
   "source": [
    "# let's explore the dictionary we created:\n",
    "\n",
    "duplicated_feat_pairs"
   ]
  },
  {
   "cell_type": "code",
   "execution_count": 76,
   "metadata": {},
   "outputs": [
    {
     "name": "stdout",
     "output_type": "stream",
     "text": [
      "152\n"
     ]
    }
   ],
   "source": [
    "# let's explore the number of keys in our dictionary\n",
    "\n",
    "# we see it is 152, because 6 of the 158 were duplicates,\n",
    "# so they were not included as keys\n",
    "\n",
    "print(len(duplicated_feat_pairs.keys()))"
   ]
  },
  {
   "cell_type": "code",
   "execution_count": 77,
   "metadata": {},
   "outputs": [
    {
     "name": "stdout",
     "output_type": "stream",
     "text": [
      "var_37 ['var_148']\n",
      "\n",
      "var_84 ['var_199']\n",
      "\n",
      "var_143 ['var_296']\n",
      "\n",
      "var_177 ['var_250']\n",
      "\n",
      "var_226 ['var_232']\n",
      "\n",
      "var_229 ['var_269']\n",
      "\n"
     ]
    }
   ],
   "source": [
    "# print the features with its duplicates\n",
    "\n",
    "# iterate over every feature in our dict:\n",
    "for feat in duplicated_feat_pairs.keys():\n",
    "    \n",
    "    # if it has duplicates, the list should not be empty:\n",
    "    if len(duplicated_feat_pairs[feat]) > 0:\n",
    "\n",
    "        # print the feature and its duplicates:\n",
    "        print(feat, duplicated_feat_pairs[feat])\n",
    "        print()"
   ]
  },
  {
   "cell_type": "code",
   "execution_count": 78,
   "metadata": {},
   "outputs": [
    {
     "data": {
      "text/html": [
       "<div>\n",
       "<style scoped>\n",
       "    .dataframe tbody tr th:only-of-type {\n",
       "        vertical-align: middle;\n",
       "    }\n",
       "\n",
       "    .dataframe tbody tr th {\n",
       "        vertical-align: top;\n",
       "    }\n",
       "\n",
       "    .dataframe thead th {\n",
       "        text-align: right;\n",
       "    }\n",
       "</style>\n",
       "<table border=\"1\" class=\"dataframe\">\n",
       "  <thead>\n",
       "    <tr style=\"text-align: right;\">\n",
       "      <th></th>\n",
       "      <th>var_37</th>\n",
       "      <th>var_148</th>\n",
       "    </tr>\n",
       "  </thead>\n",
       "  <tbody>\n",
       "    <tr>\n",
       "      <th>17967</th>\n",
       "      <td>0</td>\n",
       "      <td>0</td>\n",
       "    </tr>\n",
       "    <tr>\n",
       "      <th>32391</th>\n",
       "      <td>0</td>\n",
       "      <td>0</td>\n",
       "    </tr>\n",
       "    <tr>\n",
       "      <th>9341</th>\n",
       "      <td>0</td>\n",
       "      <td>0</td>\n",
       "    </tr>\n",
       "    <tr>\n",
       "      <th>7929</th>\n",
       "      <td>0</td>\n",
       "      <td>0</td>\n",
       "    </tr>\n",
       "    <tr>\n",
       "      <th>46544</th>\n",
       "      <td>0</td>\n",
       "      <td>0</td>\n",
       "    </tr>\n",
       "    <tr>\n",
       "      <th>4149</th>\n",
       "      <td>0</td>\n",
       "      <td>0</td>\n",
       "    </tr>\n",
       "    <tr>\n",
       "      <th>33426</th>\n",
       "      <td>0</td>\n",
       "      <td>0</td>\n",
       "    </tr>\n",
       "    <tr>\n",
       "      <th>3002</th>\n",
       "      <td>0</td>\n",
       "      <td>0</td>\n",
       "    </tr>\n",
       "    <tr>\n",
       "      <th>6974</th>\n",
       "      <td>0</td>\n",
       "      <td>0</td>\n",
       "    </tr>\n",
       "    <tr>\n",
       "      <th>16864</th>\n",
       "      <td>0</td>\n",
       "      <td>0</td>\n",
       "    </tr>\n",
       "  </tbody>\n",
       "</table>\n",
       "</div>"
      ],
      "text/plain": [
       "       var_37  var_148\n",
       "17967       0        0\n",
       "32391       0        0\n",
       "9341        0        0\n",
       "7929        0        0\n",
       "46544       0        0\n",
       "4149        0        0\n",
       "33426       0        0\n",
       "3002        0        0\n",
       "6974        0        0\n",
       "16864       0        0"
      ]
     },
     "execution_count": 78,
     "metadata": {},
     "output_type": "execute_result"
    }
   ],
   "source": [
    "# let's check that indeed those features are duplicated\n",
    "# I select a pair from above\n",
    "\n",
    "X_train[['var_37', 'var_148']].head(10)"
   ]
  },
  {
   "cell_type": "code",
   "execution_count": 79,
   "metadata": {},
   "outputs": [
    {
     "data": {
      "text/plain": [
       "array([ 0,  3,  6,  9, 12, 21, 33, 15], dtype=int64)"
      ]
     },
     "execution_count": 79,
     "metadata": {},
     "output_type": "execute_result"
    }
   ],
   "source": [
    "X_train['var_37'].unique()"
   ]
  },
  {
   "cell_type": "code",
   "execution_count": 80,
   "metadata": {},
   "outputs": [
    {
     "data": {
      "text/plain": [
       "array([ 0,  3,  6,  9, 12, 21, 33, 15], dtype=int64)"
      ]
     },
     "execution_count": 80,
     "metadata": {},
     "output_type": "execute_result"
    }
   ],
   "source": [
    "X_train['var_148'].unique()"
   ]
  },
  {
   "cell_type": "code",
   "execution_count": 81,
   "metadata": {},
   "outputs": [
    {
     "data": {
      "text/html": [
       "<div>\n",
       "<style scoped>\n",
       "    .dataframe tbody tr th:only-of-type {\n",
       "        vertical-align: middle;\n",
       "    }\n",
       "\n",
       "    .dataframe tbody tr th {\n",
       "        vertical-align: top;\n",
       "    }\n",
       "\n",
       "    .dataframe thead th {\n",
       "        text-align: right;\n",
       "    }\n",
       "</style>\n",
       "<table border=\"1\" class=\"dataframe\">\n",
       "  <thead>\n",
       "    <tr style=\"text-align: right;\">\n",
       "      <th></th>\n",
       "      <th>var_37</th>\n",
       "      <th>var_148</th>\n",
       "    </tr>\n",
       "  </thead>\n",
       "  <tbody>\n",
       "    <tr>\n",
       "      <th>37493</th>\n",
       "      <td>3</td>\n",
       "      <td>3</td>\n",
       "    </tr>\n",
       "    <tr>\n",
       "      <th>20251</th>\n",
       "      <td>6</td>\n",
       "      <td>6</td>\n",
       "    </tr>\n",
       "    <tr>\n",
       "      <th>4264</th>\n",
       "      <td>6</td>\n",
       "      <td>6</td>\n",
       "    </tr>\n",
       "    <tr>\n",
       "      <th>48480</th>\n",
       "      <td>3</td>\n",
       "      <td>3</td>\n",
       "    </tr>\n",
       "    <tr>\n",
       "      <th>31607</th>\n",
       "      <td>3</td>\n",
       "      <td>3</td>\n",
       "    </tr>\n",
       "    <tr>\n",
       "      <th>41172</th>\n",
       "      <td>3</td>\n",
       "      <td>3</td>\n",
       "    </tr>\n",
       "    <tr>\n",
       "      <th>13502</th>\n",
       "      <td>3</td>\n",
       "      <td>3</td>\n",
       "    </tr>\n",
       "    <tr>\n",
       "      <th>7759</th>\n",
       "      <td>3</td>\n",
       "      <td>3</td>\n",
       "    </tr>\n",
       "    <tr>\n",
       "      <th>46118</th>\n",
       "      <td>3</td>\n",
       "      <td>3</td>\n",
       "    </tr>\n",
       "    <tr>\n",
       "      <th>2638</th>\n",
       "      <td>3</td>\n",
       "      <td>3</td>\n",
       "    </tr>\n",
       "  </tbody>\n",
       "</table>\n",
       "</div>"
      ],
      "text/plain": [
       "       var_37  var_148\n",
       "37493       3        3\n",
       "20251       6        6\n",
       "4264        6        6\n",
       "48480       3        3\n",
       "31607       3        3\n",
       "41172       3        3\n",
       "13502       3        3\n",
       "7759        3        3\n",
       "46118       3        3\n",
       "2638        3        3"
      ]
     },
     "execution_count": 81,
     "metadata": {},
     "output_type": "execute_result"
    }
   ],
   "source": [
    "# let's explore parts of the dataframe where the values in\n",
    "# these features are different from 0:\n",
    "\n",
    "X_train[X_train['var_37'] != 0][['var_37', 'var_148']].head(10)"
   ]
  },
  {
   "cell_type": "code",
   "execution_count": 82,
   "metadata": {},
   "outputs": [
    {
     "data": {
      "text/plain": [
       "((35000, 152), (15000, 152))"
      ]
     },
     "execution_count": 82,
     "metadata": {},
     "output_type": "execute_result"
    }
   ],
   "source": [
    "# finally, to remove the duplicates, what we are going to do is to retain\n",
    "# the keys of the dictionary\n",
    "\n",
    "# do you understand why? if not, go back to our loop in cell 7 and try to \n",
    "# determine the reason\n",
    "\n",
    "X_train = X_train[duplicated_feat_pairs.keys()]\n",
    "X_test = X_test[duplicated_feat_pairs.keys()]\n",
    "\n",
    "X_train.shape, X_test.shape"
   ]
  },
  {
   "cell_type": "markdown",
   "metadata": {},
   "source": [
    "## Constant and Quasi-constant features with Feature-engine\n",
    "\n",
    "In this notebook, we will remove constant and quasi-constant features utilizing the new functionality from Feature-engine."
   ]
  },
  {
   "cell_type": "code",
   "execution_count": 83,
   "metadata": {},
   "outputs": [],
   "source": [
    "from feature_engine.selection import DropConstantFeatures"
   ]
  },
  {
   "cell_type": "code",
   "execution_count": 84,
   "metadata": {},
   "outputs": [
    {
     "name": "stdout",
     "output_type": "stream",
     "text": [
      "Full path NM exists  c:\\Users\\Arindam Banerji\\CopyFolder\\IoT_thoughts\\python-projects\\kaggle_experiments\\input_data\\fselect_dataset_1.csv\n"
     ]
    },
    {
     "data": {
      "text/plain": [
       "(50000, 301)"
      ]
     },
     "execution_count": 84,
     "metadata": {},
     "output_type": "execute_result"
    }
   ],
   "source": [
    "base_dir = \"c:\\\\Users\\Arindam Banerji\\CopyFolder\\IoT_thoughts\\python-projects\\kaggle_experiments\"\n",
    "path_add_ons  = \"\\\\input_data\"\n",
    "file_nm = \"fselect_dataset_1.csv\"\n",
    "\n",
    "fnm, exists = get_full_path_nm (base_dir, path_add_ons, file_nm) \n",
    "\n",
    "# load our first dataset\n",
    "\n",
    "# (feel free to write some code to explore the dataset and become\n",
    "# familiar with it ahead of this demo)\n",
    "\n",
    "data = pd.read_csv(fnm)\n",
    "data.shape"
   ]
  },
  {
   "cell_type": "code",
   "execution_count": 85,
   "metadata": {},
   "outputs": [
    {
     "data": {
      "text/plain": [
       "((35000, 300), (15000, 300))"
      ]
     },
     "execution_count": 85,
     "metadata": {},
     "output_type": "execute_result"
    }
   ],
   "source": [
    "# separate dataset into train and test\n",
    "\n",
    "X_train, X_test, y_train, y_test = train_test_split(\n",
    "    data.drop(labels=['target'], axis=1), # drop the target\n",
    "    data['target'], # just the target\n",
    "    test_size=0.3,\n",
    "    random_state=0)\n",
    "\n",
    "X_train.shape, X_test.shape"
   ]
  },
  {
   "cell_type": "code",
   "execution_count": 86,
   "metadata": {},
   "outputs": [
    {
     "data": {
      "text/plain": [
       "DropConstantFeatures()"
      ]
     },
     "execution_count": 86,
     "metadata": {},
     "output_type": "execute_result"
    }
   ],
   "source": [
    "sel = DropConstantFeatures(tol=1, variables=None, missing_values='raise')\n",
    "\n",
    "sel.fit(X_train)"
   ]
  },
  {
   "cell_type": "code",
   "execution_count": 87,
   "metadata": {},
   "outputs": [
    {
     "data": {
      "text/plain": [
       "['var_23',\n",
       " 'var_33',\n",
       " 'var_44',\n",
       " 'var_61',\n",
       " 'var_80',\n",
       " 'var_81',\n",
       " 'var_87',\n",
       " 'var_89',\n",
       " 'var_92',\n",
       " 'var_97',\n",
       " 'var_99',\n",
       " 'var_112',\n",
       " 'var_113',\n",
       " 'var_120',\n",
       " 'var_122',\n",
       " 'var_127',\n",
       " 'var_135',\n",
       " 'var_158',\n",
       " 'var_167',\n",
       " 'var_170',\n",
       " 'var_171',\n",
       " 'var_178',\n",
       " 'var_180',\n",
       " 'var_182',\n",
       " 'var_195',\n",
       " 'var_196',\n",
       " 'var_201',\n",
       " 'var_212',\n",
       " 'var_215',\n",
       " 'var_225',\n",
       " 'var_227',\n",
       " 'var_248',\n",
       " 'var_294',\n",
       " 'var_297']"
      ]
     },
     "execution_count": 87,
     "metadata": {},
     "output_type": "execute_result"
    }
   ],
   "source": [
    "# list of constant features\n",
    "\n",
    "sel.features_to_drop_"
   ]
  },
  {
   "cell_type": "code",
   "execution_count": 88,
   "metadata": {},
   "outputs": [
    {
     "data": {
      "text/plain": [
       "34"
      ]
     },
     "execution_count": 88,
     "metadata": {},
     "output_type": "execute_result"
    }
   ],
   "source": [
    "# number of constant features\n",
    "\n",
    "len(sel.features_to_drop_)"
   ]
  },
  {
   "cell_type": "code",
   "execution_count": 89,
   "metadata": {},
   "outputs": [
    {
     "data": {
      "text/plain": [
       "array([0], dtype=int64)"
      ]
     },
     "execution_count": 89,
     "metadata": {},
     "output_type": "execute_result"
    }
   ],
   "source": [
    "# let's explore 1 of the constant feature values\n",
    "\n",
    "X_train[sel.features_to_drop_[0]].unique()"
   ]
  },
  {
   "cell_type": "code",
   "execution_count": 90,
   "metadata": {},
   "outputs": [
    {
     "data": {
      "text/plain": [
       "((35000, 266), (15000, 266))"
      ]
     },
     "execution_count": 90,
     "metadata": {},
     "output_type": "execute_result"
    }
   ],
   "source": [
    "# remove constant features from the data\n",
    "\n",
    "X_train = sel.transform(X_train)\n",
    "X_test = sel.transform(X_test)\n",
    "\n",
    "X_train.shape, X_test.shape"
   ]
  },
  {
   "cell_type": "markdown",
   "metadata": {},
   "source": [
    "The datasets now contain 34 features less. \n",
    "\n",
    "## Remove quasi-constant features"
   ]
  },
  {
   "cell_type": "code",
   "execution_count": 91,
   "metadata": {},
   "outputs": [
    {
     "data": {
      "text/plain": [
       "DropConstantFeatures(tol=0.998)"
      ]
     },
     "execution_count": 91,
     "metadata": {},
     "output_type": "execute_result"
    }
   ],
   "source": [
    "sel = DropConstantFeatures(tol=0.998, variables=None, missing_values='raise')\n",
    "\n",
    "sel.fit(X_train)"
   ]
  },
  {
   "cell_type": "code",
   "execution_count": 92,
   "metadata": {},
   "outputs": [
    {
     "data": {
      "text/plain": [
       "108"
      ]
     },
     "execution_count": 92,
     "metadata": {},
     "output_type": "execute_result"
    }
   ],
   "source": [
    "# number of quasi-constant features\n",
    "\n",
    "len(sel.features_to_drop_)"
   ]
  },
  {
   "cell_type": "code",
   "execution_count": 93,
   "metadata": {},
   "outputs": [
    {
     "data": {
      "text/plain": [
       "['var_1',\n",
       " 'var_2',\n",
       " 'var_3',\n",
       " 'var_6',\n",
       " 'var_7',\n",
       " 'var_9',\n",
       " 'var_10',\n",
       " 'var_11',\n",
       " 'var_12',\n",
       " 'var_14',\n",
       " 'var_16',\n",
       " 'var_20',\n",
       " 'var_24',\n",
       " 'var_28',\n",
       " 'var_32',\n",
       " 'var_34',\n",
       " 'var_36',\n",
       " 'var_39',\n",
       " 'var_40',\n",
       " 'var_42',\n",
       " 'var_43',\n",
       " 'var_45',\n",
       " 'var_48',\n",
       " 'var_53',\n",
       " 'var_56',\n",
       " 'var_59',\n",
       " 'var_60',\n",
       " 'var_65',\n",
       " 'var_66',\n",
       " 'var_67',\n",
       " 'var_69',\n",
       " 'var_71',\n",
       " 'var_72',\n",
       " 'var_73',\n",
       " 'var_77',\n",
       " 'var_78',\n",
       " 'var_90',\n",
       " 'var_95',\n",
       " 'var_98',\n",
       " 'var_102',\n",
       " 'var_104',\n",
       " 'var_106',\n",
       " 'var_111',\n",
       " 'var_115',\n",
       " 'var_116',\n",
       " 'var_124',\n",
       " 'var_125',\n",
       " 'var_126',\n",
       " 'var_129',\n",
       " 'var_130',\n",
       " 'var_133',\n",
       " 'var_136',\n",
       " 'var_138',\n",
       " 'var_141',\n",
       " 'var_142',\n",
       " 'var_146',\n",
       " 'var_149',\n",
       " 'var_150',\n",
       " 'var_151',\n",
       " 'var_153',\n",
       " 'var_159',\n",
       " 'var_183',\n",
       " 'var_184',\n",
       " 'var_187',\n",
       " 'var_189',\n",
       " 'var_197',\n",
       " 'var_202',\n",
       " 'var_204',\n",
       " 'var_210',\n",
       " 'var_211',\n",
       " 'var_216',\n",
       " 'var_217',\n",
       " 'var_219',\n",
       " 'var_221',\n",
       " 'var_223',\n",
       " 'var_224',\n",
       " 'var_228',\n",
       " 'var_233',\n",
       " 'var_234',\n",
       " 'var_235',\n",
       " 'var_236',\n",
       " 'var_237',\n",
       " 'var_239',\n",
       " 'var_243',\n",
       " 'var_245',\n",
       " 'var_246',\n",
       " 'var_247',\n",
       " 'var_249',\n",
       " 'var_251',\n",
       " 'var_254',\n",
       " 'var_257',\n",
       " 'var_260',\n",
       " 'var_263',\n",
       " 'var_264',\n",
       " 'var_265',\n",
       " 'var_267',\n",
       " 'var_274',\n",
       " 'var_280',\n",
       " 'var_282',\n",
       " 'var_283',\n",
       " 'var_285',\n",
       " 'var_286',\n",
       " 'var_287',\n",
       " 'var_289',\n",
       " 'var_290',\n",
       " 'var_291',\n",
       " 'var_298',\n",
       " 'var_299']"
      ]
     },
     "execution_count": 93,
     "metadata": {},
     "output_type": "execute_result"
    }
   ],
   "source": [
    "# list of quasi-constant features\n",
    "\n",
    "sel.features_to_drop_"
   ]
  },
  {
   "cell_type": "code",
   "execution_count": 94,
   "metadata": {},
   "outputs": [
    {
     "data": {
      "text/plain": [
       "0    0.999629\n",
       "3    0.000200\n",
       "6    0.000143\n",
       "9    0.000029\n",
       "Name: var_1, dtype: float64"
      ]
     },
     "execution_count": 94,
     "metadata": {},
     "output_type": "execute_result"
    }
   ],
   "source": [
    "# percentage of observations showing each of the different values\n",
    "# of the variable\n",
    "\n",
    "var = sel.features_to_drop_[0]\n",
    "\n",
    "X_train[var].value_counts(normalize=True)"
   ]
  },
  {
   "cell_type": "code",
   "execution_count": 95,
   "metadata": {},
   "outputs": [
    {
     "data": {
      "text/plain": [
       "0.0000         0.999629\n",
       "207901.3365    0.000029\n",
       "15028.0560     0.000029\n",
       "25905.4866     0.000029\n",
       "35685.9459     0.000029\n",
       "3583.3941      0.000029\n",
       "52105.7901     0.000029\n",
       "86718.0000     0.000029\n",
       "861.0900       0.000029\n",
       "2641.0164      0.000029\n",
       "5209.9500      0.000029\n",
       "10281.6000     0.000029\n",
       "12542.3100     0.000029\n",
       "27.3000        0.000029\n",
       "Name: var_3, dtype: float64"
      ]
     },
     "execution_count": 95,
     "metadata": {},
     "output_type": "execute_result"
    }
   ],
   "source": [
    "# let's explore another one\n",
    "\n",
    "var = sel.features_to_drop_[2]\n",
    "\n",
    "X_train[var].value_counts(normalize=True)"
   ]
  },
  {
   "cell_type": "code",
   "execution_count": 96,
   "metadata": {},
   "outputs": [
    {
     "data": {
      "text/plain": [
       "((35000, 158), (15000, 158))"
      ]
     },
     "execution_count": 96,
     "metadata": {},
     "output_type": "execute_result"
    }
   ],
   "source": [
    "#remove the quasi-constant features\n",
    "\n",
    "X_train = sel.transform(X_train)\n",
    "X_test = sel.transform(X_test)\n",
    "\n",
    "X_train.shape, X_test.shape"
   ]
  },
  {
   "cell_type": "markdown",
   "metadata": {},
   "source": [
    "## Duplicated features with Feature-engine\n",
    "\n",
    "In this notebook, we will identify and remove duplicated features with Feature-engine."
   ]
  },
  {
   "cell_type": "code",
   "execution_count": 97,
   "metadata": {},
   "outputs": [],
   "source": [
    "from sklearn.model_selection import train_test_split\n",
    "from sklearn.pipeline import Pipeline\n",
    "\n",
    "from feature_engine.selection import DropDuplicateFeatures, DropConstantFeatures"
   ]
  },
  {
   "cell_type": "code",
   "execution_count": 98,
   "metadata": {},
   "outputs": [
    {
     "name": "stdout",
     "output_type": "stream",
     "text": [
      "Full path NM exists  c:\\Users\\Arindam Banerji\\CopyFolder\\IoT_thoughts\\python-projects\\kaggle_experiments\\input_data\\fselect_dataset_1.csv\n"
     ]
    },
    {
     "data": {
      "text/plain": [
       "(50000, 301)"
      ]
     },
     "execution_count": 98,
     "metadata": {},
     "output_type": "execute_result"
    }
   ],
   "source": [
    "base_dir = \"c:\\\\Users\\Arindam Banerji\\CopyFolder\\IoT_thoughts\\python-projects\\kaggle_experiments\"\n",
    "path_add_ons  = \"\\\\input_data\"\n",
    "file_nm = \"fselect_dataset_1.csv\"\n",
    "\n",
    "fnm, exists = get_full_path_nm (base_dir, path_add_ons, file_nm) \n",
    "\n",
    "# load our first dataset\n",
    "\n",
    "# (feel free to write some code to explore the dataset and become\n",
    "# familiar with it ahead of this demo)\n",
    "\n",
    "data = pd.read_csv(fnm)\n",
    "data.shape"
   ]
  },
  {
   "cell_type": "code",
   "execution_count": 99,
   "metadata": {},
   "outputs": [
    {
     "data": {
      "text/plain": [
       "((35000, 300), (15000, 300))"
      ]
     },
     "execution_count": 99,
     "metadata": {},
     "output_type": "execute_result"
    }
   ],
   "source": [
    "# separate dataset into train and test\n",
    "\n",
    "X_train, X_test, y_train, y_test = train_test_split(\n",
    "    data.drop(labels=['target'], axis=1), # drop the target\n",
    "    data['target'], # just the target\n",
    "    test_size=0.3,\n",
    "    random_state=0)\n",
    "\n",
    "X_train.shape, X_test.shape"
   ]
  },
  {
   "cell_type": "code",
   "execution_count": 100,
   "metadata": {},
   "outputs": [
    {
     "data": {
      "text/plain": [
       "DropConstantFeatures(tol=0.998)"
      ]
     },
     "execution_count": 100,
     "metadata": {},
     "output_type": "execute_result"
    }
   ],
   "source": [
    "# remove constant and quasi-constant features first:\n",
    "# we use Feature-engine for this\n",
    "\n",
    "sel = DropConstantFeatures(tol=0.998, variables=None, missing_values='raise')\n",
    "\n",
    "sel.fit(X_train)"
   ]
  },
  {
   "cell_type": "code",
   "execution_count": 101,
   "metadata": {},
   "outputs": [
    {
     "data": {
      "text/plain": [
       "((35000, 158), (15000, 158))"
      ]
     },
     "execution_count": 101,
     "metadata": {},
     "output_type": "execute_result"
    }
   ],
   "source": [
    "# remove the quasi-constant features\n",
    "\n",
    "X_train = sel.transform(X_train)\n",
    "X_test = sel.transform(X_test)\n",
    "\n",
    "X_train.shape, X_test.shape"
   ]
  },
  {
   "cell_type": "code",
   "execution_count": 102,
   "metadata": {},
   "outputs": [
    {
     "data": {
      "text/plain": [
       "DropDuplicateFeatures(missing_values='raise')"
      ]
     },
     "execution_count": 102,
     "metadata": {},
     "output_type": "execute_result"
    }
   ],
   "source": [
    "# set up the selector\n",
    "sel = DropDuplicateFeatures(variables=None, missing_values='raise')\n",
    "\n",
    "# find the duplicate features, this might take a while\n",
    "sel.fit(X_train)"
   ]
  },
  {
   "cell_type": "code",
   "execution_count": 103,
   "metadata": {},
   "outputs": [
    {
     "data": {
      "text/plain": [
       "[{'var_148', 'var_37'},\n",
       " {'var_199', 'var_84'},\n",
       " {'var_143', 'var_296'},\n",
       " {'var_177', 'var_250'},\n",
       " {'var_226', 'var_232'},\n",
       " {'var_229', 'var_269'}]"
      ]
     },
     "execution_count": 103,
     "metadata": {},
     "output_type": "execute_result"
    }
   ],
   "source": [
    "# these are the pairs of duplicated features\n",
    "# each set are duplicates\n",
    "\n",
    "sel.duplicated_feature_sets_"
   ]
  },
  {
   "cell_type": "code",
   "execution_count": 104,
   "metadata": {},
   "outputs": [
    {
     "data": {
      "text/plain": [
       "{'var_148', 'var_199', 'var_232', 'var_250', 'var_269', 'var_296'}"
      ]
     },
     "execution_count": 104,
     "metadata": {},
     "output_type": "execute_result"
    }
   ],
   "source": [
    "# these are the features that will be dropped\n",
    "# 1 from each of the pairs above\n",
    "\n",
    "sel.features_to_drop_"
   ]
  },
  {
   "cell_type": "code",
   "execution_count": 105,
   "metadata": {},
   "outputs": [
    {
     "data": {
      "text/plain": [
       "6"
      ]
     },
     "execution_count": 105,
     "metadata": {},
     "output_type": "execute_result"
    }
   ],
   "source": [
    "# let's explore our list of duplicated features\n",
    "\n",
    "len(sel.features_to_drop_)"
   ]
  },
  {
   "cell_type": "code",
   "execution_count": 106,
   "metadata": {},
   "outputs": [
    {
     "data": {
      "text/plain": [
       "((35000, 152), (15000, 152))"
      ]
     },
     "execution_count": 106,
     "metadata": {},
     "output_type": "execute_result"
    }
   ],
   "source": [
    "# remove the duplicated features\n",
    "\n",
    "X_train = sel.transform(X_train)\n",
    "X_test = sel.transform(X_test)\n",
    "\n",
    "X_train.shape, X_test.shape"
   ]
  },
  {
   "cell_type": "markdown",
   "metadata": {},
   "source": [
    "## Stack Feature selection in a Pipeline\n",
    "\n",
    "We can perform both steps together by setting up the transformers within a pipeline."
   ]
  },
  {
   "cell_type": "code",
   "execution_count": 107,
   "metadata": {},
   "outputs": [
    {
     "data": {
      "text/plain": [
       "((35000, 300), (15000, 300))"
      ]
     },
     "execution_count": 107,
     "metadata": {},
     "output_type": "execute_result"
    }
   ],
   "source": [
    "# separate dataset into train and test\n",
    "\n",
    "X_train, X_test, y_train, y_test = train_test_split(\n",
    "    data.drop(labels=['target'], axis=1), # drop the target\n",
    "    data['target'], # just the target\n",
    "    test_size=0.3,\n",
    "    random_state=0)\n",
    "\n",
    "X_train.shape, X_test.shape"
   ]
  },
  {
   "cell_type": "code",
   "execution_count": 108,
   "metadata": {},
   "outputs": [
    {
     "data": {
      "text/plain": [
       "Pipeline(steps=[('constant', DropConstantFeatures(tol=0.998)),\n",
       "                ('duplicated', DropDuplicateFeatures())])"
      ]
     },
     "execution_count": 108,
     "metadata": {},
     "output_type": "execute_result"
    }
   ],
   "source": [
    "pipe = Pipeline([\n",
    "    ('constant', DropConstantFeatures(tol=0.998)),\n",
    "    ('duplicated', DropDuplicateFeatures()),\n",
    "])\n",
    "\n",
    "pipe.fit(X_train)"
   ]
  },
  {
   "cell_type": "code",
   "execution_count": 109,
   "metadata": {},
   "outputs": [
    {
     "data": {
      "text/plain": [
       "((35000, 152), (15000, 152))"
      ]
     },
     "execution_count": 109,
     "metadata": {},
     "output_type": "execute_result"
    }
   ],
   "source": [
    "# remove features\n",
    "\n",
    "X_train = pipe.transform(X_train)\n",
    "X_test = pipe.transform(X_test)\n",
    "\n",
    "X_train.shape, X_test.shape"
   ]
  },
  {
   "cell_type": "code",
   "execution_count": 110,
   "metadata": {},
   "outputs": [
    {
     "data": {
      "text/plain": [
       "142"
      ]
     },
     "execution_count": 110,
     "metadata": {},
     "output_type": "execute_result"
    }
   ],
   "source": [
    "# we can navigate the pipeline transformers\n",
    "\n",
    "len(pipe.named_steps['constant'].features_to_drop_)"
   ]
  },
  {
   "cell_type": "code",
   "execution_count": 111,
   "metadata": {},
   "outputs": [
    {
     "data": {
      "text/plain": [
       "{'var_148', 'var_199', 'var_232', 'var_250', 'var_269', 'var_296'}"
      ]
     },
     "execution_count": 111,
     "metadata": {},
     "output_type": "execute_result"
    }
   ],
   "source": [
    "pipe.named_steps['duplicated'].features_to_drop_"
   ]
  }
 ],
 "metadata": {
  "kernelspec": {
   "display_name": "Python 3.10.7 64-bit",
   "language": "python",
   "name": "python3"
  },
  "language_info": {
   "codemirror_mode": {
    "name": "ipython",
    "version": 3
   },
   "file_extension": ".py",
   "mimetype": "text/x-python",
   "name": "python",
   "nbconvert_exporter": "python",
   "pygments_lexer": "ipython3",
   "version": "3.10.7"
  },
  "orig_nbformat": 4,
  "vscode": {
   "interpreter": {
    "hash": "369f2c481f4da34e4445cda3fffd2e751bd1c4d706f27375911949ba6bb62e1c"
   }
  }
 },
 "nbformat": 4,
 "nbformat_minor": 2
}
