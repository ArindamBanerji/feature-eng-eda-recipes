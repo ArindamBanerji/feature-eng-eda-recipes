{
 "cells": [
  {
   "cell_type": "code",
   "execution_count": 1,
   "metadata": {},
   "outputs": [],
   "source": [
    "# import for sklearn, category encoders, feature tools, xgb, catbost\n",
    "import featuretools as ft\n",
    "import numpy as np\n",
    "import pandas as pd\n",
    "\n",
    "# Importing the SimpleImputer class\n",
    "from sklearn.impute import SimpleImputer\n",
    "from sklearn.compose import ColumnTransformer\n",
    "from sklearn.model_selection import train_test_split\n",
    "\n",
    "from sklearn.pipeline import Pipeline\n",
    "\n",
    "from catboost import CatBoostRegressor\n",
    "\n",
    "from category_encoders.ordinal import OrdinalEncoder\n",
    "\n",
    "import xgboost as xg\n",
    "from sklearn.metrics import mean_squared_error as MSE\n",
    "\n",
    "from helper_fe_v2 import (\n",
    "            get_full_datapath_nm,\n",
    "            read_df_from_file,\n",
    "            check_module_members,\n",
    "            gen_correlation,\n",
    "            do_bkwd_fwd_selection,\n",
    "            yaml_path,\n",
    "            read_yaml_conf,\n",
    "            remove_duplicates, \n",
    "            drop_const_features,\n",
    "            drop_quasi_const_features ,\n",
    "            run_randomForestClassifier,\n",
    "            run_logistic,\n",
    "            run_randomForestRegressor\n",
    ")"
   ]
  },
  {
   "cell_type": "code",
   "execution_count": 2,
   "metadata": {},
   "outputs": [
    {
     "name": "stdout",
     "output_type": "stream",
     "text": [
      "yaml_ conf  {'write_file': True, 'base_dir': 'C:\\\\Users\\\\Arindam Banerji\\\\CopyFolder\\\\IOT_thoughts\\\\python-projects\\\\kaggle_experiments', 'full_config_file': 'C:\\\\Users\\\\Arindam Banerji\\\\CopyFolder\\\\IOT_thoughts\\\\python-projects\\\\kaggle_experiments\\\\feature-engineering\\\\recipes\\\\py-projects.yaml', 'current_proj_dir': 'C:\\\\Users\\\\Arindam Banerji\\\\CopyFolder\\\\IOT_thoughts\\\\python-projects\\\\kaggle_experiments\\\\feature-engineering\\\\recipes', 'data_dir_nm': 'input_data\\\\raw', 'interim_data_dir_nm': 'input_data\\\\interim', 'files': {'test_data_set2': 'fselect_dataset_2.csv', 'housing_data': 'housing_prices_train.csv', 'test_data_set1': 'fselect_dataset_1.csv', 'titanic_data': 'fe-cookbook-titanic.csv', 'retail_data': 'online_retail_II.xlsx', 'interim_retail_data': 'retail.csv', 'ftools_sample_tr': 'train_v9rqX0R.csv', 'ftools_sample_test': 'test_AbJTz2l.csv', 'comp_eda_file': 'none.csv'}, 'project_parms': {'use_mlxtnd': 'False'}, 'process_eda': {'main_file': 'fselect_dataset_2.csv', 'compre_file': 'none.csv', 'pairwise_analysis': 'on', 'show_html': 'False'}, 'RandomForestConfig': {'n_estimators': 200, 'rand_state': 39, 'max_depth': 4}}\n"
     ]
    }
   ],
   "source": [
    "# read  in the yaml file \n",
    "config = read_yaml_conf(yaml_path())\n",
    "print (\"yaml_ conf \", config ) "
   ]
  },
  {
   "cell_type": "code",
   "execution_count": 3,
   "metadata": {},
   "outputs": [
    {
     "name": "stdout",
     "output_type": "stream",
     "text": [
      "Full path NM exists  C:\\Users\\Arindam Banerji\\CopyFolder\\IOT_thoughts\\python-projects\\kaggle_experiments\\feature-engineering\\recipes\\input_data\\raw\\train_v9rqX0R.csv\n",
      "full_path nm -from read_df C:\\Users\\Arindam Banerji\\CopyFolder\\IOT_thoughts\\python-projects\\kaggle_experiments\\feature-engineering\\recipes\\input_data\\raw\\train_v9rqX0R.csv\n",
      "Full path NM exists  C:\\Users\\Arindam Banerji\\CopyFolder\\IOT_thoughts\\python-projects\\kaggle_experiments\\feature-engineering\\recipes\\input_data\\raw\\test_AbJTz2l.csv\n",
      "full_path nm -from read_df C:\\Users\\Arindam Banerji\\CopyFolder\\IOT_thoughts\\python-projects\\kaggle_experiments\\feature-engineering\\recipes\\input_data\\raw\\test_AbJTz2l.csv\n"
     ]
    },
    {
     "data": {
      "text/plain": [
       "(8523, 12)"
      ]
     },
     "execution_count": 3,
     "metadata": {},
     "output_type": "execute_result"
    }
   ],
   "source": [
    "# load data files - from yaml file names \n",
    "train = read_df_from_file ( config['files']['ftools_sample_tr'], set_nrows=False, nrws=0 ) \n",
    "test = read_df_from_file ( config['files']['ftools_sample_test'], set_nrows=False, nrws=0 )\n",
    "\n",
    "train.shape"
   ]
  },
  {
   "cell_type": "code",
   "execution_count": 4,
   "metadata": {},
   "outputs": [
    {
     "name": "stdout",
     "output_type": "stream",
     "text": [
      "train size (8523, 12)\n",
      "test size (5681, 11)\n"
     ]
    }
   ],
   "source": [
    "# misc diagnnostics\n",
    "print('train size', train.shape)\n",
    "print('test size', test.shape)"
   ]
  },
  {
   "cell_type": "code",
   "execution_count": 5,
   "metadata": {},
   "outputs": [
    {
     "name": "stdout",
     "output_type": "stream",
     "text": [
      "Index(['Item_Identifier', 'Item_Weight', 'Item_Fat_Content', 'Item_Visibility',\n",
      "       'Item_Type', 'Item_MRP', 'Outlet_Identifier',\n",
      "       'Outlet_Establishment_Year', 'Outlet_Size', 'Outlet_Location_Type',\n",
      "       'Outlet_Type', 'Item_Outlet_Sales'],\n",
      "      dtype='object')\n",
      "Index(['Item_Identifier', 'Item_Weight', 'Item_Fat_Content', 'Item_Visibility',\n",
      "       'Item_Type', 'Item_MRP', 'Outlet_Identifier',\n",
      "       'Outlet_Establishment_Year', 'Outlet_Size', 'Outlet_Location_Type',\n",
      "       'Outlet_Type'],\n",
      "      dtype='object')\n"
     ]
    }
   ],
   "source": [
    "# more diagnostics \n",
    "print (train.columns)\n",
    "print (test.columns)"
   ]
  },
  {
   "cell_type": "code",
   "execution_count": 6,
   "metadata": {},
   "outputs": [],
   "source": [
    "# saving identifiers\n",
    "test_Item_Identifier = test['Item_Identifier']\n",
    "test_Outlet_Identifier = test['Outlet_Identifier']\n",
    "sales = train['Item_Outlet_Sales']\n",
    "train.drop(['Item_Outlet_Sales'], axis=1, inplace=True)"
   ]
  },
  {
   "cell_type": "code",
   "execution_count": 7,
   "metadata": {},
   "outputs": [
    {
     "name": "stdout",
     "output_type": "stream",
     "text": [
      "train size (8523, 11)\n",
      "test size (5681, 11)\n"
     ]
    }
   ],
   "source": [
    "print('train size', train.shape)\n",
    "print('test size', test.shape)"
   ]
  },
  {
   "cell_type": "code",
   "execution_count": 8,
   "metadata": {},
   "outputs": [
    {
     "name": "stdout",
     "output_type": "stream",
     "text": [
      "Index(['Item_Identifier', 'Item_Weight', 'Item_Fat_Content', 'Item_Visibility',\n",
      "       'Item_Type', 'Item_MRP', 'Outlet_Identifier',\n",
      "       'Outlet_Establishment_Year', 'Outlet_Size', 'Outlet_Location_Type',\n",
      "       'Outlet_Type'],\n",
      "      dtype='object')\n",
      "Index(['Item_Identifier', 'Item_Weight', 'Item_Fat_Content', 'Item_Visibility',\n",
      "       'Item_Type', 'Item_MRP', 'Outlet_Identifier',\n",
      "       'Outlet_Establishment_Year', 'Outlet_Size', 'Outlet_Location_Type',\n",
      "       'Outlet_Type'],\n",
      "      dtype='object')\n"
     ]
    }
   ],
   "source": [
    "print (train.columns)\n",
    "print (test.columns)"
   ]
  },
  {
   "cell_type": "code",
   "execution_count": 9,
   "metadata": {},
   "outputs": [
    {
     "data": {
      "text/plain": [
       "(14204, 11)"
      ]
     },
     "execution_count": 9,
     "metadata": {},
     "output_type": "execute_result"
    }
   ],
   "source": [
    "# concatenate into a single data frame \n",
    "combi = pd.concat([train,test], ignore_index=True)\n",
    "combi.shape"
   ]
  },
  {
   "cell_type": "code",
   "execution_count": 10,
   "metadata": {},
   "outputs": [],
   "source": [
    "# keep copy for expariments \n",
    "combi_saved = combi.copy()"
   ]
  },
  {
   "cell_type": "code",
   "execution_count": 11,
   "metadata": {},
   "outputs": [
    {
     "data": {
      "text/plain": [
       "Index(['Item_Identifier', 'Item_Weight', 'Item_Fat_Content', 'Item_Visibility',\n",
       "       'Item_Type', 'Item_MRP', 'Outlet_Identifier',\n",
       "       'Outlet_Establishment_Year', 'Outlet_Size', 'Outlet_Location_Type',\n",
       "       'Outlet_Type'],\n",
       "      dtype='object')"
      ]
     },
     "execution_count": 11,
     "metadata": {},
     "output_type": "execute_result"
    }
   ],
   "source": [
    "combi.columns"
   ]
  },
  {
   "cell_type": "code",
   "execution_count": 12,
   "metadata": {},
   "outputs": [
    {
     "data": {
      "text/html": [
       "<div>\n",
       "<style scoped>\n",
       "    .dataframe tbody tr th:only-of-type {\n",
       "        vertical-align: middle;\n",
       "    }\n",
       "\n",
       "    .dataframe tbody tr th {\n",
       "        vertical-align: top;\n",
       "    }\n",
       "\n",
       "    .dataframe thead th {\n",
       "        text-align: right;\n",
       "    }\n",
       "</style>\n",
       "<table border=\"1\" class=\"dataframe\">\n",
       "  <thead>\n",
       "    <tr style=\"text-align: right;\">\n",
       "      <th></th>\n",
       "      <th>Item_Identifier</th>\n",
       "      <th>Item_Weight</th>\n",
       "      <th>Item_Fat_Content</th>\n",
       "      <th>Item_Visibility</th>\n",
       "      <th>Item_Type</th>\n",
       "      <th>Item_MRP</th>\n",
       "      <th>Outlet_Identifier</th>\n",
       "      <th>Outlet_Establishment_Year</th>\n",
       "      <th>Outlet_Size</th>\n",
       "      <th>Outlet_Location_Type</th>\n",
       "      <th>Outlet_Type</th>\n",
       "    </tr>\n",
       "  </thead>\n",
       "  <tbody>\n",
       "    <tr>\n",
       "      <th>8240</th>\n",
       "      <td>FDQ47</td>\n",
       "      <td>7.155</td>\n",
       "      <td>Regular</td>\n",
       "      <td>0.168155</td>\n",
       "      <td>Breads</td>\n",
       "      <td>33.7874</td>\n",
       "      <td>OUT035</td>\n",
       "      <td>2004</td>\n",
       "      <td>Small</td>\n",
       "      <td>Tier 2</td>\n",
       "      <td>Supermarket Type1</td>\n",
       "    </tr>\n",
       "    <tr>\n",
       "      <th>12809</th>\n",
       "      <td>FDN44</td>\n",
       "      <td>13.150</td>\n",
       "      <td>Low Fat</td>\n",
       "      <td>0.022888</td>\n",
       "      <td>Fruits and Vegetables</td>\n",
       "      <td>160.2920</td>\n",
       "      <td>OUT018</td>\n",
       "      <td>2009</td>\n",
       "      <td>Medium</td>\n",
       "      <td>Tier 3</td>\n",
       "      <td>Supermarket Type2</td>\n",
       "    </tr>\n",
       "    <tr>\n",
       "      <th>13107</th>\n",
       "      <td>FDO33</td>\n",
       "      <td>14.750</td>\n",
       "      <td>Low Fat</td>\n",
       "      <td>0.089248</td>\n",
       "      <td>Snack Foods</td>\n",
       "      <td>113.1518</td>\n",
       "      <td>OUT013</td>\n",
       "      <td>1987</td>\n",
       "      <td>High</td>\n",
       "      <td>Tier 3</td>\n",
       "      <td>Supermarket Type1</td>\n",
       "    </tr>\n",
       "    <tr>\n",
       "      <th>4992</th>\n",
       "      <td>NCN42</td>\n",
       "      <td>20.250</td>\n",
       "      <td>Low Fat</td>\n",
       "      <td>0.014281</td>\n",
       "      <td>Household</td>\n",
       "      <td>148.0418</td>\n",
       "      <td>OUT018</td>\n",
       "      <td>2009</td>\n",
       "      <td>Medium</td>\n",
       "      <td>Tier 3</td>\n",
       "      <td>Supermarket Type2</td>\n",
       "    </tr>\n",
       "    <tr>\n",
       "      <th>12765</th>\n",
       "      <td>DRE13</td>\n",
       "      <td>6.280</td>\n",
       "      <td>Low Fat</td>\n",
       "      <td>0.027705</td>\n",
       "      <td>Soft Drinks</td>\n",
       "      <td>88.0198</td>\n",
       "      <td>OUT046</td>\n",
       "      <td>1997</td>\n",
       "      <td>Small</td>\n",
       "      <td>Tier 1</td>\n",
       "      <td>Supermarket Type1</td>\n",
       "    </tr>\n",
       "    <tr>\n",
       "      <th>13217</th>\n",
       "      <td>FDT19</td>\n",
       "      <td>7.590</td>\n",
       "      <td>Regular</td>\n",
       "      <td>0.145041</td>\n",
       "      <td>Fruits and Vegetables</td>\n",
       "      <td>173.6080</td>\n",
       "      <td>OUT046</td>\n",
       "      <td>1997</td>\n",
       "      <td>Small</td>\n",
       "      <td>Tier 1</td>\n",
       "      <td>Supermarket Type1</td>\n",
       "    </tr>\n",
       "    <tr>\n",
       "      <th>2596</th>\n",
       "      <td>FDU59</td>\n",
       "      <td>5.780</td>\n",
       "      <td>Low Fat</td>\n",
       "      <td>0.096536</td>\n",
       "      <td>Breads</td>\n",
       "      <td>162.8552</td>\n",
       "      <td>OUT049</td>\n",
       "      <td>1999</td>\n",
       "      <td>Medium</td>\n",
       "      <td>Tier 1</td>\n",
       "      <td>Supermarket Type1</td>\n",
       "    </tr>\n",
       "    <tr>\n",
       "      <th>13972</th>\n",
       "      <td>NCL06</td>\n",
       "      <td>14.650</td>\n",
       "      <td>Low Fat</td>\n",
       "      <td>0.072360</td>\n",
       "      <td>Household</td>\n",
       "      <td>260.4594</td>\n",
       "      <td>OUT018</td>\n",
       "      <td>2009</td>\n",
       "      <td>Medium</td>\n",
       "      <td>Tier 3</td>\n",
       "      <td>Supermarket Type2</td>\n",
       "    </tr>\n",
       "    <tr>\n",
       "      <th>803</th>\n",
       "      <td>FDO36</td>\n",
       "      <td>NaN</td>\n",
       "      <td>Low Fat</td>\n",
       "      <td>0.077537</td>\n",
       "      <td>Baking Goods</td>\n",
       "      <td>180.8660</td>\n",
       "      <td>OUT027</td>\n",
       "      <td>1985</td>\n",
       "      <td>Medium</td>\n",
       "      <td>Tier 3</td>\n",
       "      <td>Supermarket Type3</td>\n",
       "    </tr>\n",
       "    <tr>\n",
       "      <th>4539</th>\n",
       "      <td>FDH38</td>\n",
       "      <td>6.425</td>\n",
       "      <td>Low Fat</td>\n",
       "      <td>0.010454</td>\n",
       "      <td>Canned</td>\n",
       "      <td>115.6808</td>\n",
       "      <td>OUT049</td>\n",
       "      <td>1999</td>\n",
       "      <td>Medium</td>\n",
       "      <td>Tier 1</td>\n",
       "      <td>Supermarket Type1</td>\n",
       "    </tr>\n",
       "  </tbody>\n",
       "</table>\n",
       "</div>"
      ],
      "text/plain": [
       "      Item_Identifier  Item_Weight Item_Fat_Content  Item_Visibility  \\\n",
       "8240            FDQ47        7.155          Regular         0.168155   \n",
       "12809           FDN44       13.150          Low Fat         0.022888   \n",
       "13107           FDO33       14.750          Low Fat         0.089248   \n",
       "4992            NCN42       20.250          Low Fat         0.014281   \n",
       "12765           DRE13        6.280          Low Fat         0.027705   \n",
       "13217           FDT19        7.590          Regular         0.145041   \n",
       "2596            FDU59        5.780          Low Fat         0.096536   \n",
       "13972           NCL06       14.650          Low Fat         0.072360   \n",
       "803             FDO36          NaN          Low Fat         0.077537   \n",
       "4539            FDH38        6.425          Low Fat         0.010454   \n",
       "\n",
       "                   Item_Type  Item_MRP Outlet_Identifier  \\\n",
       "8240                  Breads   33.7874            OUT035   \n",
       "12809  Fruits and Vegetables  160.2920            OUT018   \n",
       "13107            Snack Foods  113.1518            OUT013   \n",
       "4992               Household  148.0418            OUT018   \n",
       "12765            Soft Drinks   88.0198            OUT046   \n",
       "13217  Fruits and Vegetables  173.6080            OUT046   \n",
       "2596                  Breads  162.8552            OUT049   \n",
       "13972              Household  260.4594            OUT018   \n",
       "803             Baking Goods  180.8660            OUT027   \n",
       "4539                  Canned  115.6808            OUT049   \n",
       "\n",
       "       Outlet_Establishment_Year Outlet_Size Outlet_Location_Type  \\\n",
       "8240                        2004       Small               Tier 2   \n",
       "12809                       2009      Medium               Tier 3   \n",
       "13107                       1987        High               Tier 3   \n",
       "4992                        2009      Medium               Tier 3   \n",
       "12765                       1997       Small               Tier 1   \n",
       "13217                       1997       Small               Tier 1   \n",
       "2596                        1999      Medium               Tier 1   \n",
       "13972                       2009      Medium               Tier 3   \n",
       "803                         1985      Medium               Tier 3   \n",
       "4539                        1999      Medium               Tier 1   \n",
       "\n",
       "             Outlet_Type  \n",
       "8240   Supermarket Type1  \n",
       "12809  Supermarket Type2  \n",
       "13107  Supermarket Type1  \n",
       "4992   Supermarket Type2  \n",
       "12765  Supermarket Type1  \n",
       "13217  Supermarket Type1  \n",
       "2596   Supermarket Type1  \n",
       "13972  Supermarket Type2  \n",
       "803    Supermarket Type3  \n",
       "4539   Supermarket Type1  "
      ]
     },
     "execution_count": 12,
     "metadata": {},
     "output_type": "execute_result"
    }
   ],
   "source": [
    "combi.sample(10)"
   ]
  },
  {
   "cell_type": "code",
   "execution_count": 13,
   "metadata": {},
   "outputs": [
    {
     "data": {
      "text/plain": [
       "Item_Identifier                 0\n",
       "Item_Weight                  2439\n",
       "Item_Fat_Content                0\n",
       "Item_Visibility                 0\n",
       "Item_Type                       0\n",
       "Item_MRP                        0\n",
       "Outlet_Identifier               0\n",
       "Outlet_Establishment_Year       0\n",
       "Outlet_Size                  4016\n",
       "Outlet_Location_Type            0\n",
       "Outlet_Type                     0\n",
       "dtype: int64"
      ]
     },
     "execution_count": 13,
     "metadata": {},
     "output_type": "execute_result"
    }
   ],
   "source": [
    "combi.isnull().sum()"
   ]
  },
  {
   "cell_type": "markdown",
   "metadata": {},
   "source": [
    "## Pipeline etc. for imputation - long (can be done thru pandas also)"
   ]
  },
  {
   "cell_type": "code",
   "execution_count": 14,
   "metadata": {},
   "outputs": [],
   "source": [
    "# generate lists of vars \n",
    "mean_vars = ['Item_Weight']\n",
    "med_vars = ['Outlet_Size']\n",
    "remaining_vars = (\n",
    "    [var for var in combi.columns if (var not in mean_vars) and (var not in med_vars)])"
   ]
  },
  {
   "cell_type": "code",
   "execution_count": 15,
   "metadata": {},
   "outputs": [
    {
     "data": {
      "text/plain": [
       "['Item_Weight']"
      ]
     },
     "execution_count": 15,
     "metadata": {},
     "output_type": "execute_result"
    }
   ],
   "source": [
    "mean_vars"
   ]
  },
  {
   "cell_type": "code",
   "execution_count": 16,
   "metadata": {},
   "outputs": [
    {
     "data": {
      "text/plain": [
       "['Outlet_Size']"
      ]
     },
     "execution_count": 16,
     "metadata": {},
     "output_type": "execute_result"
    }
   ],
   "source": [
    "med_vars"
   ]
  },
  {
   "cell_type": "code",
   "execution_count": 17,
   "metadata": {},
   "outputs": [
    {
     "data": {
      "text/plain": [
       "['Item_Identifier',\n",
       " 'Item_Fat_Content',\n",
       " 'Item_Visibility',\n",
       " 'Item_Type',\n",
       " 'Item_MRP',\n",
       " 'Outlet_Identifier',\n",
       " 'Outlet_Establishment_Year',\n",
       " 'Outlet_Location_Type',\n",
       " 'Outlet_Type']"
      ]
     },
     "execution_count": 17,
     "metadata": {},
     "output_type": "execute_result"
    }
   ],
   "source": [
    "remaining_vars"
   ]
  },
  {
   "cell_type": "code",
   "execution_count": 18,
   "metadata": {},
   "outputs": [
    {
     "data": {
      "text/plain": [
       "(14204, 11)"
      ]
     },
     "execution_count": 18,
     "metadata": {},
     "output_type": "execute_result"
    }
   ],
   "source": [
    "combi.shape"
   ]
  },
  {
   "cell_type": "code",
   "execution_count": 19,
   "metadata": {},
   "outputs": [],
   "source": [
    "# Pipeline:\n",
    "\n",
    "pipe = ColumnTransformer(\n",
    "    [   (\"num_imputer1\", SimpleImputer(strategy=\"mean\"), mean_vars),\n",
    "        (\"num_imputer2\", SimpleImputer(strategy=\"most_frequent\"), med_vars)],\n",
    "    remainder = 'passthrough')"
   ]
  },
  {
   "cell_type": "code",
   "execution_count": 20,
   "metadata": {},
   "outputs": [
    {
     "data": {
      "text/plain": [
       "(14204, 11)"
      ]
     },
     "execution_count": 20,
     "metadata": {},
     "output_type": "execute_result"
    }
   ],
   "source": [
    "# fit & trasform for imputation \n",
    "combi= pipe.fit_transform(combi)\n",
    "combi.shape"
   ]
  },
  {
   "cell_type": "code",
   "execution_count": 21,
   "metadata": {},
   "outputs": [
    {
     "data": {
      "text/html": [
       "<div>\n",
       "<style scoped>\n",
       "    .dataframe tbody tr th:only-of-type {\n",
       "        vertical-align: middle;\n",
       "    }\n",
       "\n",
       "    .dataframe tbody tr th {\n",
       "        vertical-align: top;\n",
       "    }\n",
       "\n",
       "    .dataframe thead th {\n",
       "        text-align: right;\n",
       "    }\n",
       "</style>\n",
       "<table border=\"1\" class=\"dataframe\">\n",
       "  <thead>\n",
       "    <tr style=\"text-align: right;\">\n",
       "      <th></th>\n",
       "      <th>Item_Weight</th>\n",
       "      <th>Outlet_Size</th>\n",
       "      <th>Item_Identifier</th>\n",
       "      <th>Item_Fat_Content</th>\n",
       "      <th>Item_Visibility</th>\n",
       "      <th>Item_Type</th>\n",
       "      <th>Item_MRP</th>\n",
       "      <th>Outlet_Identifier</th>\n",
       "      <th>Outlet_Establishment_Year</th>\n",
       "      <th>Outlet_Location_Type</th>\n",
       "      <th>Outlet_Type</th>\n",
       "    </tr>\n",
       "  </thead>\n",
       "  <tbody>\n",
       "    <tr>\n",
       "      <th>0</th>\n",
       "      <td>9.3</td>\n",
       "      <td>Medium</td>\n",
       "      <td>FDA15</td>\n",
       "      <td>Low Fat</td>\n",
       "      <td>0.016047</td>\n",
       "      <td>Dairy</td>\n",
       "      <td>249.8092</td>\n",
       "      <td>OUT049</td>\n",
       "      <td>1999</td>\n",
       "      <td>Tier 1</td>\n",
       "      <td>Supermarket Type1</td>\n",
       "    </tr>\n",
       "    <tr>\n",
       "      <th>1</th>\n",
       "      <td>5.92</td>\n",
       "      <td>Medium</td>\n",
       "      <td>DRC01</td>\n",
       "      <td>Regular</td>\n",
       "      <td>0.019278</td>\n",
       "      <td>Soft Drinks</td>\n",
       "      <td>48.2692</td>\n",
       "      <td>OUT018</td>\n",
       "      <td>2009</td>\n",
       "      <td>Tier 3</td>\n",
       "      <td>Supermarket Type2</td>\n",
       "    </tr>\n",
       "    <tr>\n",
       "      <th>2</th>\n",
       "      <td>17.5</td>\n",
       "      <td>Medium</td>\n",
       "      <td>FDN15</td>\n",
       "      <td>Low Fat</td>\n",
       "      <td>0.01676</td>\n",
       "      <td>Meat</td>\n",
       "      <td>141.618</td>\n",
       "      <td>OUT049</td>\n",
       "      <td>1999</td>\n",
       "      <td>Tier 1</td>\n",
       "      <td>Supermarket Type1</td>\n",
       "    </tr>\n",
       "    <tr>\n",
       "      <th>3</th>\n",
       "      <td>19.2</td>\n",
       "      <td>Medium</td>\n",
       "      <td>FDX07</td>\n",
       "      <td>Regular</td>\n",
       "      <td>0.0</td>\n",
       "      <td>Fruits and Vegetables</td>\n",
       "      <td>182.095</td>\n",
       "      <td>OUT010</td>\n",
       "      <td>1998</td>\n",
       "      <td>Tier 3</td>\n",
       "      <td>Grocery Store</td>\n",
       "    </tr>\n",
       "    <tr>\n",
       "      <th>4</th>\n",
       "      <td>8.93</td>\n",
       "      <td>High</td>\n",
       "      <td>NCD19</td>\n",
       "      <td>Low Fat</td>\n",
       "      <td>0.0</td>\n",
       "      <td>Household</td>\n",
       "      <td>53.8614</td>\n",
       "      <td>OUT013</td>\n",
       "      <td>1987</td>\n",
       "      <td>Tier 3</td>\n",
       "      <td>Supermarket Type1</td>\n",
       "    </tr>\n",
       "  </tbody>\n",
       "</table>\n",
       "</div>"
      ],
      "text/plain": [
       "  Item_Weight Outlet_Size Item_Identifier Item_Fat_Content Item_Visibility  \\\n",
       "0         9.3      Medium           FDA15          Low Fat        0.016047   \n",
       "1        5.92      Medium           DRC01          Regular        0.019278   \n",
       "2        17.5      Medium           FDN15          Low Fat         0.01676   \n",
       "3        19.2      Medium           FDX07          Regular             0.0   \n",
       "4        8.93        High           NCD19          Low Fat             0.0   \n",
       "\n",
       "               Item_Type  Item_MRP Outlet_Identifier  \\\n",
       "0                  Dairy  249.8092            OUT049   \n",
       "1            Soft Drinks   48.2692            OUT018   \n",
       "2                   Meat   141.618            OUT049   \n",
       "3  Fruits and Vegetables   182.095            OUT010   \n",
       "4              Household   53.8614            OUT013   \n",
       "\n",
       "  Outlet_Establishment_Year Outlet_Location_Type        Outlet_Type  \n",
       "0                      1999               Tier 1  Supermarket Type1  \n",
       "1                      2009               Tier 3  Supermarket Type2  \n",
       "2                      1999               Tier 1  Supermarket Type1  \n",
       "3                      1998               Tier 3      Grocery Store  \n",
       "4                      1987               Tier 3  Supermarket Type1  "
      ]
     },
     "execution_count": 21,
     "metadata": {},
     "output_type": "execute_result"
    }
   ],
   "source": [
    "# Convert returned array to a pandas dataframe:\n",
    "combi = pd.DataFrame(\n",
    "    combi,\n",
    "    columns= mean_vars + med_vars + remaining_vars,\n",
    ")\n",
    "\n",
    "combi.head()"
   ]
  },
  {
   "cell_type": "code",
   "execution_count": 22,
   "metadata": {},
   "outputs": [
    {
     "data": {
      "text/plain": [
       "Item_Weight                  0\n",
       "Outlet_Size                  0\n",
       "Item_Identifier              0\n",
       "Item_Fat_Content             0\n",
       "Item_Visibility              0\n",
       "Item_Type                    0\n",
       "Item_MRP                     0\n",
       "Outlet_Identifier            0\n",
       "Outlet_Establishment_Year    0\n",
       "Outlet_Location_Type         0\n",
       "Outlet_Type                  0\n",
       "dtype: int64"
      ]
     },
     "execution_count": 22,
     "metadata": {},
     "output_type": "execute_result"
    }
   ],
   "source": [
    "combi.isnull().sum()"
   ]
  },
  {
   "cell_type": "code",
   "execution_count": 23,
   "metadata": {},
   "outputs": [],
   "source": [
    "# imputing missing data usung pandas only \n",
    "combi_saved['Item_Weight'].fillna(combi_saved['Item_Weight'].mean(), inplace = True)\n",
    "combi_saved['Outlet_Size'].fillna(\"missing\", inplace = True)"
   ]
  },
  {
   "cell_type": "code",
   "execution_count": 24,
   "metadata": {},
   "outputs": [
    {
     "data": {
      "text/plain": [
       "Item_Identifier              0\n",
       "Item_Weight                  0\n",
       "Item_Fat_Content             0\n",
       "Item_Visibility              0\n",
       "Item_Type                    0\n",
       "Item_MRP                     0\n",
       "Outlet_Identifier            0\n",
       "Outlet_Establishment_Year    0\n",
       "Outlet_Size                  0\n",
       "Outlet_Location_Type         0\n",
       "Outlet_Type                  0\n",
       "dtype: int64"
      ]
     },
     "execution_count": 24,
     "metadata": {},
     "output_type": "execute_result"
    }
   ],
   "source": [
    "combi_saved.isnull().sum()"
   ]
  },
  {
   "cell_type": "code",
   "execution_count": 25,
   "metadata": {},
   "outputs": [
    {
     "data": {
      "text/plain": [
       "Low Fat    8485\n",
       "Regular    4824\n",
       "LF          522\n",
       "reg         195\n",
       "low fat     178\n",
       "Name: Item_Fat_Content, dtype: int64"
      ]
     },
     "execution_count": 25,
     "metadata": {},
     "output_type": "execute_result"
    }
   ],
   "source": [
    "combi['Item_Fat_Content'].value_counts()"
   ]
  },
  {
   "cell_type": "code",
   "execution_count": 26,
   "metadata": {},
   "outputs": [
    {
     "data": {
      "text/plain": [
       "Low Fat    8485\n",
       "Regular    4824\n",
       "LF          522\n",
       "reg         195\n",
       "low fat     178\n",
       "Name: Item_Fat_Content, dtype: int64"
      ]
     },
     "execution_count": 26,
     "metadata": {},
     "output_type": "execute_result"
    }
   ],
   "source": [
    "combi_saved['Item_Fat_Content'].value_counts()"
   ]
  },
  {
   "cell_type": "code",
   "execution_count": 27,
   "metadata": {},
   "outputs": [],
   "source": [
    "# dictionary to replace the categories\n",
    "fat_content_dict = {'Low Fat':0, 'Regular':1, 'LF':0, 'reg':1, 'low fat':0}\n",
    "\n",
    "combi['Item_Fat_Content'] = combi['Item_Fat_Content'].replace(fat_content_dict, regex=True)"
   ]
  },
  {
   "cell_type": "code",
   "execution_count": 28,
   "metadata": {},
   "outputs": [],
   "source": [
    "# dictionary to replace the categories\n",
    "\n",
    "combi_saved['Item_Fat_Content'] = combi_saved['Item_Fat_Content'].replace(fat_content_dict, regex=True)"
   ]
  },
  {
   "cell_type": "code",
   "execution_count": 29,
   "metadata": {},
   "outputs": [],
   "source": [
    "combi['id'] = combi['Item_Identifier'] + combi['Outlet_Identifier']\n",
    "combi.drop(['Item_Identifier'], axis=1, inplace=True)"
   ]
  },
  {
   "cell_type": "code",
   "execution_count": 30,
   "metadata": {},
   "outputs": [],
   "source": [
    "combi_saved['id'] = combi_saved['Item_Identifier'] + combi_saved['Outlet_Identifier']\n",
    "combi_saved.drop(['Item_Identifier'], axis=1, inplace=True)"
   ]
  },
  {
   "cell_type": "markdown",
   "metadata": {},
   "source": [
    "# Feature Tools for feature Creatiion "
   ]
  },
  {
   "cell_type": "code",
   "execution_count": 31,
   "metadata": {},
   "outputs": [
    {
     "data": {
      "text/plain": [
       "Entityset: sales\n",
       "  DataFrames:\n",
       "    bigmart [Rows: 14204, Columns: 11]\n",
       "  Relationships:\n",
       "    No relationships"
      ]
     },
     "execution_count": 31,
     "metadata": {},
     "output_type": "execute_result"
    }
   ],
   "source": [
    "# creating and entity set 'es' - a set of entity  tables\n",
    "es = ft.EntitySet(id = 'sales')\n",
    "\n",
    "# adding a dataframe \n",
    "es.add_dataframe(dataframe_name=\"bigmart\", index=\"id\", dataframe=combi)"
   ]
  },
  {
   "cell_type": "code",
   "execution_count": 32,
   "metadata": {},
   "outputs": [
    {
     "name": "stdout",
     "output_type": "stream",
     "text": [
      "Entityset: sales\n",
      "  DataFrames:\n",
      "    bigmart [Rows: 14204, Columns: 11]\n",
      "  Relationships:\n",
      "    No relationships\n"
     ]
    }
   ],
   "source": [
    "print(es)"
   ]
  },
  {
   "cell_type": "code",
   "execution_count": 33,
   "metadata": {},
   "outputs": [],
   "source": [
    "# perhaps need  to xperiment with only add_dataframe & add_relationship\n",
    "es = es.normalize_dataframe(\n",
    "    base_dataframe_name ='bigmart', \n",
    "    new_dataframe_name='outlet',\n",
    "    index = 'Outlet_Identifier', \n",
    "    additional_columns = [\n",
    "        'Outlet_Establishment_Year',\n",
    "        'Outlet_Size', \n",
    "        'Outlet_Location_Type',\n",
    "        'Outlet_Type'], )\n"
   ]
  },
  {
   "cell_type": "code",
   "execution_count": 34,
   "metadata": {},
   "outputs": [
    {
     "name": "stdout",
     "output_type": "stream",
     "text": [
      "Entityset: sales\n",
      "  DataFrames:\n",
      "    bigmart [Rows: 14204, Columns: 7]\n",
      "    outlet [Rows: 10, Columns: 5]\n",
      "  Relationships:\n",
      "    bigmart.Outlet_Identifier -> outlet.Outlet_Identifier\n"
     ]
    }
   ],
   "source": [
    "print (es) "
   ]
  },
  {
   "cell_type": "code",
   "execution_count": 35,
   "metadata": {},
   "outputs": [
    {
     "name": "stdout",
     "output_type": "stream",
     "text": [
      "Built 37 features\n",
      "Elapsed: 00:00 | Progress: 100%|██████████\n"
     ]
    }
   ],
   "source": [
    "# do the feature generation \n",
    "feature_matrix, feature_names = ft.dfs(\n",
    "    entityset=es, \n",
    "    target_dataframe_name= 'bigmart', \n",
    "    max_depth = 2, verbose = 1, \n",
    "    n_jobs = 1)"
   ]
  },
  {
   "cell_type": "code",
   "execution_count": 36,
   "metadata": {},
   "outputs": [
    {
     "data": {
      "text/plain": [
       "Index(['Item_Weight', 'Item_Fat_Content', 'Item_Visibility', 'Item_Type',\n",
       "       'Item_MRP', 'Outlet_Identifier', 'outlet.Outlet_Establishment_Year',\n",
       "       'outlet.Outlet_Size', 'outlet.Outlet_Location_Type',\n",
       "       'outlet.Outlet_Type', 'outlet.COUNT(bigmart)',\n",
       "       'outlet.MAX(bigmart.Item_Fat_Content)', 'outlet.MAX(bigmart.Item_MRP)',\n",
       "       'outlet.MAX(bigmart.Item_Visibility)',\n",
       "       'outlet.MAX(bigmart.Item_Weight)',\n",
       "       'outlet.MEAN(bigmart.Item_Fat_Content)',\n",
       "       'outlet.MEAN(bigmart.Item_MRP)', 'outlet.MEAN(bigmart.Item_Visibility)',\n",
       "       'outlet.MEAN(bigmart.Item_Weight)',\n",
       "       'outlet.MIN(bigmart.Item_Fat_Content)', 'outlet.MIN(bigmart.Item_MRP)',\n",
       "       'outlet.MIN(bigmart.Item_Visibility)',\n",
       "       'outlet.MIN(bigmart.Item_Weight)', 'outlet.MODE(bigmart.Item_Type)',\n",
       "       'outlet.NUM_UNIQUE(bigmart.Item_Type)',\n",
       "       'outlet.SKEW(bigmart.Item_Fat_Content)',\n",
       "       'outlet.SKEW(bigmart.Item_MRP)', 'outlet.SKEW(bigmart.Item_Visibility)',\n",
       "       'outlet.SKEW(bigmart.Item_Weight)',\n",
       "       'outlet.STD(bigmart.Item_Fat_Content)', 'outlet.STD(bigmart.Item_MRP)',\n",
       "       'outlet.STD(bigmart.Item_Visibility)',\n",
       "       'outlet.STD(bigmart.Item_Weight)',\n",
       "       'outlet.SUM(bigmart.Item_Fat_Content)', 'outlet.SUM(bigmart.Item_MRP)',\n",
       "       'outlet.SUM(bigmart.Item_Visibility)',\n",
       "       'outlet.SUM(bigmart.Item_Weight)'],\n",
       "      dtype='object')"
      ]
     },
     "execution_count": 36,
     "metadata": {},
     "output_type": "execute_result"
    }
   ],
   "source": [
    "feature_matrix.columns"
   ]
  },
  {
   "cell_type": "code",
   "execution_count": 37,
   "metadata": {},
   "outputs": [
    {
     "data": {
      "text/html": [
       "<div>\n",
       "<style scoped>\n",
       "    .dataframe tbody tr th:only-of-type {\n",
       "        vertical-align: middle;\n",
       "    }\n",
       "\n",
       "    .dataframe tbody tr th {\n",
       "        vertical-align: top;\n",
       "    }\n",
       "\n",
       "    .dataframe thead th {\n",
       "        text-align: right;\n",
       "    }\n",
       "</style>\n",
       "<table border=\"1\" class=\"dataframe\">\n",
       "  <thead>\n",
       "    <tr style=\"text-align: right;\">\n",
       "      <th></th>\n",
       "      <th>Item_Weight</th>\n",
       "      <th>Item_Fat_Content</th>\n",
       "      <th>Item_Visibility</th>\n",
       "      <th>Item_Type</th>\n",
       "      <th>Item_MRP</th>\n",
       "      <th>Outlet_Identifier</th>\n",
       "      <th>outlet.Outlet_Establishment_Year</th>\n",
       "      <th>outlet.Outlet_Size</th>\n",
       "      <th>outlet.Outlet_Location_Type</th>\n",
       "      <th>outlet.Outlet_Type</th>\n",
       "      <th>...</th>\n",
       "      <th>outlet.SKEW(bigmart.Item_Visibility)</th>\n",
       "      <th>outlet.SKEW(bigmart.Item_Weight)</th>\n",
       "      <th>outlet.STD(bigmart.Item_Fat_Content)</th>\n",
       "      <th>outlet.STD(bigmart.Item_MRP)</th>\n",
       "      <th>outlet.STD(bigmart.Item_Visibility)</th>\n",
       "      <th>outlet.STD(bigmart.Item_Weight)</th>\n",
       "      <th>outlet.SUM(bigmart.Item_Fat_Content)</th>\n",
       "      <th>outlet.SUM(bigmart.Item_MRP)</th>\n",
       "      <th>outlet.SUM(bigmart.Item_Visibility)</th>\n",
       "      <th>outlet.SUM(bigmart.Item_Weight)</th>\n",
       "    </tr>\n",
       "    <tr>\n",
       "      <th>id</th>\n",
       "      <th></th>\n",
       "      <th></th>\n",
       "      <th></th>\n",
       "      <th></th>\n",
       "      <th></th>\n",
       "      <th></th>\n",
       "      <th></th>\n",
       "      <th></th>\n",
       "      <th></th>\n",
       "      <th></th>\n",
       "      <th></th>\n",
       "      <th></th>\n",
       "      <th></th>\n",
       "      <th></th>\n",
       "      <th></th>\n",
       "      <th></th>\n",
       "      <th></th>\n",
       "      <th></th>\n",
       "      <th></th>\n",
       "      <th></th>\n",
       "      <th></th>\n",
       "    </tr>\n",
       "  </thead>\n",
       "  <tbody>\n",
       "    <tr>\n",
       "      <th>FDA15OUT049</th>\n",
       "      <td>9.30</td>\n",
       "      <td>0</td>\n",
       "      <td>0.016047</td>\n",
       "      <td>Dairy</td>\n",
       "      <td>249.8092</td>\n",
       "      <td>OUT049</td>\n",
       "      <td>1999</td>\n",
       "      <td>Medium</td>\n",
       "      <td>Tier 1</td>\n",
       "      <td>Supermarket Type1</td>\n",
       "      <td>...</td>\n",
       "      <td>0.790782</td>\n",
       "      <td>0.099024</td>\n",
       "      <td>0.478027</td>\n",
       "      <td>62.144594</td>\n",
       "      <td>0.043924</td>\n",
       "      <td>4.650796</td>\n",
       "      <td>547.0</td>\n",
       "      <td>218802.9588</td>\n",
       "      <td>91.450099</td>\n",
       "      <td>19844.655</td>\n",
       "    </tr>\n",
       "    <tr>\n",
       "      <th>DRC01OUT018</th>\n",
       "      <td>5.92</td>\n",
       "      <td>1</td>\n",
       "      <td>0.019278</td>\n",
       "      <td>Soft Drinks</td>\n",
       "      <td>48.2692</td>\n",
       "      <td>OUT018</td>\n",
       "      <td>2009</td>\n",
       "      <td>Medium</td>\n",
       "      <td>Tier 3</td>\n",
       "      <td>Supermarket Type2</td>\n",
       "      <td>...</td>\n",
       "      <td>0.783017</td>\n",
       "      <td>0.102602</td>\n",
       "      <td>0.478308</td>\n",
       "      <td>62.022851</td>\n",
       "      <td>0.044489</td>\n",
       "      <td>4.650874</td>\n",
       "      <td>547.0</td>\n",
       "      <td>217987.3906</td>\n",
       "      <td>92.723425</td>\n",
       "      <td>19794.425</td>\n",
       "    </tr>\n",
       "    <tr>\n",
       "      <th>FDN15OUT049</th>\n",
       "      <td>17.50</td>\n",
       "      <td>0</td>\n",
       "      <td>0.016760</td>\n",
       "      <td>Meat</td>\n",
       "      <td>141.6180</td>\n",
       "      <td>OUT049</td>\n",
       "      <td>1999</td>\n",
       "      <td>Medium</td>\n",
       "      <td>Tier 1</td>\n",
       "      <td>Supermarket Type1</td>\n",
       "      <td>...</td>\n",
       "      <td>0.790782</td>\n",
       "      <td>0.099024</td>\n",
       "      <td>0.478027</td>\n",
       "      <td>62.144594</td>\n",
       "      <td>0.043924</td>\n",
       "      <td>4.650796</td>\n",
       "      <td>547.0</td>\n",
       "      <td>218802.9588</td>\n",
       "      <td>91.450099</td>\n",
       "      <td>19844.655</td>\n",
       "    </tr>\n",
       "    <tr>\n",
       "      <th>FDX07OUT010</th>\n",
       "      <td>19.20</td>\n",
       "      <td>1</td>\n",
       "      <td>0.000000</td>\n",
       "      <td>Fruits and Vegetables</td>\n",
       "      <td>182.0950</td>\n",
       "      <td>OUT010</td>\n",
       "      <td>1998</td>\n",
       "      <td>Medium</td>\n",
       "      <td>Tier 3</td>\n",
       "      <td>Grocery Store</td>\n",
       "      <td>...</td>\n",
       "      <td>0.776902</td>\n",
       "      <td>0.112759</td>\n",
       "      <td>0.479301</td>\n",
       "      <td>62.010835</td>\n",
       "      <td>0.073604</td>\n",
       "      <td>4.675070</td>\n",
       "      <td>330.0</td>\n",
       "      <td>130572.7618</td>\n",
       "      <td>94.293418</td>\n",
       "      <td>11768.655</td>\n",
       "    </tr>\n",
       "    <tr>\n",
       "      <th>NCD19OUT013</th>\n",
       "      <td>8.93</td>\n",
       "      <td>0</td>\n",
       "      <td>0.000000</td>\n",
       "      <td>Household</td>\n",
       "      <td>53.8614</td>\n",
       "      <td>OUT013</td>\n",
       "      <td>1987</td>\n",
       "      <td>High</td>\n",
       "      <td>Tier 3</td>\n",
       "      <td>Supermarket Type1</td>\n",
       "      <td>...</td>\n",
       "      <td>0.759033</td>\n",
       "      <td>0.104392</td>\n",
       "      <td>0.478213</td>\n",
       "      <td>62.140848</td>\n",
       "      <td>0.044005</td>\n",
       "      <td>4.650214</td>\n",
       "      <td>549.0</td>\n",
       "      <td>219172.4492</td>\n",
       "      <td>93.555174</td>\n",
       "      <td>19859.980</td>\n",
       "    </tr>\n",
       "  </tbody>\n",
       "</table>\n",
       "<p>5 rows × 37 columns</p>\n",
       "</div>"
      ],
      "text/plain": [
       "             Item_Weight  Item_Fat_Content  Item_Visibility  \\\n",
       "id                                                            \n",
       "FDA15OUT049         9.30                 0         0.016047   \n",
       "DRC01OUT018         5.92                 1         0.019278   \n",
       "FDN15OUT049        17.50                 0         0.016760   \n",
       "FDX07OUT010        19.20                 1         0.000000   \n",
       "NCD19OUT013         8.93                 0         0.000000   \n",
       "\n",
       "                         Item_Type  Item_MRP Outlet_Identifier  \\\n",
       "id                                                               \n",
       "FDA15OUT049                  Dairy  249.8092            OUT049   \n",
       "DRC01OUT018            Soft Drinks   48.2692            OUT018   \n",
       "FDN15OUT049                   Meat  141.6180            OUT049   \n",
       "FDX07OUT010  Fruits and Vegetables  182.0950            OUT010   \n",
       "NCD19OUT013              Household   53.8614            OUT013   \n",
       "\n",
       "             outlet.Outlet_Establishment_Year outlet.Outlet_Size  \\\n",
       "id                                                                 \n",
       "FDA15OUT049                              1999             Medium   \n",
       "DRC01OUT018                              2009             Medium   \n",
       "FDN15OUT049                              1999             Medium   \n",
       "FDX07OUT010                              1998             Medium   \n",
       "NCD19OUT013                              1987               High   \n",
       "\n",
       "            outlet.Outlet_Location_Type outlet.Outlet_Type  ...  \\\n",
       "id                                                          ...   \n",
       "FDA15OUT049                      Tier 1  Supermarket Type1  ...   \n",
       "DRC01OUT018                      Tier 3  Supermarket Type2  ...   \n",
       "FDN15OUT049                      Tier 1  Supermarket Type1  ...   \n",
       "FDX07OUT010                      Tier 3      Grocery Store  ...   \n",
       "NCD19OUT013                      Tier 3  Supermarket Type1  ...   \n",
       "\n",
       "             outlet.SKEW(bigmart.Item_Visibility)  \\\n",
       "id                                                  \n",
       "FDA15OUT049                              0.790782   \n",
       "DRC01OUT018                              0.783017   \n",
       "FDN15OUT049                              0.790782   \n",
       "FDX07OUT010                              0.776902   \n",
       "NCD19OUT013                              0.759033   \n",
       "\n",
       "             outlet.SKEW(bigmart.Item_Weight)  \\\n",
       "id                                              \n",
       "FDA15OUT049                          0.099024   \n",
       "DRC01OUT018                          0.102602   \n",
       "FDN15OUT049                          0.099024   \n",
       "FDX07OUT010                          0.112759   \n",
       "NCD19OUT013                          0.104392   \n",
       "\n",
       "             outlet.STD(bigmart.Item_Fat_Content)  \\\n",
       "id                                                  \n",
       "FDA15OUT049                              0.478027   \n",
       "DRC01OUT018                              0.478308   \n",
       "FDN15OUT049                              0.478027   \n",
       "FDX07OUT010                              0.479301   \n",
       "NCD19OUT013                              0.478213   \n",
       "\n",
       "             outlet.STD(bigmart.Item_MRP)  \\\n",
       "id                                          \n",
       "FDA15OUT049                     62.144594   \n",
       "DRC01OUT018                     62.022851   \n",
       "FDN15OUT049                     62.144594   \n",
       "FDX07OUT010                     62.010835   \n",
       "NCD19OUT013                     62.140848   \n",
       "\n",
       "             outlet.STD(bigmart.Item_Visibility)  \\\n",
       "id                                                 \n",
       "FDA15OUT049                             0.043924   \n",
       "DRC01OUT018                             0.044489   \n",
       "FDN15OUT049                             0.043924   \n",
       "FDX07OUT010                             0.073604   \n",
       "NCD19OUT013                             0.044005   \n",
       "\n",
       "             outlet.STD(bigmart.Item_Weight)  \\\n",
       "id                                             \n",
       "FDA15OUT049                         4.650796   \n",
       "DRC01OUT018                         4.650874   \n",
       "FDN15OUT049                         4.650796   \n",
       "FDX07OUT010                         4.675070   \n",
       "NCD19OUT013                         4.650214   \n",
       "\n",
       "             outlet.SUM(bigmart.Item_Fat_Content)  \\\n",
       "id                                                  \n",
       "FDA15OUT049                                 547.0   \n",
       "DRC01OUT018                                 547.0   \n",
       "FDN15OUT049                                 547.0   \n",
       "FDX07OUT010                                 330.0   \n",
       "NCD19OUT013                                 549.0   \n",
       "\n",
       "             outlet.SUM(bigmart.Item_MRP)  \\\n",
       "id                                          \n",
       "FDA15OUT049                   218802.9588   \n",
       "DRC01OUT018                   217987.3906   \n",
       "FDN15OUT049                   218802.9588   \n",
       "FDX07OUT010                   130572.7618   \n",
       "NCD19OUT013                   219172.4492   \n",
       "\n",
       "             outlet.SUM(bigmart.Item_Visibility)  \\\n",
       "id                                                 \n",
       "FDA15OUT049                            91.450099   \n",
       "DRC01OUT018                            92.723425   \n",
       "FDN15OUT049                            91.450099   \n",
       "FDX07OUT010                            94.293418   \n",
       "NCD19OUT013                            93.555174   \n",
       "\n",
       "             outlet.SUM(bigmart.Item_Weight)  \n",
       "id                                            \n",
       "FDA15OUT049                        19844.655  \n",
       "DRC01OUT018                        19794.425  \n",
       "FDN15OUT049                        19844.655  \n",
       "FDX07OUT010                        11768.655  \n",
       "NCD19OUT013                        19859.980  \n",
       "\n",
       "[5 rows x 37 columns]"
      ]
     },
     "execution_count": 37,
     "metadata": {},
     "output_type": "execute_result"
    }
   ],
   "source": [
    "feature_matrix.head()"
   ]
  },
  {
   "cell_type": "code",
   "execution_count": 38,
   "metadata": {},
   "outputs": [
    {
     "name": "stdout",
     "output_type": "stream",
     "text": [
      "<class 'pandas.core.frame.DataFrame'>\n",
      "Index: 14204 entries, FDA15OUT049 to FDU37OUT045\n",
      "Data columns (total 11 columns):\n",
      " #   Column                     Non-Null Count  Dtype   \n",
      "---  ------                     --------------  -----   \n",
      " 0   Item_Weight                14204 non-null  float64 \n",
      " 1   Outlet_Size                14204 non-null  category\n",
      " 2   Item_Fat_Content           14204 non-null  int64   \n",
      " 3   Item_Visibility            14204 non-null  float64 \n",
      " 4   Item_Type                  14204 non-null  category\n",
      " 5   Item_MRP                   14204 non-null  float64 \n",
      " 6   Outlet_Identifier          14204 non-null  category\n",
      " 7   Outlet_Establishment_Year  14204 non-null  int64   \n",
      " 8   Outlet_Location_Type       14204 non-null  category\n",
      " 9   Outlet_Type                14204 non-null  category\n",
      " 10  id                         14204 non-null  string  \n",
      "dtypes: category(5), float64(3), int64(2), string(1)\n",
      "memory usage: 1.3 MB\n"
     ]
    }
   ],
   "source": [
    "combi.info()"
   ]
  },
  {
   "cell_type": "code",
   "execution_count": 39,
   "metadata": {},
   "outputs": [
    {
     "data": {
      "text/plain": [
       "Item_Weight                               float64\n",
       "Item_Fat_Content                            int64\n",
       "Item_Visibility                           float64\n",
       "Item_Type                                category\n",
       "Item_MRP                                  float64\n",
       "Outlet_Identifier                        category\n",
       "outlet.Outlet_Establishment_Year            int64\n",
       "outlet.Outlet_Size                       category\n",
       "outlet.Outlet_Location_Type              category\n",
       "outlet.Outlet_Type                       category\n",
       "outlet.COUNT(bigmart)                       Int64\n",
       "outlet.MAX(bigmart.Item_Fat_Content)      float64\n",
       "outlet.MAX(bigmart.Item_MRP)              float64\n",
       "outlet.MAX(bigmart.Item_Visibility)       float64\n",
       "outlet.MAX(bigmart.Item_Weight)           float64\n",
       "outlet.MEAN(bigmart.Item_Fat_Content)     float64\n",
       "outlet.MEAN(bigmart.Item_MRP)             float64\n",
       "outlet.MEAN(bigmart.Item_Visibility)      float64\n",
       "outlet.MEAN(bigmart.Item_Weight)          float64\n",
       "outlet.MIN(bigmart.Item_Fat_Content)      float64\n",
       "outlet.MIN(bigmart.Item_MRP)              float64\n",
       "outlet.MIN(bigmart.Item_Visibility)       float64\n",
       "outlet.MIN(bigmart.Item_Weight)           float64\n",
       "outlet.MODE(bigmart.Item_Type)           category\n",
       "outlet.NUM_UNIQUE(bigmart.Item_Type)        Int64\n",
       "outlet.SKEW(bigmart.Item_Fat_Content)     float64\n",
       "outlet.SKEW(bigmart.Item_MRP)             float64\n",
       "outlet.SKEW(bigmart.Item_Visibility)      float64\n",
       "outlet.SKEW(bigmart.Item_Weight)          float64\n",
       "outlet.STD(bigmart.Item_Fat_Content)      float64\n",
       "outlet.STD(bigmart.Item_MRP)              float64\n",
       "outlet.STD(bigmart.Item_Visibility)       float64\n",
       "outlet.STD(bigmart.Item_Weight)           float64\n",
       "outlet.SUM(bigmart.Item_Fat_Content)      float64\n",
       "outlet.SUM(bigmart.Item_MRP)              float64\n",
       "outlet.SUM(bigmart.Item_Visibility)       float64\n",
       "outlet.SUM(bigmart.Item_Weight)           float64\n",
       "dtype: object"
      ]
     },
     "execution_count": 39,
     "metadata": {},
     "output_type": "execute_result"
    }
   ],
   "source": [
    "feature_matrix.dtypes"
   ]
  },
  {
   "cell_type": "markdown",
   "metadata": {},
   "source": [
    "## XGBoost "
   ]
  },
  {
   "cell_type": "code",
   "execution_count": 40,
   "metadata": {},
   "outputs": [
    {
     "name": "stderr",
     "output_type": "stream",
     "text": [
      "C:\\Users\\Arindam Banerji\\AppData\\Local\\Temp\\ipykernel_30212\\1292809677.py:6: FutureWarning: In a future version, `df.iloc[:, i] = newvals` will attempt to set the values inplace instead of always setting a new array. To retain the old behavior, use either `df[df.columns[i]] = newvals` or, if columns are non-unique, `df.isetitem(i, newvals)`\n",
      "  feature_matrix_xgb.iloc[:,i] = feature_matrix_xgb.iloc[:,i].astype('str')\n"
     ]
    }
   ],
   "source": [
    "# make a copy of feature matrix ...\n",
    "feature_matrix_xgb = feature_matrix.copy()\n",
    "\n",
    "# lists of features - convert to objects \n",
    "categorical_features = np.where(feature_matrix_xgb.dtypes == 'category')[0]\n",
    "for i in categorical_features:\n",
    "    feature_matrix_xgb.iloc[:,i] = feature_matrix_xgb.iloc[:,i].astype('str')\n",
    "\n",
    "categorical_features = feature_matrix_xgb.select_dtypes(include=\"O\").columns.to_list()\n"
   ]
  },
  {
   "cell_type": "code",
   "execution_count": null,
   "metadata": {},
   "outputs": [],
   "source": [
    "# set up the ordinal encoder\n",
    "enc = OrdinalEncoder(cols=categorical_features)"
   ]
  },
  {
   "cell_type": "code",
   "execution_count": 41,
   "metadata": {},
   "outputs": [
    {
     "data": {
      "text/plain": [
       "['Item_Type',\n",
       " 'Outlet_Identifier',\n",
       " 'outlet.Outlet_Size',\n",
       " 'outlet.Outlet_Location_Type',\n",
       " 'outlet.Outlet_Type',\n",
       " 'outlet.MODE(bigmart.Item_Type)']"
      ]
     },
     "execution_count": 41,
     "metadata": {},
     "output_type": "execute_result"
    }
   ],
   "source": [
    "categorical_features"
   ]
  },
  {
   "cell_type": "code",
   "execution_count": 42,
   "metadata": {},
   "outputs": [
    {
     "data": {
      "text/plain": [
       "Item_Weight                              float64\n",
       "Item_Fat_Content                           int64\n",
       "Item_Visibility                          float64\n",
       "Item_Type                                 object\n",
       "Item_MRP                                 float64\n",
       "Outlet_Identifier                         object\n",
       "outlet.Outlet_Establishment_Year           int64\n",
       "outlet.Outlet_Size                        object\n",
       "outlet.Outlet_Location_Type               object\n",
       "outlet.Outlet_Type                        object\n",
       "outlet.COUNT(bigmart)                      Int64\n",
       "outlet.MAX(bigmart.Item_Fat_Content)     float64\n",
       "outlet.MAX(bigmart.Item_MRP)             float64\n",
       "outlet.MAX(bigmart.Item_Visibility)      float64\n",
       "outlet.MAX(bigmart.Item_Weight)          float64\n",
       "outlet.MEAN(bigmart.Item_Fat_Content)    float64\n",
       "outlet.MEAN(bigmart.Item_MRP)            float64\n",
       "outlet.MEAN(bigmart.Item_Visibility)     float64\n",
       "outlet.MEAN(bigmart.Item_Weight)         float64\n",
       "outlet.MIN(bigmart.Item_Fat_Content)     float64\n",
       "outlet.MIN(bigmart.Item_MRP)             float64\n",
       "outlet.MIN(bigmart.Item_Visibility)      float64\n",
       "outlet.MIN(bigmart.Item_Weight)          float64\n",
       "outlet.MODE(bigmart.Item_Type)            object\n",
       "outlet.NUM_UNIQUE(bigmart.Item_Type)       Int64\n",
       "outlet.SKEW(bigmart.Item_Fat_Content)    float64\n",
       "outlet.SKEW(bigmart.Item_MRP)            float64\n",
       "outlet.SKEW(bigmart.Item_Visibility)     float64\n",
       "outlet.SKEW(bigmart.Item_Weight)         float64\n",
       "outlet.STD(bigmart.Item_Fat_Content)     float64\n",
       "outlet.STD(bigmart.Item_MRP)             float64\n",
       "outlet.STD(bigmart.Item_Visibility)      float64\n",
       "outlet.STD(bigmart.Item_Weight)          float64\n",
       "outlet.SUM(bigmart.Item_Fat_Content)     float64\n",
       "outlet.SUM(bigmart.Item_MRP)             float64\n",
       "outlet.SUM(bigmart.Item_Visibility)      float64\n",
       "outlet.SUM(bigmart.Item_Weight)          float64\n",
       "dtype: object"
      ]
     },
     "execution_count": 42,
     "metadata": {},
     "output_type": "execute_result"
    }
   ],
   "source": [
    "feature_matrix_xgb.dtypes"
   ]
  },
  {
   "cell_type": "code",
   "execution_count": 43,
   "metadata": {},
   "outputs": [
    {
     "data": {
      "text/html": [
       "<style>#sk-container-id-1 {color: black;background-color: white;}#sk-container-id-1 pre{padding: 0;}#sk-container-id-1 div.sk-toggleable {background-color: white;}#sk-container-id-1 label.sk-toggleable__label {cursor: pointer;display: block;width: 100%;margin-bottom: 0;padding: 0.3em;box-sizing: border-box;text-align: center;}#sk-container-id-1 label.sk-toggleable__label-arrow:before {content: \"▸\";float: left;margin-right: 0.25em;color: #696969;}#sk-container-id-1 label.sk-toggleable__label-arrow:hover:before {color: black;}#sk-container-id-1 div.sk-estimator:hover label.sk-toggleable__label-arrow:before {color: black;}#sk-container-id-1 div.sk-toggleable__content {max-height: 0;max-width: 0;overflow: hidden;text-align: left;background-color: #f0f8ff;}#sk-container-id-1 div.sk-toggleable__content pre {margin: 0.2em;color: black;border-radius: 0.25em;background-color: #f0f8ff;}#sk-container-id-1 input.sk-toggleable__control:checked~div.sk-toggleable__content {max-height: 200px;max-width: 100%;overflow: auto;}#sk-container-id-1 input.sk-toggleable__control:checked~label.sk-toggleable__label-arrow:before {content: \"▾\";}#sk-container-id-1 div.sk-estimator input.sk-toggleable__control:checked~label.sk-toggleable__label {background-color: #d4ebff;}#sk-container-id-1 div.sk-label input.sk-toggleable__control:checked~label.sk-toggleable__label {background-color: #d4ebff;}#sk-container-id-1 input.sk-hidden--visually {border: 0;clip: rect(1px 1px 1px 1px);clip: rect(1px, 1px, 1px, 1px);height: 1px;margin: -1px;overflow: hidden;padding: 0;position: absolute;width: 1px;}#sk-container-id-1 div.sk-estimator {font-family: monospace;background-color: #f0f8ff;border: 1px dotted black;border-radius: 0.25em;box-sizing: border-box;margin-bottom: 0.5em;}#sk-container-id-1 div.sk-estimator:hover {background-color: #d4ebff;}#sk-container-id-1 div.sk-parallel-item::after {content: \"\";width: 100%;border-bottom: 1px solid gray;flex-grow: 1;}#sk-container-id-1 div.sk-label:hover label.sk-toggleable__label {background-color: #d4ebff;}#sk-container-id-1 div.sk-serial::before {content: \"\";position: absolute;border-left: 1px solid gray;box-sizing: border-box;top: 0;bottom: 0;left: 50%;z-index: 0;}#sk-container-id-1 div.sk-serial {display: flex;flex-direction: column;align-items: center;background-color: white;padding-right: 0.2em;padding-left: 0.2em;position: relative;}#sk-container-id-1 div.sk-item {position: relative;z-index: 1;}#sk-container-id-1 div.sk-parallel {display: flex;align-items: stretch;justify-content: center;background-color: white;position: relative;}#sk-container-id-1 div.sk-item::before, #sk-container-id-1 div.sk-parallel-item::before {content: \"\";position: absolute;border-left: 1px solid gray;box-sizing: border-box;top: 0;bottom: 0;left: 50%;z-index: -1;}#sk-container-id-1 div.sk-parallel-item {display: flex;flex-direction: column;z-index: 1;position: relative;background-color: white;}#sk-container-id-1 div.sk-parallel-item:first-child::after {align-self: flex-end;width: 50%;}#sk-container-id-1 div.sk-parallel-item:last-child::after {align-self: flex-start;width: 50%;}#sk-container-id-1 div.sk-parallel-item:only-child::after {width: 0;}#sk-container-id-1 div.sk-dashed-wrapped {border: 1px dashed gray;margin: 0 0.4em 0.5em 0.4em;box-sizing: border-box;padding-bottom: 0.4em;background-color: white;}#sk-container-id-1 div.sk-label label {font-family: monospace;font-weight: bold;display: inline-block;line-height: 1.2em;}#sk-container-id-1 div.sk-label-container {text-align: center;}#sk-container-id-1 div.sk-container {/* jupyter's `normalize.less` sets `[hidden] { display: none; }` but bootstrap.min.css set `[hidden] { display: none !important; }` so we also need the `!important` here to be able to override the default hidden behavior on the sphinx rendered scikit-learn.org. See: https://github.com/scikit-learn/scikit-learn/issues/21755 */display: inline-block !important;position: relative;}#sk-container-id-1 div.sk-text-repr-fallback {display: none;}</style><div id=\"sk-container-id-1\" class=\"sk-top-container\"><div class=\"sk-text-repr-fallback\"><pre>OrdinalEncoder(cols=[&#x27;Item_Type&#x27;, &#x27;Outlet_Identifier&#x27;, &#x27;outlet.Outlet_Size&#x27;,\n",
       "                     &#x27;outlet.Outlet_Location_Type&#x27;, &#x27;outlet.Outlet_Type&#x27;,\n",
       "                     &#x27;outlet.MODE(bigmart.Item_Type)&#x27;],\n",
       "               mapping=[{&#x27;col&#x27;: &#x27;Item_Type&#x27;, &#x27;data_type&#x27;: dtype(&#x27;O&#x27;),\n",
       "                         &#x27;mapping&#x27;: Dairy                     1\n",
       "Soft Drinks               2\n",
       "Meat                      3\n",
       "Fruits and Vegetables     4\n",
       "Household                 5\n",
       "Baking Goods              6\n",
       "Snack Foods               7\n",
       "Frozen Foods              8\n",
       "Breakfast                 9\n",
       "Health and Hygiene       10\n",
       "Hard Drinks              11\n",
       "Can...\n",
       "                        {&#x27;col&#x27;: &#x27;outlet.Outlet_Location_Type&#x27;,\n",
       "                         &#x27;data_type&#x27;: dtype(&#x27;O&#x27;),\n",
       "                         &#x27;mapping&#x27;: Tier 1    1\n",
       "Tier 3    2\n",
       "Tier 2    3\n",
       "NaN      -2\n",
       "dtype: int64},\n",
       "                        {&#x27;col&#x27;: &#x27;outlet.Outlet_Type&#x27;, &#x27;data_type&#x27;: dtype(&#x27;O&#x27;),\n",
       "                         &#x27;mapping&#x27;: Supermarket Type1    1\n",
       "Supermarket Type2    2\n",
       "Grocery Store        3\n",
       "Supermarket Type3    4\n",
       "NaN                 -2\n",
       "dtype: int64},\n",
       "                        {&#x27;col&#x27;: &#x27;outlet.MODE(bigmart.Item_Type)&#x27;,\n",
       "                         &#x27;data_type&#x27;: dtype(&#x27;O&#x27;),\n",
       "                         &#x27;mapping&#x27;: Fruits and Vegetables    1\n",
       "Snack Foods              2\n",
       "NaN                     -2\n",
       "dtype: int64}])</pre><b>In a Jupyter environment, please rerun this cell to show the HTML representation or trust the notebook. <br />On GitHub, the HTML representation is unable to render, please try loading this page with nbviewer.org.</b></div><div class=\"sk-container\" hidden><div class=\"sk-item\"><div class=\"sk-estimator sk-toggleable\"><input class=\"sk-toggleable__control sk-hidden--visually\" id=\"sk-estimator-id-1\" type=\"checkbox\" checked><label for=\"sk-estimator-id-1\" class=\"sk-toggleable__label sk-toggleable__label-arrow\">OrdinalEncoder</label><div class=\"sk-toggleable__content\"><pre>OrdinalEncoder(cols=[&#x27;Item_Type&#x27;, &#x27;Outlet_Identifier&#x27;, &#x27;outlet.Outlet_Size&#x27;,\n",
       "                     &#x27;outlet.Outlet_Location_Type&#x27;, &#x27;outlet.Outlet_Type&#x27;,\n",
       "                     &#x27;outlet.MODE(bigmart.Item_Type)&#x27;],\n",
       "               mapping=[{&#x27;col&#x27;: &#x27;Item_Type&#x27;, &#x27;data_type&#x27;: dtype(&#x27;O&#x27;),\n",
       "                         &#x27;mapping&#x27;: Dairy                     1\n",
       "Soft Drinks               2\n",
       "Meat                      3\n",
       "Fruits and Vegetables     4\n",
       "Household                 5\n",
       "Baking Goods              6\n",
       "Snack Foods               7\n",
       "Frozen Foods              8\n",
       "Breakfast                 9\n",
       "Health and Hygiene       10\n",
       "Hard Drinks              11\n",
       "Can...\n",
       "                        {&#x27;col&#x27;: &#x27;outlet.Outlet_Location_Type&#x27;,\n",
       "                         &#x27;data_type&#x27;: dtype(&#x27;O&#x27;),\n",
       "                         &#x27;mapping&#x27;: Tier 1    1\n",
       "Tier 3    2\n",
       "Tier 2    3\n",
       "NaN      -2\n",
       "dtype: int64},\n",
       "                        {&#x27;col&#x27;: &#x27;outlet.Outlet_Type&#x27;, &#x27;data_type&#x27;: dtype(&#x27;O&#x27;),\n",
       "                         &#x27;mapping&#x27;: Supermarket Type1    1\n",
       "Supermarket Type2    2\n",
       "Grocery Store        3\n",
       "Supermarket Type3    4\n",
       "NaN                 -2\n",
       "dtype: int64},\n",
       "                        {&#x27;col&#x27;: &#x27;outlet.MODE(bigmart.Item_Type)&#x27;,\n",
       "                         &#x27;data_type&#x27;: dtype(&#x27;O&#x27;),\n",
       "                         &#x27;mapping&#x27;: Fruits and Vegetables    1\n",
       "Snack Foods              2\n",
       "NaN                     -2\n",
       "dtype: int64}])</pre></div></div></div></div></div>"
      ],
      "text/plain": [
       "OrdinalEncoder(cols=['Item_Type', 'Outlet_Identifier', 'outlet.Outlet_Size',\n",
       "                     'outlet.Outlet_Location_Type', 'outlet.Outlet_Type',\n",
       "                     'outlet.MODE(bigmart.Item_Type)'],\n",
       "               mapping=[{'col': 'Item_Type', 'data_type': dtype('O'),\n",
       "                         'mapping': Dairy                     1\n",
       "Soft Drinks               2\n",
       "Meat                      3\n",
       "Fruits and Vegetables     4\n",
       "Household                 5\n",
       "Baking Goods              6\n",
       "Snack Foods               7\n",
       "Frozen Foods              8\n",
       "Breakfast                 9\n",
       "Health and Hygiene       10\n",
       "Hard Drinks              11\n",
       "Can...\n",
       "                        {'col': 'outlet.Outlet_Location_Type',\n",
       "                         'data_type': dtype('O'),\n",
       "                         'mapping': Tier 1    1\n",
       "Tier 3    2\n",
       "Tier 2    3\n",
       "NaN      -2\n",
       "dtype: int64},\n",
       "                        {'col': 'outlet.Outlet_Type', 'data_type': dtype('O'),\n",
       "                         'mapping': Supermarket Type1    1\n",
       "Supermarket Type2    2\n",
       "Grocery Store        3\n",
       "Supermarket Type3    4\n",
       "NaN                 -2\n",
       "dtype: int64},\n",
       "                        {'col': 'outlet.MODE(bigmart.Item_Type)',\n",
       "                         'data_type': dtype('O'),\n",
       "                         'mapping': Fruits and Vegetables    1\n",
       "Snack Foods              2\n",
       "NaN                     -2\n",
       "dtype: int64}])"
      ]
     },
     "execution_count": 43,
     "metadata": {},
     "output_type": "execute_result"
    }
   ],
   "source": [
    "# let's fit the encoder to the train set\n",
    "enc.fit(feature_matrix_xgb)"
   ]
  },
  {
   "cell_type": "code",
   "execution_count": 44,
   "metadata": {},
   "outputs": [
    {
     "data": {
      "text/plain": [
       "[{'col': 'Item_Type',\n",
       "  'mapping': Dairy                     1\n",
       "  Soft Drinks               2\n",
       "  Meat                      3\n",
       "  Fruits and Vegetables     4\n",
       "  Household                 5\n",
       "  Baking Goods              6\n",
       "  Snack Foods               7\n",
       "  Frozen Foods              8\n",
       "  Breakfast                 9\n",
       "  Health and Hygiene       10\n",
       "  Hard Drinks              11\n",
       "  Canned                   12\n",
       "  Breads                   13\n",
       "  Starchy Foods            14\n",
       "  Others                   15\n",
       "  Seafood                  16\n",
       "  NaN                      -2\n",
       "  dtype: int64,\n",
       "  'data_type': dtype('O')},\n",
       " {'col': 'Outlet_Identifier',\n",
       "  'mapping': OUT049     1\n",
       "  OUT018     2\n",
       "  OUT010     3\n",
       "  OUT013     4\n",
       "  OUT027     5\n",
       "  OUT045     6\n",
       "  OUT017     7\n",
       "  OUT046     8\n",
       "  OUT035     9\n",
       "  OUT019    10\n",
       "  NaN       -2\n",
       "  dtype: int64,\n",
       "  'data_type': dtype('O')},\n",
       " {'col': 'outlet.Outlet_Size',\n",
       "  'mapping': Medium    1\n",
       "  High      2\n",
       "  Small     3\n",
       "  NaN      -2\n",
       "  dtype: int64,\n",
       "  'data_type': dtype('O')},\n",
       " {'col': 'outlet.Outlet_Location_Type',\n",
       "  'mapping': Tier 1    1\n",
       "  Tier 3    2\n",
       "  Tier 2    3\n",
       "  NaN      -2\n",
       "  dtype: int64,\n",
       "  'data_type': dtype('O')},\n",
       " {'col': 'outlet.Outlet_Type',\n",
       "  'mapping': Supermarket Type1    1\n",
       "  Supermarket Type2    2\n",
       "  Grocery Store        3\n",
       "  Supermarket Type3    4\n",
       "  NaN                 -2\n",
       "  dtype: int64,\n",
       "  'data_type': dtype('O')},\n",
       " {'col': 'outlet.MODE(bigmart.Item_Type)',\n",
       "  'mapping': Fruits and Vegetables    1\n",
       "  Snack Foods              2\n",
       "  NaN                     -2\n",
       "  dtype: int64,\n",
       "  'data_type': dtype('O')}]"
      ]
     },
     "execution_count": 44,
     "metadata": {},
     "output_type": "execute_result"
    }
   ],
   "source": [
    "# the replacement values are stored in the attribute\n",
    "# mapping\n",
    "\n",
    "enc.mapping"
   ]
  },
  {
   "cell_type": "code",
   "execution_count": 45,
   "metadata": {},
   "outputs": [
    {
     "data": {
      "text/html": [
       "<div>\n",
       "<style scoped>\n",
       "    .dataframe tbody tr th:only-of-type {\n",
       "        vertical-align: middle;\n",
       "    }\n",
       "\n",
       "    .dataframe tbody tr th {\n",
       "        vertical-align: top;\n",
       "    }\n",
       "\n",
       "    .dataframe thead th {\n",
       "        text-align: right;\n",
       "    }\n",
       "</style>\n",
       "<table border=\"1\" class=\"dataframe\">\n",
       "  <thead>\n",
       "    <tr style=\"text-align: right;\">\n",
       "      <th></th>\n",
       "      <th>Item_Weight</th>\n",
       "      <th>Item_Fat_Content</th>\n",
       "      <th>Item_Visibility</th>\n",
       "      <th>Item_Type</th>\n",
       "      <th>Item_MRP</th>\n",
       "      <th>Outlet_Identifier</th>\n",
       "      <th>outlet.Outlet_Establishment_Year</th>\n",
       "      <th>outlet.Outlet_Size</th>\n",
       "      <th>outlet.Outlet_Location_Type</th>\n",
       "      <th>outlet.Outlet_Type</th>\n",
       "      <th>...</th>\n",
       "      <th>outlet.SKEW(bigmart.Item_Visibility)</th>\n",
       "      <th>outlet.SKEW(bigmart.Item_Weight)</th>\n",
       "      <th>outlet.STD(bigmart.Item_Fat_Content)</th>\n",
       "      <th>outlet.STD(bigmart.Item_MRP)</th>\n",
       "      <th>outlet.STD(bigmart.Item_Visibility)</th>\n",
       "      <th>outlet.STD(bigmart.Item_Weight)</th>\n",
       "      <th>outlet.SUM(bigmart.Item_Fat_Content)</th>\n",
       "      <th>outlet.SUM(bigmart.Item_MRP)</th>\n",
       "      <th>outlet.SUM(bigmart.Item_Visibility)</th>\n",
       "      <th>outlet.SUM(bigmart.Item_Weight)</th>\n",
       "    </tr>\n",
       "    <tr>\n",
       "      <th>id</th>\n",
       "      <th></th>\n",
       "      <th></th>\n",
       "      <th></th>\n",
       "      <th></th>\n",
       "      <th></th>\n",
       "      <th></th>\n",
       "      <th></th>\n",
       "      <th></th>\n",
       "      <th></th>\n",
       "      <th></th>\n",
       "      <th></th>\n",
       "      <th></th>\n",
       "      <th></th>\n",
       "      <th></th>\n",
       "      <th></th>\n",
       "      <th></th>\n",
       "      <th></th>\n",
       "      <th></th>\n",
       "      <th></th>\n",
       "      <th></th>\n",
       "      <th></th>\n",
       "    </tr>\n",
       "  </thead>\n",
       "  <tbody>\n",
       "    <tr>\n",
       "      <th>FDA15OUT049</th>\n",
       "      <td>9.30</td>\n",
       "      <td>0</td>\n",
       "      <td>0.016047</td>\n",
       "      <td>1</td>\n",
       "      <td>249.8092</td>\n",
       "      <td>1</td>\n",
       "      <td>1999</td>\n",
       "      <td>1</td>\n",
       "      <td>1</td>\n",
       "      <td>1</td>\n",
       "      <td>...</td>\n",
       "      <td>0.790782</td>\n",
       "      <td>0.099024</td>\n",
       "      <td>0.478027</td>\n",
       "      <td>62.144594</td>\n",
       "      <td>0.043924</td>\n",
       "      <td>4.650796</td>\n",
       "      <td>547.0</td>\n",
       "      <td>218802.9588</td>\n",
       "      <td>91.450099</td>\n",
       "      <td>19844.655</td>\n",
       "    </tr>\n",
       "    <tr>\n",
       "      <th>DRC01OUT018</th>\n",
       "      <td>5.92</td>\n",
       "      <td>1</td>\n",
       "      <td>0.019278</td>\n",
       "      <td>2</td>\n",
       "      <td>48.2692</td>\n",
       "      <td>2</td>\n",
       "      <td>2009</td>\n",
       "      <td>1</td>\n",
       "      <td>2</td>\n",
       "      <td>2</td>\n",
       "      <td>...</td>\n",
       "      <td>0.783017</td>\n",
       "      <td>0.102602</td>\n",
       "      <td>0.478308</td>\n",
       "      <td>62.022851</td>\n",
       "      <td>0.044489</td>\n",
       "      <td>4.650874</td>\n",
       "      <td>547.0</td>\n",
       "      <td>217987.3906</td>\n",
       "      <td>92.723425</td>\n",
       "      <td>19794.425</td>\n",
       "    </tr>\n",
       "    <tr>\n",
       "      <th>FDN15OUT049</th>\n",
       "      <td>17.50</td>\n",
       "      <td>0</td>\n",
       "      <td>0.016760</td>\n",
       "      <td>3</td>\n",
       "      <td>141.6180</td>\n",
       "      <td>1</td>\n",
       "      <td>1999</td>\n",
       "      <td>1</td>\n",
       "      <td>1</td>\n",
       "      <td>1</td>\n",
       "      <td>...</td>\n",
       "      <td>0.790782</td>\n",
       "      <td>0.099024</td>\n",
       "      <td>0.478027</td>\n",
       "      <td>62.144594</td>\n",
       "      <td>0.043924</td>\n",
       "      <td>4.650796</td>\n",
       "      <td>547.0</td>\n",
       "      <td>218802.9588</td>\n",
       "      <td>91.450099</td>\n",
       "      <td>19844.655</td>\n",
       "    </tr>\n",
       "    <tr>\n",
       "      <th>FDX07OUT010</th>\n",
       "      <td>19.20</td>\n",
       "      <td>1</td>\n",
       "      <td>0.000000</td>\n",
       "      <td>4</td>\n",
       "      <td>182.0950</td>\n",
       "      <td>3</td>\n",
       "      <td>1998</td>\n",
       "      <td>1</td>\n",
       "      <td>2</td>\n",
       "      <td>3</td>\n",
       "      <td>...</td>\n",
       "      <td>0.776902</td>\n",
       "      <td>0.112759</td>\n",
       "      <td>0.479301</td>\n",
       "      <td>62.010835</td>\n",
       "      <td>0.073604</td>\n",
       "      <td>4.675070</td>\n",
       "      <td>330.0</td>\n",
       "      <td>130572.7618</td>\n",
       "      <td>94.293418</td>\n",
       "      <td>11768.655</td>\n",
       "    </tr>\n",
       "    <tr>\n",
       "      <th>NCD19OUT013</th>\n",
       "      <td>8.93</td>\n",
       "      <td>0</td>\n",
       "      <td>0.000000</td>\n",
       "      <td>5</td>\n",
       "      <td>53.8614</td>\n",
       "      <td>4</td>\n",
       "      <td>1987</td>\n",
       "      <td>2</td>\n",
       "      <td>2</td>\n",
       "      <td>1</td>\n",
       "      <td>...</td>\n",
       "      <td>0.759033</td>\n",
       "      <td>0.104392</td>\n",
       "      <td>0.478213</td>\n",
       "      <td>62.140848</td>\n",
       "      <td>0.044005</td>\n",
       "      <td>4.650214</td>\n",
       "      <td>549.0</td>\n",
       "      <td>219172.4492</td>\n",
       "      <td>93.555174</td>\n",
       "      <td>19859.980</td>\n",
       "    </tr>\n",
       "  </tbody>\n",
       "</table>\n",
       "<p>5 rows × 37 columns</p>\n",
       "</div>"
      ],
      "text/plain": [
       "             Item_Weight  Item_Fat_Content  Item_Visibility  Item_Type  \\\n",
       "id                                                                       \n",
       "FDA15OUT049         9.30                 0         0.016047          1   \n",
       "DRC01OUT018         5.92                 1         0.019278          2   \n",
       "FDN15OUT049        17.50                 0         0.016760          3   \n",
       "FDX07OUT010        19.20                 1         0.000000          4   \n",
       "NCD19OUT013         8.93                 0         0.000000          5   \n",
       "\n",
       "             Item_MRP  Outlet_Identifier  outlet.Outlet_Establishment_Year  \\\n",
       "id                                                                           \n",
       "FDA15OUT049  249.8092                  1                              1999   \n",
       "DRC01OUT018   48.2692                  2                              2009   \n",
       "FDN15OUT049  141.6180                  1                              1999   \n",
       "FDX07OUT010  182.0950                  3                              1998   \n",
       "NCD19OUT013   53.8614                  4                              1987   \n",
       "\n",
       "             outlet.Outlet_Size  outlet.Outlet_Location_Type  \\\n",
       "id                                                             \n",
       "FDA15OUT049                   1                            1   \n",
       "DRC01OUT018                   1                            2   \n",
       "FDN15OUT049                   1                            1   \n",
       "FDX07OUT010                   1                            2   \n",
       "NCD19OUT013                   2                            2   \n",
       "\n",
       "             outlet.Outlet_Type  ...  outlet.SKEW(bigmart.Item_Visibility)  \\\n",
       "id                               ...                                         \n",
       "FDA15OUT049                   1  ...                              0.790782   \n",
       "DRC01OUT018                   2  ...                              0.783017   \n",
       "FDN15OUT049                   1  ...                              0.790782   \n",
       "FDX07OUT010                   3  ...                              0.776902   \n",
       "NCD19OUT013                   1  ...                              0.759033   \n",
       "\n",
       "             outlet.SKEW(bigmart.Item_Weight)  \\\n",
       "id                                              \n",
       "FDA15OUT049                          0.099024   \n",
       "DRC01OUT018                          0.102602   \n",
       "FDN15OUT049                          0.099024   \n",
       "FDX07OUT010                          0.112759   \n",
       "NCD19OUT013                          0.104392   \n",
       "\n",
       "             outlet.STD(bigmart.Item_Fat_Content)  \\\n",
       "id                                                  \n",
       "FDA15OUT049                              0.478027   \n",
       "DRC01OUT018                              0.478308   \n",
       "FDN15OUT049                              0.478027   \n",
       "FDX07OUT010                              0.479301   \n",
       "NCD19OUT013                              0.478213   \n",
       "\n",
       "             outlet.STD(bigmart.Item_MRP)  \\\n",
       "id                                          \n",
       "FDA15OUT049                     62.144594   \n",
       "DRC01OUT018                     62.022851   \n",
       "FDN15OUT049                     62.144594   \n",
       "FDX07OUT010                     62.010835   \n",
       "NCD19OUT013                     62.140848   \n",
       "\n",
       "             outlet.STD(bigmart.Item_Visibility)  \\\n",
       "id                                                 \n",
       "FDA15OUT049                             0.043924   \n",
       "DRC01OUT018                             0.044489   \n",
       "FDN15OUT049                             0.043924   \n",
       "FDX07OUT010                             0.073604   \n",
       "NCD19OUT013                             0.044005   \n",
       "\n",
       "             outlet.STD(bigmart.Item_Weight)  \\\n",
       "id                                             \n",
       "FDA15OUT049                         4.650796   \n",
       "DRC01OUT018                         4.650874   \n",
       "FDN15OUT049                         4.650796   \n",
       "FDX07OUT010                         4.675070   \n",
       "NCD19OUT013                         4.650214   \n",
       "\n",
       "             outlet.SUM(bigmart.Item_Fat_Content)  \\\n",
       "id                                                  \n",
       "FDA15OUT049                                 547.0   \n",
       "DRC01OUT018                                 547.0   \n",
       "FDN15OUT049                                 547.0   \n",
       "FDX07OUT010                                 330.0   \n",
       "NCD19OUT013                                 549.0   \n",
       "\n",
       "             outlet.SUM(bigmart.Item_MRP)  \\\n",
       "id                                          \n",
       "FDA15OUT049                   218802.9588   \n",
       "DRC01OUT018                   217987.3906   \n",
       "FDN15OUT049                   218802.9588   \n",
       "FDX07OUT010                   130572.7618   \n",
       "NCD19OUT013                   219172.4492   \n",
       "\n",
       "             outlet.SUM(bigmart.Item_Visibility)  \\\n",
       "id                                                 \n",
       "FDA15OUT049                            91.450099   \n",
       "DRC01OUT018                            92.723425   \n",
       "FDN15OUT049                            91.450099   \n",
       "FDX07OUT010                            94.293418   \n",
       "NCD19OUT013                            93.555174   \n",
       "\n",
       "             outlet.SUM(bigmart.Item_Weight)  \n",
       "id                                            \n",
       "FDA15OUT049                        19844.655  \n",
       "DRC01OUT018                        19794.425  \n",
       "FDN15OUT049                        19844.655  \n",
       "FDX07OUT010                        11768.655  \n",
       "NCD19OUT013                        19859.980  \n",
       "\n",
       "[5 rows x 37 columns]"
      ]
     },
     "execution_count": 45,
     "metadata": {},
     "output_type": "execute_result"
    }
   ],
   "source": [
    "# get the final encoded features \n",
    "feature_matrix_xgb__enc = enc.transform(feature_matrix_xgb)\n",
    "feature_matrix_xgb__enc.head()"
   ]
  },
  {
   "cell_type": "code",
   "execution_count": 46,
   "metadata": {},
   "outputs": [],
   "source": [
    "#Let’s split feature_matrix back into train and test sets.\n",
    "# feature_matrix.drop(['id'], axis=1, inplace=True)\n",
    "train_xgb = feature_matrix_xgb__enc[:8523]\n",
    "test_xgb = feature_matrix_xgb__enc[8523:]\n",
    "\n",
    "# removing uneccesary variables\n",
    "train_xgb.drop(['Outlet_Identifier'], axis=1, inplace=True)\n",
    "test_xgb.drop(['Outlet_Identifier'], axis=1, inplace=True)"
   ]
  },
  {
   "cell_type": "code",
   "execution_count": 47,
   "metadata": {},
   "outputs": [],
   "source": [
    "# splitting train data into training and validation set\n",
    "xtrain_xgb, xvalid_xgb, ytrain_xgb, yvalid_xgb = train_test_split(\n",
    "    train_xgb, sales, test_size=0.25, random_state=11)"
   ]
  },
  {
   "cell_type": "code",
   "execution_count": 48,
   "metadata": {},
   "outputs": [
    {
     "data": {
      "text/plain": [
       "dtype('float64')"
      ]
     },
     "execution_count": 48,
     "metadata": {},
     "output_type": "execute_result"
    }
   ],
   "source": [
    "sales.dtypes"
   ]
  },
  {
   "cell_type": "code",
   "execution_count": 49,
   "metadata": {},
   "outputs": [],
   "source": [
    "# Instantiation\n",
    "xgb_r = xg.XGBRegressor(objective ='reg:squarederror',\n",
    "                  n_estimators = 100, seed = 123)"
   ]
  },
  {
   "cell_type": "code",
   "execution_count": 50,
   "metadata": {},
   "outputs": [
    {
     "data": {
      "text/html": [
       "<style>#sk-container-id-2 {color: black;background-color: white;}#sk-container-id-2 pre{padding: 0;}#sk-container-id-2 div.sk-toggleable {background-color: white;}#sk-container-id-2 label.sk-toggleable__label {cursor: pointer;display: block;width: 100%;margin-bottom: 0;padding: 0.3em;box-sizing: border-box;text-align: center;}#sk-container-id-2 label.sk-toggleable__label-arrow:before {content: \"▸\";float: left;margin-right: 0.25em;color: #696969;}#sk-container-id-2 label.sk-toggleable__label-arrow:hover:before {color: black;}#sk-container-id-2 div.sk-estimator:hover label.sk-toggleable__label-arrow:before {color: black;}#sk-container-id-2 div.sk-toggleable__content {max-height: 0;max-width: 0;overflow: hidden;text-align: left;background-color: #f0f8ff;}#sk-container-id-2 div.sk-toggleable__content pre {margin: 0.2em;color: black;border-radius: 0.25em;background-color: #f0f8ff;}#sk-container-id-2 input.sk-toggleable__control:checked~div.sk-toggleable__content {max-height: 200px;max-width: 100%;overflow: auto;}#sk-container-id-2 input.sk-toggleable__control:checked~label.sk-toggleable__label-arrow:before {content: \"▾\";}#sk-container-id-2 div.sk-estimator input.sk-toggleable__control:checked~label.sk-toggleable__label {background-color: #d4ebff;}#sk-container-id-2 div.sk-label input.sk-toggleable__control:checked~label.sk-toggleable__label {background-color: #d4ebff;}#sk-container-id-2 input.sk-hidden--visually {border: 0;clip: rect(1px 1px 1px 1px);clip: rect(1px, 1px, 1px, 1px);height: 1px;margin: -1px;overflow: hidden;padding: 0;position: absolute;width: 1px;}#sk-container-id-2 div.sk-estimator {font-family: monospace;background-color: #f0f8ff;border: 1px dotted black;border-radius: 0.25em;box-sizing: border-box;margin-bottom: 0.5em;}#sk-container-id-2 div.sk-estimator:hover {background-color: #d4ebff;}#sk-container-id-2 div.sk-parallel-item::after {content: \"\";width: 100%;border-bottom: 1px solid gray;flex-grow: 1;}#sk-container-id-2 div.sk-label:hover label.sk-toggleable__label {background-color: #d4ebff;}#sk-container-id-2 div.sk-serial::before {content: \"\";position: absolute;border-left: 1px solid gray;box-sizing: border-box;top: 0;bottom: 0;left: 50%;z-index: 0;}#sk-container-id-2 div.sk-serial {display: flex;flex-direction: column;align-items: center;background-color: white;padding-right: 0.2em;padding-left: 0.2em;position: relative;}#sk-container-id-2 div.sk-item {position: relative;z-index: 1;}#sk-container-id-2 div.sk-parallel {display: flex;align-items: stretch;justify-content: center;background-color: white;position: relative;}#sk-container-id-2 div.sk-item::before, #sk-container-id-2 div.sk-parallel-item::before {content: \"\";position: absolute;border-left: 1px solid gray;box-sizing: border-box;top: 0;bottom: 0;left: 50%;z-index: -1;}#sk-container-id-2 div.sk-parallel-item {display: flex;flex-direction: column;z-index: 1;position: relative;background-color: white;}#sk-container-id-2 div.sk-parallel-item:first-child::after {align-self: flex-end;width: 50%;}#sk-container-id-2 div.sk-parallel-item:last-child::after {align-self: flex-start;width: 50%;}#sk-container-id-2 div.sk-parallel-item:only-child::after {width: 0;}#sk-container-id-2 div.sk-dashed-wrapped {border: 1px dashed gray;margin: 0 0.4em 0.5em 0.4em;box-sizing: border-box;padding-bottom: 0.4em;background-color: white;}#sk-container-id-2 div.sk-label label {font-family: monospace;font-weight: bold;display: inline-block;line-height: 1.2em;}#sk-container-id-2 div.sk-label-container {text-align: center;}#sk-container-id-2 div.sk-container {/* jupyter's `normalize.less` sets `[hidden] { display: none; }` but bootstrap.min.css set `[hidden] { display: none !important; }` so we also need the `!important` here to be able to override the default hidden behavior on the sphinx rendered scikit-learn.org. See: https://github.com/scikit-learn/scikit-learn/issues/21755 */display: inline-block !important;position: relative;}#sk-container-id-2 div.sk-text-repr-fallback {display: none;}</style><div id=\"sk-container-id-2\" class=\"sk-top-container\"><div class=\"sk-text-repr-fallback\"><pre>XGBRegressor(base_score=0.5, booster=&#x27;gbtree&#x27;, callbacks=None,\n",
       "             colsample_bylevel=1, colsample_bynode=1, colsample_bytree=1,\n",
       "             early_stopping_rounds=None, enable_categorical=False,\n",
       "             eval_metric=None, gamma=0, gpu_id=-1, grow_policy=&#x27;depthwise&#x27;,\n",
       "             importance_type=None, interaction_constraints=&#x27;&#x27;,\n",
       "             learning_rate=0.300000012, max_bin=256, max_cat_to_onehot=4,\n",
       "             max_delta_step=0, max_depth=6, max_leaves=0, min_child_weight=1,\n",
       "             missing=nan, monotone_constraints=&#x27;()&#x27;, n_estimators=100, n_jobs=0,\n",
       "             num_parallel_tree=1, predictor=&#x27;auto&#x27;, random_state=123,\n",
       "             reg_alpha=0, reg_lambda=1, ...)</pre><b>In a Jupyter environment, please rerun this cell to show the HTML representation or trust the notebook. <br />On GitHub, the HTML representation is unable to render, please try loading this page with nbviewer.org.</b></div><div class=\"sk-container\" hidden><div class=\"sk-item\"><div class=\"sk-estimator sk-toggleable\"><input class=\"sk-toggleable__control sk-hidden--visually\" id=\"sk-estimator-id-2\" type=\"checkbox\" checked><label for=\"sk-estimator-id-2\" class=\"sk-toggleable__label sk-toggleable__label-arrow\">XGBRegressor</label><div class=\"sk-toggleable__content\"><pre>XGBRegressor(base_score=0.5, booster=&#x27;gbtree&#x27;, callbacks=None,\n",
       "             colsample_bylevel=1, colsample_bynode=1, colsample_bytree=1,\n",
       "             early_stopping_rounds=None, enable_categorical=False,\n",
       "             eval_metric=None, gamma=0, gpu_id=-1, grow_policy=&#x27;depthwise&#x27;,\n",
       "             importance_type=None, interaction_constraints=&#x27;&#x27;,\n",
       "             learning_rate=0.300000012, max_bin=256, max_cat_to_onehot=4,\n",
       "             max_delta_step=0, max_depth=6, max_leaves=0, min_child_weight=1,\n",
       "             missing=nan, monotone_constraints=&#x27;()&#x27;, n_estimators=100, n_jobs=0,\n",
       "             num_parallel_tree=1, predictor=&#x27;auto&#x27;, random_state=123,\n",
       "             reg_alpha=0, reg_lambda=1, ...)</pre></div></div></div></div></div>"
      ],
      "text/plain": [
       "XGBRegressor(base_score=0.5, booster='gbtree', callbacks=None,\n",
       "             colsample_bylevel=1, colsample_bynode=1, colsample_bytree=1,\n",
       "             early_stopping_rounds=None, enable_categorical=False,\n",
       "             eval_metric=None, gamma=0, gpu_id=-1, grow_policy='depthwise',\n",
       "             importance_type=None, interaction_constraints='',\n",
       "             learning_rate=0.300000012, max_bin=256, max_cat_to_onehot=4,\n",
       "             max_delta_step=0, max_depth=6, max_leaves=0, min_child_weight=1,\n",
       "             missing=nan, monotone_constraints='()', n_estimators=100, n_jobs=0,\n",
       "             num_parallel_tree=1, predictor='auto', random_state=123,\n",
       "             reg_alpha=0, reg_lambda=1, ...)"
      ]
     },
     "execution_count": 50,
     "metadata": {},
     "output_type": "execute_result"
    }
   ],
   "source": [
    "# Fitting the model\n",
    "xgb_r.fit(xtrain_xgb, ytrain_xgb)"
   ]
  },
  {
   "cell_type": "code",
   "execution_count": 51,
   "metadata": {},
   "outputs": [],
   "source": [
    "# Predict the model\n",
    "pred = xgb_r.predict(xvalid_xgb)"
   ]
  },
  {
   "cell_type": "code",
   "execution_count": 52,
   "metadata": {},
   "outputs": [
    {
     "name": "stdout",
     "output_type": "stream",
     "text": [
      "RMSE :  1152.083749\n"
     ]
    }
   ],
   "source": [
    "  # RMSE Computation\n",
    "rmse = np.sqrt(MSE(yvalid_xgb, pred))\n",
    "print(\"RMSE : % f\" %(rmse))"
   ]
  },
  {
   "cell_type": "markdown",
   "metadata": {},
   "source": [
    "## Catboost "
   ]
  },
  {
   "cell_type": "code",
   "execution_count": 53,
   "metadata": {},
   "outputs": [
    {
     "name": "stderr",
     "output_type": "stream",
     "text": [
      "C:\\Users\\Arindam Banerji\\AppData\\Local\\Temp\\ipykernel_30212\\3953200642.py:3: FutureWarning: In a future version, `df.iloc[:, i] = newvals` will attempt to set the values inplace instead of always setting a new array. To retain the old behavior, use either `df[df.columns[i]] = newvals` or, if columns are non-unique, `df.isetitem(i, newvals)`\n",
      "  feature_matrix.iloc[:,i] = feature_matrix.iloc[:,i].astype('str')\n"
     ]
    }
   ],
   "source": [
    "categorical_features = np.where(feature_matrix.dtypes == 'category')[0]\n",
    "for i in categorical_features:\n",
    "    feature_matrix.iloc[:,i] = feature_matrix.iloc[:,i].astype('str')\n",
    "\n",
    "#Let’s split feature_matrix back into train and test sets.\n",
    "# feature_matrix.drop(['id'], axis=1, inplace=True)\n",
    "train = feature_matrix[:8523]\n",
    "test = feature_matrix[8523:]\n",
    "\n",
    "# removing uneccesary variables\n",
    "train.drop(['Outlet_Identifier'], axis=1, inplace=True)\n",
    "test.drop(['Outlet_Identifier'], axis=1, inplace=True)\n"
   ]
  },
  {
   "cell_type": "code",
   "execution_count": 54,
   "metadata": {},
   "outputs": [
    {
     "data": {
      "text/plain": [
       "array([ 3,  5,  7,  8,  9, 23], dtype=int64)"
      ]
     },
     "execution_count": 54,
     "metadata": {},
     "output_type": "execute_result"
    }
   ],
   "source": [
    "categorical_features"
   ]
  },
  {
   "cell_type": "code",
   "execution_count": 55,
   "metadata": {},
   "outputs": [
    {
     "data": {
      "text/plain": [
       "Item_Weight                              float64\n",
       "Item_Fat_Content                           int64\n",
       "Item_Visibility                          float64\n",
       "Item_Type                                 object\n",
       "Item_MRP                                 float64\n",
       "outlet.Outlet_Establishment_Year           int64\n",
       "outlet.Outlet_Size                        object\n",
       "outlet.Outlet_Location_Type               object\n",
       "outlet.Outlet_Type                        object\n",
       "outlet.COUNT(bigmart)                      Int64\n",
       "outlet.MAX(bigmart.Item_Fat_Content)     float64\n",
       "outlet.MAX(bigmart.Item_MRP)             float64\n",
       "outlet.MAX(bigmart.Item_Visibility)      float64\n",
       "outlet.MAX(bigmart.Item_Weight)          float64\n",
       "outlet.MEAN(bigmart.Item_Fat_Content)    float64\n",
       "outlet.MEAN(bigmart.Item_MRP)            float64\n",
       "outlet.MEAN(bigmart.Item_Visibility)     float64\n",
       "outlet.MEAN(bigmart.Item_Weight)         float64\n",
       "outlet.MIN(bigmart.Item_Fat_Content)     float64\n",
       "outlet.MIN(bigmart.Item_MRP)             float64\n",
       "outlet.MIN(bigmart.Item_Visibility)      float64\n",
       "outlet.MIN(bigmart.Item_Weight)          float64\n",
       "outlet.MODE(bigmart.Item_Type)            object\n",
       "outlet.NUM_UNIQUE(bigmart.Item_Type)       Int64\n",
       "outlet.SKEW(bigmart.Item_Fat_Content)    float64\n",
       "outlet.SKEW(bigmart.Item_MRP)            float64\n",
       "outlet.SKEW(bigmart.Item_Visibility)     float64\n",
       "outlet.SKEW(bigmart.Item_Weight)         float64\n",
       "outlet.STD(bigmart.Item_Fat_Content)     float64\n",
       "outlet.STD(bigmart.Item_MRP)             float64\n",
       "outlet.STD(bigmart.Item_Visibility)      float64\n",
       "outlet.STD(bigmart.Item_Weight)          float64\n",
       "outlet.SUM(bigmart.Item_Fat_Content)     float64\n",
       "outlet.SUM(bigmart.Item_MRP)             float64\n",
       "outlet.SUM(bigmart.Item_Visibility)      float64\n",
       "outlet.SUM(bigmart.Item_Weight)          float64\n",
       "dtype: object"
      ]
     },
     "execution_count": 55,
     "metadata": {},
     "output_type": "execute_result"
    }
   ],
   "source": [
    "train.dtypes"
   ]
  },
  {
   "cell_type": "code",
   "execution_count": 56,
   "metadata": {},
   "outputs": [
    {
     "name": "stderr",
     "output_type": "stream",
     "text": [
      "c:\\Users\\Arindam Banerji\\CopyFolder\\IOT_thoughts\\python-projects\\kaggle_experiments\\feature-engineering\\recipes\\venv\\lib\\site-packages\\catboost\\core.py:1419: FutureWarning: iteritems is deprecated and will be removed in a future version. Use .items instead.\n",
      "  self._init_pool(data, label, cat_features, text_features, embedding_features, embedding_features_data, pairs, weight,\n",
      "You should provide test set for use best model. use_best_model parameter has been switched to false value.\n"
     ]
    },
    {
     "name": "stdout",
     "output_type": "stream",
     "text": [
      "0:\tlearn: 1440.1669686\ttotal: 193ms\tremaining: 19.1s\n",
      "1:\tlearn: 1291.2555633\ttotal: 284ms\tremaining: 13.9s\n",
      "2:\tlearn: 1198.9242824\ttotal: 359ms\tremaining: 11.6s\n",
      "3:\tlearn: 1144.4826511\ttotal: 419ms\tremaining: 10s\n",
      "4:\tlearn: 1110.1295069\ttotal: 491ms\tremaining: 9.33s\n",
      "5:\tlearn: 1089.8059753\ttotal: 548ms\tremaining: 8.58s\n",
      "6:\tlearn: 1081.0870251\ttotal: 632ms\tremaining: 8.4s\n",
      "7:\tlearn: 1073.8363039\ttotal: 748ms\tremaining: 8.61s\n",
      "8:\tlearn: 1068.1980841\ttotal: 858ms\tremaining: 8.68s\n",
      "9:\tlearn: 1065.3736138\ttotal: 939ms\tremaining: 8.45s\n",
      "10:\tlearn: 1062.6591514\ttotal: 1.03s\tremaining: 8.36s\n",
      "11:\tlearn: 1058.9950763\ttotal: 1.09s\tremaining: 8.01s\n",
      "12:\tlearn: 1058.2651366\ttotal: 1.16s\tremaining: 7.77s\n",
      "13:\tlearn: 1057.5983637\ttotal: 1.27s\tremaining: 7.79s\n",
      "14:\tlearn: 1056.4337486\ttotal: 1.36s\tremaining: 7.71s\n",
      "15:\tlearn: 1055.8339476\ttotal: 1.48s\tremaining: 7.77s\n",
      "16:\tlearn: 1054.2937280\ttotal: 1.66s\tremaining: 8.11s\n",
      "17:\tlearn: 1053.8814950\ttotal: 1.81s\tremaining: 8.26s\n",
      "18:\tlearn: 1052.5974116\ttotal: 1.92s\tremaining: 8.17s\n",
      "19:\tlearn: 1051.3894750\ttotal: 2s\tremaining: 8.01s\n",
      "20:\tlearn: 1051.0435355\ttotal: 2.06s\tremaining: 7.77s\n",
      "21:\tlearn: 1050.5624522\ttotal: 2.14s\tremaining: 7.59s\n",
      "22:\tlearn: 1049.2305671\ttotal: 2.23s\tremaining: 7.48s\n",
      "23:\tlearn: 1048.5630684\ttotal: 2.32s\tremaining: 7.36s\n",
      "24:\tlearn: 1048.3291239\ttotal: 2.41s\tremaining: 7.22s\n",
      "25:\tlearn: 1048.1117330\ttotal: 2.47s\tremaining: 7.04s\n",
      "26:\tlearn: 1047.4395842\ttotal: 2.54s\tremaining: 6.87s\n",
      "27:\tlearn: 1046.6871024\ttotal: 2.6s\tremaining: 6.69s\n",
      "28:\tlearn: 1045.6122019\ttotal: 2.68s\tremaining: 6.56s\n",
      "29:\tlearn: 1045.6122017\ttotal: 2.7s\tremaining: 6.3s\n",
      "30:\tlearn: 1045.5500801\ttotal: 2.75s\tremaining: 6.11s\n",
      "31:\tlearn: 1045.0130044\ttotal: 2.8s\tremaining: 5.96s\n",
      "32:\tlearn: 1044.4805500\ttotal: 2.86s\tremaining: 5.8s\n",
      "33:\tlearn: 1042.0071608\ttotal: 2.92s\tremaining: 5.66s\n",
      "34:\tlearn: 1039.8899317\ttotal: 2.98s\tremaining: 5.53s\n",
      "35:\tlearn: 1038.8662933\ttotal: 3.03s\tremaining: 5.39s\n",
      "36:\tlearn: 1038.7685582\ttotal: 3.09s\tremaining: 5.26s\n",
      "37:\tlearn: 1037.2119508\ttotal: 3.15s\tremaining: 5.13s\n",
      "38:\tlearn: 1035.5442631\ttotal: 3.2s\tremaining: 5.01s\n",
      "39:\tlearn: 1034.8527142\ttotal: 3.28s\tremaining: 4.92s\n",
      "40:\tlearn: 1033.8185247\ttotal: 3.36s\tremaining: 4.84s\n",
      "41:\tlearn: 1033.2905868\ttotal: 3.45s\tremaining: 4.76s\n",
      "42:\tlearn: 1031.9059047\ttotal: 3.52s\tremaining: 4.67s\n",
      "43:\tlearn: 1031.6090245\ttotal: 3.61s\tremaining: 4.59s\n",
      "44:\tlearn: 1029.2524351\ttotal: 3.67s\tremaining: 4.49s\n",
      "45:\tlearn: 1026.5897353\ttotal: 3.75s\tremaining: 4.41s\n",
      "46:\tlearn: 1024.0408496\ttotal: 3.85s\tremaining: 4.35s\n",
      "47:\tlearn: 1022.4826036\ttotal: 3.91s\tremaining: 4.24s\n",
      "48:\tlearn: 1022.0947569\ttotal: 3.99s\tremaining: 4.15s\n",
      "49:\tlearn: 1021.4119340\ttotal: 4.08s\tremaining: 4.08s\n",
      "50:\tlearn: 1020.2170568\ttotal: 4.17s\tremaining: 4.01s\n",
      "51:\tlearn: 1018.5924296\ttotal: 4.27s\tremaining: 3.94s\n",
      "52:\tlearn: 1018.1617503\ttotal: 4.35s\tremaining: 3.85s\n",
      "53:\tlearn: 1018.1089976\ttotal: 4.42s\tremaining: 3.77s\n",
      "54:\tlearn: 1015.9078763\ttotal: 4.51s\tremaining: 3.69s\n",
      "55:\tlearn: 1013.8835741\ttotal: 4.6s\tremaining: 3.61s\n",
      "56:\tlearn: 1012.6159549\ttotal: 4.67s\tremaining: 3.52s\n",
      "57:\tlearn: 1011.1516156\ttotal: 4.75s\tremaining: 3.44s\n",
      "58:\tlearn: 1009.0352849\ttotal: 4.82s\tremaining: 3.35s\n",
      "59:\tlearn: 1008.2883081\ttotal: 4.9s\tremaining: 3.27s\n",
      "60:\tlearn: 1005.5917065\ttotal: 4.98s\tremaining: 3.19s\n",
      "61:\tlearn: 1004.2579164\ttotal: 5.08s\tremaining: 3.11s\n",
      "62:\tlearn: 1003.0679388\ttotal: 5.16s\tremaining: 3.03s\n",
      "63:\tlearn: 1002.7069367\ttotal: 5.25s\tremaining: 2.96s\n",
      "64:\tlearn: 1001.2181044\ttotal: 5.34s\tremaining: 2.87s\n",
      "65:\tlearn: 1000.7898646\ttotal: 5.41s\tremaining: 2.79s\n",
      "66:\tlearn: 1000.5823240\ttotal: 5.51s\tremaining: 2.71s\n",
      "67:\tlearn: 1000.3017569\ttotal: 5.67s\tremaining: 2.67s\n",
      "68:\tlearn: 998.2613011\ttotal: 5.74s\tremaining: 2.58s\n",
      "69:\tlearn: 997.6249864\ttotal: 5.83s\tremaining: 2.5s\n",
      "70:\tlearn: 997.3898839\ttotal: 5.94s\tremaining: 2.42s\n",
      "71:\tlearn: 995.7170259\ttotal: 6.09s\tremaining: 2.37s\n",
      "72:\tlearn: 991.8772097\ttotal: 6.24s\tremaining: 2.31s\n",
      "73:\tlearn: 990.8862030\ttotal: 6.32s\tremaining: 2.22s\n",
      "74:\tlearn: 989.1721659\ttotal: 6.4s\tremaining: 2.13s\n",
      "75:\tlearn: 987.8975966\ttotal: 6.48s\tremaining: 2.05s\n",
      "76:\tlearn: 986.3344857\ttotal: 6.55s\tremaining: 1.96s\n",
      "77:\tlearn: 983.6952129\ttotal: 6.62s\tremaining: 1.87s\n",
      "78:\tlearn: 982.3690148\ttotal: 6.72s\tremaining: 1.79s\n",
      "79:\tlearn: 981.4570480\ttotal: 6.81s\tremaining: 1.7s\n",
      "80:\tlearn: 979.9775976\ttotal: 6.92s\tremaining: 1.62s\n",
      "81:\tlearn: 979.0891979\ttotal: 7.03s\tremaining: 1.54s\n",
      "82:\tlearn: 978.1854615\ttotal: 7.11s\tremaining: 1.46s\n",
      "83:\tlearn: 976.5829427\ttotal: 7.16s\tremaining: 1.36s\n",
      "84:\tlearn: 975.9913950\ttotal: 7.33s\tremaining: 1.29s\n",
      "85:\tlearn: 973.4145243\ttotal: 7.42s\tremaining: 1.21s\n",
      "86:\tlearn: 972.9316639\ttotal: 7.51s\tremaining: 1.12s\n",
      "87:\tlearn: 971.7848220\ttotal: 7.61s\tremaining: 1.04s\n",
      "88:\tlearn: 970.7068763\ttotal: 7.71s\tremaining: 953ms\n",
      "89:\tlearn: 968.8290713\ttotal: 7.79s\tremaining: 865ms\n",
      "90:\tlearn: 968.5949896\ttotal: 7.89s\tremaining: 781ms\n",
      "91:\tlearn: 968.0168865\ttotal: 7.99s\tremaining: 695ms\n",
      "92:\tlearn: 967.2917001\ttotal: 8.05s\tremaining: 606ms\n",
      "93:\tlearn: 965.8404375\ttotal: 8.11s\tremaining: 518ms\n",
      "94:\tlearn: 965.2529603\ttotal: 8.18s\tremaining: 430ms\n",
      "95:\tlearn: 962.6259321\ttotal: 8.26s\tremaining: 344ms\n",
      "96:\tlearn: 960.8654731\ttotal: 8.38s\tremaining: 259ms\n",
      "97:\tlearn: 960.2195263\ttotal: 8.49s\tremaining: 173ms\n",
      "98:\tlearn: 959.7017859\ttotal: 8.58s\tremaining: 86.6ms\n",
      "99:\tlearn: 958.9895992\ttotal: 8.67s\tremaining: 0us\n"
     ]
    },
    {
     "data": {
      "text/plain": [
       "0.5819983870029553"
      ]
     },
     "execution_count": 56,
     "metadata": {},
     "output_type": "execute_result"
    }
   ],
   "source": [
    "# features id & split - finally fit\n",
    "# identifying categorical features\n",
    "categorical_features = np.where(train.dtypes == 'object')[0]\n",
    "\n",
    "# splitting train data into training and validation set\n",
    "xtrain, xvalid, ytrain, yvalid = train_test_split(\n",
    "    train, sales, test_size=0.25, random_state=11)\n",
    "\n",
    "#Finally, we can now train our model. The evaluation metric we will use is RMSE (Root Mean Squared Error).\n",
    "model_cat = CatBoostRegressor(\n",
    "    iterations=100, learning_rate=0.3, depth=6, eval_metric='RMSE', random_seed=7)\n",
    "\n",
    "# training model\n",
    "model_cat.fit(xtrain, ytrain, cat_features=categorical_features, use_best_model=True)\n",
    "\n",
    "# validation score\n",
    "model_cat.score(xvalid, yvalid)"
   ]
  },
  {
   "cell_type": "code",
   "execution_count": 57,
   "metadata": {},
   "outputs": [
    {
     "data": {
      "text/plain": [
       "0.5819983870029553"
      ]
     },
     "execution_count": 57,
     "metadata": {},
     "output_type": "execute_result"
    }
   ],
   "source": [
    "# validation score\n",
    "model_cat.score(xvalid, yvalid)"
   ]
  }
 ],
 "metadata": {
  "kernelspec": {
   "display_name": "Python 3.10.7 ('venv': venv)",
   "language": "python",
   "name": "python3"
  },
  "language_info": {
   "codemirror_mode": {
    "name": "ipython",
    "version": 3
   },
   "file_extension": ".py",
   "mimetype": "text/x-python",
   "name": "python",
   "nbconvert_exporter": "python",
   "pygments_lexer": "ipython3",
   "version": "3.10.7"
  },
  "orig_nbformat": 4,
  "vscode": {
   "interpreter": {
    "hash": "86594e2e615e130aa92dc535f391af81c5acd6f6087175728f1a90d47d49b6a3"
   }
  }
 },
 "nbformat": 4,
 "nbformat_minor": 2
}
